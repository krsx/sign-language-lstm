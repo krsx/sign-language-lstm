{
 "cells": [
  {
   "cell_type": "markdown",
   "metadata": {},
   "source": [
    "# **Setup Folders for Collection**"
   ]
  },
  {
   "cell_type": "code",
   "execution_count": 3,
   "metadata": {},
   "outputs": [],
   "source": [
    "import numpy as np\n",
    "import os\n",
    "import cv2 as cv\n",
    "import mediapipe as mp\n",
    "from mediapipe.python.solutions.pose import PoseLandmark"
   ]
  },
  {
   "cell_type": "code",
   "execution_count": 4,
   "metadata": {},
   "outputs": [],
   "source": [
    "#FOR UPGRADED SEQUENCE\n",
    "DATA_PATH = os.path.join('Sign_Data_Upgrade')\n",
    "\n",
    "# actions = np.array(['maaf', 'tolong', \"terimakasih\", \"nama\", \"saya\", \"kamu\", \"siapa\"])\n",
    "\n",
    "actions = np.array(['maaf', 'tolong'])\n",
    "\n",
    "# menggunakan 60 video\n",
    "no_sequences = 40\n",
    "\n",
    "# setiap video berisi 32 frame (2 frame cadangan)\n",
    "sequence_length = 30"
   ]
  },
  {
   "cell_type": "code",
   "execution_count": 4,
   "metadata": {},
   "outputs": [],
   "source": [
    "for action in actions: \n",
    "    for sequence in range(no_sequences):\n",
    "        try: \n",
    "            os.makedirs(os.path.join(DATA_PATH, action, str(sequence)))\n",
    "        except:\n",
    "            pass"
   ]
  },
  {
   "cell_type": "code",
   "execution_count": null,
   "metadata": {},
   "outputs": [],
   "source": [
    "# FOR CHANGING FOLDER NUMBER\n",
    "DATA_PATH_CHANGE = os.path.join(r'C:\\Users\\krisn\\OneDrive\\Desktop\\Learning\\machine-learning-study\\testing-space\\Sign_Data_2')\n",
    "\n",
    "temp = 59\n",
    "\n",
    "for action in np.array(['tolong']):\n",
    "    for new_sequence in range(sequence):\n",
    "        PATH_OLD = os.path.join(DATA_PATH_CHANGE, action, str(temp))\n",
    "        PATH_NEW = os.path.join(DATA_PATH_CHANGE, action, str(new_sequence+30))\n",
    "\n",
    "        print(PATH_OLD + \"\\n\")\n",
    "        print(PATH_NEW)\n",
    "        print(\"------------\")\n",
    "        os.rename(PATH_OLD, PATH_NEW)\n",
    "        temp += 1"
   ]
  },
  {
   "cell_type": "markdown",
   "metadata": {},
   "source": [
    "# **Collect Keypoint Values for Training and Testing**"
   ]
  },
  {
   "cell_type": "code",
   "execution_count": 5,
   "metadata": {},
   "outputs": [],
   "source": [
    "#define mediapipe holistic and drawing utils\n",
    "mp_holistic = mp.solutions.holistic\n",
    "mp_drawing = mp.solutions.drawing_utils\n",
    "mp_drawing_styles = mp.solutions.drawing_styles\n",
    "mp_pose = mp.solutions.pose"
   ]
  },
  {
   "cell_type": "code",
   "execution_count": 6,
   "metadata": {},
   "outputs": [],
   "source": [
    "#detect using mediapipe model\n",
    "def media_pipe_detection(image, model):\n",
    "    image = cv.cvtColor(image, cv.COLOR_BGR2RGB) \n",
    "    image.flags.writeable = False\n",
    "    results = model.process(image)\n",
    "    image.flags.writeable = True\n",
    "    image = cv.cvtColor(image, cv.COLOR_RGB2BGR) \n",
    "    return image, results"
   ]
  },
  {
   "cell_type": "code",
   "execution_count": 7,
   "metadata": {},
   "outputs": [],
   "source": [
    "#draw landmarks without style\n",
    "def draw_land_marks(image, results):\n",
    "    # mp_drawing.draw_landmarks(image, results.face_landmarks, mp_holistic.FACEMESH_TESSELATION)\n",
    "    \n",
    "    # mp_drawing.draw_landmarks(image, results.pose_landmarks, mp_holistic.POSE_CONNECTIONS)\n",
    "\n",
    "    custom_pose_connections = list(mp_pose.POSE_CONNECTIONS)\n",
    "    \n",
    "    excluded_landmarks = [\n",
    "        PoseLandmark.NOSE,\n",
    "        PoseLandmark.LEFT_EYE_INNER,\n",
    "        PoseLandmark.LEFT_EYE,\n",
    "        PoseLandmark.LEFT_EYE_OUTER,\n",
    "        PoseLandmark.RIGHT_EYE_INNER,\n",
    "        PoseLandmark.RIGHT_EYE,\n",
    "        PoseLandmark.RIGHT_EYE_OUTER,\n",
    "        PoseLandmark.LEFT_EAR,\n",
    "        PoseLandmark.RIGHT_EAR,\n",
    "        PoseLandmark.MOUTH_LEFT,\n",
    "        PoseLandmark.MOUTH_RIGHT,\n",
    "        PoseLandmark.LEFT_HIP,\n",
    "        PoseLandmark.RIGHT_HIP,\n",
    "        PoseLandmark.LEFT_KNEE,\n",
    "        PoseLandmark.RIGHT_KNEE,\n",
    "        PoseLandmark.LEFT_ANKLE,\n",
    "        PoseLandmark.RIGHT_ANKLE,\n",
    "        PoseLandmark.LEFT_HEEL,\n",
    "        PoseLandmark.RIGHT_HEEL,\n",
    "        PoseLandmark.LEFT_FOOT_INDEX,\n",
    "        PoseLandmark.RIGHT_FOOT_INDEX\n",
    "    ]\n",
    "\n",
    "    for landmark in excluded_landmarks:\n",
    "        custom_pose_connections = [connection_tuple for connection_tuple in custom_pose_connections if landmark.value not in connection_tuple]\n",
    "\n",
    "    mp_drawing.draw_landmarks(image, results.pose_landmarks, connections=custom_pose_connections)\n",
    "    mp_drawing.draw_landmarks(image, results.left_hand_landmarks, mp_holistic.HAND_CONNECTIONS)\n",
    "    mp_drawing.draw_landmarks(image, results.right_hand_landmarks, mp_holistic.HAND_CONNECTIONS)"
   ]
  },
  {
   "cell_type": "code",
   "execution_count": 8,
   "metadata": {},
   "outputs": [],
   "source": [
    "def extract_keypoints(results):\n",
    "    # face = np.array([[res.x, res.y] for res in results.face_landmarks.landmark]).flatten() if results.face_landmarks else np.zeros(468*2)\n",
    "\n",
    "    # pose = np.array([[res.x, res.y] for res in results.pose_landmarks.landmark]).flatten() if results.pose_landmarks else np.zeros(33*2)\n",
    "\n",
    "    if results.pose_landmarks:\n",
    "        selected_pose_landmarks = results.pose_landmarks.landmark[11:23]\n",
    "        pose = np.array([[res.x, res.y] for res in selected_pose_landmarks]).flatten()\n",
    "    else:\n",
    "        pose = np.zeros(22*2)\n",
    "\n",
    "        \n",
    "    left_hand = np.array([[res.x, res.y] for res in results.left_hand_landmarks.landmark]).flatten() if results.left_hand_landmarks else np.zeros(21*2)\n",
    "    right_hand = np.array([[res.x, res.y] for res in results.right_hand_landmarks.landmark]).flatten() if results.right_hand_landmarks else np.zeros(21*2)\n",
    "   \n",
    "    # return np.concatenate([pose, face, left_hand, right_hand])\n",
    "    return np.concatenate([pose, left_hand, right_hand])"
   ]
  },
  {
   "cell_type": "code",
   "execution_count": 51,
   "metadata": {},
   "outputs": [],
   "source": [
    "cap = cv.VideoCapture(0)\n",
    "with mp_holistic.Holistic(min_detection_confidence=0.5, min_tracking_confidence=0.5) as holistic:\n",
    "\n",
    "    for action in actions:\n",
    "        for sequence in range(no_sequences):\n",
    "            for frame_num in range(sequence_length):\n",
    "\n",
    "                ret, frame = cap.read()\n",
    "\n",
    "                image, results = media_pipe_detection(frame, holistic)\n",
    "                \n",
    "                if frame_num == 0: \n",
    "                    cv.putText(image, 'STARTING COLLECTION', (120,200), \n",
    "                               cv.FONT_HERSHEY_SIMPLEX, 1, (0,255, 0), 4, cv.LINE_AA)\n",
    "                    cv.putText(image, 'Collecting frames for {} Video Number {}'.format(action, sequence), (15,12), \n",
    "                               cv.FONT_HERSHEY_SIMPLEX, 0.5, (0, 0, 255), 2, cv.LINE_AA)\n",
    "                    cv.imshow('OpenCV Feed', image)\n",
    "                    cv.waitKey(2000)\n",
    "                else: \n",
    "                    cv.putText(image, 'Collecting frames for {} Video Number {}'.format(action, sequence), (15,12), \n",
    "                               cv.FONT_HERSHEY_SIMPLEX, 0.5, (0, 0, 255), 2, cv.LINE_AA)\n",
    "                    cv.imshow('OpenCV Feed', image)\n",
    "                black_bg = np.zeros((frame.shape[0], frame.shape[1], frame.shape[2]))\n",
    "\n",
    "                draw_land_marks(image, results)\n",
    "                draw_land_marks(black_bg, results)\n",
    "\n",
    "                cv.imwrite(os.path.join(DATA_PATH, action, str(sequence), f\"{frame_num}.jpg\"), image)\n",
    "                cv.imwrite(os.path.join(DATA_PATH, action, str(sequence), f\"{frame_num}-black.jpg\"), black_bg)\n",
    "                \n",
    "                keypoints = extract_keypoints(results)\n",
    "                npy_path = os.path.join(DATA_PATH, action, str(sequence), str(frame_num))\n",
    "                np.save(npy_path, keypoints)\n",
    "\n",
    "                if cv.waitKey(10) & 0xFF == ord('q'):\n",
    "                    break\n",
    "                    \n",
    "    cap.release()\n",
    "    cv.destroyAllWindows()"
   ]
  },
  {
   "cell_type": "code",
   "execution_count": null,
   "metadata": {},
   "outputs": [],
   "source": [
    "cap.release()\n",
    "cv.destroyAllWindows()"
   ]
  },
  {
   "cell_type": "markdown",
   "metadata": {},
   "source": [
    "# **Normalize Datasets**"
   ]
  },
  {
   "cell_type": "code",
   "execution_count": 16,
   "metadata": {},
   "outputs": [],
   "source": [
    "frame_height = 480\n",
    "frame_width = 640"
   ]
  },
  {
   "cell_type": "code",
   "execution_count": 17,
   "metadata": {},
   "outputs": [],
   "source": [
    "coor_x = []\n",
    "coor_y = []\n",
    "\n",
    "for action in actions:\n",
    "     for sequence in np.array(os.listdir(os.path.join(DATA_PATH, action))).astype(int):\n",
    "        for frame_num in range(sequence_length):\n",
    "            res = np.load(os.path.join(DATA_PATH, action, str(sequence), \"{}.npy\".format(frame_num)))\n",
    "            for index, coor in enumerate(res):\n",
    "                if(index % 2 != 0):\n",
    "                    coor_x.append(coor)\n",
    "                else:\n",
    "                    coor_y.append(coor)"
   ]
  },
  {
   "cell_type": "code",
   "execution_count": 18,
   "metadata": {},
   "outputs": [],
   "source": [
    "midpoint_x = (coor_x[0] + coor_x[1])/2\n",
    "midpoint_y = (coor_y[0] + coor_y[1])/2\n",
    "\n",
    "delta_x = midpoint_x - frame_width/2\n",
    "delta_y = midpoint_y - frame_height/2"
   ]
  },
  {
   "cell_type": "code",
   "execution_count": 56,
   "metadata": {},
   "outputs": [],
   "source": [
    "def normalization(delta_x, delta_y, coor_x, coor_y):\n",
    "    coor_x_norm = []\n",
    "    coor_y_norm = []\n",
    "    coor_norm = []\n",
    "    \n",
    "    norm_index_x = 0\n",
    "    norm_index_y = 0\n",
    "    \n",
    "    for coor in coor_x:\n",
    "        centralize_x = coor - delta_x\n",
    "        scaled_x = centralize_x / frame_width\n",
    "\n",
    "        coor_x_norm.append(scaled_x)\n",
    "\n",
    "    for coor in coor_y:\n",
    "        centralize_y = coor - delta_y\n",
    "        scaled_y = centralize_y / frame_height\n",
    "\n",
    "        coor_y_norm.append(scaled_y)\n",
    "\n",
    "    for index, norm_coor in enumerate(coor_x + coor_y):\n",
    "        if index % 2 != 0:\n",
    "            coor_norm.append(coor_x_norm[norm_index_x])\n",
    "            norm_index_x += 1\n",
    "        else:\n",
    "            coor_norm.append(coor_y_norm[norm_index_y])\n",
    "            norm_index_y += 1\n",
    "\n",
    "    return coor_norm"
   ]
  },
  {
   "cell_type": "code",
   "execution_count": 65,
   "metadata": {},
   "outputs": [],
   "source": [
    "def save_normalization(paths, actions, no_sequences, sequence_length, coor_norm):\n",
    "    temp_index = 0\n",
    "    total_landmarks = 108\n",
    "\n",
    "    for action in actions:\n",
    "        for sequence in range(no_sequences):\n",
    "            for frame_num in range(sequence_length):\n",
    "                saved_coor_norm = []\n",
    "                for coor_index in range(len(coor_norm)):\n",
    "                    coor_index += temp_index\n",
    "                    print(coor_index)\n",
    "\n",
    "                    if coor_index % total_landmarks == 0:\n",
    "                        temp_index += 108\n",
    "                        break\n",
    "                    \n",
    "                    saved_coor_norm.append(coor_norm[coor_index])\n",
    "\n",
    "                norm_npy_path = os.path.join(paths, action, str(sequence), str(frame_num) + \"-norm\")\n",
    "                np.save(norm_npy_path, saved_coor_norm)\n"
   ]
  },
  {
   "cell_type": "code",
   "execution_count": null,
   "metadata": {},
   "outputs": [],
   "source": [
    "coor_norm = normalization(delta_x, delta_y, coor_x, coor_y)\n",
    "save_normalization(DATA_PATH, actions, no_sequences, sequence_length, coor_norm)"
   ]
  },
  {
   "cell_type": "code",
   "execution_count": 71,
   "metadata": {},
   "outputs": [
    {
     "name": "stdout",
     "output_type": "stream",
     "text": [
      "259200\n",
      "0.44267737865448\n",
      "259200\n",
      "108\n"
     ]
    }
   ],
   "source": [
    "print(len(coor_x) * 2)\n",
    "print(coor_x[0])\n",
    "print(2*30*40*108)\n",
    "print(12*2 + 21 * 2 * 2)"
   ]
  }
 ],
 "metadata": {
  "kernelspec": {
   "display_name": "Python 3",
   "language": "python",
   "name": "python3"
  },
  "language_info": {
   "codemirror_mode": {
    "name": "ipython",
    "version": 3
   },
   "file_extension": ".py",
   "mimetype": "text/x-python",
   "name": "python",
   "nbconvert_exporter": "python",
   "pygments_lexer": "ipython3",
   "version": "3.10.4"
  }
 },
 "nbformat": 4,
 "nbformat_minor": 2
}
