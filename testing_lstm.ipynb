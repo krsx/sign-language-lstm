{
 "cells": [
  {
   "cell_type": "markdown",
   "metadata": {},
   "source": [
    "# **Import and Install Dependencies**"
   ]
  },
  {
   "cell_type": "code",
   "execution_count": null,
   "metadata": {},
   "outputs": [],
   "source": [
    "%pip install mediapipe --user"
   ]
  },
  {
   "cell_type": "code",
   "execution_count": 2,
   "metadata": {},
   "outputs": [],
   "source": [
    "import cv2 as cv\n",
    "import numpy as np\n",
    "import os\n",
    "from matplotlib import pyplot as plt\n",
    "import time\n",
    "import mediapipe as mp\n",
    "from mediapipe.python.solutions.pose import PoseLandmark\n",
    "from mediapipe.python.solutions.drawing_utils import DrawingSpec"
   ]
  },
  {
   "cell_type": "markdown",
   "metadata": {},
   "source": [
    "# **Access using Using MediaPipe**"
   ]
  },
  {
   "cell_type": "code",
   "execution_count": 3,
   "metadata": {},
   "outputs": [],
   "source": [
    "#define mediapipe holistic and drawing utils\n",
    "mp_holistic = mp.solutions.holistic\n",
    "mp_drawing = mp.solutions.drawing_utils\n",
    "mp_drawing_styles = mp.solutions.drawing_styles\n",
    "mp_pose = mp.solutions.pose"
   ]
  },
  {
   "cell_type": "code",
   "execution_count": 4,
   "metadata": {},
   "outputs": [],
   "source": [
    "#detect using mediapipe model\n",
    "def media_pipe_detection(image, model):\n",
    "    image = cv.cvtColor(image, cv.COLOR_BGR2RGB) \n",
    "    image.flags.writeable = False\n",
    "    results = model.process(image)\n",
    "    image.flags.writeable = True\n",
    "    image = cv.cvtColor(image, cv.COLOR_RGB2BGR) \n",
    "    return image, results"
   ]
  },
  {
   "cell_type": "code",
   "execution_count": 5,
   "metadata": {},
   "outputs": [],
   "source": [
    "#draw landmarks without style\n",
    "def draw_land_marks(image, results):\n",
    "    # mp_drawing.draw_landmarks(image, results.face_landmarks, mp_holistic.FACEMESH_TESSELATION)\n",
    "    \n",
    "    # mp_drawing.draw_landmarks(image, results.pose_landmarks, mp_holistic.POSE_CONNECTIONS)\n",
    "\n",
    "    custom_pose_connections = list(mp_pose.POSE_CONNECTIONS)\n",
    "    \n",
    "    excluded_landmarks = [\n",
    "        PoseLandmark.NOSE,\n",
    "        PoseLandmark.LEFT_EYE_INNER,\n",
    "        PoseLandmark.LEFT_EYE,\n",
    "        PoseLandmark.LEFT_EYE_OUTER,\n",
    "        PoseLandmark.RIGHT_EYE_INNER,\n",
    "        PoseLandmark.RIGHT_EYE,\n",
    "        PoseLandmark.RIGHT_EYE_OUTER,\n",
    "        PoseLandmark.LEFT_EAR,\n",
    "        PoseLandmark.RIGHT_EAR,\n",
    "        PoseLandmark.MOUTH_LEFT,\n",
    "        PoseLandmark.MOUTH_RIGHT,\n",
    "        PoseLandmark.LEFT_HIP,\n",
    "        PoseLandmark.RIGHT_HIP,\n",
    "        PoseLandmark.LEFT_KNEE,\n",
    "        PoseLandmark.RIGHT_KNEE,\n",
    "        PoseLandmark.LEFT_ANKLE,\n",
    "        PoseLandmark.RIGHT_ANKLE,\n",
    "        PoseLandmark.LEFT_HEEL,\n",
    "        PoseLandmark.RIGHT_HEEL,\n",
    "        PoseLandmark.LEFT_FOOT_INDEX,\n",
    "        PoseLandmark.RIGHT_FOOT_INDEX\n",
    "    ]\n",
    "\n",
    "    for landmark in excluded_landmarks:\n",
    "        custom_pose_connections = [connection_tuple for connection_tuple in custom_pose_connections if landmark.value not in connection_tuple]\n",
    "\n",
    "    mp_drawing.draw_landmarks(image, results.pose_landmarks, connections=custom_pose_connections)\n",
    "    mp_drawing.draw_landmarks(image, results.left_hand_landmarks, mp_holistic.HAND_CONNECTIONS)\n",
    "    mp_drawing.draw_landmarks(image, results.right_hand_landmarks, mp_holistic.HAND_CONNECTIONS)"
   ]
  },
  {
   "cell_type": "code",
   "execution_count": 6,
   "metadata": {},
   "outputs": [],
   "source": [
    "#draw landmarks with style (different color)\n",
    "def draw_styled_handmarks(image, results):\n",
    "    # mp_drawing.draw_landmarks(image, results.face_landmarks, mp_holistic.FACEMESH_TESSELATION , \n",
    "    #                          mp_drawing.DrawingSpec(color=(80,110,10), thickness=1, circle_radius=1), \n",
    "    #                          mp_drawing.DrawingSpec(color=(80,256,121), thickness=1, circle_radius=1)\n",
    "    #                          ) \n",
    "   \n",
    "    mp_drawing.draw_landmarks(image, results.pose_landmarks, mp_holistic.POSE_CONNECTIONS,\n",
    "                             mp_drawing.DrawingSpec(color=(80,22,10), thickness=2, circle_radius=4), \n",
    "                             mp_drawing.DrawingSpec(color=(80,44,121), thickness=2, circle_radius=2),\n",
    "                             ) \n",
    "      \n",
    "    mp_drawing.draw_landmarks(image, results.left_hand_landmarks, mp_holistic.HAND_CONNECTIONS, \n",
    "                             mp_drawing.DrawingSpec(color=(121,22,76), thickness=2, circle_radius=4), \n",
    "                             mp_drawing.DrawingSpec(color=(121,44,250), thickness=2, circle_radius=2)\n",
    "                             ) \n",
    "     \n",
    "    mp_drawing.draw_landmarks(image, results.right_hand_landmarks, mp_holistic.HAND_CONNECTIONS, \n",
    "                             mp_drawing.DrawingSpec(color=(245,117,66), thickness=2, circle_radius=4), \n",
    "                             mp_drawing.DrawingSpec(color=(245,66,230), thickness=2, circle_radius=2)\n",
    "                             ) "
   ]
  },
  {
   "cell_type": "code",
   "execution_count": 79,
   "metadata": {},
   "outputs": [],
   "source": [
    "cap = cv.VideoCapture(0) \n",
    "with mp_holistic.Holistic(min_detection_confidence=0.5, min_tracking_confidence=0.5) as holistic:\n",
    "    while cap.isOpened():\n",
    "        ret, frame = cap.read()\n",
    "\n",
    "        image, results = media_pipe_detection(frame, holistic)\n",
    "        draw_land_marks(image, results)\n",
    "\n",
    "        # FOR BLACK BACKGROUND\n",
    "        # image, results = media_pipe_detection(frame, holistic)\n",
    "        # black_bg = np.zeros((frame.shape[0], frame.shape[1], frame.shape[2]))\n",
    "        # draw_land_marks(black_bg, results)\n",
    "        \n",
    "        cv.imshow('Media Pipe Test', image)\n",
    "        \n",
    "        if(cv.waitKey(10) & 0xFF == ord(' ')):\n",
    "            break\n",
    "\n",
    "cap.release()\n",
    "cv.destroyAllWindows()"
   ]
  },
  {
   "cell_type": "code",
   "execution_count": 107,
   "metadata": {},
   "outputs": [
    {
     "data": {
      "text/plain": [
       "<matplotlib.image.AxesImage at 0x2079b543b80>"
      ]
     },
     "execution_count": 107,
     "metadata": {},
     "output_type": "execute_result"
    },
    {
     "data": {
      "image/png": "[encoded data removed]",
      "text/plain": [
       "<Figure size 432x288 with 1 Axes>"
      ]
     },
     "metadata": {
      "needs_background": "light"
     },
     "output_type": "display_data"
    }
   ],
   "source": [
    "plt.imshow(cv.cvtColor(image, cv.COLOR_BGR2RGB))\n",
    "# plt.imshow(image)"
   ]
  },
  {
   "cell_type": "code",
   "execution_count": 63,
   "metadata": {},
   "outputs": [],
   "source": [
    "cap = cv.VideoCapture(0) \n",
    "with mp_holistic.Holistic(min_detection_confidence=0.5, min_tracking_confidence=0.5) as holistic:\n",
    "    while cap.isOpened():\n",
    "        ret, frame = cap.read()\n",
    "\n",
    "        black_bg = np.zeros((frame.shape[0], frame.shape[1], frame.shape[2]))\n",
    "\n",
    "        image, results = media_pipe_detection(frame, holistic)\n",
    "        \n",
    "        draw_land_marks(black_bg, results)\n",
    "\n",
    "        cv.imshow('Media Pipe Test', black_bg)\n",
    "        \n",
    "        if(cv.waitKey(10) & 0xFF == ord('q')):\n",
    "            break\n",
    "\n",
    "cap.release()\n",
    "cv.destroyAllWindows()"
   ]
  },
  {
   "cell_type": "markdown",
   "metadata": {},
   "source": [
    "# **Extract Keypoint Values**"
   ]
  },
  {
   "cell_type": "code",
   "execution_count": 1,
   "metadata": {},
   "outputs": [
    {
     "data": {
      "text/plain": [
       "108"
      ]
     },
     "execution_count": 1,
     "metadata": {},
     "output_type": "execute_result"
    }
   ],
   "source": [
    "# len(pose)\n",
    "\n",
    "# only use x and y coordinates\n",
    "# body pose only for shoulder to arm only\n",
    "# currently NOT implementing face pose\n",
    "\n",
    "12* 2 + 21*2*2"
   ]
  },
  {
   "cell_type": "code",
   "execution_count": 7,
   "metadata": {},
   "outputs": [],
   "source": [
    "def extract_keypoints(results):\n",
    "    # face = np.array([[res.x, res.y] for res in results.face_landmarks.landmark]).flatten() if results.face_landmarks else np.zeros(468*2)\n",
    "\n",
    "    # pose = np.array([[res.x, res.y] for res in results.pose_landmarks.landmark]).flatten() if results.pose_landmarks else np.zeros(33*2)\n",
    "\n",
    "    if results.pose_landmarks:\n",
    "        selected_pose_landmarks = results.pose_landmarks.landmark[11:23]\n",
    "        pose = np.array([[res.x, res.y] for res in selected_pose_landmarks]).flatten()\n",
    "    else:\n",
    "        pose = np.zeros(22*2)\n",
    "\n",
    "        \n",
    "    left_hand = np.array([[res.x, res.y] for res in results.left_hand_landmarks.landmark]).flatten() if results.left_hand_landmarks else np.zeros(21*2)\n",
    "    right_hand = np.array([[res.x, res.y] for res in results.right_hand_landmarks.landmark]).flatten() if results.right_hand_landmarks else np.zeros(21*2)\n",
    "   \n",
    "    # return np.concatenate([pose, face, left_hand, right_hand])\n",
    "    return np.concatenate([pose, left_hand, right_hand])"
   ]
  },
  {
   "cell_type": "code",
   "execution_count": 8,
   "metadata": {},
   "outputs": [],
   "source": [
    "def extract_coordinate(results):\n",
    "    # if results.face_landmarks:\n",
    "    #     for res in results.face_landmarks.landmark:\n",
    "    #         x = res.x\n",
    "    #         y = res.y\n",
    "    #         visibility = res.visibility\n",
    "    #         print(f\"FACE LANDMARK x: {x}, y: {y}\\n\")    \n",
    "        \n",
    "    # NORMAL POSE LANDMARK\n",
    "    # if results.pose_landmarks:\n",
    "    #     for res in results.pose_landmarks.landmark:\n",
    "    #         x = res.x\n",
    "    #         y = res.y\n",
    "    #         print(f\"POSE LANDMARK x: {x}, y: {y}\\n\")\n",
    "\n",
    "    if results.pose_landmarks:\n",
    "        selected_pose_landmarks = results.pose_landmarks.landmark[11:23]\n",
    "        for res in selected_pose_landmarks:\n",
    "            x = res.x\n",
    "            y = res.y\n",
    "            print(f\"POSE LANDMARK x: {x}, y: {y}\\n\")\n",
    "        \n",
    "    if results.right_hand_landmarks:\n",
    "        for res in results.right_hand_landmarks.landmark:\n",
    "            x = res.x\n",
    "            y = res.y\n",
    "            print(f\"RIGHT HAND LANDMARK x: {x}, y: {y}\\n\")\n",
    "    if results.left_hand_landmarks:\n",
    "        for res in results.left_hand_landmarks.landmark:\n",
    "            x = res.x\n",
    "            y = res.y\n",
    "            print(f\"LEFT HAND LANDMARK x: {x}, y: {y}\\n\")    "
   ]
  },
  {
   "cell_type": "code",
   "execution_count": 112,
   "metadata": {},
   "outputs": [
    {
     "name": "stdout",
     "output_type": "stream",
     "text": [
      "POSE LANDMARK x: 0.758616030216217, y: 0.41077348589897156\n",
      "\n",
      "POSE LANDMARK x: 0.47041648626327515, y: 0.3722091019153595\n",
      "\n",
      "POSE LANDMARK x: 0.9013638496398926, y: 0.6678994297981262\n",
      "\n",
      "POSE LANDMARK x: 0.360124409198761, y: 0.6730203628540039\n",
      "\n",
      "POSE LANDMARK x: 0.8898962736129761, y: 0.3616834878921509\n",
      "\n",
      "POSE LANDMARK x: 0.37197330594062805, y: 0.3378564715385437\n",
      "\n",
      "POSE LANDMARK x: 0.8870747685432434, y: 0.27014854550361633\n",
      "\n",
      "POSE LANDMARK x: 0.3598868250846863, y: 0.24138996005058289\n",
      "\n",
      "POSE LANDMARK x: 0.8719420433044434, y: 0.2419789582490921\n",
      "\n",
      "POSE LANDMARK x: 0.3748258948326111, y: 0.2201547473669052\n",
      "\n",
      "POSE LANDMARK x: 0.8598374128341675, y: 0.266166090965271\n",
      "\n",
      "POSE LANDMARK x: 0.3873137831687927, y: 0.26220300793647766\n",
      "\n",
      "RIGHT HAND LANDMARK x: 0.36143094301223755, y: 0.3184213936328888\n",
      "\n",
      "RIGHT HAND LANDMARK x: 0.3952879011631012, y: 0.28563833236694336\n",
      "\n",
      "RIGHT HAND LANDMARK x: 0.4140481948852539, y: 0.23944416642189026\n",
      "\n",
      "RIGHT HAND LANDMARK x: 0.4190811514854431, y: 0.19410939514636993\n",
      "\n",
      "RIGHT HAND LANDMARK x: 0.4318854510784149, y: 0.15967333316802979\n",
      "\n",
      "RIGHT HAND LANDMARK x: 0.38097578287124634, y: 0.1799360066652298\n",
      "\n",
      "RIGHT HAND LANDMARK x: 0.3866732716560364, y: 0.1226627454161644\n",
      "\n",
      "RIGHT HAND LANDMARK x: 0.3895038664340973, y: 0.0859050452709198\n",
      "\n",
      "RIGHT HAND LANDMARK x: 0.3913900852203369, y: 0.054448917508125305\n",
      "\n",
      "RIGHT HAND LANDMARK x: 0.35731685161590576, y: 0.1787237524986267\n",
      "\n",
      "RIGHT HAND LANDMARK x: 0.35626232624053955, y: 0.11491387337446213\n",
      "\n",
      "RIGHT HAND LANDMARK x: 0.3549727499485016, y: 0.07330769300460815\n",
      "\n",
      "RIGHT HAND LANDMARK x: 0.35339340567588806, y: 0.03780451416969299\n",
      "\n",
      "RIGHT HAND LANDMARK x: 0.3367299735546112, y: 0.18967366218566895\n",
      "\n",
      "RIGHT HAND LANDMARK x: 0.3297465145587921, y: 0.1333756148815155\n",
      "\n",
      "RIGHT HAND LANDMARK x: 0.32636475563049316, y: 0.0965736135840416\n",
      "\n",
      "RIGHT HAND LANDMARK x: 0.32493892312049866, y: 0.06516419351100922\n",
      "\n",
      "RIGHT HAND LANDMARK x: 0.3169901967048645, y: 0.2110012173652649\n",
      "\n",
      "RIGHT HAND LANDMARK x: 0.3020559549331665, y: 0.17246420681476593\n",
      "\n",
      "RIGHT HAND LANDMARK x: 0.29394859075546265, y: 0.14479303359985352\n",
      "\n",
      "RIGHT HAND LANDMARK x: 0.2877497971057892, y: 0.11825693398714066\n",
      "\n",
      "LEFT HAND LANDMARK x: 0.8780235648155212, y: 0.3305685818195343\n",
      "\n",
      "LEFT HAND LANDMARK x: 0.8412377238273621, y: 0.30456793308258057\n",
      "\n",
      "LEFT HAND LANDMARK x: 0.8135194182395935, y: 0.2642652690410614\n",
      "\n",
      "LEFT HAND LANDMARK x: 0.7959286570549011, y: 0.22872760891914368\n",
      "\n",
      "LEFT HAND LANDMARK x: 0.7765389680862427, y: 0.2054327428340912\n",
      "\n",
      "LEFT HAND LANDMARK x: 0.8413403034210205, y: 0.19959735870361328\n",
      "\n",
      "LEFT HAND LANDMARK x: 0.831669270992279, y: 0.14529046416282654\n",
      "\n",
      "LEFT HAND LANDMARK x: 0.8267715573310852, y: 0.11108795553445816\n",
      "\n",
      "LEFT HAND LANDMARK x: 0.8244396448135376, y: 0.08300416171550751\n",
      "\n",
      "LEFT HAND LANDMARK x: 0.8680287003517151, y: 0.19433006644248962\n",
      "\n",
      "LEFT HAND LANDMARK x: 0.868986964225769, y: 0.1333678960800171\n",
      "\n",
      "LEFT HAND LANDMARK x: 0.8698887825012207, y: 0.09508968889713287\n",
      "\n",
      "LEFT HAND LANDMARK x: 0.8709713220596313, y: 0.06541845202445984\n",
      "\n",
      "LEFT HAND LANDMARK x: 0.8930210471153259, y: 0.20170500874519348\n",
      "\n",
      "LEFT HAND LANDMARK x: 0.897599458694458, y: 0.14700597524642944\n",
      "\n",
      "LEFT HAND LANDMARK x: 0.8997019529342651, y: 0.11485487222671509\n",
      "\n",
      "LEFT HAND LANDMARK x: 0.9012783765792847, y: 0.0893477126955986\n",
      "\n",
      "LEFT HAND LANDMARK x: 0.916710615158081, y: 0.2202020287513733\n",
      "\n",
      "LEFT HAND LANDMARK x: 0.9343748092651367, y: 0.18793416023254395\n",
      "\n",
      "LEFT HAND LANDMARK x: 0.9462389945983887, y: 0.16788113117218018\n",
      "\n",
      "LEFT HAND LANDMARK x: 0.9563003182411194, y: 0.1514478325843811\n",
      "\n"
     ]
    }
   ],
   "source": [
    "extract_coordinate(results)"
   ]
  },
  {
   "cell_type": "code",
   "execution_count": 113,
   "metadata": {},
   "outputs": [
    {
     "data": {
      "text/plain": [
       "array([0.75861603, 0.41077349, 0.47041649, 0.3722091 , 0.90136385,\n",
       "       0.66789943, 0.36012441, 0.67302036, 0.88989627, 0.36168349,\n",
       "       0.37197331, 0.33785647, 0.88707477, 0.27014855, 0.35988683,\n",
       "       0.24138996, 0.87194204, 0.24197896, 0.37482589, 0.22015475,\n",
       "       0.85983741, 0.26616609, 0.38731378, 0.26220301, 0.87802356,\n",
       "       0.33056858, 0.84123772, 0.30456793, 0.81351942, 0.26426527,\n",
       "       0.79592866, 0.22872761, 0.77653897, 0.20543274, 0.8413403 ,\n",
       "       0.19959736, 0.83166927, 0.14529046, 0.82677156, 0.11108796,\n",
       "       0.82443964, 0.08300416, 0.8680287 , 0.19433007, 0.86898696,\n",
       "       0.1333679 , 0.86988878, 0.09508969, 0.87097132, 0.06541845,\n",
       "       0.89302105, 0.20170501, 0.89759946, 0.14700598, 0.89970195,\n",
       "       0.11485487, 0.90127838, 0.08934771, 0.91671062, 0.22020203,\n",
       "       0.93437481, 0.18793416, 0.94623899, 0.16788113, 0.95630032,\n",
       "       0.15144783, 0.36143094, 0.31842139, 0.3952879 , 0.28563833,\n",
       "       0.41404819, 0.23944417, 0.41908115, 0.1941094 , 0.43188545,\n",
       "       0.15967333, 0.38097578, 0.17993601, 0.38667327, 0.12266275,\n",
       "       0.38950387, 0.08590505, 0.39139009, 0.05444892, 0.35731685,\n",
       "       0.17872375, 0.35626233, 0.11491387, 0.35497275, 0.07330769,\n",
       "       0.35339341, 0.03780451, 0.33672997, 0.18967366, 0.32974651,\n",
       "       0.13337561, 0.32636476, 0.09657361, 0.32493892, 0.06516419,\n",
       "       0.3169902 , 0.21100122, 0.30205595, 0.17246421, 0.29394859,\n",
       "       0.14479303, 0.2877498 , 0.11825693])"
      ]
     },
     "execution_count": 113,
     "metadata": {},
     "output_type": "execute_result"
    }
   ],
   "source": [
    "extract_keypoints(results)"
   ]
  },
  {
   "cell_type": "code",
   "execution_count": 114,
   "metadata": {},
   "outputs": [
    {
     "data": {
      "text/plain": [
       "108"
      ]
     },
     "execution_count": 114,
     "metadata": {},
     "output_type": "execute_result"
    }
   ],
   "source": [
    "len(extract_keypoints(results))"
   ]
  },
  {
   "cell_type": "markdown",
   "metadata": {},
   "source": [
    "# **Setup Folders for Collection**"
   ]
  },
  {
   "cell_type": "code",
   "execution_count": 10,
   "metadata": {},
   "outputs": [],
   "source": [
    "DATA_PATH = os.path.join('Sign_Data')\n",
    "\n",
    "actions = np.array(['maaf', 'tolong'])\n",
    "\n",
    "# menggunakan 30 video\n",
    "no_sequences = 30\n",
    "\n",
    "# setiap video berisi 30 frame\n",
    "sequence_length = 30\n",
    "\n",
    "start_folder = 30"
   ]
  },
  {
   "cell_type": "code",
   "execution_count": 115,
   "metadata": {},
   "outputs": [],
   "source": [
    "for action in actions: \n",
    "    for sequence in range(no_sequences):\n",
    "        try: \n",
    "            os.makedirs(os.path.join(DATA_PATH, action, str(sequence)))\n",
    "        except:\n",
    "            pass"
   ]
  },
  {
   "cell_type": "markdown",
   "metadata": {},
   "source": [
    "# **Collect Keypoint Values for Training and Testing**"
   ]
  },
  {
   "cell_type": "code",
   "execution_count": 12,
   "metadata": {},
   "outputs": [
    {
     "ename": "TypeError",
     "evalue": "join() argument must be str, bytes, or os.PathLike object, not 'ndarray'",
     "output_type": "error",
     "traceback": [
      "\u001b[1;31m---------------------------------------------------------------------------\u001b[0m",
      "\u001b[1;31mTypeError\u001b[0m                                 Traceback (most recent call last)",
      "\u001b[1;32mc:\\Users\\krisn\\OneDrive\\Desktop\\Learning\\machine-learning-study\\testing-space\\testing_lstm.ipynb Cell 23\u001b[0m line \u001b[0;36m<cell line: 2>\u001b[1;34m()\u001b[0m\n\u001b[0;32m     <a href='vscode-notebook-cell:/c%3A/Users/krisn/OneDrive/Desktop/Learning/machine-learning-study/testing-space/testing_lstm.ipynb#X35sZmlsZQ%3D%3D?line=27'>28</a>\u001b[0m npy_path \u001b[39m=\u001b[39m os\u001b[39m.\u001b[39mpath\u001b[39m.\u001b[39mjoin(DATA_PATH, action, \u001b[39mstr\u001b[39m(sequence), \u001b[39mstr\u001b[39m(frame_num))\n\u001b[0;32m     <a href='vscode-notebook-cell:/c%3A/Users/krisn/OneDrive/Desktop/Learning/machine-learning-study/testing-space/testing_lstm.ipynb#X35sZmlsZQ%3D%3D?line=29'>30</a>\u001b[0m np\u001b[39m.\u001b[39msave(npy_path, keypoints)\n\u001b[1;32m---> <a href='vscode-notebook-cell:/c%3A/Users/krisn/OneDrive/Desktop/Learning/machine-learning-study/testing-space/testing_lstm.ipynb#X35sZmlsZQ%3D%3D?line=31'>32</a>\u001b[0m cv\u001b[39m.\u001b[39mimwrite(os\u001b[39m.\u001b[39;49mpath\u001b[39m.\u001b[39;49mjoin(DATA_PATH, action, \u001b[39mstr\u001b[39;49m(sequence), \u001b[39mstr\u001b[39;49m(\u001b[39mf\u001b[39;49m\u001b[39m\"\u001b[39;49m\u001b[39m{\u001b[39;49;00m(frame_num)\u001b[39m}\u001b[39;49;00m\u001b[39m.jpg\u001b[39;49m\u001b[39m\"\u001b[39;49m), image))\n\u001b[0;32m     <a href='vscode-notebook-cell:/c%3A/Users/krisn/OneDrive/Desktop/Learning/machine-learning-study/testing-space/testing_lstm.ipynb#X35sZmlsZQ%3D%3D?line=33'>34</a>\u001b[0m \u001b[39mif\u001b[39;00m cv\u001b[39m.\u001b[39mwaitKey(\u001b[39m10\u001b[39m) \u001b[39m&\u001b[39m \u001b[39m0xFF\u001b[39m \u001b[39m==\u001b[39m \u001b[39mord\u001b[39m(\u001b[39m'\u001b[39m\u001b[39mq\u001b[39m\u001b[39m'\u001b[39m):\n\u001b[0;32m     <a href='vscode-notebook-cell:/c%3A/Users/krisn/OneDrive/Desktop/Learning/machine-learning-study/testing-space/testing_lstm.ipynb#X35sZmlsZQ%3D%3D?line=34'>35</a>\u001b[0m     \u001b[39mbreak\u001b[39;00m\n",
      "File \u001b[1;32mc:\\Users\\krisn\\AppData\\Local\\Programs\\Python\\Python310\\lib\\ntpath.py:117\u001b[0m, in \u001b[0;36mjoin\u001b[1;34m(path, *paths)\u001b[0m\n\u001b[0;32m    115\u001b[0m     \u001b[39mreturn\u001b[39;00m result_drive \u001b[39m+\u001b[39m result_path\n\u001b[0;32m    116\u001b[0m \u001b[39mexcept\u001b[39;00m (\u001b[39mTypeError\u001b[39;00m, \u001b[39mAttributeError\u001b[39;00m, \u001b[39mBytesWarning\u001b[39;00m):\n\u001b[1;32m--> 117\u001b[0m     genericpath\u001b[39m.\u001b[39;49m_check_arg_types(\u001b[39m'\u001b[39;49m\u001b[39mjoin\u001b[39;49m\u001b[39m'\u001b[39;49m, path, \u001b[39m*\u001b[39;49mpaths)\n\u001b[0;32m    118\u001b[0m     \u001b[39mraise\u001b[39;00m\n",
      "File \u001b[1;32mc:\\Users\\krisn\\AppData\\Local\\Programs\\Python\\Python310\\lib\\genericpath.py:152\u001b[0m, in \u001b[0;36m_check_arg_types\u001b[1;34m(funcname, *args)\u001b[0m\n\u001b[0;32m    150\u001b[0m         hasbytes \u001b[39m=\u001b[39m \u001b[39mTrue\u001b[39;00m\n\u001b[0;32m    151\u001b[0m     \u001b[39melse\u001b[39;00m:\n\u001b[1;32m--> 152\u001b[0m         \u001b[39mraise\u001b[39;00m \u001b[39mTypeError\u001b[39;00m(\u001b[39mf\u001b[39m\u001b[39m'\u001b[39m\u001b[39m{\u001b[39;00mfuncname\u001b[39m}\u001b[39;00m\u001b[39m() argument must be str, bytes, or \u001b[39m\u001b[39m'\u001b[39m\n\u001b[0;32m    153\u001b[0m                         \u001b[39mf\u001b[39m\u001b[39m'\u001b[39m\u001b[39mos.PathLike object, not \u001b[39m\u001b[39m{\u001b[39;00ms\u001b[39m.\u001b[39m\u001b[39m__class__\u001b[39m\u001b[39m.\u001b[39m\u001b[39m__name__\u001b[39m\u001b[39m!r}\u001b[39;00m\u001b[39m'\u001b[39m) \u001b[39mfrom\u001b[39;00m \u001b[39mNone\u001b[39m\n\u001b[0;32m    154\u001b[0m \u001b[39mif\u001b[39;00m hasstr \u001b[39mand\u001b[39;00m hasbytes:\n\u001b[0;32m    155\u001b[0m     \u001b[39mraise\u001b[39;00m \u001b[39mTypeError\u001b[39;00m(\u001b[39m\"\u001b[39m\u001b[39mCan\u001b[39m\u001b[39m'\u001b[39m\u001b[39mt mix strings and bytes in path components\u001b[39m\u001b[39m\"\u001b[39m) \u001b[39mfrom\u001b[39;00m \u001b[39mNone\u001b[39m\n",
      "\u001b[1;31mTypeError\u001b[0m: join() argument must be str, bytes, or os.PathLike object, not 'ndarray'"
     ]
    }
   ],
   "source": [
    "cap = cv.VideoCapture(0)\n",
    "with mp_holistic.Holistic(min_detection_confidence=0.5, min_tracking_confidence=0.5) as holistic:\n",
    "\n",
    "    for action in actions:\n",
    "        for sequence in range(no_sequences):\n",
    "            for frame_num in range(sequence_length):\n",
    "\n",
    "                ret, frame = cap.read()\n",
    "\n",
    "                image, results = media_pipe_detection(frame, holistic)\n",
    "\n",
    "                draw_land_marks(image, results)\n",
    "                \n",
    "                if frame_num == 0: \n",
    "                    cv.putText(image, 'STARTING COLLECTION', (120,200), \n",
    "                               cv.FONT_HERSHEY_SIMPLEX, 1, (0,255, 0), 4, cv.LINE_AA)\n",
    "                    cv.putText(image, 'Collecting frames for {} Video Number {}'.format(action, sequence), (15,12), \n",
    "                               cv.FONT_HERSHEY_SIMPLEX, 0.5, (0, 0, 255), 1, cv.LINE_AA)\n",
    "                    cv.imshow('OpenCV Feed', image)\n",
    "                    cv.waitKey(2000)\n",
    "                else: \n",
    "                    cv.putText(image, 'Collecting frames for {} Video Number {}'.format(action, sequence), (15,12), \n",
    "                               cv.FONT_HERSHEY_SIMPLEX, 0.5, (0, 0, 255), 1, cv.LINE_AA)\n",
    "                    cv.imshow('OpenCV Feed', image)\n",
    "                \n",
    "                keypoints = extract_keypoints(results)\n",
    "                \n",
    "                npy_path = os.path.join(DATA_PATH, action, str(sequence), str(frame_num))\n",
    "\n",
    "                np.save(npy_path, keypoints)\n",
    "                \n",
    "                cv.imwrite(os.path.join(DATA_PATH, action, str(sequence), f\"{frame_num}.jpg\"), image)\n",
    "\n",
    "                if cv.waitKey(10) & 0xFF == ord('q'):\n",
    "                    break\n",
    "                    \n",
    "    cap.release()\n",
    "    cv.destroyAllWindows()"
   ]
  },
  {
   "cell_type": "code",
   "execution_count": 250,
   "metadata": {},
   "outputs": [],
   "source": [
    "cap.release()\n",
    "cv.destroyAllWindows()"
   ]
  },
  {
   "cell_type": "markdown",
   "metadata": {},
   "source": [
    "# **Preprocess Data and Create Labels and Features**"
   ]
  },
  {
   "cell_type": "code",
   "execution_count": 11,
   "metadata": {},
   "outputs": [],
   "source": [
    "from sklearn.model_selection import train_test_split\n",
    "from keras.utils import to_categorical\n",
    "import tensorflow as tf\n",
    "import keras"
   ]
  },
  {
   "cell_type": "code",
   "execution_count": 12,
   "metadata": {},
   "outputs": [],
   "source": [
    "label_map = {label:num for num, label in enumerate(actions)}"
   ]
  },
  {
   "cell_type": "code",
   "execution_count": 13,
   "metadata": {},
   "outputs": [
    {
     "data": {
      "text/plain": [
       "{'maaf': 0, 'tolong': 1}"
      ]
     },
     "execution_count": 13,
     "metadata": {},
     "output_type": "execute_result"
    }
   ],
   "source": [
    "label_map"
   ]
  },
  {
   "cell_type": "code",
   "execution_count": 187,
   "metadata": {},
   "outputs": [],
   "source": [
    "sequences, labels = [], []\n",
    "for action in actions:\n",
    "    for sequence in np.array(os.listdir(os.path.join(DATA_PATH, action))).astype(int):\n",
    "        window = []\n",
    "        for frame_num in range(sequence_length):\n",
    "            res = np.load(os.path.join(DATA_PATH, action, str(sequence), \"{}.npy\".format(frame_num)))\n",
    "            window.append(res)\n",
    "        sequences.append(window)\n",
    "        labels.append(label_map[action])"
   ]
  },
  {
   "cell_type": "code",
   "execution_count": 188,
   "metadata": {},
   "outputs": [
    {
     "data": {
      "text/plain": [
       "(90, 30, 2130)"
      ]
     },
     "execution_count": 188,
     "metadata": {},
     "output_type": "execute_result"
    }
   ],
   "source": [
    "np.array(sequences).shape"
   ]
  },
  {
   "cell_type": "code",
   "execution_count": 189,
   "metadata": {},
   "outputs": [
    {
     "data": {
      "text/plain": [
       "(90,)"
      ]
     },
     "execution_count": 189,
     "metadata": {},
     "output_type": "execute_result"
    }
   ],
   "source": [
    "np.array(labels).shape"
   ]
  },
  {
   "cell_type": "code",
   "execution_count": 190,
   "metadata": {},
   "outputs": [],
   "source": [
    "X = np.array(sequences)"
   ]
  },
  {
   "cell_type": "code",
   "execution_count": 191,
   "metadata": {},
   "outputs": [
    {
     "data": {
      "text/plain": [
       "(90, 30, 2130)"
      ]
     },
     "execution_count": 191,
     "metadata": {},
     "output_type": "execute_result"
    }
   ],
   "source": [
    "X.shape"
   ]
  },
  {
   "cell_type": "code",
   "execution_count": 192,
   "metadata": {},
   "outputs": [],
   "source": [
    "y = to_categorical(labels).astype(int)"
   ]
  },
  {
   "cell_type": "code",
   "execution_count": 193,
   "metadata": {},
   "outputs": [],
   "source": [
    "X_train, X_test, y_train, y_test = train_test_split(X, y, test_size=0.05)"
   ]
  },
  {
   "cell_type": "code",
   "execution_count": 194,
   "metadata": {},
   "outputs": [
    {
     "data": {
      "text/plain": [
       "(5, 3)"
      ]
     },
     "execution_count": 194,
     "metadata": {},
     "output_type": "execute_result"
    }
   ],
   "source": [
    "y_test.shape"
   ]
  },
  {
   "cell_type": "markdown",
   "metadata": {},
   "source": [
    "# **Build and Train LSTM Neural Network**"
   ]
  },
  {
   "cell_type": "code",
   "execution_count": 14,
   "metadata": {},
   "outputs": [],
   "source": [
    "from tensorflow.keras.models import Sequential\n",
    "from tensorflow.keras.layers import LSTM, Dense\n",
    "from tensorflow.keras.callbacks import TensorBoard"
   ]
  },
  {
   "cell_type": "code",
   "execution_count": 36,
   "metadata": {},
   "outputs": [],
   "source": [
    "log_dir = os.path.join('Logs')\n",
    "tb_callback = TensorBoard(log_dir=log_dir)"
   ]
  },
  {
   "cell_type": "code",
   "execution_count": 26,
   "metadata": {},
   "outputs": [],
   "source": [
    "model = Sequential()\n",
    "\n",
    "model.add(LSTM(64, return_sequences=True, activation='relu', input_shape=(30,108)))\n",
    "model.add(LSTM(128, return_sequences=True, activation='relu'))\n",
    "model.add(LSTM(64, return_sequences=False, activation='relu'))\n",
    "model.add(Dense(64, activation='relu'))\n",
    "model.add(Dense(32, activation='relu'))\n",
    "model.add(Dense(actions.shape[0], activation='softmax'))"
   ]
  },
  {
   "cell_type": "code",
   "execution_count": 198,
   "metadata": {},
   "outputs": [],
   "source": [
    "model.compile(optimizer='Adam', loss='categorical_crossentropy', metrics=['categorical_accuracy'])"
   ]
  },
  {
   "cell_type": "code",
   "execution_count": 199,
   "metadata": {},
   "outputs": [
    {
     "name": "stdout",
     "output_type": "stream",
     "text": [
      "Epoch 1/200\n",
      "3/3 [==============================] - 3s 67ms/step - loss: 1.1782 - categorical_accuracy: 0.2824\n",
      "Epoch 2/200\n",
      "3/3 [==============================] - 0s 64ms/step - loss: 1.1108 - categorical_accuracy: 0.3176\n",
      "Epoch 3/200\n",
      "3/3 [==============================] - 0s 67ms/step - loss: 1.1205 - categorical_accuracy: 0.3294\n",
      "Epoch 4/200\n",
      "3/3 [==============================] - 0s 67ms/step - loss: 1.1001 - categorical_accuracy: 0.3294\n",
      "Epoch 5/200\n",
      "3/3 [==============================] - 0s 65ms/step - loss: 1.0987 - categorical_accuracy: 0.3294\n",
      "Epoch 6/200\n",
      "3/3 [==============================] - 0s 67ms/step - loss: 1.0992 - categorical_accuracy: 0.2471\n",
      "Epoch 7/200\n",
      "3/3 [==============================] - 0s 65ms/step - loss: 1.0944 - categorical_accuracy: 0.4000\n",
      "Epoch 8/200\n",
      "3/3 [==============================] - 0s 66ms/step - loss: 1.0652 - categorical_accuracy: 0.3647\n",
      "Epoch 9/200\n",
      "3/3 [==============================] - 0s 67ms/step - loss: 1.0372 - categorical_accuracy: 0.3059\n",
      "Epoch 10/200\n",
      "3/3 [==============================] - 0s 65ms/step - loss: 1.2316 - categorical_accuracy: 0.7176\n",
      "Epoch 11/200\n",
      "3/3 [==============================] - 0s 65ms/step - loss: 1.4401 - categorical_accuracy: 0.2471\n",
      "Epoch 12/200\n",
      "3/3 [==============================] - 0s 65ms/step - loss: 1.1071 - categorical_accuracy: 0.3294\n",
      "Epoch 13/200\n",
      "3/3 [==============================] - 0s 65ms/step - loss: 1.0877 - categorical_accuracy: 0.4235\n",
      "Epoch 14/200\n",
      "3/3 [==============================] - 0s 71ms/step - loss: 1.0746 - categorical_accuracy: 0.3294\n",
      "Epoch 15/200\n",
      "3/3 [==============================] - 0s 67ms/step - loss: 1.0648 - categorical_accuracy: 0.3294\n",
      "Epoch 16/200\n",
      "3/3 [==============================] - 0s 66ms/step - loss: 1.0340 - categorical_accuracy: 0.3294\n",
      "Epoch 17/200\n",
      "3/3 [==============================] - 0s 64ms/step - loss: 1.0965 - categorical_accuracy: 0.3882\n",
      "Epoch 18/200\n",
      "3/3 [==============================] - 0s 65ms/step - loss: 1.0812 - categorical_accuracy: 0.4000\n",
      "Epoch 19/200\n",
      "3/3 [==============================] - 0s 65ms/step - loss: 1.0925 - categorical_accuracy: 0.3294\n",
      "Epoch 20/200\n",
      "3/3 [==============================] - 0s 66ms/step - loss: 1.0956 - categorical_accuracy: 0.3294\n",
      "Epoch 21/200\n",
      "3/3 [==============================] - 0s 66ms/step - loss: 1.0962 - categorical_accuracy: 0.3294\n",
      "Epoch 22/200\n",
      "3/3 [==============================] - 0s 66ms/step - loss: 1.0963 - categorical_accuracy: 0.3294\n",
      "Epoch 23/200\n",
      "3/3 [==============================] - 0s 69ms/step - loss: 1.0956 - categorical_accuracy: 0.3294\n",
      "Epoch 24/200\n",
      "3/3 [==============================] - 0s 66ms/step - loss: 1.0940 - categorical_accuracy: 0.3294\n",
      "Epoch 25/200\n",
      "3/3 [==============================] - 0s 65ms/step - loss: 1.0936 - categorical_accuracy: 0.3294\n",
      "Epoch 26/200\n",
      "3/3 [==============================] - 0s 70ms/step - loss: 1.0930 - categorical_accuracy: 0.2706\n",
      "Epoch 27/200\n",
      "3/3 [==============================] - 0s 68ms/step - loss: 1.0917 - categorical_accuracy: 0.3176\n",
      "Epoch 28/200\n",
      "3/3 [==============================] - 0s 76ms/step - loss: 1.0905 - categorical_accuracy: 0.3176\n",
      "Epoch 29/200\n",
      "3/3 [==============================] - 0s 64ms/step - loss: 1.0892 - categorical_accuracy: 0.3412\n",
      "Epoch 30/200\n",
      "3/3 [==============================] - 0s 66ms/step - loss: 1.0877 - categorical_accuracy: 0.3412\n",
      "Epoch 31/200\n",
      "3/3 [==============================] - 0s 65ms/step - loss: 1.0856 - categorical_accuracy: 0.3412\n",
      "Epoch 32/200\n",
      "3/3 [==============================] - 0s 64ms/step - loss: 1.0834 - categorical_accuracy: 0.3412\n",
      "Epoch 33/200\n",
      "3/3 [==============================] - 0s 65ms/step - loss: 1.0801 - categorical_accuracy: 0.3412\n",
      "Epoch 34/200\n",
      "3/3 [==============================] - 0s 65ms/step - loss: 1.0752 - categorical_accuracy: 0.4471\n",
      "Epoch 35/200\n",
      "3/3 [==============================] - 0s 68ms/step - loss: 1.0679 - categorical_accuracy: 0.5059\n",
      "Epoch 36/200\n",
      "3/3 [==============================] - 0s 64ms/step - loss: 1.0610 - categorical_accuracy: 0.4588\n",
      "Epoch 37/200\n",
      "3/3 [==============================] - 0s 66ms/step - loss: 1.0463 - categorical_accuracy: 0.6235\n",
      "Epoch 38/200\n",
      "3/3 [==============================] - 0s 70ms/step - loss: 1.0157 - categorical_accuracy: 0.5882\n",
      "Epoch 39/200\n",
      "3/3 [==============================] - 0s 65ms/step - loss: 0.9357 - categorical_accuracy: 0.6353\n",
      "Epoch 40/200\n",
      "3/3 [==============================] - 0s 65ms/step - loss: 0.9776 - categorical_accuracy: 0.5647\n",
      "Epoch 41/200\n",
      "3/3 [==============================] - 0s 67ms/step - loss: 0.9782 - categorical_accuracy: 0.3294\n",
      "Epoch 42/200\n",
      "3/3 [==============================] - 0s 67ms/step - loss: 0.9409 - categorical_accuracy: 0.3529\n",
      "Epoch 43/200\n",
      "3/3 [==============================] - 0s 65ms/step - loss: 0.9082 - categorical_accuracy: 0.4353\n",
      "Epoch 44/200\n",
      "3/3 [==============================] - 0s 64ms/step - loss: 0.8446 - categorical_accuracy: 0.4235\n",
      "Epoch 45/200\n",
      "3/3 [==============================] - 0s 66ms/step - loss: 0.8047 - categorical_accuracy: 0.6000\n",
      "Epoch 46/200\n",
      "3/3 [==============================] - 0s 66ms/step - loss: 0.7413 - categorical_accuracy: 0.6235\n",
      "Epoch 47/200\n",
      "3/3 [==============================] - 0s 67ms/step - loss: 0.7312 - categorical_accuracy: 0.6353\n",
      "Epoch 48/200\n",
      "3/3 [==============================] - 0s 65ms/step - loss: 1.0211 - categorical_accuracy: 0.4471\n",
      "Epoch 49/200\n",
      "3/3 [==============================] - 0s 65ms/step - loss: 1.1223 - categorical_accuracy: 0.3412\n",
      "Epoch 50/200\n",
      "3/3 [==============================] - 0s 64ms/step - loss: 1.1086 - categorical_accuracy: 0.3294\n",
      "Epoch 51/200\n",
      "3/3 [==============================] - 0s 65ms/step - loss: 1.1085 - categorical_accuracy: 0.3294\n",
      "Epoch 52/200\n",
      "3/3 [==============================] - 0s 64ms/step - loss: 1.1099 - categorical_accuracy: 0.3294\n",
      "Epoch 53/200\n",
      "3/3 [==============================] - 0s 70ms/step - loss: 1.1096 - categorical_accuracy: 0.3294\n",
      "Epoch 54/200\n",
      "3/3 [==============================] - 0s 66ms/step - loss: 1.1085 - categorical_accuracy: 0.3294\n",
      "Epoch 55/200\n",
      "3/3 [==============================] - 0s 69ms/step - loss: 1.1074 - categorical_accuracy: 0.3294\n",
      "Epoch 56/200\n",
      "3/3 [==============================] - 0s 67ms/step - loss: 1.1058 - categorical_accuracy: 0.3294\n",
      "Epoch 57/200\n",
      "3/3 [==============================] - 0s 67ms/step - loss: 1.1043 - categorical_accuracy: 0.3294\n",
      "Epoch 58/200\n",
      "3/3 [==============================] - 0s 65ms/step - loss: 1.1028 - categorical_accuracy: 0.3294\n",
      "Epoch 59/200\n",
      "3/3 [==============================] - 0s 64ms/step - loss: 1.1013 - categorical_accuracy: 0.3294\n",
      "Epoch 60/200\n",
      "3/3 [==============================] - 0s 64ms/step - loss: 1.1002 - categorical_accuracy: 0.3294\n",
      "Epoch 61/200\n",
      "3/3 [==============================] - 0s 65ms/step - loss: 1.0993 - categorical_accuracy: 0.3294\n",
      "Epoch 62/200\n",
      "3/3 [==============================] - 0s 65ms/step - loss: 1.0983 - categorical_accuracy: 0.3294\n",
      "Epoch 63/200\n",
      "3/3 [==============================] - 0s 66ms/step - loss: 1.0976 - categorical_accuracy: 0.3294\n",
      "Epoch 64/200\n",
      "3/3 [==============================] - 0s 65ms/step - loss: 1.0970 - categorical_accuracy: 0.3294\n",
      "Epoch 65/200\n",
      "3/3 [==============================] - 0s 69ms/step - loss: 1.0964 - categorical_accuracy: 0.3294\n",
      "Epoch 66/200\n",
      "3/3 [==============================] - 0s 70ms/step - loss: 1.0958 - categorical_accuracy: 0.3294\n",
      "Epoch 67/200\n",
      "3/3 [==============================] - 0s 72ms/step - loss: 1.0952 - categorical_accuracy: 0.3294\n",
      "Epoch 68/200\n",
      "3/3 [==============================] - 0s 71ms/step - loss: 1.0943 - categorical_accuracy: 0.3294\n",
      "Epoch 69/200\n",
      "3/3 [==============================] - 0s 64ms/step - loss: 1.0937 - categorical_accuracy: 0.3294\n",
      "Epoch 70/200\n",
      "3/3 [==============================] - 0s 66ms/step - loss: 1.0931 - categorical_accuracy: 0.3294\n",
      "Epoch 71/200\n",
      "3/3 [==============================] - 0s 65ms/step - loss: 1.0922 - categorical_accuracy: 0.3294\n",
      "Epoch 72/200\n",
      "3/3 [==============================] - 0s 70ms/step - loss: 1.0909 - categorical_accuracy: 0.3294\n",
      "Epoch 73/200\n",
      "3/3 [==============================] - 0s 68ms/step - loss: 1.0899 - categorical_accuracy: 0.3294\n",
      "Epoch 74/200\n",
      "3/3 [==============================] - 0s 64ms/step - loss: 1.0880 - categorical_accuracy: 0.3294\n",
      "Epoch 75/200\n",
      "3/3 [==============================] - 0s 66ms/step - loss: 1.0863 - categorical_accuracy: 0.3294\n",
      "Epoch 76/200\n",
      "3/3 [==============================] - 0s 64ms/step - loss: 1.0843 - categorical_accuracy: 0.3294\n",
      "Epoch 77/200\n",
      "3/3 [==============================] - 0s 64ms/step - loss: 1.0813 - categorical_accuracy: 0.3294\n",
      "Epoch 78/200\n",
      "3/3 [==============================] - 0s 65ms/step - loss: 1.0779 - categorical_accuracy: 0.3294\n",
      "Epoch 79/200\n",
      "3/3 [==============================] - 0s 64ms/step - loss: 1.0756 - categorical_accuracy: 0.3412\n",
      "Epoch 80/200\n",
      "3/3 [==============================] - 0s 65ms/step - loss: 1.0704 - categorical_accuracy: 0.3647\n",
      "Epoch 81/200\n",
      "3/3 [==============================] - 0s 65ms/step - loss: 1.0655 - categorical_accuracy: 0.3882\n",
      "Epoch 82/200\n",
      "3/3 [==============================] - 0s 68ms/step - loss: 1.0566 - categorical_accuracy: 0.3412\n",
      "Epoch 83/200\n",
      "3/3 [==============================] - 0s 65ms/step - loss: 1.0501 - categorical_accuracy: 0.4588\n",
      "Epoch 84/200\n",
      "3/3 [==============================] - 0s 66ms/step - loss: 1.0414 - categorical_accuracy: 0.5882\n",
      "Epoch 85/200\n",
      "3/3 [==============================] - 0s 66ms/step - loss: 1.0288 - categorical_accuracy: 0.6000\n",
      "Epoch 86/200\n",
      "3/3 [==============================] - 0s 65ms/step - loss: 1.0233 - categorical_accuracy: 0.6000\n",
      "Epoch 87/200\n",
      "3/3 [==============================] - 0s 65ms/step - loss: 1.0078 - categorical_accuracy: 0.6706\n",
      "Epoch 88/200\n",
      "3/3 [==============================] - 0s 65ms/step - loss: 0.9847 - categorical_accuracy: 0.6118\n",
      "Epoch 89/200\n",
      "3/3 [==============================] - 0s 66ms/step - loss: 0.9630 - categorical_accuracy: 0.6471\n",
      "Epoch 90/200\n",
      "3/3 [==============================] - 0s 66ms/step - loss: 0.9352 - categorical_accuracy: 0.6706\n",
      "Epoch 91/200\n",
      "3/3 [==============================] - 0s 67ms/step - loss: 0.9032 - categorical_accuracy: 0.6235\n",
      "Epoch 92/200\n",
      "3/3 [==============================] - 0s 66ms/step - loss: 0.8497 - categorical_accuracy: 0.6941\n",
      "Epoch 93/200\n",
      "3/3 [==============================] - 0s 66ms/step - loss: 0.7981 - categorical_accuracy: 0.6471\n",
      "Epoch 94/200\n",
      "3/3 [==============================] - 0s 66ms/step - loss: 0.7074 - categorical_accuracy: 0.6353\n",
      "Epoch 95/200\n",
      "3/3 [==============================] - 0s 68ms/step - loss: 0.8524 - categorical_accuracy: 0.6118\n",
      "Epoch 96/200\n",
      "3/3 [==============================] - 0s 66ms/step - loss: 0.7537 - categorical_accuracy: 0.5765\n",
      "Epoch 97/200\n",
      "3/3 [==============================] - 0s 66ms/step - loss: 0.7078 - categorical_accuracy: 0.6353\n",
      "Epoch 98/200\n",
      "3/3 [==============================] - 0s 65ms/step - loss: 0.8068 - categorical_accuracy: 0.6235\n",
      "Epoch 99/200\n",
      "3/3 [==============================] - 0s 67ms/step - loss: 0.7739 - categorical_accuracy: 0.6118\n",
      "Epoch 100/200\n",
      "3/3 [==============================] - 0s 66ms/step - loss: 0.7517 - categorical_accuracy: 0.6235\n",
      "Epoch 101/200\n",
      "3/3 [==============================] - 0s 66ms/step - loss: 0.7057 - categorical_accuracy: 0.6941\n",
      "Epoch 102/200\n",
      "3/3 [==============================] - 0s 67ms/step - loss: 0.6956 - categorical_accuracy: 0.6588\n",
      "Epoch 103/200\n",
      "3/3 [==============================] - 0s 66ms/step - loss: 0.6599 - categorical_accuracy: 0.6706\n",
      "Epoch 104/200\n",
      "3/3 [==============================] - 0s 67ms/step - loss: 0.6693 - categorical_accuracy: 0.6824\n",
      "Epoch 105/200\n",
      "3/3 [==============================] - 0s 67ms/step - loss: 0.7306 - categorical_accuracy: 0.6000\n",
      "Epoch 106/200\n",
      "3/3 [==============================] - 0s 66ms/step - loss: 0.7478 - categorical_accuracy: 0.5765\n",
      "Epoch 107/200\n",
      "3/3 [==============================] - 0s 64ms/step - loss: 0.6567 - categorical_accuracy: 0.6235\n",
      "Epoch 108/200\n",
      "3/3 [==============================] - 0s 64ms/step - loss: 0.6559 - categorical_accuracy: 0.6706\n",
      "Epoch 109/200\n",
      "3/3 [==============================] - 0s 66ms/step - loss: 0.7128 - categorical_accuracy: 0.6235\n",
      "Epoch 110/200\n",
      "3/3 [==============================] - 0s 66ms/step - loss: 0.6107 - categorical_accuracy: 0.6824\n",
      "Epoch 111/200\n",
      "3/3 [==============================] - 0s 66ms/step - loss: 0.5461 - categorical_accuracy: 0.7294\n",
      "Epoch 112/200\n",
      "3/3 [==============================] - 0s 67ms/step - loss: 0.5390 - categorical_accuracy: 0.7412\n",
      "Epoch 113/200\n",
      "3/3 [==============================] - 0s 64ms/step - loss: 0.5547 - categorical_accuracy: 0.6588\n",
      "Epoch 114/200\n",
      "3/3 [==============================] - 0s 65ms/step - loss: 0.5773 - categorical_accuracy: 0.6471\n",
      "Epoch 115/200\n",
      "3/3 [==============================] - 0s 65ms/step - loss: 0.5802 - categorical_accuracy: 0.7647\n",
      "Epoch 116/200\n",
      "3/3 [==============================] - 0s 72ms/step - loss: 0.5842 - categorical_accuracy: 0.6588\n",
      "Epoch 117/200\n",
      "3/3 [==============================] - 0s 65ms/step - loss: 0.5168 - categorical_accuracy: 0.6824\n",
      "Epoch 118/200\n",
      "3/3 [==============================] - 0s 68ms/step - loss: 0.5009 - categorical_accuracy: 0.7412\n",
      "Epoch 119/200\n",
      "3/3 [==============================] - 0s 66ms/step - loss: 0.5180 - categorical_accuracy: 0.7412\n",
      "Epoch 120/200\n",
      "3/3 [==============================] - 0s 65ms/step - loss: 0.4942 - categorical_accuracy: 0.7294\n",
      "Epoch 121/200\n",
      "3/3 [==============================] - 0s 65ms/step - loss: 0.5000 - categorical_accuracy: 0.6941\n",
      "Epoch 122/200\n",
      "3/3 [==============================] - 0s 66ms/step - loss: 0.4516 - categorical_accuracy: 0.7294\n",
      "Epoch 123/200\n",
      "3/3 [==============================] - 0s 65ms/step - loss: 0.4424 - categorical_accuracy: 0.7765\n",
      "Epoch 124/200\n",
      "3/3 [==============================] - 0s 68ms/step - loss: 0.4488 - categorical_accuracy: 0.7529\n",
      "Epoch 125/200\n",
      "3/3 [==============================] - 0s 64ms/step - loss: 0.4426 - categorical_accuracy: 0.7647\n",
      "Epoch 126/200\n",
      "3/3 [==============================] - 0s 71ms/step - loss: 0.4698 - categorical_accuracy: 0.6941\n",
      "Epoch 127/200\n",
      "3/3 [==============================] - 0s 66ms/step - loss: 0.5100 - categorical_accuracy: 0.6941\n",
      "Epoch 128/200\n",
      "3/3 [==============================] - 0s 65ms/step - loss: 0.4547 - categorical_accuracy: 0.7765\n",
      "Epoch 129/200\n",
      "3/3 [==============================] - 0s 72ms/step - loss: 0.5239 - categorical_accuracy: 0.6706\n",
      "Epoch 130/200\n",
      "3/3 [==============================] - 0s 72ms/step - loss: 0.5449 - categorical_accuracy: 0.7294\n",
      "Epoch 131/200\n",
      "3/3 [==============================] - 0s 68ms/step - loss: 0.4644 - categorical_accuracy: 0.7412\n",
      "Epoch 132/200\n",
      "3/3 [==============================] - 0s 70ms/step - loss: 0.5155 - categorical_accuracy: 0.7529\n",
      "Epoch 133/200\n",
      "3/3 [==============================] - 0s 68ms/step - loss: 0.5135 - categorical_accuracy: 0.7176\n",
      "Epoch 134/200\n",
      "3/3 [==============================] - 0s 68ms/step - loss: 0.5023 - categorical_accuracy: 0.7176\n",
      "Epoch 135/200\n",
      "3/3 [==============================] - 0s 71ms/step - loss: 0.4564 - categorical_accuracy: 0.7412\n",
      "Epoch 136/200\n",
      "3/3 [==============================] - 0s 68ms/step - loss: 0.4890 - categorical_accuracy: 0.7412\n",
      "Epoch 137/200\n",
      "3/3 [==============================] - 0s 65ms/step - loss: 0.4554 - categorical_accuracy: 0.7412\n",
      "Epoch 138/200\n",
      "3/3 [==============================] - 0s 73ms/step - loss: 0.4105 - categorical_accuracy: 0.8000\n",
      "Epoch 139/200\n",
      "3/3 [==============================] - 0s 72ms/step - loss: 0.4057 - categorical_accuracy: 0.7765\n",
      "Epoch 140/200\n",
      "3/3 [==============================] - 0s 69ms/step - loss: 0.4174 - categorical_accuracy: 0.7294\n",
      "Epoch 141/200\n",
      "3/3 [==============================] - 0s 69ms/step - loss: 0.3714 - categorical_accuracy: 0.8000\n",
      "Epoch 142/200\n",
      "3/3 [==============================] - 0s 67ms/step - loss: 0.3801 - categorical_accuracy: 0.8000\n",
      "Epoch 143/200\n",
      "3/3 [==============================] - 0s 66ms/step - loss: 0.3735 - categorical_accuracy: 0.8000\n",
      "Epoch 144/200\n",
      "3/3 [==============================] - 0s 66ms/step - loss: 0.3849 - categorical_accuracy: 0.7647\n",
      "Epoch 145/200\n",
      "3/3 [==============================] - 0s 66ms/step - loss: 0.3821 - categorical_accuracy: 0.7882\n",
      "Epoch 146/200\n",
      "3/3 [==============================] - 0s 67ms/step - loss: 0.3564 - categorical_accuracy: 0.7882\n",
      "Epoch 147/200\n",
      "3/3 [==============================] - 0s 70ms/step - loss: 0.3544 - categorical_accuracy: 0.8000\n",
      "Epoch 148/200\n",
      "3/3 [==============================] - 0s 68ms/step - loss: 0.3540 - categorical_accuracy: 0.8118\n",
      "Epoch 149/200\n",
      "3/3 [==============================] - 0s 68ms/step - loss: 0.3349 - categorical_accuracy: 0.8471\n",
      "Epoch 150/200\n",
      "3/3 [==============================] - 0s 68ms/step - loss: 0.3625 - categorical_accuracy: 0.8235\n",
      "Epoch 151/200\n",
      "3/3 [==============================] - 0s 67ms/step - loss: 0.3944 - categorical_accuracy: 0.8000\n",
      "Epoch 152/200\n",
      "3/3 [==============================] - 0s 66ms/step - loss: 0.4067 - categorical_accuracy: 0.7765\n",
      "Epoch 153/200\n",
      "3/3 [==============================] - 0s 68ms/step - loss: 0.3800 - categorical_accuracy: 0.8235\n",
      "Epoch 154/200\n",
      "3/3 [==============================] - 0s 65ms/step - loss: 0.3435 - categorical_accuracy: 0.8353\n",
      "Epoch 155/200\n",
      "3/3 [==============================] - 0s 68ms/step - loss: 0.3812 - categorical_accuracy: 0.8353\n",
      "Epoch 156/200\n",
      "3/3 [==============================] - 0s 66ms/step - loss: 0.3608 - categorical_accuracy: 0.7882\n",
      "Epoch 157/200\n",
      "3/3 [==============================] - 0s 66ms/step - loss: 0.4022 - categorical_accuracy: 0.7882\n",
      "Epoch 158/200\n",
      "3/3 [==============================] - 0s 70ms/step - loss: 0.3370 - categorical_accuracy: 0.8471\n",
      "Epoch 159/200\n",
      "3/3 [==============================] - 0s 71ms/step - loss: 0.3277 - categorical_accuracy: 0.8353\n",
      "Epoch 160/200\n",
      "3/3 [==============================] - 0s 65ms/step - loss: 0.3168 - categorical_accuracy: 0.8471\n",
      "Epoch 161/200\n",
      "3/3 [==============================] - 0s 66ms/step - loss: 0.3127 - categorical_accuracy: 0.8235\n",
      "Epoch 162/200\n",
      "3/3 [==============================] - 0s 65ms/step - loss: 0.2941 - categorical_accuracy: 0.8588\n",
      "Epoch 163/200\n",
      "3/3 [==============================] - 0s 65ms/step - loss: 0.2595 - categorical_accuracy: 0.9059\n",
      "Epoch 164/200\n",
      "3/3 [==============================] - 0s 72ms/step - loss: 0.2489 - categorical_accuracy: 0.8941\n",
      "Epoch 165/200\n",
      "3/3 [==============================] - 0s 67ms/step - loss: 0.9685 - categorical_accuracy: 0.7176\n",
      "Epoch 166/200\n",
      "3/3 [==============================] - 0s 70ms/step - loss: 3.1501 - categorical_accuracy: 0.3529\n",
      "Epoch 167/200\n",
      "3/3 [==============================] - 0s 67ms/step - loss: 1.4209 - categorical_accuracy: 0.4000\n",
      "Epoch 168/200\n",
      "3/3 [==============================] - 0s 67ms/step - loss: 3.7108 - categorical_accuracy: 0.5059\n",
      "Epoch 169/200\n",
      "3/3 [==============================] - 0s 66ms/step - loss: 0.9468 - categorical_accuracy: 0.5529\n",
      "Epoch 170/200\n",
      "3/3 [==============================] - 0s 67ms/step - loss: 1.0613 - categorical_accuracy: 0.3294\n",
      "Epoch 171/200\n",
      "3/3 [==============================] - 0s 68ms/step - loss: 1.0847 - categorical_accuracy: 0.3294\n",
      "Epoch 172/200\n",
      "3/3 [==============================] - 0s 65ms/step - loss: 1.0451 - categorical_accuracy: 0.3294\n",
      "Epoch 173/200\n",
      "3/3 [==============================] - 0s 66ms/step - loss: 0.9653 - categorical_accuracy: 0.4588\n",
      "Epoch 174/200\n",
      "3/3 [==============================] - 0s 65ms/step - loss: 0.9253 - categorical_accuracy: 0.6588\n",
      "Epoch 175/200\n",
      "3/3 [==============================] - 0s 68ms/step - loss: 0.9139 - categorical_accuracy: 0.7647\n",
      "Epoch 176/200\n",
      "3/3 [==============================] - 0s 67ms/step - loss: 0.9071 - categorical_accuracy: 0.6941\n",
      "Epoch 177/200\n",
      "3/3 [==============================] - 0s 66ms/step - loss: 0.8882 - categorical_accuracy: 0.6353\n",
      "Epoch 178/200\n",
      "3/3 [==============================] - 0s 66ms/step - loss: 0.8543 - categorical_accuracy: 0.6706\n",
      "Epoch 179/200\n",
      "3/3 [==============================] - 0s 71ms/step - loss: 0.8196 - categorical_accuracy: 0.6824\n",
      "Epoch 180/200\n",
      "3/3 [==============================] - 0s 66ms/step - loss: 0.7915 - categorical_accuracy: 0.7294\n",
      "Epoch 181/200\n",
      "3/3 [==============================] - 0s 69ms/step - loss: 0.7658 - categorical_accuracy: 0.7294\n",
      "Epoch 182/200\n",
      "3/3 [==============================] - 0s 67ms/step - loss: 0.7297 - categorical_accuracy: 0.6941\n",
      "Epoch 183/200\n",
      "3/3 [==============================] - 0s 65ms/step - loss: 0.6981 - categorical_accuracy: 0.6706\n",
      "Epoch 184/200\n",
      "3/3 [==============================] - 0s 68ms/step - loss: 0.6624 - categorical_accuracy: 0.6706\n",
      "Epoch 185/200\n",
      "3/3 [==============================] - 0s 68ms/step - loss: 0.6245 - categorical_accuracy: 0.7059\n",
      "Epoch 186/200\n",
      "3/3 [==============================] - 0s 65ms/step - loss: 0.5883 - categorical_accuracy: 0.7529\n",
      "Epoch 187/200\n",
      "3/3 [==============================] - 0s 65ms/step - loss: 0.5482 - categorical_accuracy: 0.7059\n",
      "Epoch 188/200\n",
      "3/3 [==============================] - 0s 67ms/step - loss: 0.5177 - categorical_accuracy: 0.7059\n",
      "Epoch 189/200\n",
      "3/3 [==============================] - 0s 67ms/step - loss: 0.4943 - categorical_accuracy: 0.7647\n",
      "Epoch 190/200\n",
      "3/3 [==============================] - 0s 69ms/step - loss: 0.4712 - categorical_accuracy: 0.7765\n",
      "Epoch 191/200\n",
      "3/3 [==============================] - 0s 70ms/step - loss: 0.6176 - categorical_accuracy: 0.7765\n",
      "Epoch 192/200\n",
      "3/3 [==============================] - 0s 66ms/step - loss: 0.6127 - categorical_accuracy: 0.6471\n",
      "Epoch 193/200\n",
      "3/3 [==============================] - 0s 65ms/step - loss: 0.8990 - categorical_accuracy: 0.5176\n",
      "Epoch 194/200\n",
      "3/3 [==============================] - 0s 70ms/step - loss: 0.6329 - categorical_accuracy: 0.7412\n",
      "Epoch 195/200\n",
      "3/3 [==============================] - 0s 64ms/step - loss: 0.7397 - categorical_accuracy: 0.5176\n",
      "Epoch 196/200\n",
      "3/3 [==============================] - 0s 65ms/step - loss: 0.6842 - categorical_accuracy: 0.6118\n",
      "Epoch 197/200\n",
      "3/3 [==============================] - 0s 65ms/step - loss: 0.5969 - categorical_accuracy: 0.8235\n",
      "Epoch 198/200\n",
      "3/3 [==============================] - 0s 67ms/step - loss: 0.6141 - categorical_accuracy: 0.6941\n",
      "Epoch 199/200\n",
      "3/3 [==============================] - 0s 64ms/step - loss: 0.5808 - categorical_accuracy: 0.7176\n",
      "Epoch 200/200\n",
      "3/3 [==============================] - 0s 68ms/step - loss: 0.5392 - categorical_accuracy: 0.8824\n"
     ]
    },
    {
     "data": {
      "text/plain": [
       "<keras.src.callbacks.History at 0x2ae15386020>"
      ]
     },
     "execution_count": 199,
     "metadata": {},
     "output_type": "execute_result"
    }
   ],
   "source": [
    "model.fit(X_train, y_train, epochs=200, callbacks=[tb_callback])"
   ]
  },
  {
   "cell_type": "code",
   "execution_count": 2,
   "metadata": {},
   "outputs": [
    {
     "ename": "NameError",
     "evalue": "name 'model' is not defined",
     "output_type": "error",
     "traceback": [
      "\u001b[1;31m---------------------------------------------------------------------------\u001b[0m",
      "\u001b[1;31mNameError\u001b[0m                                 Traceback (most recent call last)",
      "\u001b[1;32mc:\\Users\\krisn\\OneDrive\\Desktop\\Learning\\machine-learning-study\\testing-space\\testing_lstm.ipynb Cell 47\u001b[0m line \u001b[0;36m<cell line: 1>\u001b[1;34m()\u001b[0m\n\u001b[1;32m----> <a href='vscode-notebook-cell:/c%3A/Users/krisn/OneDrive/Desktop/Learning/machine-learning-study/testing-space/testing_lstm.ipynb#X64sZmlsZQ%3D%3D?line=0'>1</a>\u001b[0m model\u001b[39m.\u001b[39msummary()\n",
      "\u001b[1;31mNameError\u001b[0m: name 'model' is not defined"
     ]
    }
   ],
   "source": [
    "model.summary()"
   ]
  },
  {
   "cell_type": "markdown",
   "metadata": {},
   "source": [
    "# **Make Predictions**"
   ]
  },
  {
   "cell_type": "code",
   "execution_count": 201,
   "metadata": {},
   "outputs": [
    {
     "name": "stdout",
     "output_type": "stream",
     "text": [
      "1/1 [==============================] - 0s 307ms/step\n"
     ]
    }
   ],
   "source": [
    "res = model.predict(X_test)"
   ]
  },
  {
   "cell_type": "code",
   "execution_count": 202,
   "metadata": {},
   "outputs": [
    {
     "data": {
      "text/plain": [
       "'tolong'"
      ]
     },
     "execution_count": 202,
     "metadata": {},
     "output_type": "execute_result"
    }
   ],
   "source": [
    "actions[np.argmax(res[4])]"
   ]
  },
  {
   "cell_type": "code",
   "execution_count": 203,
   "metadata": {},
   "outputs": [
    {
     "data": {
      "text/plain": [
       "'tolong'"
      ]
     },
     "execution_count": 203,
     "metadata": {},
     "output_type": "execute_result"
    }
   ],
   "source": [
    "actions[np.argmax(y_test[4])]"
   ]
  },
  {
   "cell_type": "markdown",
   "metadata": {},
   "source": [
    "# **Save Weights**"
   ]
  },
  {
   "cell_type": "code",
   "execution_count": 204,
   "metadata": {},
   "outputs": [
    {
     "name": "stderr",
     "output_type": "stream",
     "text": [
      "C:\\Users\\krisn\\AppData\\Roaming\\Python\\Python310\\site-packages\\keras\\src\\engine\\training.py:3000: UserWarning: You are saving your model as an HDF5 file via `model.save()`. This file format is considered legacy. We recommend using instead the native Keras format, e.g. `model.save('my_model.keras')`.\n",
      "  saving_api.save_model(\n"
     ]
    }
   ],
   "source": [
    "model.save('action.h5')"
   ]
  },
  {
   "cell_type": "code",
   "execution_count": 95,
   "metadata": {},
   "outputs": [
    {
     "ename": "NameError",
     "evalue": "name 'model' is not defined",
     "output_type": "error",
     "traceback": [
      "\u001b[1;31m---------------------------------------------------------------------------\u001b[0m",
      "\u001b[1;31mNameError\u001b[0m                                 Traceback (most recent call last)",
      "\u001b[1;32mc:\\Users\\krisn\\OneDrive\\Desktop\\Learning\\machine-learning-study\\testing-space\\testing_lstm.ipynb Cell 53\u001b[0m line \u001b[0;36m<cell line: 1>\u001b[1;34m()\u001b[0m\n\u001b[1;32m----> <a href='vscode-notebook-cell:/c%3A/Users/krisn/OneDrive/Desktop/Learning/machine-learning-study/testing-space/testing_lstm.ipynb#Y101sZmlsZQ%3D%3D?line=0'>1</a>\u001b[0m \u001b[39mdel\u001b[39;00m model\n",
      "\u001b[1;31mNameError\u001b[0m: name 'model' is not defined"
     ]
    }
   ],
   "source": [
    "# del model"
   ]
  },
  {
   "cell_type": "code",
   "execution_count": 27,
   "metadata": {},
   "outputs": [],
   "source": [
    "model.load_weights('action.h5')"
   ]
  },
  {
   "cell_type": "markdown",
   "metadata": {},
   "source": [
    "# **Evaluation using Confusion Matrix and Accuracy**"
   ]
  },
  {
   "cell_type": "code",
   "execution_count": 240,
   "metadata": {},
   "outputs": [],
   "source": [
    "from sklearn.metrics import multilabel_confusion_matrix, accuracy_score"
   ]
  },
  {
   "cell_type": "code",
   "execution_count": 241,
   "metadata": {},
   "outputs": [
    {
     "name": "stdout",
     "output_type": "stream",
     "text": [
      "1/1 [==============================] - 0s 28ms/step\n"
     ]
    }
   ],
   "source": [
    "yhat = model.predict(X_test)"
   ]
  },
  {
   "cell_type": "code",
   "execution_count": 242,
   "metadata": {},
   "outputs": [],
   "source": [
    "ytrue = np.argmax(y_test, axis=1).tolist()\n",
    "yhat = np.argmax(yhat, axis=1).tolist()"
   ]
  },
  {
   "cell_type": "code",
   "execution_count": 243,
   "metadata": {},
   "outputs": [
    {
     "data": {
      "text/plain": [
       "array([[[4, 0],\n",
       "        [0, 1]],\n",
       "\n",
       "       [[3, 0],\n",
       "        [0, 2]],\n",
       "\n",
       "       [[3, 0],\n",
       "        [0, 2]]], dtype=int64)"
      ]
     },
     "execution_count": 243,
     "metadata": {},
     "output_type": "execute_result"
    }
   ],
   "source": [
    "multilabel_confusion_matrix(ytrue, yhat)"
   ]
  },
  {
   "cell_type": "code",
   "execution_count": 244,
   "metadata": {},
   "outputs": [
    {
     "data": {
      "text/plain": [
       "1.0"
      ]
     },
     "execution_count": 244,
     "metadata": {},
     "output_type": "execute_result"
    }
   ],
   "source": [
    "accuracy_score(ytrue, yhat)"
   ]
  },
  {
   "cell_type": "markdown",
   "metadata": {},
   "source": [
    "# **Test in Real Time**"
   ]
  },
  {
   "cell_type": "code",
   "execution_count": 245,
   "metadata": {},
   "outputs": [],
   "source": [
    "from scipy import stats"
   ]
  },
  {
   "cell_type": "code",
   "execution_count": 230,
   "metadata": {},
   "outputs": [],
   "source": [
    "colors = [(245,117,16), (117,245,16), (16,117,245)]\n",
    "def prob_viz(res, actions, input_frame, colors):\n",
    "    output_frame = input_frame.copy()\n",
    "    for num, prob in enumerate(res):\n",
    "        cv.rectangle(output_frame, (0,60+num*40), (int(prob*100), 90+num*40), colors[num], -1)\n",
    "        cv.putText(output_frame, actions[num], (0, 85+num*40), cv.FONT_HERSHEY_SIMPLEX, 1, (255,255,255), 2, cv.LINE_AA)\n",
    "        \n",
    "    return output_frame"
   ]
  },
  {
   "cell_type": "code",
   "execution_count": null,
   "metadata": {},
   "outputs": [],
   "source": [
    "# plt.figure(figsize=(18,18))\n",
    "# plt.imshow(prob_viz(res, actions, image, colors))"
   ]
  },
  {
   "cell_type": "code",
   "execution_count": 28,
   "metadata": {},
   "outputs": [
    {
     "name": "stdout",
     "output_type": "stream",
     "text": [
      "1/1 [==============================] - 0s 331ms/step\n",
      "maaf\n"
     ]
    },
    {
     "ename": "NameError",
     "evalue": "name 'prob_viz' is not defined",
     "output_type": "error",
     "traceback": [
      "\u001b[1;31m---------------------------------------------------------------------------\u001b[0m",
      "\u001b[1;31mNameError\u001b[0m                                 Traceback (most recent call last)",
      "\u001b[1;32mc:\\Users\\krisn\\OneDrive\\Desktop\\Learning\\machine-learning-study\\testing-space\\testing_lstm.ipynb Cell 66\u001b[0m line \u001b[0;36m<cell line: 7>\u001b[1;34m()\u001b[0m\n\u001b[0;32m     <a href='vscode-notebook-cell:/c%3A/Users/krisn/OneDrive/Desktop/Learning/machine-learning-study/testing-space/testing_lstm.ipynb#Y122sZmlsZQ%3D%3D?line=33'>34</a>\u001b[0m     \u001b[39mif\u001b[39;00m \u001b[39mlen\u001b[39m(sentence) \u001b[39m>\u001b[39m \u001b[39m5\u001b[39m: \n\u001b[0;32m     <a href='vscode-notebook-cell:/c%3A/Users/krisn/OneDrive/Desktop/Learning/machine-learning-study/testing-space/testing_lstm.ipynb#Y122sZmlsZQ%3D%3D?line=34'>35</a>\u001b[0m         sentence \u001b[39m=\u001b[39m sentence[\u001b[39m-\u001b[39m\u001b[39m5\u001b[39m:]\n\u001b[1;32m---> <a href='vscode-notebook-cell:/c%3A/Users/krisn/OneDrive/Desktop/Learning/machine-learning-study/testing-space/testing_lstm.ipynb#Y122sZmlsZQ%3D%3D?line=36'>37</a>\u001b[0m     image \u001b[39m=\u001b[39m prob_viz(res, actions, image, colors)\n\u001b[0;32m     <a href='vscode-notebook-cell:/c%3A/Users/krisn/OneDrive/Desktop/Learning/machine-learning-study/testing-space/testing_lstm.ipynb#Y122sZmlsZQ%3D%3D?line=38'>39</a>\u001b[0m cv\u001b[39m.\u001b[39mrectangle(image, (\u001b[39m0\u001b[39m,\u001b[39m0\u001b[39m), (\u001b[39m640\u001b[39m, \u001b[39m40\u001b[39m), (\u001b[39m245\u001b[39m, \u001b[39m117\u001b[39m, \u001b[39m16\u001b[39m), \u001b[39m-\u001b[39m\u001b[39m1\u001b[39m)\n\u001b[0;32m     <a href='vscode-notebook-cell:/c%3A/Users/krisn/OneDrive/Desktop/Learning/machine-learning-study/testing-space/testing_lstm.ipynb#Y122sZmlsZQ%3D%3D?line=39'>40</a>\u001b[0m cv\u001b[39m.\u001b[39mputText(image, \u001b[39m'\u001b[39m\u001b[39m \u001b[39m\u001b[39m'\u001b[39m\u001b[39m.\u001b[39mjoin(sentence), (\u001b[39m3\u001b[39m,\u001b[39m30\u001b[39m), \n\u001b[0;32m     <a href='vscode-notebook-cell:/c%3A/Users/krisn/OneDrive/Desktop/Learning/machine-learning-study/testing-space/testing_lstm.ipynb#Y122sZmlsZQ%3D%3D?line=40'>41</a>\u001b[0m                cv\u001b[39m.\u001b[39mFONT_HERSHEY_SIMPLEX, \u001b[39m1\u001b[39m, (\u001b[39m255\u001b[39m, \u001b[39m255\u001b[39m, \u001b[39m255\u001b[39m), \u001b[39m2\u001b[39m, cv\u001b[39m.\u001b[39mLINE_AA)\n",
      "\u001b[1;31mNameError\u001b[0m: name 'prob_viz' is not defined"
     ]
    },
    {
     "ename": "",
     "evalue": "",
     "output_type": "error",
     "traceback": [
      "\u001b[1;31mThe Kernel crashed while executing code in the the current cell or a previous cell. Please review the code in the cell(s) to identify a possible cause of the failure. Click <a href='https://aka.ms/vscodeJupyterKernelCrash'>here</a> for more info. View Jupyter <a href='command:jupyter.viewOutput'>log</a> for further details."
     ]
    }
   ],
   "source": [
    "sequence = []\n",
    "sentence = []\n",
    "predictions = []\n",
    "threshold = 0.7\n",
    "\n",
    "cap = cv.VideoCapture(0)\n",
    "with mp_holistic.Holistic(min_detection_confidence=0.5, min_tracking_confidence=0.5) as holistic:\n",
    "    while cap.isOpened():\n",
    "\n",
    "        ret, frame = cap.read()\n",
    "\n",
    "        image, results = media_pipe_detection(frame, holistic)\n",
    "        \n",
    "        draw_styled_handmarks(image, results)\n",
    "        \n",
    "        keypoints = extract_keypoints(results)\n",
    "        sequence.append(keypoints)\n",
    "        sequence = sequence[-30:]\n",
    "        \n",
    "        if len(sequence) == 30:\n",
    "            res = model.predict(np.expand_dims(sequence, axis=0))[0]\n",
    "            print(actions[np.argmax(res)])\n",
    "            predictions.append(np.argmax(res))\n",
    "            \n",
    "            if np.unique(predictions[-10:])[0]==np.argmax(res): \n",
    "                if res[np.argmax(res)] > threshold: \n",
    "                    \n",
    "                    if len(sentence) > 0: \n",
    "                        if actions[np.argmax(res)] != sentence[-1]:\n",
    "                            sentence.append(actions[np.argmax(res)])\n",
    "                    else:\n",
    "                        sentence.append(actions[np.argmax(res)])\n",
    "\n",
    "            if len(sentence) > 5: \n",
    "                sentence = sentence[-5:]\n",
    "                \n",
    "            image = prob_viz(res, actions, image, colors)\n",
    "            \n",
    "        cv.rectangle(image, (0,0), (640, 40), (245, 117, 16), -1)\n",
    "        cv.putText(image, ' '.join(sentence), (3,30), \n",
    "                       cv.FONT_HERSHEY_SIMPLEX, 1, (255, 255, 255), 2, cv.LINE_AA)\n",
    "        \n",
    "        cv.imshow('OpenCV Feed', image)\n",
    "\n",
    "        if cv.waitKey(10) & 0xFF == ord('q'):\n",
    "            break\n",
    "    cap.release()\n",
    "    cv.destroyAllWindows()"
   ]
  }
 ],
 "metadata": {
  "kernelspec": {
   "display_name": "Python 3",
   "language": "python",
   "name": "python3"
  },
  "language_info": {
   "codemirror_mode": {
    "name": "ipython",
    "version": 3
   },
   "file_extension": ".py",
   "mimetype": "text/x-python",
   "name": "python",
   "nbconvert_exporter": "python",
   "pygments_lexer": "ipython3",
   "version": "3.10.4"
  },
  "orig_nbformat": 4
 },
 "nbformat": 4,
 "nbformat_minor": 2
}
