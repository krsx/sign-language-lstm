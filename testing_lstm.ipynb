{
 "cells": [
  {
   "cell_type": "markdown",
   "metadata": {},
   "source": [
    "# **Import and Install Dependencies**"
   ]
  },
  {
   "cell_type": "code",
   "execution_count": 7,
   "metadata": {},
   "outputs": [],
   "source": [
    "import cv2 as cv\n",
    "import numpy as np\n",
    "import os\n",
    "from matplotlib import pyplot as plt\n",
    "import time\n",
    "import mediapipe as mp\n",
    "from mediapipe.python.solutions.pose import PoseLandmark\n",
    "from mediapipe.python.solutions.drawing_utils import DrawingSpec"
   ]
  },
  {
   "cell_type": "markdown",
   "metadata": {},
   "source": [
    "# **Access using Using MediaPipe**"
   ]
  },
  {
   "cell_type": "code",
   "execution_count": 8,
   "metadata": {},
   "outputs": [],
   "source": [
    "#define mediapipe holistic and drawing utils\n",
    "mp_holistic = mp.solutions.holistic\n",
    "mp_drawing = mp.solutions.drawing_utils\n",
    "mp_drawing_styles = mp.solutions.drawing_styles\n",
    "mp_pose = mp.solutions.pose"
   ]
  },
  {
   "cell_type": "code",
   "execution_count": 9,
   "metadata": {},
   "outputs": [],
   "source": [
    "#detect using mediapipe model\n",
    "def media_pipe_detection(image, model):\n",
    "    image = cv.cvtColor(image, cv.COLOR_BGR2RGB) \n",
    "    image.flags.writeable = False\n",
    "    results = model.process(image)\n",
    "    image.flags.writeable = True\n",
    "    image = cv.cvtColor(image, cv.COLOR_RGB2BGR) \n",
    "    return image, results"
   ]
  },
  {
   "cell_type": "code",
   "execution_count": 10,
   "metadata": {},
   "outputs": [],
   "source": [
    "#draw landmarks without style\n",
    "def draw_land_marks(image, results):\n",
    "    # mp_drawing.draw_landmarks(image, results.face_landmarks, mp_holistic.FACEMESH_TESSELATION)\n",
    "    \n",
    "    # mp_drawing.draw_landmarks(image, results.pose_landmarks, mp_holistic.POSE_CONNECTIONS)\n",
    "\n",
    "    custom_pose_connections = list(mp_pose.POSE_CONNECTIONS)\n",
    "    \n",
    "    excluded_landmarks = [\n",
    "        PoseLandmark.NOSE,\n",
    "        PoseLandmark.LEFT_EYE_INNER,\n",
    "        PoseLandmark.LEFT_EYE,\n",
    "        PoseLandmark.LEFT_EYE_OUTER,\n",
    "        PoseLandmark.RIGHT_EYE_INNER,\n",
    "        PoseLandmark.RIGHT_EYE,\n",
    "        PoseLandmark.RIGHT_EYE_OUTER,\n",
    "        PoseLandmark.LEFT_EAR,\n",
    "        PoseLandmark.RIGHT_EAR,\n",
    "        PoseLandmark.MOUTH_LEFT,\n",
    "        PoseLandmark.MOUTH_RIGHT,\n",
    "        PoseLandmark.LEFT_HIP,\n",
    "        PoseLandmark.RIGHT_HIP,\n",
    "        PoseLandmark.LEFT_KNEE,\n",
    "        PoseLandmark.RIGHT_KNEE,\n",
    "        PoseLandmark.LEFT_ANKLE,\n",
    "        PoseLandmark.RIGHT_ANKLE,\n",
    "        PoseLandmark.LEFT_HEEL,\n",
    "        PoseLandmark.RIGHT_HEEL,\n",
    "        PoseLandmark.LEFT_FOOT_INDEX,\n",
    "        PoseLandmark.RIGHT_FOOT_INDEX\n",
    "    ]\n",
    "\n",
    "    for landmark in excluded_landmarks:\n",
    "        custom_pose_connections = [connection_tuple for connection_tuple in custom_pose_connections if landmark.value not in connection_tuple]\n",
    "\n",
    "    mp_drawing.draw_landmarks(image, results.pose_landmarks, connections=custom_pose_connections)\n",
    "    mp_drawing.draw_landmarks(image, results.left_hand_landmarks, mp_holistic.HAND_CONNECTIONS)\n",
    "    mp_drawing.draw_landmarks(image, results.right_hand_landmarks, mp_holistic.HAND_CONNECTIONS)"
   ]
  },
  {
   "cell_type": "code",
   "execution_count": 11,
   "metadata": {},
   "outputs": [],
   "source": [
    "#draw landmarks with style (different color)\n",
    "def draw_styled_handmarks(image, results):\n",
    "    # mp_drawing.draw_landmarks(image, results.face_landmarks, mp_holistic.FACEMESH_TESSELATION , \n",
    "    #                          mp_drawing.DrawingSpec(color=(80,110,10), thickness=1, circle_radius=1), \n",
    "    #                          mp_drawing.DrawingSpec(color=(80,256,121), thickness=1, circle_radius=1)\n",
    "    #                          ) \n",
    "   \n",
    "    mp_drawing.draw_landmarks(image, results.pose_landmarks, mp_holistic.POSE_CONNECTIONS,\n",
    "                             mp_drawing.DrawingSpec(color=(80,22,10), thickness=2, circle_radius=4), \n",
    "                             mp_drawing.DrawingSpec(color=(80,44,121), thickness=2, circle_radius=2),\n",
    "                             ) \n",
    "      \n",
    "    mp_drawing.draw_landmarks(image, results.left_hand_landmarks, mp_holistic.HAND_CONNECTIONS, \n",
    "                             mp_drawing.DrawingSpec(color=(121,22,76), thickness=2, circle_radius=4), \n",
    "                             mp_drawing.DrawingSpec(color=(121,44,250), thickness=2, circle_radius=2)\n",
    "                             ) \n",
    "     \n",
    "    mp_drawing.draw_landmarks(image, results.right_hand_landmarks, mp_holistic.HAND_CONNECTIONS, \n",
    "                             mp_drawing.DrawingSpec(color=(245,117,66), thickness=2, circle_radius=4), \n",
    "                             mp_drawing.DrawingSpec(color=(245,66,230), thickness=2, circle_radius=2)\n",
    "                             ) "
   ]
  },
  {
   "cell_type": "code",
   "execution_count": 10,
   "metadata": {},
   "outputs": [],
   "source": [
    "cap = cv.VideoCapture(0) \n",
    "with mp_holistic.Holistic(min_detection_confidence=0.5, min_tracking_confidence=0.5) as holistic:\n",
    "    while cap.isOpened():\n",
    "        ret, frame = cap.read()\n",
    "\n",
    "        image, results = media_pipe_detection(frame, holistic)\n",
    "        draw_land_marks(image, results)\n",
    "\n",
    "        # FOR BLACK BACKGROUND\n",
    "        # image, results = media_pipe_detection(frame, holistic)\n",
    "        # black_bg = np.zeros((frame.shape[0], frame.shape[1], frame.shape[2]))\n",
    "        # draw_land_marks(black_bg, results)\n",
    "        \n",
    "        cv.imshow('Media Pipe Test', image)\n",
    "        \n",
    "        if(cv.waitKey(10) & 0xFF == ord(' ')):\n",
    "            break\n",
    "\n",
    "cap.release()\n",
    "cv.destroyAllWindows()"
   ]
  },
  {
   "cell_type": "code",
   "execution_count": 11,
   "metadata": {},
   "outputs": [
    {
     "data": {
      "text/plain": [
       "<matplotlib.image.AxesImage at 0x135e6dcbbe0>"
      ]
     },
     "execution_count": 11,
     "metadata": {},
     "output_type": "execute_result"
    },
    {
     "data": {
      "image/png": "[encoded data removed]",
      "text/plain": [
       "<Figure size 432x288 with 1 Axes>"
      ]
     },
     "metadata": {
      "needs_background": "light"
     },
     "output_type": "display_data"
    }
   ],
   "source": [
    "plt.imshow(cv.cvtColor(image, cv.COLOR_BGR2RGB))"
   ]
  },
  {
   "cell_type": "code",
   "execution_count": 13,
   "metadata": {},
   "outputs": [
    {
     "name": "stdout",
     "output_type": "stream",
     "text": [
      "(480, 640, 3)\n"
     ]
    }
   ],
   "source": [
    "print(frame.shape)"
   ]
  },
  {
   "cell_type": "code",
   "execution_count": 63,
   "metadata": {},
   "outputs": [],
   "source": [
    "cap = cv.VideoCapture(0) \n",
    "with mp_holistic.Holistic(min_detection_confidence=0.5, min_tracking_confidence=0.5) as holistic:\n",
    "    while cap.isOpened():\n",
    "        ret, frame = cap.read()\n",
    "\n",
    "        black_bg = np.zeros((frame.shape[0], frame.shape[1], frame.shape[2]))\n",
    "\n",
    "        image, results = media_pipe_detection(frame, holistic)\n",
    "        \n",
    "        draw_land_marks(black_bg, results)\n",
    "\n",
    "        cv.imshow('Media Pipe Test', black_bg)\n",
    "        \n",
    "        if(cv.waitKey(10) & 0xFF == ord('q')):\n",
    "            break\n",
    "\n",
    "cap.release()\n",
    "cv.destroyAllWindows()"
   ]
  },
  {
   "cell_type": "markdown",
   "metadata": {},
   "source": [
    "# **Extract Keypoint Values**"
   ]
  },
  {
   "cell_type": "code",
   "execution_count": 12,
   "metadata": {},
   "outputs": [
    {
     "data": {
      "text/plain": [
       "108"
      ]
     },
     "execution_count": 12,
     "metadata": {},
     "output_type": "execute_result"
    }
   ],
   "source": [
    "# len(pose)\n",
    "\n",
    "# only use x and y coordinates\n",
    "# body pose only for shoulder to arm only\n",
    "# currently NOT implementing face pose\n",
    "\n",
    "12* 2 + 21*2*2"
   ]
  },
  {
   "cell_type": "code",
   "execution_count": 13,
   "metadata": {},
   "outputs": [],
   "source": [
    "def extract_keypoints(results):\n",
    "    # face = np.array([[res.x, res.y] for res in results.face_landmarks.landmark]).flatten() if results.face_landmarks else np.zeros(468*2)\n",
    "\n",
    "    # pose = np.array([[res.x, res.y] for res in results.pose_landmarks.landmark]).flatten() if results.pose_landmarks else np.zeros(33*2)\n",
    "\n",
    "    if results.pose_landmarks:\n",
    "        selected_pose_landmarks = results.pose_landmarks.landmark[11:23]\n",
    "        pose = np.array([[res.x, res.y] for res in selected_pose_landmarks]).flatten()\n",
    "    else:\n",
    "        pose = np.zeros(22*2)\n",
    "\n",
    "        \n",
    "    left_hand = np.array([[res.x, res.y] for res in results.left_hand_landmarks.landmark]).flatten() if results.left_hand_landmarks else np.zeros(21*2)\n",
    "    right_hand = np.array([[res.x, res.y] for res in results.right_hand_landmarks.landmark]).flatten() if results.right_hand_landmarks else np.zeros(21*2)\n",
    "   \n",
    "    # return np.concatenate([pose, face, left_hand, right_hand])\n",
    "    return np.concatenate([pose, left_hand, right_hand])"
   ]
  },
  {
   "cell_type": "code",
   "execution_count": 14,
   "metadata": {},
   "outputs": [],
   "source": [
    "def extract_coordinate(results):\n",
    "    # if results.face_landmarks:\n",
    "    #     for res in results.face_landmarks.landmark:\n",
    "    #         x = res.x\n",
    "    #         y = res.y\n",
    "    #         visibility = res.visibility\n",
    "    #         print(f\"FACE LANDMARK x: {x}, y: {y}\\n\")    \n",
    "        \n",
    "    # NORMAL POSE LANDMARK\n",
    "    # if results.pose_landmarks:\n",
    "    #     for res in results.pose_landmarks.landmark:\n",
    "    #         x = res.x\n",
    "    #         y = res.y\n",
    "    #         print(f\"POSE LANDMARK x: {x}, y: {y}\\n\")\n",
    "\n",
    "    if results.pose_landmarks:\n",
    "        selected_pose_landmarks = results.pose_landmarks.landmark[11:23]\n",
    "        for res in selected_pose_landmarks:\n",
    "            x = res.x\n",
    "            y = res.y\n",
    "            print(f\"POSE LANDMARK x: {x}, y: {y}\\n\")\n",
    "        \n",
    "    if results.right_hand_landmarks:\n",
    "        for res in results.right_hand_landmarks.landmark:\n",
    "            x = res.x\n",
    "            y = res.y\n",
    "            print(f\"RIGHT HAND LANDMARK x: {x}, y: {y}\\n\")\n",
    "    if results.left_hand_landmarks:\n",
    "        for res in results.left_hand_landmarks.landmark:\n",
    "            x = res.x\n",
    "            y = res.y\n",
    "            print(f\"LEFT HAND LANDMARK x: {x}, y: {y}\\n\")    "
   ]
  },
  {
   "cell_type": "code",
   "execution_count": 15,
   "metadata": {},
   "outputs": [
    {
     "ename": "NameError",
     "evalue": "name 'results' is not defined",
     "output_type": "error",
     "traceback": [
      "\u001b[1;31m---------------------------------------------------------------------------\u001b[0m",
      "\u001b[1;31mNameError\u001b[0m                                 Traceback (most recent call last)",
      "\u001b[1;32mc:\\Users\\krisn\\OneDrive\\Desktop\\Learning\\machine-learning-study\\testing-space\\testing_lstm.ipynb Cell 16\u001b[0m line \u001b[0;36m<cell line: 1>\u001b[1;34m()\u001b[0m\n\u001b[1;32m----> <a href='vscode-notebook-cell:/c%3A/Users/krisn/OneDrive/Desktop/Learning/machine-learning-study/testing-space/testing_lstm.ipynb#X21sZmlsZQ%3D%3D?line=0'>1</a>\u001b[0m extract_coordinate(results)\n",
      "\u001b[1;31mNameError\u001b[0m: name 'results' is not defined"
     ]
    }
   ],
   "source": [
    "extract_coordinate(results)"
   ]
  },
  {
   "cell_type": "code",
   "execution_count": 20,
   "metadata": {},
   "outputs": [
    {
     "data": {
      "text/plain": [
       "array([0.7131635 , 0.91116709, 0.36603048, 0.99187595, 0.95148456,\n",
       "       0.73244065, 0.30689484, 1.26646841, 0.72622997, 0.41108331,\n",
       "       0.22735758, 1.41656506, 0.67493904, 0.30498797, 0.17932491,\n",
       "       1.49878538, 0.65629894, 0.3111226 , 0.21609399, 1.47151947,\n",
       "       0.66260266, 0.3561081 , 0.23347385, 1.44850791, 0.70668894,\n",
       "       0.38688749, 0.66130328, 0.38493675, 0.62122524, 0.3613314 ,\n",
       "       0.59488517, 0.3279517 , 0.56970757, 0.31222013, 0.6292004 ,\n",
       "       0.29042861, 0.60551667, 0.24951462, 0.59334314, 0.22439736,\n",
       "       0.58354294, 0.20208669, 0.65248752, 0.27280185, 0.63294232,\n",
       "       0.22384477, 0.62215221, 0.19457909, 0.61372954, 0.17098406,\n",
       "       0.678186  , 0.26729849, 0.66283798, 0.22212806, 0.65267563,\n",
       "       0.19545834, 0.64446223, 0.17399849, 0.7069279 , 0.27035365,\n",
       "       0.70924163, 0.23277731, 0.70865774, 0.20814136, 0.70738554,\n",
       "       0.18612099, 0.        , 0.        , 0.        , 0.        ,\n",
       "       0.        , 0.        , 0.        , 0.        , 0.        ,\n",
       "       0.        , 0.        , 0.        , 0.        , 0.        ,\n",
       "       0.        , 0.        , 0.        , 0.        , 0.        ,\n",
       "       0.        , 0.        , 0.        , 0.        , 0.        ,\n",
       "       0.        , 0.        , 0.        , 0.        , 0.        ,\n",
       "       0.        , 0.        , 0.        , 0.        , 0.        ,\n",
       "       0.        , 0.        , 0.        , 0.        , 0.        ,\n",
       "       0.        , 0.        , 0.        ])"
      ]
     },
     "execution_count": 20,
     "metadata": {},
     "output_type": "execute_result"
    }
   ],
   "source": [
    "extract_keypoints(results)"
   ]
  },
  {
   "cell_type": "code",
   "execution_count": null,
   "metadata": {},
   "outputs": [],
   "source": [
    "len(extract_keypoints(results))"
   ]
  },
  {
   "cell_type": "markdown",
   "metadata": {},
   "source": [
    "# **Setup Folders for Collection**"
   ]
  },
  {
   "cell_type": "code",
   "execution_count": 8,
   "metadata": {},
   "outputs": [],
   "source": [
    "# DATA_PATH = os.path.join('Sign_Data')\n",
    "\n",
    "# actions = np.array(['maaf', 'tolong'])\n",
    "\n",
    "# # menggunakan 30 video\n",
    "# no_sequences = 30\n",
    "\n",
    "# # setiap video berisi 30 frame\n",
    "# sequence_length = 30\n",
    "\n",
    "# start_folder = 30"
   ]
  },
  {
   "cell_type": "code",
   "execution_count": 16,
   "metadata": {},
   "outputs": [],
   "source": [
    "#FOR UPGRADED SEQUENCE\n",
    "DATA_PATH = os.path.join('Test_Datasets')\n",
    "\n",
    "actions = np.array(['maaf', 'tolong'])\n",
    "\n",
    "# menggunakan 60 video\n",
    "no_sequences = 60\n",
    "\n",
    "# setiap video berisi 30 frame\n",
    "sequence_length = 30\n",
    "\n",
    "start_folder = 30"
   ]
  },
  {
   "cell_type": "code",
   "execution_count": 11,
   "metadata": {},
   "outputs": [],
   "source": [
    "for action in actions: \n",
    "    for sequence in range(no_sequences):\n",
    "        try: \n",
    "            os.makedirs(os.path.join(DATA_PATH, action, str(sequence)))\n",
    "        except:\n",
    "            pass"
   ]
  },
  {
   "cell_type": "code",
   "execution_count": 30,
   "metadata": {},
   "outputs": [],
   "source": [
    "# FOR TESTING TEMP DATA\n",
    "TEMP_DATA_PATH = os.path.join('data_temp')\n",
    "\n",
    "test_actions = np.array(['test'])"
   ]
  },
  {
   "cell_type": "code",
   "execution_count": 101,
   "metadata": {},
   "outputs": [],
   "source": [
    "for action in test_actions: \n",
    "    for sequence in range(no_sequences):\n",
    "        try: \n",
    "            os.makedirs(os.path.join(TEMP_DATA_PATH, action, str(sequence)))\n",
    "        except:\n",
    "            print(\"Hello\")\n",
    "            pass"
   ]
  },
  {
   "cell_type": "code",
   "execution_count": null,
   "metadata": {},
   "outputs": [],
   "source": [
    "# FOR CHANGING FOLDER NUMBER\n",
    "DATA_PATH_CHANGE = os.path.join(r'C:\\Users\\krisn\\OneDrive\\Desktop\\Learning\\machine-learning-study\\testing-space\\Sign_Data_2')\n",
    "\n",
    "temp = 59\n",
    "\n",
    "for action in np.array(['tolong']):\n",
    "    for new_sequence in range(sequence):\n",
    "        PATH_OLD = os.path.join(DATA_PATH_CHANGE, action, str(temp))\n",
    "        PATH_NEW = os.path.join(DATA_PATH_CHANGE, action, str(new_sequence+30))\n",
    "\n",
    "        print(PATH_OLD + \"\\n\")\n",
    "        print(PATH_NEW)\n",
    "        print(\"------------\")\n",
    "        os.rename(PATH_OLD, PATH_NEW)\n",
    "        temp += 1"
   ]
  },
  {
   "cell_type": "markdown",
   "metadata": {},
   "source": [
    "# **Collect Keypoint Values for Training and Testing**"
   ]
  },
  {
   "cell_type": "code",
   "execution_count": 12,
   "metadata": {},
   "outputs": [
    {
     "ename": "NameError",
     "evalue": "name 'image' is not defined",
     "output_type": "error",
     "traceback": [
      "\u001b[1;31m---------------------------------------------------------------------------\u001b[0m",
      "\u001b[1;31mNameError\u001b[0m                                 Traceback (most recent call last)",
      "\u001b[1;32mc:\\Users\\krisn\\OneDrive\\Desktop\\Learning\\machine-learning-study\\testing-space\\testing_lstm.ipynb Cell 27\u001b[0m line \u001b[0;36m<cell line: 2>\u001b[1;34m()\u001b[0m\n\u001b[0;32m      <a href='vscode-notebook-cell:/c%3A/Users/krisn/OneDrive/Desktop/Learning/machine-learning-study/testing-space/testing_lstm.ipynb#X35sZmlsZQ%3D%3D?line=7'>8</a>\u001b[0m ret, frame \u001b[39m=\u001b[39m cap\u001b[39m.\u001b[39mread()\n\u001b[0;32m     <a href='vscode-notebook-cell:/c%3A/Users/krisn/OneDrive/Desktop/Learning/machine-learning-study/testing-space/testing_lstm.ipynb#X35sZmlsZQ%3D%3D?line=9'>10</a>\u001b[0m \u001b[39mif\u001b[39;00m frame_num \u001b[39m==\u001b[39m \u001b[39m0\u001b[39m: \n\u001b[1;32m---> <a href='vscode-notebook-cell:/c%3A/Users/krisn/OneDrive/Desktop/Learning/machine-learning-study/testing-space/testing_lstm.ipynb#X35sZmlsZQ%3D%3D?line=10'>11</a>\u001b[0m     cv\u001b[39m.\u001b[39mputText(image, \u001b[39m'\u001b[39m\u001b[39mSTARTING COLLECTION\u001b[39m\u001b[39m'\u001b[39m, (\u001b[39m120\u001b[39m,\u001b[39m200\u001b[39m), \n\u001b[0;32m     <a href='vscode-notebook-cell:/c%3A/Users/krisn/OneDrive/Desktop/Learning/machine-learning-study/testing-space/testing_lstm.ipynb#X35sZmlsZQ%3D%3D?line=11'>12</a>\u001b[0m                cv\u001b[39m.\u001b[39mFONT_HERSHEY_SIMPLEX, \u001b[39m1\u001b[39m, (\u001b[39m0\u001b[39m,\u001b[39m255\u001b[39m, \u001b[39m0\u001b[39m), \u001b[39m4\u001b[39m, cv\u001b[39m.\u001b[39mLINE_AA)\n\u001b[0;32m     <a href='vscode-notebook-cell:/c%3A/Users/krisn/OneDrive/Desktop/Learning/machine-learning-study/testing-space/testing_lstm.ipynb#X35sZmlsZQ%3D%3D?line=12'>13</a>\u001b[0m     cv\u001b[39m.\u001b[39mputText(image, \u001b[39m'\u001b[39m\u001b[39mCollecting frames for \u001b[39m\u001b[39m{}\u001b[39;00m\u001b[39m Video Number \u001b[39m\u001b[39m{}\u001b[39;00m\u001b[39m'\u001b[39m\u001b[39m.\u001b[39mformat(action, sequence), (\u001b[39m15\u001b[39m,\u001b[39m12\u001b[39m), \n\u001b[0;32m     <a href='vscode-notebook-cell:/c%3A/Users/krisn/OneDrive/Desktop/Learning/machine-learning-study/testing-space/testing_lstm.ipynb#X35sZmlsZQ%3D%3D?line=13'>14</a>\u001b[0m                cv\u001b[39m.\u001b[39mFONT_HERSHEY_SIMPLEX, \u001b[39m0.5\u001b[39m, (\u001b[39m0\u001b[39m, \u001b[39m0\u001b[39m, \u001b[39m255\u001b[39m), \u001b[39m2\u001b[39m, cv\u001b[39m.\u001b[39mLINE_AA)\n\u001b[0;32m     <a href='vscode-notebook-cell:/c%3A/Users/krisn/OneDrive/Desktop/Learning/machine-learning-study/testing-space/testing_lstm.ipynb#X35sZmlsZQ%3D%3D?line=14'>15</a>\u001b[0m     cv\u001b[39m.\u001b[39mimshow(\u001b[39m'\u001b[39m\u001b[39mOpenCV Feed\u001b[39m\u001b[39m'\u001b[39m, image)\n",
      "\u001b[1;31mNameError\u001b[0m: name 'image' is not defined"
     ]
    }
   ],
   "source": [
    "cap = cv.VideoCapture(0)\n",
    "with mp_holistic.Holistic(min_detection_confidence=0.5, min_tracking_confidence=0.5) as holistic:\n",
    "\n",
    "    for action in actions:\n",
    "        for sequence in range(no_sequences):\n",
    "            for frame_num in range(sequence_length):\n",
    "\n",
    "                ret, frame = cap.read()\n",
    "\n",
    "                if frame_num == 0: \n",
    "                    cv.putText(image, 'STARTING COLLECTION', (120,200), \n",
    "                               cv.FONT_HERSHEY_SIMPLEX, 1, (0,255, 0), 4, cv.LINE_AA)\n",
    "                    cv.putText(image, 'Collecting frames for {} Video Number {}'.format(action, sequence), (15,12), \n",
    "                               cv.FONT_HERSHEY_SIMPLEX, 0.5, (0, 0, 255), 2, cv.LINE_AA)\n",
    "                    cv.imshow('OpenCV Feed', image)\n",
    "                    cv.waitKey(2000)\n",
    "                else: \n",
    "                    cv.putText(image, 'Collecting frames for {} Video Number {}'.format(action, sequence), (15,12), \n",
    "                               cv.FONT_HERSHEY_SIMPLEX, 0.5, (0, 0, 255), 2, cv.LINE_AA)\n",
    "                    cv.imshow('OpenCV Feed', image)\n",
    "                black_bg = np.zeros((frame.shape[0], frame.shape[1], frame.shape[2]))\n",
    "\n",
    "                image, results = media_pipe_detection(frame, holistic)\n",
    "\n",
    "                draw_land_marks(image, results)\n",
    "                draw_land_marks(black_bg, results)\n",
    "\n",
    "                cv.imwrite(os.path.join(DATA_PATH, action, str(sequence), f\"{frame_num}.jpg\"), image)\n",
    "                cv.imwrite(os.path.join(DATA_PATH, action, str(sequence), f\"{frame_num}-black.jpg\"), black_bg)\n",
    "                \n",
    "                keypoints = extract_keypoints(results)\n",
    "                npy_path = os.path.join(DATA_PATH, action, str(sequence), str(frame_num))\n",
    "                np.save(npy_path, keypoints)\n",
    "\n",
    "                if cv.waitKey(10) & 0xFF == ord('q'):\n",
    "                    break\n",
    "                    \n",
    "    cap.release()\n",
    "    cv.destroyAllWindows()"
   ]
  },
  {
   "cell_type": "code",
   "execution_count": 102,
   "metadata": {},
   "outputs": [
    {
     "ename": "KeyboardInterrupt",
     "evalue": "",
     "output_type": "error",
     "traceback": [
      "\u001b[1;31m---------------------------------------------------------------------------\u001b[0m",
      "\u001b[1;31mKeyboardInterrupt\u001b[0m                         Traceback (most recent call last)",
      "\u001b[1;32mc:\\Users\\krisn\\OneDrive\\Desktop\\Learning\\machine-learning-study\\testing-space\\testing_lstm.ipynb Cell 26\u001b[0m line \u001b[0;36m<cell line: 1>\u001b[1;34m()\u001b[0m\n\u001b[1;32m----> <a href='vscode-notebook-cell:/c%3A/Users/krisn/OneDrive/Desktop/Learning/machine-learning-study/testing-space/testing_lstm.ipynb#Y123sZmlsZQ%3D%3D?line=0'>1</a>\u001b[0m cap \u001b[39m=\u001b[39m cv\u001b[39m.\u001b[39;49mVideoCapture(\u001b[39m0\u001b[39;49m)\n\u001b[0;32m      <a href='vscode-notebook-cell:/c%3A/Users/krisn/OneDrive/Desktop/Learning/machine-learning-study/testing-space/testing_lstm.ipynb#Y123sZmlsZQ%3D%3D?line=1'>2</a>\u001b[0m \u001b[39mwith\u001b[39;00m mp_holistic\u001b[39m.\u001b[39mHolistic(min_detection_confidence\u001b[39m=\u001b[39m\u001b[39m0.5\u001b[39m, min_tracking_confidence\u001b[39m=\u001b[39m\u001b[39m0.5\u001b[39m) \u001b[39mas\u001b[39;00m holistic:\n\u001b[0;32m      <a href='vscode-notebook-cell:/c%3A/Users/krisn/OneDrive/Desktop/Learning/machine-learning-study/testing-space/testing_lstm.ipynb#Y123sZmlsZQ%3D%3D?line=3'>4</a>\u001b[0m     \u001b[39mfor\u001b[39;00m action \u001b[39min\u001b[39;00m test_actions:\n",
      "\u001b[1;31mKeyboardInterrupt\u001b[0m: "
     ]
    }
   ],
   "source": [
    "#FOR CREATING TEMP DATA\n",
    "cap = cv.VideoCapture(0)\n",
    "with mp_holistic.Holistic(min_detection_confidence=0.5, min_tracking_confidence=0.5) as holistic:\n",
    "\n",
    "    for action in test_actions:\n",
    "        for sequence in range(no_sequences):\n",
    "            for frame_num in range(sequence_length):\n",
    "\n",
    "                ret, frame = cap.read()\n",
    "\n",
    "                black_bg = np.zeros((frame.shape[0], frame.shape[1], frame.shape[2]))\n",
    "\n",
    "                image, results = media_pipe_detection(frame, holistic)\n",
    "\n",
    "                draw_land_marks(image, results)\n",
    "                draw_land_marks(black_bg, results)\n",
    "                \n",
    "                if frame_num == 0: \n",
    "                    cv.putText(image, 'STARTING COLLECTION', (120,200), \n",
    "                               cv.FONT_HERSHEY_SIMPLEX, 1, (0,255, 0), 4, cv.LINE_AA)\n",
    "                    cv.putText(image, 'Collecting frames for {} Video Number {}'.format(action, sequence), (15,12), \n",
    "                               cv.FONT_HERSHEY_SIMPLEX, 0.5, (0, 0, 255), 2, cv.LINE_AA)\n",
    "                    cv.imshow('OpenCV Feed', image)\n",
    "                    cv.waitKey(2000)\n",
    "                else: \n",
    "                    cv.putText(image, 'Collecting frames for {} Video Number {}'.format(action, sequence), (15,12), \n",
    "                               cv.FONT_HERSHEY_SIMPLEX, 0.5, (0, 0, 255), 2, cv.LINE_AA)\n",
    "                    cv.imshow('OpenCV Feed', image)\n",
    "                \n",
    "                keypoints = extract_keypoints(results)\n",
    "                npy_path = os.path.join(TEMP_DATA_PATH, action, str(sequence), str(frame_num))\n",
    "                np.save(npy_path, keypoints)\n",
    "                \n",
    "                cv.imwrite(os.path.join(TEMP_DATA_PATH, action, str(sequence), f\"{frame_num}.jpg\"), image)\n",
    "                cv.imwrite(os.path.join(TEMP_DATA_PATH, action, str(sequence), f\"{frame_num}-black.jpg\"), black_bg)\n",
    "\n",
    "                if cv.waitKey(10) & 0xFF == ord('q'):\n",
    "                    break\n",
    "                    \n",
    "    cap.release()\n",
    "    cv.destroyAllWindows()"
   ]
  },
  {
   "cell_type": "code",
   "execution_count": null,
   "metadata": {},
   "outputs": [],
   "source": [
    "cap.release()\n",
    "cv.destroyAllWindows()"
   ]
  },
  {
   "cell_type": "markdown",
   "metadata": {},
   "source": [
    "# **Preprocess Data and Create Labels and Features**"
   ]
  },
  {
   "cell_type": "code",
   "execution_count": 17,
   "metadata": {},
   "outputs": [],
   "source": [
    "from sklearn.model_selection import train_test_split\n",
    "from keras.utils import to_categorical\n",
    "import tensorflow as tf\n",
    "import keras"
   ]
  },
  {
   "cell_type": "code",
   "execution_count": 18,
   "metadata": {},
   "outputs": [],
   "source": [
    "label_map = {label:num for num, label in enumerate(actions)}"
   ]
  },
  {
   "cell_type": "code",
   "execution_count": 19,
   "metadata": {},
   "outputs": [
    {
     "data": {
      "text/plain": [
       "{'maaf': 0, 'tolong': 1}"
      ]
     },
     "execution_count": 19,
     "metadata": {},
     "output_type": "execute_result"
    }
   ],
   "source": [
    "label_map"
   ]
  },
  {
   "cell_type": "code",
   "execution_count": 13,
   "metadata": {},
   "outputs": [],
   "source": [
    "sequences, labels = [], []\n",
    "for action in actions:\n",
    "    for sequence in np.array(os.listdir(os.path.join(DATA_PATH, action))).astype(int):\n",
    "        window = []\n",
    "        for frame_num in range(sequence_length):\n",
    "            res = np.load(os.path.join(DATA_PATH, action, str(sequence), \"{}.npy\".format(frame_num)))\n",
    "            window.append(res)\n",
    "        sequences.append(window)\n",
    "        labels.append(label_map[action])"
   ]
  },
  {
   "cell_type": "code",
   "execution_count": 14,
   "metadata": {},
   "outputs": [
    {
     "data": {
      "text/plain": [
       "(120, 30, 108)"
      ]
     },
     "execution_count": 14,
     "metadata": {},
     "output_type": "execute_result"
    }
   ],
   "source": [
    "np.array(sequences).shape"
   ]
  },
  {
   "cell_type": "code",
   "execution_count": 15,
   "metadata": {},
   "outputs": [
    {
     "data": {
      "text/plain": [
       "(120,)"
      ]
     },
     "execution_count": 15,
     "metadata": {},
     "output_type": "execute_result"
    }
   ],
   "source": [
    "np.array(labels).shape"
   ]
  },
  {
   "cell_type": "code",
   "execution_count": 16,
   "metadata": {},
   "outputs": [],
   "source": [
    "X = np.array(sequences)"
   ]
  },
  {
   "cell_type": "code",
   "execution_count": 17,
   "metadata": {},
   "outputs": [
    {
     "data": {
      "text/plain": [
       "(120, 30, 108)"
      ]
     },
     "execution_count": 17,
     "metadata": {},
     "output_type": "execute_result"
    }
   ],
   "source": [
    "X.shape"
   ]
  },
  {
   "cell_type": "code",
   "execution_count": 18,
   "metadata": {},
   "outputs": [],
   "source": [
    "y = to_categorical(labels).astype(int)"
   ]
  },
  {
   "cell_type": "code",
   "execution_count": 25,
   "metadata": {},
   "outputs": [],
   "source": [
    "X_train, X_test, y_train, y_test = train_test_split(X, y, test_size=0.3, random_state=42)"
   ]
  },
  {
   "cell_type": "code",
   "execution_count": 26,
   "metadata": {},
   "outputs": [
    {
     "name": "stdout",
     "output_type": "stream",
     "text": [
      "(84, 30, 108)\n",
      "(36, 30, 108)\n",
      "(84, 2)\n",
      "(36, 2)\n"
     ]
    }
   ],
   "source": [
    "print(X_train.shape)\n",
    "print(X_test.shape)\n",
    "print(y_train.shape)\n",
    "print(y_test.shape)"
   ]
  },
  {
   "cell_type": "markdown",
   "metadata": {},
   "source": [
    "# **Build and Train LSTM Neural Network**"
   ]
  },
  {
   "cell_type": "code",
   "execution_count": 30,
   "metadata": {},
   "outputs": [],
   "source": [
    "from tensorflow.keras.models import Sequential\n",
    "from tensorflow.keras.layers import LSTM, Dense, Dropout\n",
    "from tensorflow.keras.callbacks import TensorBoard"
   ]
  },
  {
   "cell_type": "code",
   "execution_count": 31,
   "metadata": {},
   "outputs": [],
   "source": [
    "log_dir = os.path.join('Logs')\n",
    "tb_callback = TensorBoard(log_dir=log_dir)"
   ]
  },
  {
   "cell_type": "code",
   "execution_count": 25,
   "metadata": {},
   "outputs": [],
   "source": [
    "# SIMPLE MODEL\n",
    "model = Sequential()\n",
    "\n",
    "model.add(LSTM(32, return_sequences=True, activation='tanh', input_shape=(30,108)))\n",
    "model.add(LSTM(32, return_sequences=False, activation='tanh'))\n",
    "model.add(Dense(16, activation='relu'))\n",
    "model.add(Dense(actions.shape[0], activation='softmax'))"
   ]
  },
  {
   "cell_type": "code",
   "execution_count": 32,
   "metadata": {},
   "outputs": [],
   "source": [
    "# COMPLEX MODEL\n",
    "model = Sequential()\n",
    "\n",
    "model.add(LSTM(64, return_sequences=True, activation='tanh', input_shape=(30,108)))\n",
    "model.add(LSTM(128, return_sequences=True, activation='tanh'))\n",
    "model.add(LSTM(64, return_sequences=False, activation='tanh'))\n",
    "# model.add(Dropout(0.2))\n",
    "model.add(Dense(64, activation='relu'))\n",
    "model.add(Dense(32, activation='relu'))\n",
    "model.add(Dense(actions.shape[0], activation='softmax'))"
   ]
  },
  {
   "cell_type": "code",
   "execution_count": 30,
   "metadata": {},
   "outputs": [],
   "source": [
    "model.compile(optimizer='Adam', loss='categorical_crossentropy', metrics=['categorical_accuracy'])"
   ]
  },
  {
   "cell_type": "code",
   "execution_count": 33,
   "metadata": {},
   "outputs": [
    {
     "name": "stdout",
     "output_type": "stream",
     "text": [
      "Model: \"sequential_2\"\n",
      "_________________________________________________________________\n",
      " Layer (type)                Output Shape              Param #   \n",
      "=================================================================\n",
      " lstm_5 (LSTM)               (None, 30, 64)            44288     \n",
      "                                                                 \n",
      " lstm_6 (LSTM)               (None, 30, 128)           98816     \n",
      "                                                                 \n",
      " lstm_7 (LSTM)               (None, 64)                49408     \n",
      "                                                                 \n",
      " dense_5 (Dense)             (None, 64)                4160      \n",
      "                                                                 \n",
      " dense_6 (Dense)             (None, 32)                2080      \n",
      "                                                                 \n",
      " dense_7 (Dense)             (None, 2)                 66        \n",
      "                                                                 \n",
      "=================================================================\n",
      "Total params: 198818 (776.63 KB)\n",
      "Trainable params: 198818 (776.63 KB)\n",
      "Non-trainable params: 0 (0.00 Byte)\n",
      "_________________________________________________________________\n"
     ]
    }
   ],
   "source": [
    "model.summary()"
   ]
  },
  {
   "cell_type": "code",
   "execution_count": 32,
   "metadata": {},
   "outputs": [
    {
     "name": "stdout",
     "output_type": "stream",
     "text": [
      "Epoch 1/50\n",
      "3/3 [==============================] - 4s 36ms/step - loss: 0.6894 - categorical_accuracy: 0.4881\n",
      "Epoch 2/50\n",
      "3/3 [==============================] - 0s 31ms/step - loss: 0.7039 - categorical_accuracy: 0.5119\n",
      "Epoch 3/50\n",
      "3/3 [==============================] - 0s 31ms/step - loss: 0.6919 - categorical_accuracy: 0.4524\n",
      "Epoch 4/50\n",
      "3/3 [==============================] - 0s 33ms/step - loss: 0.6903 - categorical_accuracy: 0.5238\n",
      "Epoch 5/50\n",
      "3/3 [==============================] - 0s 31ms/step - loss: 0.6478 - categorical_accuracy: 0.9048\n",
      "Epoch 6/50\n",
      "3/3 [==============================] - 0s 32ms/step - loss: 0.6464 - categorical_accuracy: 0.6429\n",
      "Epoch 7/50\n",
      "3/3 [==============================] - 0s 33ms/step - loss: 0.6208 - categorical_accuracy: 0.7500\n",
      "Epoch 8/50\n",
      "3/3 [==============================] - 0s 31ms/step - loss: 0.5845 - categorical_accuracy: 0.7143\n",
      "Epoch 9/50\n",
      "3/3 [==============================] - 0s 32ms/step - loss: 0.5112 - categorical_accuracy: 0.7976\n",
      "Epoch 10/50\n",
      "3/3 [==============================] - 0s 32ms/step - loss: 0.4865 - categorical_accuracy: 0.7738\n",
      "Epoch 11/50\n",
      "3/3 [==============================] - 0s 32ms/step - loss: 0.4424 - categorical_accuracy: 0.7976\n",
      "Epoch 12/50\n",
      "3/3 [==============================] - 0s 32ms/step - loss: 0.3257 - categorical_accuracy: 0.8929\n",
      "Epoch 13/50\n",
      "3/3 [==============================] - 0s 115ms/step - loss: 0.2793 - categorical_accuracy: 0.9048\n",
      "Epoch 14/50\n",
      "3/3 [==============================] - 0s 34ms/step - loss: 0.3038 - categorical_accuracy: 0.8571\n",
      "Epoch 15/50\n",
      "3/3 [==============================] - 0s 33ms/step - loss: 0.2423 - categorical_accuracy: 0.9286\n",
      "Epoch 16/50\n",
      "3/3 [==============================] - 0s 36ms/step - loss: 0.1967 - categorical_accuracy: 0.9048\n",
      "Epoch 17/50\n",
      "3/3 [==============================] - 0s 32ms/step - loss: 0.2490 - categorical_accuracy: 0.9048\n",
      "Epoch 18/50\n",
      "3/3 [==============================] - 0s 35ms/step - loss: 0.1543 - categorical_accuracy: 0.9286\n",
      "Epoch 19/50\n",
      "3/3 [==============================] - 0s 32ms/step - loss: 0.0640 - categorical_accuracy: 0.9881\n",
      "Epoch 20/50\n",
      "3/3 [==============================] - 0s 35ms/step - loss: 0.0873 - categorical_accuracy: 0.9643\n",
      "Epoch 21/50\n",
      "3/3 [==============================] - 0s 36ms/step - loss: 0.0572 - categorical_accuracy: 0.9762\n",
      "Epoch 22/50\n",
      "3/3 [==============================] - 0s 33ms/step - loss: 0.0590 - categorical_accuracy: 0.9881\n",
      "Epoch 23/50\n",
      "3/3 [==============================] - 0s 36ms/step - loss: 0.0364 - categorical_accuracy: 0.9881\n",
      "Epoch 24/50\n",
      "3/3 [==============================] - 0s 40ms/step - loss: 0.0325 - categorical_accuracy: 0.9881\n",
      "Epoch 25/50\n",
      "3/3 [==============================] - 0s 35ms/step - loss: 0.0231 - categorical_accuracy: 0.9881\n",
      "Epoch 26/50\n",
      "3/3 [==============================] - 0s 35ms/step - loss: 0.0138 - categorical_accuracy: 1.0000\n",
      "Epoch 27/50\n",
      "3/3 [==============================] - 0s 34ms/step - loss: 0.0075 - categorical_accuracy: 1.0000\n",
      "Epoch 28/50\n",
      "3/3 [==============================] - 0s 33ms/step - loss: 0.0065 - categorical_accuracy: 1.0000\n",
      "Epoch 29/50\n",
      "3/3 [==============================] - 0s 34ms/step - loss: 0.0037 - categorical_accuracy: 1.0000\n",
      "Epoch 30/50\n",
      "3/3 [==============================] - 0s 33ms/step - loss: 0.0035 - categorical_accuracy: 1.0000\n",
      "Epoch 31/50\n",
      "3/3 [==============================] - 0s 36ms/step - loss: 0.0030 - categorical_accuracy: 1.0000\n",
      "Epoch 32/50\n",
      "3/3 [==============================] - 0s 32ms/step - loss: 0.0020 - categorical_accuracy: 1.0000\n",
      "Epoch 33/50\n",
      "3/3 [==============================] - 0s 32ms/step - loss: 0.0016 - categorical_accuracy: 1.0000\n",
      "Epoch 34/50\n",
      "3/3 [==============================] - 0s 40ms/step - loss: 0.0014 - categorical_accuracy: 1.0000\n",
      "Epoch 35/50\n",
      "3/3 [==============================] - 0s 34ms/step - loss: 0.0012 - categorical_accuracy: 1.0000\n",
      "Epoch 36/50\n",
      "3/3 [==============================] - 0s 34ms/step - loss: 0.0011 - categorical_accuracy: 1.0000\n",
      "Epoch 37/50\n",
      "3/3 [==============================] - 0s 37ms/step - loss: 0.0010 - categorical_accuracy: 1.0000\n",
      "Epoch 38/50\n",
      "3/3 [==============================] - 0s 33ms/step - loss: 9.1378e-04 - categorical_accuracy: 1.0000\n",
      "Epoch 39/50\n",
      "3/3 [==============================] - 0s 37ms/step - loss: 8.2321e-04 - categorical_accuracy: 1.0000\n",
      "Epoch 40/50\n",
      "3/3 [==============================] - 0s 31ms/step - loss: 7.3989e-04 - categorical_accuracy: 1.0000\n",
      "Epoch 41/50\n",
      "3/3 [==============================] - 0s 34ms/step - loss: 6.7034e-04 - categorical_accuracy: 1.0000\n",
      "Epoch 42/50\n",
      "3/3 [==============================] - 0s 37ms/step - loss: 6.1086e-04 - categorical_accuracy: 1.0000\n",
      "Epoch 43/50\n",
      "3/3 [==============================] - 0s 34ms/step - loss: 5.6068e-04 - categorical_accuracy: 1.0000\n",
      "Epoch 44/50\n",
      "3/3 [==============================] - 0s 34ms/step - loss: 5.1764e-04 - categorical_accuracy: 1.0000\n",
      "Epoch 45/50\n",
      "3/3 [==============================] - 0s 36ms/step - loss: 4.8022e-04 - categorical_accuracy: 1.0000\n",
      "Epoch 46/50\n",
      "3/3 [==============================] - 0s 32ms/step - loss: 4.4657e-04 - categorical_accuracy: 1.0000\n",
      "Epoch 47/50\n",
      "3/3 [==============================] - 0s 35ms/step - loss: 4.1673e-04 - categorical_accuracy: 1.0000\n",
      "Epoch 48/50\n",
      "3/3 [==============================] - 0s 35ms/step - loss: 3.8940e-04 - categorical_accuracy: 1.0000\n",
      "Epoch 49/50\n",
      "3/3 [==============================] - 0s 34ms/step - loss: 3.6446e-04 - categorical_accuracy: 1.0000\n",
      "Epoch 50/50\n",
      "3/3 [==============================] - 0s 33ms/step - loss: 3.4295e-04 - categorical_accuracy: 1.0000\n"
     ]
    },
    {
     "data": {
      "text/plain": [
       "<keras.src.callbacks.History at 0x1e551562710>"
      ]
     },
     "execution_count": 32,
     "metadata": {},
     "output_type": "execute_result"
    }
   ],
   "source": [
    "model.fit(X_train, y_train, epochs=25, callbacks=[tb_callback])"
   ]
  },
  {
   "cell_type": "code",
   "execution_count": 34,
   "metadata": {},
   "outputs": [
    {
     "name": "stdout",
     "output_type": "stream",
     "text": [
      "Model: \"sequential_2\"\n",
      "_________________________________________________________________\n",
      " Layer (type)                Output Shape              Param #   \n",
      "=================================================================\n",
      " lstm_5 (LSTM)               (None, 30, 64)            44288     \n",
      "                                                                 \n",
      " lstm_6 (LSTM)               (None, 30, 128)           98816     \n",
      "                                                                 \n",
      " lstm_7 (LSTM)               (None, 64)                49408     \n",
      "                                                                 \n",
      " dense_5 (Dense)             (None, 64)                4160      \n",
      "                                                                 \n",
      " dense_6 (Dense)             (None, 32)                2080      \n",
      "                                                                 \n",
      " dense_7 (Dense)             (None, 2)                 66        \n",
      "                                                                 \n",
      "=================================================================\n",
      "Total params: 198818 (776.63 KB)\n",
      "Trainable params: 198818 (776.63 KB)\n",
      "Non-trainable params: 0 (0.00 Byte)\n",
      "_________________________________________________________________\n"
     ]
    }
   ],
   "source": [
    "model.summary()"
   ]
  },
  {
   "cell_type": "code",
   "execution_count": 35,
   "metadata": {},
   "outputs": [
    {
     "ename": "TypeError",
     "evalue": "'History' object is not subscriptable",
     "output_type": "error",
     "traceback": [
      "\u001b[1;31m---------------------------------------------------------------------------\u001b[0m",
      "\u001b[1;31mTypeError\u001b[0m                                 Traceback (most recent call last)",
      "\u001b[1;32mc:\\Users\\krisn\\OneDrive\\Desktop\\Learning\\machine-learning-study\\testing-space\\testing_lstm.ipynb Cell 51\u001b[0m line \u001b[0;36m<cell line: 1>\u001b[1;34m()\u001b[0m\n\u001b[1;32m----> <a href='vscode-notebook-cell:/c%3A/Users/krisn/OneDrive/Desktop/Learning/machine-learning-study/testing-space/testing_lstm.ipynb#Y130sZmlsZQ%3D%3D?line=0'>1</a>\u001b[0m plt\u001b[39m.\u001b[39mplot(model\u001b[39m.\u001b[39;49mhistory[\u001b[39m'\u001b[39;49m\u001b[39macc\u001b[39;49m\u001b[39m'\u001b[39;49m])\n\u001b[0;32m      <a href='vscode-notebook-cell:/c%3A/Users/krisn/OneDrive/Desktop/Learning/machine-learning-study/testing-space/testing_lstm.ipynb#Y130sZmlsZQ%3D%3D?line=1'>2</a>\u001b[0m plt\u001b[39m.\u001b[39mplot(model\u001b[39m.\u001b[39mhistory[\u001b[39m'\u001b[39m\u001b[39mval_acc\u001b[39m\u001b[39m'\u001b[39m])\n\u001b[0;32m      <a href='vscode-notebook-cell:/c%3A/Users/krisn/OneDrive/Desktop/Learning/machine-learning-study/testing-space/testing_lstm.ipynb#Y130sZmlsZQ%3D%3D?line=2'>3</a>\u001b[0m plt\u001b[39m.\u001b[39mtitle(\u001b[39m'\u001b[39m\u001b[39mmodel accuracy\u001b[39m\u001b[39m'\u001b[39m)\n",
      "\u001b[1;31mTypeError\u001b[0m: 'History' object is not subscriptable"
     ]
    }
   ],
   "source": [
    "plt.plot(model.history['acc'])\n",
    "plt.plot(model.history['val_acc'])\n",
    "plt.title('model accuracy')\n",
    "plt.ylabel('accuracy')\n",
    "plt.xlabel('epoch')\n",
    "plt.legend(['train', 'val'], loc='upper left')\n",
    "plt.show()"
   ]
  },
  {
   "cell_type": "markdown",
   "metadata": {},
   "source": [
    "# **Make Predictions**"
   ]
  },
  {
   "cell_type": "code",
   "execution_count": 20,
   "metadata": {},
   "outputs": [
    {
     "ename": "NameError",
     "evalue": "name 'model' is not defined",
     "output_type": "error",
     "traceback": [
      "\u001b[1;31m---------------------------------------------------------------------------\u001b[0m",
      "\u001b[1;31mNameError\u001b[0m                                 Traceback (most recent call last)",
      "\u001b[1;32mc:\\Users\\krisn\\OneDrive\\Desktop\\Learning\\machine-learning-study\\testing-space\\testing_lstm.ipynb Cell 53\u001b[0m line \u001b[0;36m<cell line: 1>\u001b[1;34m()\u001b[0m\n\u001b[1;32m----> <a href='vscode-notebook-cell:/c%3A/Users/krisn/OneDrive/Desktop/Learning/machine-learning-study/testing-space/testing_lstm.ipynb#Y103sZmlsZQ%3D%3D?line=0'>1</a>\u001b[0m res \u001b[39m=\u001b[39m model\u001b[39m.\u001b[39mpredict(X_test)\n",
      "\u001b[1;31mNameError\u001b[0m: name 'model' is not defined"
     ]
    }
   ],
   "source": [
    "res = model.predict(X_test)"
   ]
  },
  {
   "cell_type": "code",
   "execution_count": 32,
   "metadata": {},
   "outputs": [
    {
     "data": {
      "text/plain": [
       "'tolong'"
      ]
     },
     "execution_count": 32,
     "metadata": {},
     "output_type": "execute_result"
    }
   ],
   "source": [
    "actions[np.argmax(res[10])]"
   ]
  },
  {
   "cell_type": "code",
   "execution_count": 34,
   "metadata": {},
   "outputs": [
    {
     "data": {
      "text/plain": [
       "'tolong'"
      ]
     },
     "execution_count": 34,
     "metadata": {},
     "output_type": "execute_result"
    }
   ],
   "source": [
    "actions[np.argmax(y_test[10])]"
   ]
  },
  {
   "cell_type": "markdown",
   "metadata": {},
   "source": [
    "# **Save Weights**"
   ]
  },
  {
   "cell_type": "code",
   "execution_count": 32,
   "metadata": {},
   "outputs": [],
   "source": [
    "model.save('action.h5')"
   ]
  },
  {
   "cell_type": "code",
   "execution_count": 95,
   "metadata": {},
   "outputs": [
    {
     "ename": "NameError",
     "evalue": "name 'model' is not defined",
     "output_type": "error",
     "traceback": [
      "\u001b[1;31m---------------------------------------------------------------------------\u001b[0m",
      "\u001b[1;31mNameError\u001b[0m                                 Traceback (most recent call last)",
      "\u001b[1;32mc:\\Users\\krisn\\OneDrive\\Desktop\\Learning\\machine-learning-study\\testing-space\\testing_lstm.ipynb Cell 53\u001b[0m line \u001b[0;36m<cell line: 1>\u001b[1;34m()\u001b[0m\n\u001b[1;32m----> <a href='vscode-notebook-cell:/c%3A/Users/krisn/OneDrive/Desktop/Learning/machine-learning-study/testing-space/testing_lstm.ipynb#Y101sZmlsZQ%3D%3D?line=0'>1</a>\u001b[0m \u001b[39mdel\u001b[39;00m model\n",
      "\u001b[1;31mNameError\u001b[0m: name 'model' is not defined"
     ]
    }
   ],
   "source": [
    "# del model"
   ]
  },
  {
   "cell_type": "code",
   "execution_count": 35,
   "metadata": {},
   "outputs": [
    {
     "ename": "ValueError",
     "evalue": "Layer count mismatch when loading weights from file. Model expected 6 layers, found 5 saved layers.",
     "output_type": "error",
     "traceback": [
      "\u001b[1;31m---------------------------------------------------------------------------\u001b[0m",
      "\u001b[1;31mValueError\u001b[0m                                Traceback (most recent call last)",
      "\u001b[1;32mc:\\Users\\krisn\\OneDrive\\Desktop\\Learning\\machine-learning-study\\testing-space\\testing_lstm.ipynb Cell 59\u001b[0m line \u001b[0;36m<cell line: 1>\u001b[1;34m()\u001b[0m\n\u001b[1;32m----> <a href='vscode-notebook-cell:/c%3A/Users/krisn/OneDrive/Desktop/Learning/machine-learning-study/testing-space/testing_lstm.ipynb#Y112sZmlsZQ%3D%3D?line=0'>1</a>\u001b[0m model\u001b[39m.\u001b[39;49mload_weights(\u001b[39m'\u001b[39;49m\u001b[39maction.h5\u001b[39;49m\u001b[39m'\u001b[39;49m)\n",
      "File \u001b[1;32m~\\AppData\\Roaming\\Python\\Python310\\site-packages\\keras\\src\\utils\\traceback_utils.py:70\u001b[0m, in \u001b[0;36mfilter_traceback.<locals>.error_handler\u001b[1;34m(*args, **kwargs)\u001b[0m\n\u001b[0;32m     67\u001b[0m     filtered_tb \u001b[39m=\u001b[39m _process_traceback_frames(e\u001b[39m.\u001b[39m__traceback__)\n\u001b[0;32m     68\u001b[0m     \u001b[39m# To get the full stack trace, call:\u001b[39;00m\n\u001b[0;32m     69\u001b[0m     \u001b[39m# `tf.debugging.disable_traceback_filtering()`\u001b[39;00m\n\u001b[1;32m---> 70\u001b[0m     \u001b[39mraise\u001b[39;00m e\u001b[39m.\u001b[39mwith_traceback(filtered_tb) \u001b[39mfrom\u001b[39;00m \u001b[39mNone\u001b[39m\n\u001b[0;32m     71\u001b[0m \u001b[39mfinally\u001b[39;00m:\n\u001b[0;32m     72\u001b[0m     \u001b[39mdel\u001b[39;00m filtered_tb\n",
      "File \u001b[1;32m~\\AppData\\Roaming\\Python\\Python310\\site-packages\\keras\\src\\saving\\legacy\\hdf5_format.py:816\u001b[0m, in \u001b[0;36mload_weights_from_hdf5_group\u001b[1;34m(f, model)\u001b[0m\n\u001b[0;32m    814\u001b[0m layer_names \u001b[39m=\u001b[39m filtered_layer_names\n\u001b[0;32m    815\u001b[0m \u001b[39mif\u001b[39;00m \u001b[39mlen\u001b[39m(layer_names) \u001b[39m!=\u001b[39m \u001b[39mlen\u001b[39m(filtered_layers):\n\u001b[1;32m--> 816\u001b[0m     \u001b[39mraise\u001b[39;00m \u001b[39mValueError\u001b[39;00m(\n\u001b[0;32m    817\u001b[0m         \u001b[39m\"\u001b[39m\u001b[39mLayer count mismatch when loading weights from file. \u001b[39m\u001b[39m\"\u001b[39m\n\u001b[0;32m    818\u001b[0m         \u001b[39mf\u001b[39m\u001b[39m\"\u001b[39m\u001b[39mModel expected \u001b[39m\u001b[39m{\u001b[39;00m\u001b[39mlen\u001b[39m(filtered_layers)\u001b[39m}\u001b[39;00m\u001b[39m layers, found \u001b[39m\u001b[39m\"\u001b[39m\n\u001b[0;32m    819\u001b[0m         \u001b[39mf\u001b[39m\u001b[39m\"\u001b[39m\u001b[39m{\u001b[39;00m\u001b[39mlen\u001b[39m(layer_names)\u001b[39m}\u001b[39;00m\u001b[39m saved layers.\u001b[39m\u001b[39m\"\u001b[39m\n\u001b[0;32m    820\u001b[0m     )\n\u001b[0;32m    822\u001b[0m \u001b[39m# We batch weight value assignments in a single backend call\u001b[39;00m\n\u001b[0;32m    823\u001b[0m \u001b[39m# which provides a speedup in TensorFlow.\u001b[39;00m\n\u001b[0;32m    824\u001b[0m weight_value_tuples \u001b[39m=\u001b[39m []\n",
      "\u001b[1;31mValueError\u001b[0m: Layer count mismatch when loading weights from file. Model expected 6 layers, found 5 saved layers."
     ]
    }
   ],
   "source": [
    "model.load_weights('action.h5')"
   ]
  },
  {
   "cell_type": "markdown",
   "metadata": {},
   "source": [
    "# **Evaluation using Confusion Matrix and Accuracy**"
   ]
  },
  {
   "cell_type": "code",
   "execution_count": 34,
   "metadata": {},
   "outputs": [],
   "source": [
    "from sklearn.metrics import multilabel_confusion_matrix, accuracy_score\n",
    "from sklearn.metrics import confusion_matrix, ConfusionMatrixDisplay\n",
    "import matplotlib.pyplot as plt\n",
    "from sklearn.model_selection import train_test_split\n",
    "from sklearn.datasets import make_multilabel_classification\n",
    "from sklearn.tree import DecisionTreeClassifier"
   ]
  },
  {
   "cell_type": "code",
   "execution_count": 35,
   "metadata": {},
   "outputs": [
    {
     "name": "stdout",
     "output_type": "stream",
     "text": [
      "1/1 [==============================] - 1s 606ms/step\n"
     ]
    }
   ],
   "source": [
    "yhat = model.predict(X_test)"
   ]
  },
  {
   "cell_type": "code",
   "execution_count": 36,
   "metadata": {},
   "outputs": [],
   "source": [
    "ytrue = np.argmax(y_test, axis=1).tolist()\n",
    "yhat = np.argmax(yhat, axis=1).tolist()"
   ]
  },
  {
   "cell_type": "code",
   "execution_count": 37,
   "metadata": {},
   "outputs": [
    {
     "data": {
      "text/plain": [
       "array([[[5, 0],\n",
       "        [0, 7]],\n",
       "\n",
       "       [[7, 0],\n",
       "        [0, 5]]], dtype=int64)"
      ]
     },
     "execution_count": 37,
     "metadata": {},
     "output_type": "execute_result"
    }
   ],
   "source": [
    "multilabel_confusion_matrix(ytrue, yhat)"
   ]
  },
  {
   "cell_type": "code",
   "execution_count": 38,
   "metadata": {},
   "outputs": [
    {
     "data": {
      "text/plain": [
       "1.0"
      ]
     },
     "execution_count": 38,
     "metadata": {},
     "output_type": "execute_result"
    }
   ],
   "source": [
    "accuracy_score(ytrue, yhat)"
   ]
  },
  {
   "cell_type": "markdown",
   "metadata": {},
   "source": [
    "# **Test in Real Time**"
   ]
  },
  {
   "cell_type": "code",
   "execution_count": 109,
   "metadata": {},
   "outputs": [],
   "source": [
    "from scipy import stats"
   ]
  },
  {
   "cell_type": "code",
   "execution_count": 110,
   "metadata": {},
   "outputs": [],
   "source": [
    "colors = [(245,117,16), (117,245,16), (16,117,245)]\n",
    "def prob_viz(res, actions, input_frame, colors):\n",
    "    output_frame = input_frame.copy()\n",
    "    for num, prob in enumerate(res):\n",
    "        cv.rectangle(output_frame, (0,60+num*40), (int(prob*100), 90+num*40), colors[num], -1)\n",
    "        cv.putText(output_frame, actions[num], (0, 85+num*40), cv.FONT_HERSHEY_SIMPLEX, 1, (255,255,255), 2, cv.LINE_AA)\n",
    "        \n",
    "    return output_frame"
   ]
  },
  {
   "cell_type": "code",
   "execution_count": null,
   "metadata": {},
   "outputs": [],
   "source": [
    "# plt.figure(figsize=(18,18))\n",
    "# plt.imshow(prob_viz(res, actions, image, colors))"
   ]
  },
  {
   "cell_type": "code",
   "execution_count": 113,
   "metadata": {},
   "outputs": [
    {
     "name": "stdout",
     "output_type": "stream",
     "text": [
      "1/1 [==============================] - 0s 20ms/step\n",
      "tolong\n",
      "1/1 [==============================] - 0s 22ms/step\n",
      "tolong\n",
      "1/1 [==============================] - 0s 20ms/step\n",
      "tolong\n",
      "1/1 [==============================] - 0s 20ms/step\n",
      "tolong\n",
      "1/1 [==============================] - 0s 21ms/step\n",
      "tolong\n",
      "1/1 [==============================] - 0s 21ms/step\n",
      "tolong\n",
      "1/1 [==============================] - 0s 20ms/step\n",
      "tolong\n",
      "1/1 [==============================] - 0s 20ms/step\n",
      "tolong\n",
      "1/1 [==============================] - 0s 22ms/step\n",
      "tolong\n",
      "1/1 [==============================] - 0s 21ms/step\n",
      "tolong\n",
      "1/1 [==============================] - 0s 21ms/step\n",
      "tolong\n",
      "1/1 [==============================] - 0s 20ms/step\n",
      "tolong\n",
      "1/1 [==============================] - 0s 22ms/step\n",
      "tolong\n",
      "1/1 [==============================] - 0s 21ms/step\n",
      "tolong\n",
      "1/1 [==============================] - 0s 21ms/step\n",
      "tolong\n",
      "1/1 [==============================] - 0s 22ms/step\n",
      "tolong\n",
      "1/1 [==============================] - 0s 21ms/step\n",
      "tolong\n",
      "1/1 [==============================] - 0s 21ms/step\n",
      "tolong\n",
      "1/1 [==============================] - 0s 20ms/step\n",
      "tolong\n",
      "1/1 [==============================] - 0s 21ms/step\n",
      "tolong\n",
      "1/1 [==============================] - 0s 19ms/step\n",
      "tolong\n",
      "1/1 [==============================] - 0s 21ms/step\n",
      "tolong\n",
      "1/1 [==============================] - 0s 20ms/step\n",
      "tolong\n",
      "1/1 [==============================] - 0s 20ms/step\n",
      "tolong\n",
      "1/1 [==============================] - 0s 20ms/step\n",
      "tolong\n",
      "1/1 [==============================] - 0s 20ms/step\n",
      "tolong\n",
      "1/1 [==============================] - 0s 20ms/step\n",
      "tolong\n",
      "1/1 [==============================] - 0s 20ms/step\n",
      "tolong\n",
      "1/1 [==============================] - 0s 22ms/step\n",
      "tolong\n",
      "1/1 [==============================] - 0s 24ms/step\n",
      "tolong\n",
      "1/1 [==============================] - 0s 20ms/step\n",
      "tolong\n",
      "1/1 [==============================] - 0s 21ms/step\n",
      "tolong\n",
      "1/1 [==============================] - 0s 21ms/step\n",
      "tolong\n",
      "1/1 [==============================] - 0s 21ms/step\n",
      "tolong\n",
      "1/1 [==============================] - 0s 21ms/step\n",
      "tolong\n",
      "1/1 [==============================] - 0s 20ms/step\n",
      "tolong\n",
      "1/1 [==============================] - 0s 21ms/step\n",
      "tolong\n",
      "1/1 [==============================] - 0s 22ms/step\n",
      "tolong\n",
      "1/1 [==============================] - 0s 21ms/step\n",
      "tolong\n",
      "1/1 [==============================] - 0s 22ms/step\n",
      "tolong\n",
      "1/1 [==============================] - 0s 22ms/step\n",
      "tolong\n",
      "1/1 [==============================] - 0s 22ms/step\n",
      "tolong\n",
      "1/1 [==============================] - 0s 21ms/step\n",
      "tolong\n",
      "1/1 [==============================] - 0s 20ms/step\n",
      "tolong\n",
      "1/1 [==============================] - 0s 21ms/step\n",
      "tolong\n",
      "1/1 [==============================] - 0s 20ms/step\n",
      "tolong\n",
      "1/1 [==============================] - 0s 21ms/step\n",
      "tolong\n",
      "1/1 [==============================] - 0s 20ms/step\n",
      "tolong\n",
      "1/1 [==============================] - 0s 21ms/step\n",
      "tolong\n",
      "1/1 [==============================] - 0s 19ms/step\n",
      "tolong\n",
      "1/1 [==============================] - 0s 20ms/step\n",
      "tolong\n",
      "1/1 [==============================] - 0s 19ms/step\n",
      "tolong\n",
      "1/1 [==============================] - 0s 19ms/step\n",
      "tolong\n",
      "1/1 [==============================] - 0s 21ms/step\n",
      "tolong\n",
      "1/1 [==============================] - 0s 21ms/step\n",
      "tolong\n",
      "1/1 [==============================] - 0s 20ms/step\n",
      "tolong\n",
      "1/1 [==============================] - 0s 19ms/step\n",
      "tolong\n",
      "1/1 [==============================] - 0s 21ms/step\n",
      "tolong\n",
      "1/1 [==============================] - 0s 21ms/step\n",
      "tolong\n",
      "1/1 [==============================] - 0s 23ms/step\n",
      "tolong\n",
      "1/1 [==============================] - 0s 20ms/step\n",
      "tolong\n",
      "1/1 [==============================] - 0s 21ms/step\n",
      "tolong\n",
      "1/1 [==============================] - 0s 21ms/step\n",
      "tolong\n",
      "1/1 [==============================] - 0s 22ms/step\n",
      "tolong\n",
      "1/1 [==============================] - 0s 22ms/step\n",
      "tolong\n",
      "1/1 [==============================] - 0s 20ms/step\n",
      "tolong\n",
      "1/1 [==============================] - 0s 20ms/step\n",
      "tolong\n",
      "1/1 [==============================] - 0s 21ms/step\n",
      "tolong\n",
      "1/1 [==============================] - 0s 20ms/step\n",
      "tolong\n",
      "1/1 [==============================] - 0s 21ms/step\n",
      "tolong\n",
      "1/1 [==============================] - 0s 21ms/step\n",
      "tolong\n",
      "1/1 [==============================] - 0s 20ms/step\n",
      "tolong\n",
      "1/1 [==============================] - 0s 18ms/step\n",
      "tolong\n",
      "1/1 [==============================] - 0s 21ms/step\n",
      "tolong\n",
      "1/1 [==============================] - 0s 21ms/step\n",
      "tolong\n",
      "1/1 [==============================] - 0s 21ms/step\n",
      "tolong\n",
      "1/1 [==============================] - 0s 21ms/step\n",
      "tolong\n",
      "1/1 [==============================] - 0s 21ms/step\n",
      "tolong\n",
      "1/1 [==============================] - 0s 21ms/step\n",
      "tolong\n",
      "1/1 [==============================] - 0s 21ms/step\n",
      "tolong\n",
      "1/1 [==============================] - 0s 21ms/step\n",
      "tolong\n",
      "1/1 [==============================] - 0s 20ms/step\n",
      "tolong\n",
      "1/1 [==============================] - 0s 20ms/step\n",
      "tolong\n",
      "1/1 [==============================] - 0s 19ms/step\n",
      "tolong\n",
      "1/1 [==============================] - 0s 20ms/step\n",
      "tolong\n",
      "1/1 [==============================] - 0s 21ms/step\n",
      "tolong\n",
      "1/1 [==============================] - 0s 21ms/step\n",
      "tolong\n",
      "1/1 [==============================] - 0s 21ms/step\n",
      "tolong\n",
      "1/1 [==============================] - 0s 20ms/step\n",
      "tolong\n",
      "1/1 [==============================] - 0s 21ms/step\n",
      "tolong\n",
      "1/1 [==============================] - 0s 20ms/step\n",
      "tolong\n",
      "1/1 [==============================] - 0s 19ms/step\n",
      "tolong\n",
      "1/1 [==============================] - 0s 19ms/step\n",
      "tolong\n",
      "1/1 [==============================] - 0s 21ms/step\n",
      "tolong\n",
      "1/1 [==============================] - 0s 20ms/step\n",
      "tolong\n",
      "1/1 [==============================] - 0s 21ms/step\n",
      "tolong\n",
      "1/1 [==============================] - 0s 19ms/step\n",
      "tolong\n",
      "1/1 [==============================] - 0s 21ms/step\n",
      "tolong\n",
      "1/1 [==============================] - 0s 21ms/step\n",
      "tolong\n",
      "1/1 [==============================] - 0s 20ms/step\n",
      "tolong\n",
      "1/1 [==============================] - 0s 22ms/step\n",
      "tolong\n",
      "1/1 [==============================] - 0s 21ms/step\n",
      "tolong\n",
      "1/1 [==============================] - 0s 21ms/step\n",
      "tolong\n",
      "1/1 [==============================] - 0s 20ms/step\n",
      "tolong\n",
      "1/1 [==============================] - 0s 21ms/step\n",
      "tolong\n",
      "1/1 [==============================] - 0s 21ms/step\n",
      "tolong\n",
      "1/1 [==============================] - 0s 20ms/step\n",
      "tolong\n",
      "1/1 [==============================] - 0s 20ms/step\n",
      "tolong\n",
      "1/1 [==============================] - 0s 22ms/step\n",
      "tolong\n",
      "1/1 [==============================] - 0s 21ms/step\n",
      "tolong\n",
      "1/1 [==============================] - 0s 20ms/step\n",
      "tolong\n",
      "1/1 [==============================] - 0s 20ms/step\n",
      "tolong\n",
      "1/1 [==============================] - 0s 21ms/step\n",
      "tolong\n",
      "1/1 [==============================] - 0s 21ms/step\n",
      "tolong\n",
      "1/1 [==============================] - 0s 21ms/step\n",
      "tolong\n",
      "1/1 [==============================] - 0s 21ms/step\n",
      "tolong\n",
      "1/1 [==============================] - 0s 22ms/step\n",
      "tolong\n",
      "1/1 [==============================] - 0s 21ms/step\n",
      "tolong\n",
      "1/1 [==============================] - 0s 20ms/step\n",
      "tolong\n",
      "1/1 [==============================] - 0s 24ms/step\n",
      "tolong\n",
      "1/1 [==============================] - 0s 20ms/step\n",
      "tolong\n",
      "1/1 [==============================] - 0s 21ms/step\n",
      "tolong\n",
      "1/1 [==============================] - 0s 20ms/step\n",
      "tolong\n",
      "1/1 [==============================] - 0s 20ms/step\n",
      "tolong\n",
      "1/1 [==============================] - 0s 22ms/step\n",
      "tolong\n",
      "1/1 [==============================] - 0s 20ms/step\n",
      "tolong\n",
      "1/1 [==============================] - 0s 21ms/step\n",
      "tolong\n",
      "1/1 [==============================] - 0s 21ms/step\n",
      "tolong\n",
      "1/1 [==============================] - 0s 22ms/step\n",
      "tolong\n",
      "1/1 [==============================] - 0s 21ms/step\n",
      "tolong\n",
      "1/1 [==============================] - 0s 19ms/step\n",
      "tolong\n",
      "1/1 [==============================] - 0s 20ms/step\n",
      "tolong\n",
      "1/1 [==============================] - 0s 21ms/step\n",
      "tolong\n",
      "1/1 [==============================] - 0s 23ms/step\n",
      "tolong\n",
      "1/1 [==============================] - 0s 22ms/step\n",
      "tolong\n",
      "1/1 [==============================] - 0s 20ms/step\n",
      "tolong\n",
      "1/1 [==============================] - 0s 20ms/step\n",
      "tolong\n",
      "1/1 [==============================] - 0s 20ms/step\n",
      "tolong\n",
      "1/1 [==============================] - 0s 21ms/step\n",
      "tolong\n",
      "1/1 [==============================] - 0s 20ms/step\n",
      "tolong\n",
      "1/1 [==============================] - 0s 21ms/step\n",
      "tolong\n",
      "1/1 [==============================] - 0s 20ms/step\n",
      "tolong\n",
      "1/1 [==============================] - 0s 20ms/step\n",
      "tolong\n",
      "1/1 [==============================] - 0s 23ms/step\n",
      "tolong\n",
      "1/1 [==============================] - 0s 21ms/step\n",
      "tolong\n",
      "1/1 [==============================] - 0s 22ms/step\n",
      "tolong\n",
      "1/1 [==============================] - 0s 20ms/step\n",
      "tolong\n",
      "1/1 [==============================] - 0s 20ms/step\n",
      "tolong\n",
      "1/1 [==============================] - 0s 22ms/step\n",
      "tolong\n",
      "1/1 [==============================] - 0s 21ms/step\n",
      "maaf\n",
      "1/1 [==============================] - 0s 21ms/step\n",
      "maaf\n",
      "1/1 [==============================] - 0s 20ms/step\n",
      "maaf\n",
      "1/1 [==============================] - 0s 20ms/step\n",
      "maaf\n",
      "1/1 [==============================] - 0s 21ms/step\n",
      "maaf\n",
      "1/1 [==============================] - 0s 21ms/step\n",
      "maaf\n",
      "1/1 [==============================] - 0s 20ms/step\n",
      "maaf\n",
      "1/1 [==============================] - 0s 21ms/step\n",
      "maaf\n",
      "1/1 [==============================] - 0s 20ms/step\n",
      "maaf\n",
      "1/1 [==============================] - 0s 21ms/step\n",
      "maaf\n",
      "1/1 [==============================] - 0s 21ms/step\n",
      "maaf\n",
      "1/1 [==============================] - 0s 21ms/step\n",
      "tolong\n",
      "1/1 [==============================] - 0s 23ms/step\n",
      "tolong\n",
      "1/1 [==============================] - 0s 21ms/step\n",
      "tolong\n",
      "1/1 [==============================] - 0s 21ms/step\n",
      "tolong\n",
      "1/1 [==============================] - 0s 19ms/step\n",
      "tolong\n",
      "1/1 [==============================] - 0s 21ms/step\n",
      "tolong\n",
      "1/1 [==============================] - 0s 22ms/step\n",
      "tolong\n",
      "1/1 [==============================] - 0s 21ms/step\n",
      "tolong\n",
      "1/1 [==============================] - 0s 20ms/step\n",
      "tolong\n",
      "1/1 [==============================] - 0s 20ms/step\n",
      "tolong\n",
      "1/1 [==============================] - 0s 20ms/step\n",
      "tolong\n",
      "1/1 [==============================] - 0s 19ms/step\n",
      "tolong\n",
      "1/1 [==============================] - 0s 21ms/step\n",
      "tolong\n",
      "1/1 [==============================] - 0s 22ms/step\n",
      "tolong\n",
      "1/1 [==============================] - 0s 20ms/step\n",
      "tolong\n",
      "1/1 [==============================] - 0s 21ms/step\n",
      "tolong\n",
      "1/1 [==============================] - 0s 20ms/step\n",
      "tolong\n",
      "1/1 [==============================] - 0s 21ms/step\n",
      "tolong\n",
      "1/1 [==============================] - 0s 21ms/step\n",
      "tolong\n",
      "1/1 [==============================] - 0s 21ms/step\n",
      "tolong\n",
      "1/1 [==============================] - 0s 20ms/step\n",
      "tolong\n",
      "1/1 [==============================] - 0s 24ms/step\n",
      "tolong\n",
      "1/1 [==============================] - 0s 21ms/step\n",
      "tolong\n",
      "1/1 [==============================] - 0s 21ms/step\n",
      "tolong\n",
      "1/1 [==============================] - 0s 21ms/step\n",
      "tolong\n",
      "1/1 [==============================] - 0s 20ms/step\n",
      "tolong\n",
      "1/1 [==============================] - 0s 19ms/step\n",
      "tolong\n",
      "1/1 [==============================] - 0s 21ms/step\n",
      "tolong\n",
      "1/1 [==============================] - 0s 20ms/step\n",
      "tolong\n",
      "1/1 [==============================] - 0s 21ms/step\n",
      "tolong\n",
      "1/1 [==============================] - 0s 20ms/step\n",
      "tolong\n",
      "1/1 [==============================] - 0s 21ms/step\n",
      "tolong\n",
      "1/1 [==============================] - 0s 22ms/step\n",
      "tolong\n",
      "1/1 [==============================] - 0s 21ms/step\n",
      "tolong\n",
      "1/1 [==============================] - 0s 20ms/step\n",
      "tolong\n",
      "1/1 [==============================] - 0s 20ms/step\n",
      "tolong\n",
      "1/1 [==============================] - 0s 21ms/step\n",
      "tolong\n",
      "1/1 [==============================] - 0s 22ms/step\n",
      "tolong\n",
      "1/1 [==============================] - 0s 20ms/step\n",
      "tolong\n",
      "1/1 [==============================] - 0s 21ms/step\n",
      "tolong\n",
      "1/1 [==============================] - 0s 21ms/step\n",
      "tolong\n",
      "1/1 [==============================] - 0s 22ms/step\n",
      "tolong\n",
      "1/1 [==============================] - 0s 20ms/step\n",
      "tolong\n",
      "1/1 [==============================] - 0s 21ms/step\n",
      "tolong\n",
      "1/1 [==============================] - 0s 21ms/step\n",
      "tolong\n",
      "1/1 [==============================] - 0s 21ms/step\n",
      "tolong\n",
      "1/1 [==============================] - 0s 20ms/step\n",
      "tolong\n",
      "1/1 [==============================] - 0s 22ms/step\n",
      "tolong\n",
      "1/1 [==============================] - 0s 22ms/step\n",
      "tolong\n",
      "1/1 [==============================] - 0s 21ms/step\n",
      "tolong\n",
      "1/1 [==============================] - 0s 22ms/step\n",
      "tolong\n",
      "1/1 [==============================] - 0s 22ms/step\n",
      "tolong\n",
      "1/1 [==============================] - 0s 21ms/step\n",
      "tolong\n",
      "1/1 [==============================] - 0s 20ms/step\n",
      "tolong\n",
      "1/1 [==============================] - 0s 20ms/step\n",
      "tolong\n",
      "1/1 [==============================] - 0s 21ms/step\n",
      "tolong\n",
      "1/1 [==============================] - 0s 24ms/step\n",
      "tolong\n",
      "1/1 [==============================] - 0s 21ms/step\n",
      "tolong\n",
      "1/1 [==============================] - 0s 21ms/step\n",
      "tolong\n",
      "1/1 [==============================] - 0s 20ms/step\n",
      "tolong\n",
      "1/1 [==============================] - 0s 21ms/step\n",
      "tolong\n",
      "1/1 [==============================] - 0s 22ms/step\n",
      "tolong\n",
      "1/1 [==============================] - 0s 20ms/step\n",
      "tolong\n",
      "1/1 [==============================] - 0s 20ms/step\n",
      "tolong\n",
      "1/1 [==============================] - 0s 22ms/step\n",
      "tolong\n",
      "1/1 [==============================] - 0s 22ms/step\n",
      "tolong\n",
      "1/1 [==============================] - 0s 23ms/step\n",
      "tolong\n",
      "1/1 [==============================] - 0s 19ms/step\n",
      "tolong\n",
      "1/1 [==============================] - 0s 20ms/step\n",
      "tolong\n",
      "1/1 [==============================] - 0s 20ms/step\n",
      "tolong\n",
      "1/1 [==============================] - 0s 21ms/step\n",
      "tolong\n",
      "1/1 [==============================] - 0s 21ms/step\n",
      "tolong\n",
      "1/1 [==============================] - 0s 20ms/step\n",
      "tolong\n",
      "1/1 [==============================] - 0s 21ms/step\n",
      "tolong\n",
      "1/1 [==============================] - 0s 21ms/step\n",
      "tolong\n",
      "1/1 [==============================] - 0s 21ms/step\n",
      "tolong\n",
      "1/1 [==============================] - 0s 20ms/step\n",
      "tolong\n",
      "1/1 [==============================] - 0s 20ms/step\n",
      "tolong\n",
      "1/1 [==============================] - 0s 20ms/step\n",
      "tolong\n",
      "1/1 [==============================] - 0s 20ms/step\n",
      "tolong\n",
      "1/1 [==============================] - 0s 21ms/step\n",
      "tolong\n",
      "1/1 [==============================] - 0s 22ms/step\n",
      "tolong\n",
      "1/1 [==============================] - 0s 20ms/step\n",
      "tolong\n",
      "1/1 [==============================] - 0s 19ms/step\n",
      "tolong\n",
      "1/1 [==============================] - 0s 20ms/step\n",
      "tolong\n",
      "1/1 [==============================] - 0s 21ms/step\n",
      "tolong\n",
      "1/1 [==============================] - 0s 20ms/step\n",
      "tolong\n",
      "1/1 [==============================] - 0s 20ms/step\n",
      "tolong\n",
      "1/1 [==============================] - 0s 20ms/step\n",
      "tolong\n",
      "1/1 [==============================] - 0s 21ms/step\n",
      "tolong\n",
      "1/1 [==============================] - 0s 20ms/step\n",
      "tolong\n",
      "1/1 [==============================] - 0s 20ms/step\n",
      "tolong\n",
      "1/1 [==============================] - 0s 22ms/step\n",
      "tolong\n",
      "1/1 [==============================] - 0s 20ms/step\n",
      "tolong\n",
      "1/1 [==============================] - 0s 20ms/step\n",
      "tolong\n",
      "1/1 [==============================] - 0s 20ms/step\n",
      "tolong\n",
      "1/1 [==============================] - 0s 20ms/step\n",
      "tolong\n",
      "1/1 [==============================] - 0s 21ms/step\n",
      "tolong\n",
      "1/1 [==============================] - 0s 21ms/step\n",
      "tolong\n",
      "1/1 [==============================] - 0s 20ms/step\n",
      "tolong\n",
      "1/1 [==============================] - 0s 26ms/step\n",
      "tolong\n",
      "1/1 [==============================] - 0s 20ms/step\n",
      "tolong\n",
      "1/1 [==============================] - 0s 21ms/step\n",
      "tolong\n",
      "1/1 [==============================] - 0s 20ms/step\n",
      "tolong\n",
      "1/1 [==============================] - 0s 19ms/step\n",
      "tolong\n",
      "1/1 [==============================] - 0s 20ms/step\n",
      "tolong\n",
      "1/1 [==============================] - 0s 20ms/step\n",
      "tolong\n",
      "1/1 [==============================] - 0s 20ms/step\n",
      "tolong\n",
      "1/1 [==============================] - 0s 19ms/step\n",
      "tolong\n",
      "1/1 [==============================] - 0s 20ms/step\n",
      "tolong\n",
      "1/1 [==============================] - 0s 21ms/step\n",
      "tolong\n",
      "1/1 [==============================] - 0s 20ms/step\n",
      "tolong\n",
      "1/1 [==============================] - 0s 19ms/step\n",
      "tolong\n",
      "1/1 [==============================] - 0s 20ms/step\n",
      "tolong\n",
      "1/1 [==============================] - 0s 21ms/step\n",
      "tolong\n",
      "1/1 [==============================] - 0s 21ms/step\n",
      "tolong\n",
      "1/1 [==============================] - 0s 21ms/step\n",
      "tolong\n",
      "1/1 [==============================] - 0s 22ms/step\n",
      "tolong\n",
      "1/1 [==============================] - 0s 21ms/step\n",
      "tolong\n",
      "1/1 [==============================] - 0s 21ms/step\n",
      "tolong\n",
      "1/1 [==============================] - 0s 21ms/step\n",
      "tolong\n",
      "1/1 [==============================] - 0s 20ms/step\n",
      "tolong\n",
      "1/1 [==============================] - 0s 20ms/step\n",
      "tolong\n",
      "1/1 [==============================] - 0s 19ms/step\n",
      "tolong\n",
      "1/1 [==============================] - 0s 20ms/step\n",
      "tolong\n",
      "1/1 [==============================] - 0s 20ms/step\n",
      "tolong\n",
      "1/1 [==============================] - 0s 20ms/step\n",
      "tolong\n",
      "1/1 [==============================] - 0s 20ms/step\n",
      "tolong\n",
      "1/1 [==============================] - 0s 24ms/step\n",
      "tolong\n",
      "1/1 [==============================] - 0s 20ms/step\n",
      "tolong\n",
      "1/1 [==============================] - 0s 21ms/step\n",
      "tolong\n",
      "1/1 [==============================] - 0s 20ms/step\n",
      "tolong\n",
      "1/1 [==============================] - 0s 20ms/step\n",
      "tolong\n",
      "1/1 [==============================] - 0s 20ms/step\n",
      "tolong\n",
      "1/1 [==============================] - 0s 19ms/step\n",
      "tolong\n",
      "1/1 [==============================] - 0s 22ms/step\n",
      "tolong\n",
      "1/1 [==============================] - 0s 20ms/step\n",
      "tolong\n",
      "1/1 [==============================] - 0s 21ms/step\n",
      "tolong\n",
      "1/1 [==============================] - 0s 21ms/step\n",
      "tolong\n",
      "1/1 [==============================] - 0s 20ms/step\n",
      "tolong\n",
      "1/1 [==============================] - 0s 21ms/step\n",
      "tolong\n",
      "1/1 [==============================] - 0s 20ms/step\n",
      "tolong\n",
      "1/1 [==============================] - 0s 22ms/step\n",
      "tolong\n",
      "1/1 [==============================] - 0s 21ms/step\n",
      "tolong\n",
      "1/1 [==============================] - 0s 20ms/step\n",
      "tolong\n",
      "1/1 [==============================] - 0s 22ms/step\n",
      "tolong\n",
      "1/1 [==============================] - 0s 22ms/step\n",
      "tolong\n",
      "1/1 [==============================] - 0s 20ms/step\n",
      "tolong\n",
      "1/1 [==============================] - 0s 20ms/step\n",
      "tolong\n",
      "1/1 [==============================] - 0s 20ms/step\n",
      "tolong\n",
      "1/1 [==============================] - 0s 21ms/step\n",
      "tolong\n",
      "1/1 [==============================] - 0s 20ms/step\n",
      "tolong\n",
      "1/1 [==============================] - 0s 21ms/step\n",
      "tolong\n",
      "1/1 [==============================] - 0s 23ms/step\n",
      "tolong\n",
      "1/1 [==============================] - 0s 20ms/step\n",
      "tolong\n",
      "1/1 [==============================] - 0s 21ms/step\n",
      "tolong\n",
      "1/1 [==============================] - 0s 19ms/step\n",
      "tolong\n",
      "1/1 [==============================] - 0s 20ms/step\n",
      "tolong\n",
      "1/1 [==============================] - 0s 21ms/step\n",
      "tolong\n",
      "1/1 [==============================] - 0s 21ms/step\n",
      "tolong\n",
      "1/1 [==============================] - 0s 21ms/step\n",
      "tolong\n",
      "1/1 [==============================] - 0s 21ms/step\n",
      "tolong\n",
      "1/1 [==============================] - 0s 21ms/step\n",
      "tolong\n",
      "1/1 [==============================] - 0s 20ms/step\n",
      "tolong\n",
      "1/1 [==============================] - 0s 21ms/step\n",
      "tolong\n",
      "1/1 [==============================] - 0s 20ms/step\n",
      "tolong\n",
      "1/1 [==============================] - 0s 22ms/step\n",
      "tolong\n",
      "1/1 [==============================] - 0s 20ms/step\n",
      "tolong\n",
      "1/1 [==============================] - 0s 21ms/step\n",
      "tolong\n",
      "1/1 [==============================] - 0s 20ms/step\n",
      "tolong\n",
      "1/1 [==============================] - 0s 20ms/step\n",
      "tolong\n",
      "1/1 [==============================] - 0s 23ms/step\n",
      "tolong\n",
      "1/1 [==============================] - 0s 20ms/step\n",
      "tolong\n",
      "1/1 [==============================] - 0s 20ms/step\n",
      "tolong\n",
      "1/1 [==============================] - 0s 20ms/step\n",
      "tolong\n",
      "1/1 [==============================] - 0s 20ms/step\n",
      "tolong\n",
      "1/1 [==============================] - 0s 20ms/step\n",
      "tolong\n",
      "1/1 [==============================] - 0s 21ms/step\n",
      "tolong\n",
      "1/1 [==============================] - 0s 20ms/step\n",
      "tolong\n",
      "1/1 [==============================] - 0s 20ms/step\n",
      "tolong\n",
      "1/1 [==============================] - 0s 20ms/step\n",
      "tolong\n",
      "1/1 [==============================] - 0s 21ms/step\n",
      "tolong\n",
      "1/1 [==============================] - 0s 21ms/step\n",
      "tolong\n",
      "1/1 [==============================] - 0s 21ms/step\n",
      "tolong\n",
      "1/1 [==============================] - 0s 22ms/step\n",
      "tolong\n",
      "1/1 [==============================] - 0s 20ms/step\n",
      "tolong\n",
      "1/1 [==============================] - 0s 19ms/step\n",
      "tolong\n",
      "1/1 [==============================] - 0s 20ms/step\n",
      "tolong\n",
      "1/1 [==============================] - 0s 21ms/step\n",
      "tolong\n",
      "1/1 [==============================] - 0s 21ms/step\n",
      "tolong\n",
      "1/1 [==============================] - 0s 25ms/step\n",
      "tolong\n",
      "1/1 [==============================] - 0s 21ms/step\n",
      "tolong\n",
      "1/1 [==============================] - 0s 20ms/step\n",
      "tolong\n",
      "1/1 [==============================] - 0s 20ms/step\n",
      "tolong\n",
      "1/1 [==============================] - 0s 21ms/step\n",
      "tolong\n",
      "1/1 [==============================] - 0s 21ms/step\n",
      "tolong\n",
      "1/1 [==============================] - 0s 20ms/step\n",
      "tolong\n",
      "1/1 [==============================] - 0s 20ms/step\n",
      "tolong\n",
      "1/1 [==============================] - 0s 21ms/step\n",
      "tolong\n",
      "1/1 [==============================] - 0s 21ms/step\n",
      "tolong\n",
      "1/1 [==============================] - 0s 21ms/step\n",
      "tolong\n",
      "1/1 [==============================] - 0s 22ms/step\n",
      "tolong\n",
      "1/1 [==============================] - 0s 20ms/step\n",
      "tolong\n",
      "1/1 [==============================] - 0s 23ms/step\n",
      "tolong\n",
      "1/1 [==============================] - 0s 21ms/step\n",
      "tolong\n",
      "1/1 [==============================] - 0s 21ms/step\n",
      "tolong\n",
      "1/1 [==============================] - 0s 21ms/step\n",
      "tolong\n",
      "1/1 [==============================] - 0s 19ms/step\n",
      "tolong\n",
      "1/1 [==============================] - 0s 21ms/step\n",
      "tolong\n",
      "1/1 [==============================] - 0s 19ms/step\n",
      "tolong\n"
     ]
    }
   ],
   "source": [
    "sequence = []\n",
    "sentence = []\n",
    "predictions = []\n",
    "threshold = 0.55\n",
    "\n",
    "cap = cv.VideoCapture(0)\n",
    "with mp_holistic.Holistic(min_detection_confidence=0.5, min_tracking_confidence=0.5) as holistic:\n",
    "    while cap.isOpened():\n",
    "\n",
    "        ret, frame = cap.read()\n",
    "\n",
    "        image, results = media_pipe_detection(frame, holistic)\n",
    "        \n",
    "        draw_styled_handmarks(image, results)\n",
    "        \n",
    "        keypoints = extract_keypoints(results)\n",
    "        sequence.append(keypoints)\n",
    "        sequence = sequence[-30:]\n",
    "        \n",
    "        if len(sequence) == 30:\n",
    "            res = model.predict(np.expand_dims(sequence, axis=0))[0]\n",
    "            print(actions[np.argmax(res)])\n",
    "            predictions.append(np.argmax(res))\n",
    "            \n",
    "            if np.unique(predictions[-10:])[0]==np.argmax(res): \n",
    "                if res[np.argmax(res)] > threshold: \n",
    "                    \n",
    "                    if len(sentence) > 0: \n",
    "                        if actions[np.argmax(res)] != sentence[-1]:\n",
    "                            sentence.append(actions[np.argmax(res)])\n",
    "                    else:\n",
    "                        sentence.append(actions[np.argmax(res)])\n",
    "\n",
    "            if len(sentence) > 5: \n",
    "                sentence = sentence[-5:]\n",
    "                \n",
    "            image = prob_viz(res, actions, image, colors)\n",
    "            \n",
    "        cv.rectangle(image, (0,0), (640, 40), (245, 117, 16), -1)\n",
    "        cv.putText(image, ' '.join(sentence), (3,30), \n",
    "                       cv.FONT_HERSHEY_SIMPLEX, 1, (255, 255, 255), 2, cv.LINE_AA)\n",
    "        \n",
    "        cv.imshow('OpenCV Feed', image)\n",
    "\n",
    "        if cv.waitKey(10) & 0xFF == ord('q'):\n",
    "            break\n",
    "    cap.release()\n",
    "    cv.destroyAllWindows()"
   ]
  }
 ],
 "metadata": {
  "kernelspec": {
   "display_name": "Python 3",
   "language": "python",
   "name": "python3"
  },
  "language_info": {
   "codemirror_mode": {
    "name": "ipython",
    "version": 3
   },
   "file_extension": ".py",
   "mimetype": "text/x-python",
   "name": "python",
   "nbconvert_exporter": "python",
   "pygments_lexer": "ipython3",
   "version": "3.10.4"
  },
  "orig_nbformat": 4
 },
 "nbformat": 4,
 "nbformat_minor": 2
}
