{
 "cells": [
  {
   "cell_type": "markdown",
   "metadata": {},
   "source": [
    "# **Preprocess Data and Create Labels and Features**"
   ]
  },
  {
   "cell_type": "code",
   "execution_count": 12,
   "metadata": {},
   "outputs": [],
   "source": [
    "from sklearn.model_selection import train_test_split\n",
    "from sklearn.metrics import confusion_matrix\n",
    "import tensorflow as tf\n",
    "from keras.utils import to_categorical\n",
    "import numpy as np\n",
    "import os\n",
    "import cv2 as cv\n",
    "import mediapipe as mp\n",
    "from matplotlib import pyplot as plt\n",
    "from mediapipe.python.solutions.pose import PoseLandmark\n",
    "\n",
    "from tensorflow.keras.models import Sequential\n",
    "from tensorflow.keras.layers import LSTM, Dense, Dropout, TimeDistributed\n",
    "from tensorflow.keras.callbacks import TensorBoard, EarlyStopping, ModelCheckpoint\n",
    "from tensorflow.keras.utils import plot_model\n",
    "\n",
    "from sklearn.metrics import multilabel_confusion_matrix, accuracy_score\n",
    "from sklearn.metrics import confusion_matrix\n",
    "import matplotlib.pyplot as plt\n",
    "from sklearn.model_selection import train_test_split\n",
    "from sklearn.datasets import make_multilabel_classification\n",
    "from sklearn.tree import DecisionTreeClassifier\n",
    "import seaborn as sns"
   ]
  },
  {
   "cell_type": "code",
   "execution_count": 13,
   "metadata": {},
   "outputs": [],
   "source": [
    "DATA_PATH = os.path.join('My_Datasets')\n",
    "\n",
    "actions = np.array([\"maaf\", \"tolong\", \"nama\", \"saya\", \"siapa\", \"rumah\", \"start\", \"standby\", \"delete\", \"translate\", \"dimana\"])\n",
    "\n",
    "no_sequences = 30\n",
    "\n",
    "sequence_length = 30"
   ]
  },
  {
   "cell_type": "code",
   "execution_count": 14,
   "metadata": {},
   "outputs": [
    {
     "data": {
      "text/plain": [
       "(330, 30, 108)"
      ]
     },
     "execution_count": 14,
     "metadata": {},
     "output_type": "execute_result"
    }
   ],
   "source": [
    "\n",
    "label_map = {label:num for num, label in enumerate(actions)}\n",
    "label_map\n",
    "\n",
    "sequences, labels = [], []\n",
    "for action in actions:\n",
    "    for sequence in np.array(os.listdir(os.path.join(DATA_PATH, action))).astype(int):\n",
    "        window = []\n",
    "        for frame_num in range(sequence_length):\n",
    "            res = np.load(os.path.join(DATA_PATH, action, str(sequence), \"{}-norm.npy\".format(frame_num)))\n",
    "            \n",
    "            window.append(res)\n",
    "        sequences.append(window)\n",
    "        labels.append(label_map[action])\n",
    "\n",
    "np.array(sequences).shape"
   ]
  },
  {
   "cell_type": "code",
   "execution_count": 15,
   "metadata": {},
   "outputs": [
    {
     "name": "stdout",
     "output_type": "stream",
     "text": [
      "(231, 30, 108)\n",
      "(99, 30, 108)\n",
      "(231, 11)\n",
      "(99, 11)\n"
     ]
    }
   ],
   "source": [
    "X = np.array(sequences)\n",
    "y = to_categorical(labels).astype(int)\n",
    "\n",
    "X_train, X_test, y_train, y_test = train_test_split(X, y, test_size=0.3, random_state=42)\n",
    "\n",
    "print(X_train.shape)\n",
    "print(X_test.shape)\n",
    "print(y_train.shape)\n",
    "print(y_test.shape)"
   ]
  },
  {
   "cell_type": "markdown",
   "metadata": {},
   "source": [
    "# **Build and Train LSTM Neural Network**"
   ]
  },
  {
   "cell_type": "code",
   "execution_count": 16,
   "metadata": {},
   "outputs": [],
   "source": [
    "checkpoint = ModelCheckpoint('test.h5', monitor='categorical_accuracy', verbose=1, mode = 'max', save_best_only=True, save_weights_only=False,save_freq='epoch')"
   ]
  },
  {
   "cell_type": "code",
   "execution_count": 17,
   "metadata": {},
   "outputs": [
    {
     "name": "stdout",
     "output_type": "stream",
     "text": [
      "Model: \"sequential_1\"\n",
      "_________________________________________________________________\n",
      " Layer (type)                Output Shape              Param #   \n",
      "=================================================================\n",
      " time_distributed_1 (TimeDi  (None, 30, 256)           27904     \n",
      " stributed)                                                      \n",
      "                                                                 \n",
      " lstm_2 (LSTM)               (None, 30, 256)           525312    \n",
      "                                                                 \n",
      " dropout_3 (Dropout)         (None, 30, 256)           0         \n",
      "                                                                 \n",
      " lstm_3 (LSTM)               (None, 128)               197120    \n",
      "                                                                 \n",
      " dropout_4 (Dropout)         (None, 128)               0         \n",
      "                                                                 \n",
      " dense_4 (Dense)             (None, 64)                8256      \n",
      "                                                                 \n",
      " dropout_5 (Dropout)         (None, 64)                0         \n",
      "                                                                 \n",
      " dense_5 (Dense)             (None, 11)                715       \n",
      "                                                                 \n",
      "=================================================================\n",
      "Total params: 759307 (2.90 MB)\n",
      "Trainable params: 759307 (2.90 MB)\n",
      "Non-trainable params: 0 (0.00 Byte)\n",
      "_________________________________________________________________\n"
     ]
    }
   ],
   "source": [
    "# model = Sequential()\n",
    "\n",
    "# model.add(TimeDistributed(Dense(units=64, activation='tanh'), input_shape=(30, 108)))\n",
    "# model.add(LSTM(64, return_sequences=True, activation='tanh'))\n",
    "# model.add(Dropout(0.5))\n",
    "# model.add(LSTM(32, return_sequences=False, activation='tanh'))\n",
    "# model.add(Dropout(0.5))\n",
    "# model.add(Dense(16, activation='relu'))\n",
    "# model.add(Dropout(0.2))\n",
    "# model.add(Dense(actions.shape[0], activation='softmax'))\n",
    "\n",
    "# model.summary()\n",
    "\n",
    "model = Sequential()\n",
    "\n",
    "model.add(TimeDistributed(Dense(units=256, activation='tanh'), input_shape=(30, 108)))\n",
    "model.add(LSTM(256, return_sequences=True, activation='tanh'))\n",
    "model.add(Dropout(0.5))\n",
    "model.add(LSTM(128, return_sequences=False, activation='tanh'))\n",
    "model.add(Dropout(0.5))\n",
    "model.add(Dense(64, activation='relu'))\n",
    "model.add(Dropout(0.2))\n",
    "model.add(Dense(actions.shape[0], activation='softmax'))\n",
    "\n",
    "model.summary()"
   ]
  },
  {
   "cell_type": "code",
   "execution_count": 212,
   "metadata": {},
   "outputs": [],
   "source": [
    "# model = Sequential()\n",
    "\n",
    "# model.add(TimeDistributed(Dense(units=256, activation='tanh'), input_shape=(30, 108)))\n",
    "# model.add(LSTM(128, return_sequences=False, activation='tanh', input_shape=(30,108)))\n",
    "# model.add(Dropout(0.5))\n",
    "# model.add(Dense(128, activation='relu'))\n",
    "# model.add(Dropout(0.5))\n",
    "# model.add(Dense(actions.shape[0], activation='softmax'))"
   ]
  },
  {
   "cell_type": "code",
   "execution_count": 213,
   "metadata": {},
   "outputs": [],
   "source": [
    "# COMPLEX MODEL -> EXPERIMENTAL\n",
    "# model = Sequential()\n",
    "\n",
    "# model.add(LSTM(128, return_sequences=True, activation='tanh', input_shape=(30,108)))\n",
    "# model.add(LSTM(64, return_sequences=True, activation='tanh'))\n",
    "# model.add(LSTM(32, return_sequences=False, activation='tanh'))\n",
    "# model.add(Dropout(0.4))\n",
    "# model.add(Dense(32, activation='relu'))\n",
    "# model.add(Dense(32, activation='relu'))\n",
    "# model.add(Dense(actions.shape[0], activation='softmax'))"
   ]
  },
  {
   "cell_type": "code",
   "execution_count": 214,
   "metadata": {},
   "outputs": [],
   "source": [
    "# COMPLEX MODEL 2\n",
    "\n",
    "# model = Sequential()\n",
    "\n",
    "# model.add(LSTM(128, return_sequences=True, activation='tanh', input_shape=(30,108)))\n",
    "# model.add(LSTM(64, return_sequences=True, activation='tanh'))\n",
    "# model.add(LSTM(32, return_sequences=False, activation='tanh'))\n",
    "# model.add(Dropout(0.5))\n",
    "# model.add(Dense(actions.shape[0], activation='softmax'))"
   ]
  },
  {
   "cell_type": "code",
   "execution_count": 18,
   "metadata": {},
   "outputs": [
    {
     "name": "stdout",
     "output_type": "stream",
     "text": [
      "Epoch 1/20\n",
      "7/8 [=========================>....] - ETA: 0s - loss: 1.9992 - categorical_accuracy: 0.3259\n",
      "Epoch 1: categorical_accuracy improved from -inf to 0.32468, saving model to test.h5\n",
      "8/8 [==============================] - 4s 204ms/step - loss: 1.9909 - categorical_accuracy: 0.3247 - val_loss: 1.4592 - val_categorical_accuracy: 0.5354\n",
      "Epoch 2/20\n",
      "2/8 [======>.......................] - ETA: 0s - loss: 1.4993 - categorical_accuracy: 0.5469"
     ]
    },
    {
     "name": "stderr",
     "output_type": "stream",
     "text": [
      "c:\\Users\\krisn\\AppData\\Local\\Programs\\Python\\Python310\\lib\\site-packages\\keras\\src\\engine\\training.py:3000: UserWarning: You are saving your model as an HDF5 file via `model.save()`. This file format is considered legacy. We recommend using instead the native Keras format, e.g. `model.save('my_model.keras')`.\n",
      "  saving_api.save_model(\n"
     ]
    },
    {
     "name": "stdout",
     "output_type": "stream",
     "text": [
      "7/8 [=========================>....] - ETA: 0s - loss: 1.3015 - categorical_accuracy: 0.6116\n",
      "Epoch 2: categorical_accuracy improved from 0.32468 to 0.61039, saving model to test.h5\n",
      "8/8 [==============================] - 1s 109ms/step - loss: 1.3086 - categorical_accuracy: 0.6104 - val_loss: 0.9298 - val_categorical_accuracy: 0.7172\n",
      "Epoch 3/20\n",
      "7/8 [=========================>....] - ETA: 0s - loss: 0.8491 - categorical_accuracy: 0.7411\n",
      "Epoch 3: categorical_accuracy improved from 0.61039 to 0.74459, saving model to test.h5\n",
      "8/8 [==============================] - 1s 110ms/step - loss: 0.8434 - categorical_accuracy: 0.7446 - val_loss: 0.7081 - val_categorical_accuracy: 0.7374\n",
      "Epoch 4/20\n",
      "7/8 [=========================>....] - ETA: 0s - loss: 0.6153 - categorical_accuracy: 0.7902\n",
      "Epoch 4: categorical_accuracy improved from 0.74459 to 0.79654, saving model to test.h5\n",
      "8/8 [==============================] - 1s 106ms/step - loss: 0.6062 - categorical_accuracy: 0.7965 - val_loss: 0.4554 - val_categorical_accuracy: 0.7980\n",
      "Epoch 5/20\n",
      "7/8 [=========================>....] - ETA: 0s - loss: 0.4616 - categorical_accuracy: 0.8259\n",
      "Epoch 5: categorical_accuracy improved from 0.79654 to 0.83117, saving model to test.h5\n",
      "8/8 [==============================] - 1s 105ms/step - loss: 0.4509 - categorical_accuracy: 0.8312 - val_loss: 0.4067 - val_categorical_accuracy: 0.7374\n",
      "Epoch 6/20\n",
      "7/8 [=========================>....] - ETA: 0s - loss: 0.3971 - categorical_accuracy: 0.8304\n",
      "Epoch 6: categorical_accuracy improved from 0.83117 to 0.83550, saving model to test.h5\n",
      "8/8 [==============================] - 1s 105ms/step - loss: 0.3917 - categorical_accuracy: 0.8355 - val_loss: 0.3359 - val_categorical_accuracy: 0.8182\n",
      "Epoch 7/20\n",
      "7/8 [=========================>....] - ETA: 0s - loss: 0.3151 - categorical_accuracy: 0.8750\n",
      "Epoch 7: categorical_accuracy improved from 0.83550 to 0.87879, saving model to test.h5\n",
      "8/8 [==============================] - 1s 111ms/step - loss: 0.3088 - categorical_accuracy: 0.8788 - val_loss: 0.2957 - val_categorical_accuracy: 0.8586\n",
      "Epoch 8/20\n",
      "7/8 [=========================>....] - ETA: 0s - loss: 0.3084 - categorical_accuracy: 0.8750\n",
      "Epoch 8: categorical_accuracy did not improve from 0.87879\n",
      "8/8 [==============================] - 1s 104ms/step - loss: 0.3062 - categorical_accuracy: 0.8788 - val_loss: 0.2374 - val_categorical_accuracy: 0.8788\n",
      "Epoch 9/20\n",
      "8/8 [==============================] - ETA: 0s - loss: 0.2269 - categorical_accuracy: 0.8961\n",
      "Epoch 9: categorical_accuracy improved from 0.87879 to 0.89610, saving model to test.h5\n",
      "8/8 [==============================] - 1s 116ms/step - loss: 0.2269 - categorical_accuracy: 0.8961 - val_loss: 0.2633 - val_categorical_accuracy: 0.8485\n",
      "Epoch 10/20\n",
      "7/8 [=========================>....] - ETA: 0s - loss: 0.2502 - categorical_accuracy: 0.8973\n",
      "Epoch 10: categorical_accuracy improved from 0.89610 to 0.90043, saving model to test.h5\n",
      "8/8 [==============================] - 1s 108ms/step - loss: 0.2458 - categorical_accuracy: 0.9004 - val_loss: 0.2802 - val_categorical_accuracy: 0.8586\n",
      "Epoch 11/20\n",
      "7/8 [=========================>....] - ETA: 0s - loss: 0.2397 - categorical_accuracy: 0.8839\n",
      "Epoch 11: categorical_accuracy did not improve from 0.90043\n",
      "8/8 [==============================] - 1s 108ms/step - loss: 0.2334 - categorical_accuracy: 0.8874 - val_loss: 0.3941 - val_categorical_accuracy: 0.8384\n",
      "Epoch 12/20\n",
      "7/8 [=========================>....] - ETA: 0s - loss: 0.1957 - categorical_accuracy: 0.9196\n",
      "Epoch 12: categorical_accuracy improved from 0.90043 to 0.91775, saving model to test.h5\n",
      "8/8 [==============================] - 1s 113ms/step - loss: 0.1951 - categorical_accuracy: 0.9177 - val_loss: 0.3279 - val_categorical_accuracy: 0.8586\n",
      "Epoch 13/20\n",
      "7/8 [=========================>....] - ETA: 0s - loss: 0.2340 - categorical_accuracy: 0.9107\n",
      "Epoch 13: categorical_accuracy did not improve from 0.91775\n",
      "8/8 [==============================] - 1s 109ms/step - loss: 0.2274 - categorical_accuracy: 0.9134 - val_loss: 0.2916 - val_categorical_accuracy: 0.8485\n",
      "Epoch 14/20\n",
      "8/8 [==============================] - ETA: 0s - loss: 0.2431 - categorical_accuracy: 0.9004\n",
      "Epoch 14: categorical_accuracy did not improve from 0.91775\n",
      "8/8 [==============================] - 1s 109ms/step - loss: 0.2431 - categorical_accuracy: 0.9004 - val_loss: 0.1884 - val_categorical_accuracy: 0.9293\n",
      "Epoch 15/20\n",
      "8/8 [==============================] - ETA: 0s - loss: 0.2049 - categorical_accuracy: 0.9134\n",
      "Epoch 15: categorical_accuracy did not improve from 0.91775\n",
      "8/8 [==============================] - 1s 111ms/step - loss: 0.2049 - categorical_accuracy: 0.9134 - val_loss: 0.1622 - val_categorical_accuracy: 0.9091\n",
      "Epoch 16/20\n",
      "7/8 [=========================>....] - ETA: 0s - loss: 0.1542 - categorical_accuracy: 0.9375\n",
      "Epoch 16: categorical_accuracy improved from 0.91775 to 0.93506, saving model to test.h5\n",
      "8/8 [==============================] - 1s 111ms/step - loss: 0.1574 - categorical_accuracy: 0.9351 - val_loss: 0.1390 - val_categorical_accuracy: 0.9293\n",
      "Epoch 17/20\n",
      "7/8 [=========================>....] - ETA: 0s - loss: 0.1320 - categorical_accuracy: 0.9420\n",
      "Epoch 17: categorical_accuracy improved from 0.93506 to 0.93939, saving model to test.h5\n",
      "8/8 [==============================] - 1s 110ms/step - loss: 0.1331 - categorical_accuracy: 0.9394 - val_loss: 0.1377 - val_categorical_accuracy: 0.9394\n",
      "Epoch 18/20\n",
      "8/8 [==============================] - ETA: 0s - loss: 0.1129 - categorical_accuracy: 0.9654\n",
      "Epoch 18: categorical_accuracy improved from 0.93939 to 0.96537, saving model to test.h5\n",
      "8/8 [==============================] - 1s 114ms/step - loss: 0.1129 - categorical_accuracy: 0.9654 - val_loss: 0.1342 - val_categorical_accuracy: 0.9394\n",
      "Epoch 19/20\n",
      "8/8 [==============================] - ETA: 0s - loss: 0.0966 - categorical_accuracy: 0.9740\n",
      "Epoch 19: categorical_accuracy improved from 0.96537 to 0.97403, saving model to test.h5\n",
      "8/8 [==============================] - 1s 116ms/step - loss: 0.0966 - categorical_accuracy: 0.9740 - val_loss: 0.1210 - val_categorical_accuracy: 0.9394\n",
      "Epoch 20/20\n",
      "7/8 [=========================>....] - ETA: 0s - loss: 0.0994 - categorical_accuracy: 0.9643\n",
      "Epoch 20: categorical_accuracy did not improve from 0.97403\n",
      "8/8 [==============================] - 1s 107ms/step - loss: 0.0976 - categorical_accuracy: 0.9654 - val_loss: 0.1095 - val_categorical_accuracy: 0.9697\n"
     ]
    },
    {
     "data": {
      "image/png": "[encoded data removed]",
      "text/plain": [
       "<Figure size 432x288 with 1 Axes>"
      ]
     },
     "metadata": {
      "needs_background": "light"
     },
     "output_type": "display_data"
    },
    {
     "data": {
      "image/png": "[encoded data removed]",
      "text/plain": [
       "<Figure size 432x288 with 1 Axes>"
      ]
     },
     "metadata": {
      "needs_background": "light"
     },
     "output_type": "display_data"
    },
    {
     "name": "stdout",
     "output_type": "stream",
     "text": [
      "Model: \"sequential_1\"\n",
      "_________________________________________________________________\n",
      " Layer (type)                Output Shape              Param #   \n",
      "=================================================================\n",
      " time_distributed_1 (TimeDi  (None, 30, 256)           27904     \n",
      " stributed)                                                      \n",
      "                                                                 \n",
      " lstm_2 (LSTM)               (None, 30, 256)           525312    \n",
      "                                                                 \n",
      " dropout_3 (Dropout)         (None, 30, 256)           0         \n",
      "                                                                 \n",
      " lstm_3 (LSTM)               (None, 128)               197120    \n",
      "                                                                 \n",
      " dropout_4 (Dropout)         (None, 128)               0         \n",
      "                                                                 \n",
      " dense_4 (Dense)             (None, 64)                8256      \n",
      "                                                                 \n",
      " dropout_5 (Dropout)         (None, 64)                0         \n",
      "                                                                 \n",
      " dense_5 (Dense)             (None, 11)                715       \n",
      "                                                                 \n",
      "=================================================================\n",
      "Total params: 759307 (2.90 MB)\n",
      "Trainable params: 759307 (2.90 MB)\n",
      "Non-trainable params: 0 (0.00 Byte)\n",
      "_________________________________________________________________\n"
     ]
    }
   ],
   "source": [
    "model.compile(optimizer='Adam', loss='categorical_crossentropy', metrics=['categorical_accuracy'])\n",
    "train_model = model.fit(X_train, y_train, epochs=20, callbacks=[checkpoint], validation_data=(X_test, y_test))\n",
    "\n",
    "plt.plot(train_model.history['categorical_accuracy'])\n",
    "plt.plot(train_model.history['val_categorical_accuracy'])\n",
    "plt.title('model accuracy')\n",
    "plt.ylabel('accuracy')\n",
    "plt.xlabel('epoch')\n",
    "plt.legend(['train', 'validation'], loc='lower right')\n",
    "plt.show()\n",
    "\n",
    "plt.plot(train_model.history['loss'])\n",
    "plt.plot(train_model.history['val_loss'])\n",
    "plt.title('model loss')\n",
    "plt.ylabel('loss')\n",
    "plt.xlabel('epoch')\n",
    "plt.legend(['train', 'validation'], loc='upper right')\n",
    "plt.show()\n",
    "    \n",
    "model.summary()"
   ]
  },
  {
   "cell_type": "code",
   "execution_count": null,
   "metadata": {},
   "outputs": [],
   "source": [
    "# plot_model(model, to_file=\"model1.png\", show_shapes=True)"
   ]
  },
  {
   "cell_type": "markdown",
   "metadata": {},
   "source": [
    "# **Save Weights**"
   ]
  },
  {
   "cell_type": "code",
   "execution_count": 23,
   "metadata": {},
   "outputs": [
    {
     "name": "stdout",
     "output_type": "stream",
     "text": [
      "model_11_lstm_25032024_1.h5\n"
     ]
    }
   ],
   "source": [
    "number_of_classes = len(actions)\n",
    "current_date = '25032024' # changes manually\n",
    "version = 1\n",
    "\n",
    "model_filename =\"model_\" +  str(number_of_classes) + '_' + 'lstm' + '_' + current_date + '_' + str(version) + \".h5\"\n",
    "\n",
    "print(model_filename)\n",
    "\n",
    "model.save(model_filename)"
   ]
  },
  {
   "cell_type": "markdown",
   "metadata": {},
   "source": [
    "# **Evaluation using Confusion Matrix and Accuracy**"
   ]
  },
  {
   "cell_type": "code",
   "execution_count": 52,
   "metadata": {},
   "outputs": [
    {
     "name": "stdout",
     "output_type": "stream",
     "text": [
      "3/3 [==============================] - 1s 11ms/step\n"
     ]
    }
   ],
   "source": [
    "yhat = model.predict(X_test)"
   ]
  },
  {
   "cell_type": "code",
   "execution_count": 53,
   "metadata": {},
   "outputs": [
    {
     "name": "stdout",
     "output_type": "stream",
     "text": [
      "start\n",
      "start\n"
     ]
    }
   ],
   "source": [
    "print(actions[np.argmax(yhat[2])])\n",
    "print(actions[np.argmax(y_test[2])])"
   ]
  },
  {
   "cell_type": "code",
   "execution_count": 54,
   "metadata": {},
   "outputs": [],
   "source": [
    "ytrue = np.argmax(y_test, axis=1).tolist()\n",
    "yhat = np.argmax(yhat, axis=1).tolist()"
   ]
  },
  {
   "cell_type": "code",
   "execution_count": null,
   "metadata": {},
   "outputs": [],
   "source": [
    "from sklearn.metrics import classification_report\n",
    "\n",
    "# Assuming ytrue and yhat are the true and predicted labels, respectively\n",
    "report = classification_report(ytrue, yhat, target_names=actions)\n",
    "print(report)"
   ]
  },
  {
   "cell_type": "code",
   "execution_count": 55,
   "metadata": {},
   "outputs": [
    {
     "name": "stdout",
     "output_type": "stream",
     "text": [
      "[[[79  0]\n",
      "  [ 0 11]]\n",
      "\n",
      " [[82  0]\n",
      "  [ 0  8]]\n",
      "\n",
      " [[78  0]\n",
      "  [ 0 12]]\n",
      "\n",
      " [[78  0]\n",
      "  [ 0 12]]\n",
      "\n",
      " [[85  0]\n",
      "  [ 0  5]]\n",
      "\n",
      " [[80  2]\n",
      "  [ 0  8]]\n",
      "\n",
      " [[82  0]\n",
      "  [ 2  6]]\n",
      "\n",
      " [[76  0]\n",
      "  [ 0 14]]\n",
      "\n",
      " [[86  0]\n",
      "  [ 0  4]]\n",
      "\n",
      " [[82  0]\n",
      "  [ 0  8]]]\n"
     ]
    }
   ],
   "source": [
    "# mcm = multilabel_confusion_matrix(ytrue, yhat)\n",
    "# print(mcm)"
   ]
  },
  {
   "cell_type": "code",
   "execution_count": 56,
   "metadata": {},
   "outputs": [
    {
     "data": {
      "image/png": "[encoded data removed]",
      "text/plain": [
       "<Figure size 720x576 with 2 Axes>"
      ]
     },
     "metadata": {
      "needs_background": "light"
     },
     "output_type": "display_data"
    }
   ],
   "source": [
    "ytrue = np.argmax(y_test, axis=1)\n",
    "conf_matrix = confusion_matrix(ytrue, yhat)\n",
    "\n",
    "plt.figure(figsize=(10, 8))\n",
    "heatMap = sns.heatmap(conf_matrix, annot=True, fmt='d', cmap='Blues', xticklabels=actions, yticklabels=actions)\n",
    "\n",
    "heatMap.set_xlabel('Predicted Label', labelpad=30, weight='bold')\n",
    "heatMap.set_ylabel('True Label', labelpad=30, weight='bold')\n",
    "\n",
    "heatMap.set_title('Confusion Matrix', pad=20, weight='bold', fontsize=20)\n",
    "plt.show()"
   ]
  },
  {
   "cell_type": "code",
   "execution_count": 32,
   "metadata": {},
   "outputs": [
    {
     "name": "stdout",
     "output_type": "stream",
     "text": [
      "Class: maaf\n",
      "Precision: 1.0\n",
      "Recall: 1.0\n",
      "F1 Score: 1.0\n",
      "\n",
      "Class: tolong\n",
      "Precision: 1.0\n",
      "Recall: 1.0\n",
      "F1 Score: 1.0\n",
      "\n",
      "Class: nama\n",
      "Precision: 1.0\n",
      "Recall: 1.0\n",
      "F1 Score: 1.0\n",
      "\n",
      "Class: saya\n",
      "Precision: 1.0\n",
      "Recall: 1.0\n",
      "F1 Score: 1.0\n",
      "\n",
      "Class: rumah\n",
      "Precision: 1.0\n",
      "Recall: 1.0\n",
      "F1 Score: 1.0\n",
      "\n",
      "Class: start\n",
      "Precision: 1.0\n",
      "Recall: 1.0\n",
      "F1 Score: 1.0\n",
      "\n",
      "Class: standby\n",
      "Precision: 1.0\n",
      "Recall: 0.75\n",
      "F1 Score: 0.8571428571428571\n",
      "\n",
      "Class: delete\n",
      "Precision: 1.0\n",
      "Recall: 1.0\n",
      "F1 Score: 1.0\n",
      "\n",
      "Class: dimana\n",
      "Precision: 0.6666666666666666\n",
      "Recall: 1.0\n",
      "F1 Score: 0.8\n",
      "\n",
      "Class: translate\n",
      "Precision: 1.0\n",
      "Recall: 1.0\n",
      "F1 Score: 1.0\n",
      "\n",
      "Class: maaf\n",
      "Accuracy: 1.0\n",
      "\n",
      "Class: tolong\n",
      "Accuracy: 1.0\n",
      "\n",
      "Class: nama\n",
      "Accuracy: 1.0\n",
      "\n",
      "Class: saya\n",
      "Accuracy: 1.0\n",
      "\n",
      "Class: rumah\n",
      "Accuracy: 1.0\n",
      "\n",
      "Class: start\n",
      "Accuracy: 1.0\n",
      "\n",
      "Class: standby\n",
      "Accuracy: 1.0\n",
      "\n",
      "Class: delete\n",
      "Accuracy: 1.0\n",
      "\n",
      "Class: dimana\n",
      "Accuracy: 0.6666666666666666\n",
      "\n",
      "Class: translate\n",
      "Accuracy: 1.0\n",
      "\n"
     ]
    }
   ],
   "source": [
    "from sklearn.metrics import precision_recall_fscore_support\n",
    "\n",
    "# Assuming ytrue and yhat are the true and predicted labels, respectively\n",
    "metrics = precision_recall_fscore_support(ytrue, yhat)\n",
    "\n",
    "precision_per_class = metrics[0]\n",
    "recall_per_class = metrics[1]\n",
    "f1_score_per_class = metrics[2]\n",
    "\n",
    "# Print metrics for each class\n",
    "for i, class_name in enumerate(actions):\n",
    "    print(f\"Class: {class_name}\")\n",
    "    print(f\"Precision: {precision_per_class[i]}\")\n",
    "    print(f\"Recall: {recall_per_class[i]}\")\n",
    "    print(f\"F1 Score: {f1_score_per_class[i]}\\n\")\n",
    "\n",
    "# For accuracy per class, you would need to calculate it manually:\n",
    "accuracy_per_class = [(conf_matrix[i, i] / np.sum(conf_matrix[:, i])) for i in range(len(actions))]\n",
    "\n",
    "for i, class_name in enumerate(actions):\n",
    "    print(f\"Class: {class_name}\")\n",
    "    print(f\"Accuracy: {accuracy_per_class[i]}\\n\")"
   ]
  }
 ],
 "metadata": {
  "kernelspec": {
   "display_name": "Python 3",
   "language": "python",
   "name": "python3"
  },
  "language_info": {
   "codemirror_mode": {
    "name": "ipython",
    "version": 3
   },
   "file_extension": ".py",
   "mimetype": "text/x-python",
   "name": "python",
   "nbconvert_exporter": "python",
   "pygments_lexer": "ipython3",
   "version": "3.10.4"
  }
 },
 "nbformat": 4,
 "nbformat_minor": 2
}
