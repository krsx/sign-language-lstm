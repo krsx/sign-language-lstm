{
 "cells": [
  {
   "cell_type": "markdown",
   "metadata": {},
   "source": [
    "# **Preprocess Data and Create Labels and Features**"
   ]
  },
  {
   "cell_type": "code",
   "execution_count": 91,
   "metadata": {},
   "outputs": [],
   "source": [
    "from sklearn.model_selection import train_test_split\n",
    "from sklearn.metrics import confusion_matrix\n",
    "import tensorflow as tf\n",
    "from keras.utils import to_categorical\n",
    "import numpy as np\n",
    "import os\n",
    "import cv2 as cv\n",
    "import mediapipe as mp\n",
    "from matplotlib import pyplot as plt\n",
    "from mediapipe.python.solutions.pose import PoseLandmark\n",
    "\n",
    "from tensorflow.keras.models import Sequential\n",
    "from tensorflow.keras.layers import LSTM, Dense, Dropout, TimeDistributed, Bidirectional\n",
    "from tensorflow.keras.callbacks import TensorBoard, EarlyStopping, ModelCheckpoint\n",
    "from tensorflow.keras.utils import plot_model\n",
    "\n",
    "from sklearn.metrics import multilabel_confusion_matrix, accuracy_score\n",
    "from sklearn.metrics import confusion_matrix\n",
    "import matplotlib.pyplot as plt\n",
    "from sklearn.model_selection import train_test_split\n",
    "from sklearn.datasets import make_multilabel_classification\n",
    "from sklearn.tree import DecisionTreeClassifier\n",
    "import seaborn as sns"
   ]
  },
  {
   "cell_type": "code",
   "execution_count": 92,
   "metadata": {},
   "outputs": [],
   "source": [
    "DATA_PATH = os.path.join('My_Datasets')\n",
    "\n",
    "actions = np.array([\"maaf\", \"tolong\", \"nama\", \"siapa\", \"rumah\", \"standby\", \"delete\", \"translate\", \"kamu\"])\n",
    "\n",
    "no_sequences = 30\n",
    "\n",
    "sequence_length = 30"
   ]
  },
  {
   "cell_type": "code",
   "execution_count": 93,
   "metadata": {},
   "outputs": [
    {
     "data": {
      "text/plain": [
       "(270, 30, 108)"
      ]
     },
     "execution_count": 93,
     "metadata": {},
     "output_type": "execute_result"
    }
   ],
   "source": [
    "\n",
    "label_map = {label:num for num, label in enumerate(actions)}\n",
    "label_map\n",
    "\n",
    "sequences, labels = [], []\n",
    "for action in actions:\n",
    "    for sequence in np.array(os.listdir(os.path.join(DATA_PATH, action))).astype(int):\n",
    "        window = []\n",
    "        for frame_num in range(sequence_length):\n",
    "            res = np.load(os.path.join(DATA_PATH, action, str(sequence), \"{}-norm.npy\".format(frame_num)))\n",
    "            \n",
    "            window.append(res)\n",
    "        sequences.append(window)\n",
    "        labels.append(label_map[action])\n",
    "\n",
    "np.array(sequences).shape"
   ]
  },
  {
   "cell_type": "code",
   "execution_count": 94,
   "metadata": {},
   "outputs": [
    {
     "name": "stdout",
     "output_type": "stream",
     "text": [
      "(189, 30, 108)\n",
      "(81, 30, 108)\n",
      "(189, 9)\n",
      "(81, 9)\n"
     ]
    }
   ],
   "source": [
    "X = np.array(sequences)\n",
    "y = to_categorical(labels).astype(int)\n",
    "\n",
    "X_train, X_test, y_train, y_test = train_test_split(X, y, test_size=0.3, random_state=42)\n",
    "\n",
    "print(X_train.shape)\n",
    "print(X_test.shape)\n",
    "print(y_train.shape)\n",
    "print(y_test.shape)"
   ]
  },
  {
   "cell_type": "markdown",
   "metadata": {},
   "source": [
    "# **Build and Train LSTM Neural Network**"
   ]
  },
  {
   "cell_type": "code",
   "execution_count": 95,
   "metadata": {},
   "outputs": [],
   "source": [
    "checkpoint = ModelCheckpoint('test.h5', monitor='categorical_accuracy', verbose=1, mode = 'max', save_best_only=True, save_weights_only=False,save_freq='epoch')"
   ]
  },
  {
   "cell_type": "code",
   "execution_count": 96,
   "metadata": {},
   "outputs": [
    {
     "name": "stdout",
     "output_type": "stream",
     "text": [
      "Model: \"sequential_5\"\n",
      "_________________________________________________________________\n",
      " Layer (type)                Output Shape              Param #   \n",
      "=================================================================\n",
      " time_distributed_5 (TimeDi  (None, 30, 128)           13952     \n",
      " stributed)                                                      \n",
      "                                                                 \n",
      " bidirectional_11 (Bidirect  (None, 30, 256)           263168    \n",
      " ional)                                                          \n",
      "                                                                 \n",
      " dropout_16 (Dropout)        (None, 30, 256)           0         \n",
      "                                                                 \n",
      " bidirectional_12 (Bidirect  (None, 128)               164352    \n",
      " ional)                                                          \n",
      "                                                                 \n",
      " dropout_17 (Dropout)        (None, 128)               0         \n",
      "                                                                 \n",
      " dense_16 (Dense)            (None, 32)                4128      \n",
      "                                                                 \n",
      " dropout_18 (Dropout)        (None, 32)                0         \n",
      "                                                                 \n",
      " dense_17 (Dense)            (None, 9)                 297       \n",
      "                                                                 \n",
      "=================================================================\n",
      "Total params: 445897 (1.70 MB)\n",
      "Trainable params: 445897 (1.70 MB)\n",
      "Non-trainable params: 0 (0.00 Byte)\n",
      "_________________________________________________________________\n"
     ]
    }
   ],
   "source": [
    "# model = Sequential()\n",
    "\n",
    "# model.add(TimeDistributed(Dense(units=128, activation='tanh'), input_shape=(30, 108)))\n",
    "# model.add(LSTM(64, return_sequences=True, activation='tanh'))\n",
    "# model.add(Dropout(0.5))\n",
    "# model.add(LSTM(32, return_sequences=False, activation='tanh'))\n",
    "# model.add(Dropout(0.5))\n",
    "# model.add(Dense(16, activation='relu'))\n",
    "# model.add(Dropout(0.2))\n",
    "# model.add(Dense(actions.shape[0], activation='softmax'))\n",
    "\n",
    "# model.summary()\n",
    "\n",
    "model = Sequential()\n",
    "\n",
    "model.add(TimeDistributed(Dense(units=128, activation='tanh'), input_shape=(30, 108)))\n",
    "model.add(Bidirectional(LSTM(128, return_sequences=True, activation='tanh')))\n",
    "model.add(Dropout(0.5))\n",
    "model.add(Bidirectional(LSTM(64, return_sequences=False, activation='tanh')))\n",
    "model.add(Dropout(0.5))\n",
    "# model.add(Bidirectional(LSTM(32, return_sequences=False, activation='tanh')))\n",
    "# model.add(Dropout(0.5))\n",
    "model.add(Dense(32, activation='relu'))\n",
    "model.add(Dropout(0.2))\n",
    "model.add(Dense(actions.shape[0], activation='softmax'))\n",
    "\n",
    "model.summary()"
   ]
  },
  {
   "cell_type": "code",
   "execution_count": 97,
   "metadata": {},
   "outputs": [],
   "source": [
    "# model = Sequential()\n",
    "\n",
    "# model.add(TimeDistributed(Dense(units=256, activation='tanh'), input_shape=(30, 108)))\n",
    "# model.add(LSTM(128, return_sequences=False, activation='tanh', input_shape=(30,108)))\n",
    "# model.add(Dropout(0.5))\n",
    "# model.add(Dense(128, activation='relu'))\n",
    "# model.add(Dropout(0.5))\n",
    "# model.add(Dense(actions.shape[0], activation='softmax'))"
   ]
  },
  {
   "cell_type": "code",
   "execution_count": 98,
   "metadata": {},
   "outputs": [],
   "source": [
    "# COMPLEX MODEL -> EXPERIMENTAL\n",
    "# model = Sequential()\n",
    "\n",
    "# model.add(LSTM(128, return_sequences=True, activation='tanh', input_shape=(30,108)))\n",
    "# model.add(LSTM(64, return_sequences=True, activation='tanh'))\n",
    "# model.add(LSTM(32, return_sequences=False, activation='tanh'))\n",
    "# model.add(Dropout(0.4))\n",
    "# model.add(Dense(32, activation='relu'))\n",
    "# model.add(Dense(32, activation='relu'))\n",
    "# model.add(Dense(actions.shape[0], activation='softmax'))"
   ]
  },
  {
   "cell_type": "code",
   "execution_count": 99,
   "metadata": {},
   "outputs": [],
   "source": [
    "# COMPLEX MODEL 2\n",
    "\n",
    "# model = Sequential()\n",
    "\n",
    "# model.add(LSTM(128, return_sequences=True, activation='tanh', input_shape=(30,108)))\n",
    "# model.add(LSTM(64, return_sequences=True, activation='tanh'))\n",
    "# model.add(LSTM(32, return_sequences=False, activation='tanh'))\n",
    "# model.add(Dropout(0.5))\n",
    "# model.add(Dense(actions.shape[0], activation='softmax'))"
   ]
  },
  {
   "cell_type": "code",
   "execution_count": 100,
   "metadata": {},
   "outputs": [
    {
     "name": "stdout",
     "output_type": "stream",
     "text": [
      "Epoch 1/15\n"
     ]
    },
    {
     "name": "stdout",
     "output_type": "stream",
     "text": [
      "5/6 [========================>.....] - ETA: 0s - loss: 2.0969 - categorical_accuracy: 0.2062\n",
      "Epoch 1: categorical_accuracy improved from -inf to 0.23810, saving model to test.h5\n",
      "6/6 [==============================] - 7s 252ms/step - loss: 2.0422 - categorical_accuracy: 0.2381 - val_loss: 1.7065 - val_categorical_accuracy: 0.4568\n",
      "Epoch 2/15\n",
      "3/6 [==============>...............] - ETA: 0s - loss: 1.6929 - categorical_accuracy: 0.4688"
     ]
    },
    {
     "name": "stderr",
     "output_type": "stream",
     "text": [
      "c:\\Users\\krisn\\AppData\\Local\\Programs\\Python\\Python310\\lib\\site-packages\\keras\\src\\engine\\training.py:3000: UserWarning: You are saving your model as an HDF5 file via `model.save()`. This file format is considered legacy. We recommend using instead the native Keras format, e.g. `model.save('my_model.keras')`.\n",
      "  saving_api.save_model(\n"
     ]
    },
    {
     "name": "stdout",
     "output_type": "stream",
     "text": [
      "5/6 [========================>.....] - ETA: 0s - loss: 1.6430 - categorical_accuracy: 0.4563\n",
      "Epoch 2: categorical_accuracy improved from 0.23810 to 0.48677, saving model to test.h5\n",
      "6/6 [==============================] - 0s 56ms/step - loss: 1.6096 - categorical_accuracy: 0.4868 - val_loss: 1.2980 - val_categorical_accuracy: 0.5556\n",
      "Epoch 3/15\n",
      "5/6 [========================>.....] - ETA: 0s - loss: 1.3073 - categorical_accuracy: 0.6062\n",
      "Epoch 3: categorical_accuracy improved from 0.48677 to 0.60847, saving model to test.h5\n",
      "6/6 [==============================] - 0s 56ms/step - loss: 1.2939 - categorical_accuracy: 0.6085 - val_loss: 0.9924 - val_categorical_accuracy: 0.7284\n",
      "Epoch 4/15\n",
      "5/6 [========================>.....] - ETA: 0s - loss: 0.9772 - categorical_accuracy: 0.7250\n",
      "Epoch 4: categorical_accuracy improved from 0.60847 to 0.71429, saving model to test.h5\n",
      "6/6 [==============================] - 0s 56ms/step - loss: 0.9600 - categorical_accuracy: 0.7143 - val_loss: 0.7706 - val_categorical_accuracy: 0.7654\n",
      "Epoch 5/15\n",
      "5/6 [========================>.....] - ETA: 0s - loss: 0.7664 - categorical_accuracy: 0.7750\n",
      "Epoch 5: categorical_accuracy improved from 0.71429 to 0.76720, saving model to test.h5\n",
      "6/6 [==============================] - 0s 56ms/step - loss: 0.7741 - categorical_accuracy: 0.7672 - val_loss: 0.6082 - val_categorical_accuracy: 0.8889\n",
      "Epoch 6/15\n",
      "5/6 [========================>.....] - ETA: 0s - loss: 0.6357 - categorical_accuracy: 0.7812\n",
      "Epoch 6: categorical_accuracy improved from 0.76720 to 0.77249, saving model to test.h5\n",
      "6/6 [==============================] - 0s 56ms/step - loss: 0.6454 - categorical_accuracy: 0.7725 - val_loss: 0.4796 - val_categorical_accuracy: 0.9136\n",
      "Epoch 7/15\n",
      "5/6 [========================>.....] - ETA: 0s - loss: 0.5813 - categorical_accuracy: 0.7688\n",
      "Epoch 7: categorical_accuracy improved from 0.77249 to 0.78307, saving model to test.h5\n",
      "6/6 [==============================] - 0s 63ms/step - loss: 0.5562 - categorical_accuracy: 0.7831 - val_loss: 0.3220 - val_categorical_accuracy: 0.9136\n",
      "Epoch 8/15\n",
      "5/6 [========================>.....] - ETA: 0s - loss: 0.4045 - categorical_accuracy: 0.9062\n",
      "Epoch 8: categorical_accuracy improved from 0.78307 to 0.91005, saving model to test.h5\n",
      "6/6 [==============================] - 0s 61ms/step - loss: 0.4013 - categorical_accuracy: 0.9101 - val_loss: 0.2414 - val_categorical_accuracy: 0.9753\n",
      "Epoch 9/15\n",
      "6/6 [==============================] - ETA: 0s - loss: 0.3570 - categorical_accuracy: 0.9048\n",
      "Epoch 9: categorical_accuracy did not improve from 0.91005\n",
      "6/6 [==============================] - 0s 57ms/step - loss: 0.3570 - categorical_accuracy: 0.9048 - val_loss: 0.2020 - val_categorical_accuracy: 0.9877\n",
      "Epoch 10/15\n",
      "5/6 [========================>.....] - ETA: 0s - loss: 0.2631 - categorical_accuracy: 0.9500\n",
      "Epoch 10: categorical_accuracy improved from 0.91005 to 0.93651, saving model to test.h5\n",
      "6/6 [==============================] - 0s 60ms/step - loss: 0.2687 - categorical_accuracy: 0.9365 - val_loss: 0.1363 - val_categorical_accuracy: 0.9877\n",
      "Epoch 11/15\n",
      "5/6 [========================>.....] - ETA: 0s - loss: 0.2926 - categorical_accuracy: 0.8938\n",
      "Epoch 11: categorical_accuracy did not improve from 0.93651\n",
      "6/6 [==============================] - 0s 53ms/step - loss: 0.2757 - categorical_accuracy: 0.9048 - val_loss: 0.2064 - val_categorical_accuracy: 0.9136\n",
      "Epoch 12/15\n",
      "5/6 [========================>.....] - ETA: 0s - loss: 0.2343 - categorical_accuracy: 0.9312\n",
      "Epoch 12: categorical_accuracy did not improve from 0.93651\n",
      "6/6 [==============================] - 0s 51ms/step - loss: 0.2277 - categorical_accuracy: 0.9365 - val_loss: 0.2316 - val_categorical_accuracy: 0.9012\n",
      "Epoch 13/15\n",
      "6/6 [==============================] - ETA: 0s - loss: 0.3051 - categorical_accuracy: 0.9153\n",
      "Epoch 13: categorical_accuracy did not improve from 0.93651\n",
      "6/6 [==============================] - 0s 59ms/step - loss: 0.3051 - categorical_accuracy: 0.9153 - val_loss: 0.5112 - val_categorical_accuracy: 0.8395\n",
      "Epoch 14/15\n",
      "5/6 [========================>.....] - ETA: 0s - loss: 0.3225 - categorical_accuracy: 0.8750\n",
      "Epoch 14: categorical_accuracy did not improve from 0.93651\n",
      "6/6 [==============================] - 0s 56ms/step - loss: 0.3211 - categorical_accuracy: 0.8836 - val_loss: 0.1074 - val_categorical_accuracy: 0.9877\n",
      "Epoch 15/15\n",
      "6/6 [==============================] - ETA: 0s - loss: 0.2043 - categorical_accuracy: 0.9418\n",
      "Epoch 15: categorical_accuracy improved from 0.93651 to 0.94180, saving model to test.h5\n",
      "6/6 [==============================] - 0s 65ms/step - loss: 0.2043 - categorical_accuracy: 0.9418 - val_loss: 0.0865 - val_categorical_accuracy: 0.9877\n"
     ]
    },
    {
     "data": {
      "image/png": "[encoded data removed]",
      "text/plain": [
       "<Figure size 432x288 with 1 Axes>"
      ]
     },
     "metadata": {
      "needs_background": "light"
     },
     "output_type": "display_data"
    },
    {
     "data": {
      "image/png": "[encoded data removed]",
      "text/plain": [
       "<Figure size 432x288 with 1 Axes>"
      ]
     },
     "metadata": {
      "needs_background": "light"
     },
     "output_type": "display_data"
    },
    {
     "name": "stdout",
     "output_type": "stream",
     "text": [
      "Model: \"sequential_5\"\n",
      "_________________________________________________________________\n",
      " Layer (type)                Output Shape              Param #   \n",
      "=================================================================\n",
      " time_distributed_5 (TimeDi  (None, 30, 128)           13952     \n",
      " stributed)                                                      \n",
      "                                                                 \n",
      " bidirectional_11 (Bidirect  (None, 30, 256)           263168    \n",
      " ional)                                                          \n",
      "                                                                 \n",
      " dropout_16 (Dropout)        (None, 30, 256)           0         \n",
      "                                                                 \n",
      " bidirectional_12 (Bidirect  (None, 128)               164352    \n",
      " ional)                                                          \n",
      "                                                                 \n",
      " dropout_17 (Dropout)        (None, 128)               0         \n",
      "                                                                 \n",
      " dense_16 (Dense)            (None, 32)                4128      \n",
      "                                                                 \n",
      " dropout_18 (Dropout)        (None, 32)                0         \n",
      "                                                                 \n",
      " dense_17 (Dense)            (None, 9)                 297       \n",
      "                                                                 \n",
      "=================================================================\n",
      "Total params: 445897 (1.70 MB)\n",
      "Trainable params: 445897 (1.70 MB)\n",
      "Non-trainable params: 0 (0.00 Byte)\n",
      "_________________________________________________________________\n"
     ]
    }
   ],
   "source": [
    "model.compile(optimizer='Adam', loss='categorical_crossentropy', metrics=['categorical_accuracy'])\n",
    "train_model = model.fit(X_train, y_train, epochs=15, callbacks=[checkpoint], validation_data=(X_test, y_test))\n",
    "\n",
    "plt.plot(train_model.history['categorical_accuracy'])\n",
    "plt.plot(train_model.history['val_categorical_accuracy'])\n",
    "plt.title('model accuracy')\n",
    "plt.ylabel('accuracy')\n",
    "plt.xlabel('epoch')\n",
    "plt.legend(['train', 'validation'], loc='lower right')\n",
    "plt.show()\n",
    "\n",
    "plt.plot(train_model.history['loss'])\n",
    "plt.plot(train_model.history['val_loss'])\n",
    "plt.title('model loss')\n",
    "plt.ylabel('loss')\n",
    "plt.xlabel('epoch')\n",
    "plt.legend(['train', 'validation'], loc='upper right')\n",
    "plt.show()\n",
    "    \n",
    "model.summary()"
   ]
  },
  {
   "cell_type": "code",
   "execution_count": 101,
   "metadata": {},
   "outputs": [],
   "source": [
    "# plot_model(model, to_file=\"model1.png\", show_shapes=True)"
   ]
  },
  {
   "cell_type": "markdown",
   "metadata": {},
   "source": [
    "# **Save Weights**"
   ]
  },
  {
   "cell_type": "code",
   "execution_count": 102,
   "metadata": {},
   "outputs": [
    {
     "name": "stdout",
     "output_type": "stream",
     "text": [
      "model/model_9_lstm_28032024_1.h5\n"
     ]
    }
   ],
   "source": [
    "number_of_classes = len(actions)\n",
    "current_date = '28032024' # changes manually\n",
    "version = 1\n",
    "\n",
    "model_filename =\"model/model_\" +  str(number_of_classes) + '_' + 'lstm' + '_' + current_date + '_' + str(version) + \".h5\"\n",
    "\n",
    "print(model_filename)\n",
    "\n",
    "model.save(model_filename)\n",
    "model.load_weights(model_filename)"
   ]
  },
  {
   "cell_type": "code",
   "execution_count": 103,
   "metadata": {},
   "outputs": [],
   "source": [
    "model.load_weights(model_filename)"
   ]
  },
  {
   "cell_type": "markdown",
   "metadata": {},
   "source": [
    "# **Evaluation using Confusion Matrix and Accuracy**"
   ]
  },
  {
   "cell_type": "code",
   "execution_count": 104,
   "metadata": {},
   "outputs": [
    {
     "name": "stdout",
     "output_type": "stream",
     "text": [
      "WARNING:tensorflow:5 out of the last 13 calls to <function Model.make_predict_function.<locals>.predict_function at 0x00000171501C8C10> triggered tf.function retracing. Tracing is expensive and the excessive number of tracings could be due to (1) creating @tf.function repeatedly in a loop, (2) passing tensors with different shapes, (3) passing Python objects instead of tensors. For (1), please define your @tf.function outside of the loop. For (2), @tf.function has reduce_retracing=True option that can avoid unnecessary retracing. For (3), please refer to https://www.tensorflow.org/guide/function#controlling_retracing and https://www.tensorflow.org/api_docs/python/tf/function for  more details.\n",
      "3/3 [==============================] - 1s 13ms/step\n"
     ]
    }
   ],
   "source": [
    "yhat = model.predict(X_test)"
   ]
  },
  {
   "cell_type": "code",
   "execution_count": 105,
   "metadata": {},
   "outputs": [
    {
     "name": "stdout",
     "output_type": "stream",
     "text": [
      "nama\n",
      "nama\n"
     ]
    }
   ],
   "source": [
    "print(actions[np.argmax(yhat[2])])\n",
    "print(actions[np.argmax(y_test[2])])"
   ]
  },
  {
   "cell_type": "code",
   "execution_count": 106,
   "metadata": {},
   "outputs": [],
   "source": [
    "ytrue = np.argmax(y_test, axis=1).tolist()\n",
    "yhat = np.argmax(yhat, axis=1).tolist()"
   ]
  },
  {
   "cell_type": "code",
   "execution_count": 107,
   "metadata": {},
   "outputs": [
    {
     "name": "stdout",
     "output_type": "stream",
     "text": [
      "              precision    recall  f1-score   support\n",
      "\n",
      "        maaf       1.00      1.00      1.00        10\n",
      "      tolong       1.00      1.00      1.00         8\n",
      "        nama       1.00      1.00      1.00        10\n",
      "       siapa       1.00      0.92      0.96        12\n",
      "       rumah       1.00      1.00      1.00         8\n",
      "     standby       1.00      1.00      1.00         5\n",
      "      delete       1.00      1.00      1.00        13\n",
      "   translate       1.00      1.00      1.00         8\n",
      "        kamu       0.88      1.00      0.93         7\n",
      "\n",
      "    accuracy                           0.99        81\n",
      "   macro avg       0.99      0.99      0.99        81\n",
      "weighted avg       0.99      0.99      0.99        81\n",
      "\n"
     ]
    }
   ],
   "source": [
    "from sklearn.metrics import classification_report\n",
    "\n",
    "# Assuming ytrue and yhat are the true and predicted labels, respectively\n",
    "report = classification_report(ytrue, yhat, target_names=actions)\n",
    "print(report)"
   ]
  },
  {
   "cell_type": "code",
   "execution_count": 108,
   "metadata": {},
   "outputs": [],
   "source": [
    "# mcm = multilabel_confusion_matrix(ytrue, yhat)\n",
    "# print(mcm)"
   ]
  },
  {
   "cell_type": "code",
   "execution_count": 109,
   "metadata": {},
   "outputs": [
    {
     "data": {
      "image/png": "[encoded data removed]",
      "text/plain": [
       "<Figure size 720x576 with 2 Axes>"
      ]
     },
     "metadata": {
      "needs_background": "light"
     },
     "output_type": "display_data"
    }
   ],
   "source": [
    "ytrue = np.argmax(y_test, axis=1)\n",
    "conf_matrix = confusion_matrix(ytrue, yhat)\n",
    "\n",
    "plt.figure(figsize=(10, 8))\n",
    "heatMap = sns.heatmap(conf_matrix, annot=True, fmt='d', cmap='Blues', xticklabels=actions, yticklabels=actions)\n",
    "\n",
    "heatMap.set_xlabel('Predicted Label', labelpad=30, weight='bold')\n",
    "heatMap.set_ylabel('True Label', labelpad=30, weight='bold')\n",
    "\n",
    "heatMap.set_title('Confusion Matrix', pad=20, weight='bold', fontsize=20)\n",
    "plt.show()"
   ]
  },
  {
   "cell_type": "code",
   "execution_count": 110,
   "metadata": {},
   "outputs": [
    {
     "name": "stdout",
     "output_type": "stream",
     "text": [
      "Class: maaf\n",
      "Precision: 1.0\n",
      "Recall: 1.0\n",
      "F1 Score: 1.0\n",
      "\n",
      "Class: tolong\n",
      "Precision: 1.0\n",
      "Recall: 1.0\n",
      "F1 Score: 1.0\n",
      "\n",
      "Class: nama\n",
      "Precision: 1.0\n",
      "Recall: 1.0\n",
      "F1 Score: 1.0\n",
      "\n",
      "Class: siapa\n",
      "Precision: 1.0\n",
      "Recall: 0.9166666666666666\n",
      "F1 Score: 0.9565217391304348\n",
      "\n",
      "Class: rumah\n",
      "Precision: 1.0\n",
      "Recall: 1.0\n",
      "F1 Score: 1.0\n",
      "\n",
      "Class: standby\n",
      "Precision: 1.0\n",
      "Recall: 1.0\n",
      "F1 Score: 1.0\n",
      "\n",
      "Class: delete\n",
      "Precision: 1.0\n",
      "Recall: 1.0\n",
      "F1 Score: 1.0\n",
      "\n",
      "Class: translate\n",
      "Precision: 1.0\n",
      "Recall: 1.0\n",
      "F1 Score: 1.0\n",
      "\n",
      "Class: kamu\n",
      "Precision: 0.875\n",
      "Recall: 1.0\n",
      "F1 Score: 0.9333333333333333\n",
      "\n",
      "Class: maaf\n",
      "Accuracy: 1.0\n",
      "\n",
      "Class: tolong\n",
      "Accuracy: 1.0\n",
      "\n",
      "Class: nama\n",
      "Accuracy: 1.0\n",
      "\n",
      "Class: siapa\n",
      "Accuracy: 1.0\n",
      "\n",
      "Class: rumah\n",
      "Accuracy: 1.0\n",
      "\n",
      "Class: standby\n",
      "Accuracy: 1.0\n",
      "\n",
      "Class: delete\n",
      "Accuracy: 1.0\n",
      "\n",
      "Class: translate\n",
      "Accuracy: 1.0\n",
      "\n",
      "Class: kamu\n",
      "Accuracy: 0.875\n",
      "\n"
     ]
    }
   ],
   "source": [
    "from sklearn.metrics import precision_recall_fscore_support\n",
    "\n",
    "# Assuming ytrue and yhat are the true and predicted labels, respectively\n",
    "metrics = precision_recall_fscore_support(ytrue, yhat)\n",
    "\n",
    "precision_per_class = metrics[0]\n",
    "recall_per_class = metrics[1]\n",
    "f1_score_per_class = metrics[2]\n",
    "\n",
    "# Print metrics for each class\n",
    "for i, class_name in enumerate(actions):\n",
    "    print(f\"Class: {class_name}\")\n",
    "    print(f\"Precision: {precision_per_class[i]}\")\n",
    "    print(f\"Recall: {recall_per_class[i]}\")\n",
    "    print(f\"F1 Score: {f1_score_per_class[i]}\\n\")\n",
    "\n",
    "# For accuracy per class, you would need to calculate it manually:\n",
    "accuracy_per_class = [(conf_matrix[i, i] / np.sum(conf_matrix[:, i])) for i in range(len(actions))]\n",
    "\n",
    "for i, class_name in enumerate(actions):\n",
    "    print(f\"Class: {class_name}\")\n",
    "    print(f\"Accuracy: {accuracy_per_class[i]}\\n\")"
   ]
  }
 ],
 "metadata": {
  "kernelspec": {
   "display_name": "Python 3",
   "language": "python",
   "name": "python3"
  },
  "language_info": {
   "codemirror_mode": {
    "name": "ipython",
    "version": 3
   },
   "file_extension": ".py",
   "mimetype": "text/x-python",
   "name": "python",
   "nbconvert_exporter": "python",
   "pygments_lexer": "ipython3",
   "version": "3.10.4"
  }
 },
 "nbformat": 4,
 "nbformat_minor": 2
}
