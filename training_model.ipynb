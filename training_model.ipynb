{
 "cells": [
  {
   "cell_type": "markdown",
   "metadata": {},
   "source": [
    "# **Preprocess Data and Create Labels and Features**"
   ]
  },
  {
   "cell_type": "code",
   "execution_count": 39,
   "metadata": {},
   "outputs": [],
   "source": [
    "from sklearn.model_selection import train_test_split\n",
    "from sklearn.metrics import confusion_matrix\n",
    "import tensorflow as tf\n",
    "from keras.utils import to_categorical\n",
    "import numpy as np\n",
    "import os\n",
    "import cv2 as cv\n",
    "import mediapipe as mp\n",
    "from matplotlib import pyplot as plt\n",
    "from mediapipe.python.solutions.pose import PoseLandmark"
   ]
  },
  {
   "cell_type": "code",
   "execution_count": 60,
   "metadata": {},
   "outputs": [],
   "source": [
    "DATA_PATH = os.path.join('My_Datasets')\n",
    "\n",
    "# sementara class berapa tidak digunakan\n",
    "# sementara class terimakasih dan kamu ditiadakan (testing)\n",
    "# kamu dan siapa bertabrakan\n",
    "# terimakasih dan standby bertabrakan\n",
    "# sementara siapa ditiadakan\n",
    "\n",
    "actions = np.array([\"maaf\",\n",
    "                    \"tolong\",\n",
    "                    \"nama\",\n",
    "                     \"saya\",\n",
    "                     \"siapa\",\n",
    "                       \"rumah\", \n",
    "                       \"start\",\n",
    "                         \"standby\",\n",
    "                           \"delete\",\n",
    "                             ])\n",
    "\n",
    "no_sequences = 30\n",
    "\n",
    "sequence_length = 30"
   ]
  },
  {
   "cell_type": "code",
   "execution_count": 41,
   "metadata": {},
   "outputs": [
    {
     "data": {
      "text/plain": [
       "{'maaf': 0,\n",
       " 'tolong': 1,\n",
       " 'nama': 2,\n",
       " 'saya': 3,\n",
       " 'rumah': 4,\n",
       " 'start': 5,\n",
       " 'standby': 6,\n",
       " 'delete': 7,\n",
       " 'dimana': 8,\n",
       " 'translate': 9}"
      ]
     },
     "execution_count": 41,
     "metadata": {},
     "output_type": "execute_result"
    }
   ],
   "source": [
    "label_map = {label:num for num, label in enumerate(actions)}\n",
    "label_map"
   ]
  },
  {
   "cell_type": "code",
   "execution_count": 42,
   "metadata": {},
   "outputs": [
    {
     "data": {
      "text/plain": [
       "(300, 30, 108)"
      ]
     },
     "execution_count": 42,
     "metadata": {},
     "output_type": "execute_result"
    }
   ],
   "source": [
    "sequences, labels = [], []\n",
    "for action in actions:\n",
    "    for sequence in np.array(os.listdir(os.path.join(DATA_PATH, action))).astype(int):\n",
    "        window = []\n",
    "        for frame_num in range(sequence_length):\n",
    "            res = np.load(os.path.join(DATA_PATH, action, str(sequence), \"{}-norm.npy\".format(frame_num)))\n",
    "            \n",
    "            window.append(res)\n",
    "        sequences.append(window)\n",
    "        labels.append(label_map[action])\n",
    "\n",
    "np.array(sequences).shape"
   ]
  },
  {
   "cell_type": "code",
   "execution_count": 44,
   "metadata": {},
   "outputs": [
    {
     "name": "stdout",
     "output_type": "stream",
     "text": [
      "(210, 30, 108)\n",
      "(90, 30, 108)\n",
      "(210, 10)\n",
      "(90, 10)\n"
     ]
    }
   ],
   "source": [
    "X = np.array(sequences)\n",
    "y = to_categorical(labels).astype(int)\n",
    "\n",
    "X_train, X_test, y_train, y_test = train_test_split(X, y, test_size=0.3, random_state=42)\n",
    "\n",
    "print(X_train.shape)\n",
    "print(X_test.shape)\n",
    "print(y_train.shape)\n",
    "print(y_test.shape)"
   ]
  },
  {
   "cell_type": "markdown",
   "metadata": {},
   "source": [
    "# **Build and Train LSTM Neural Network**"
   ]
  },
  {
   "cell_type": "code",
   "execution_count": 45,
   "metadata": {},
   "outputs": [],
   "source": [
    "from tensorflow.keras.models import Sequential\n",
    "from tensorflow.keras.layers import LSTM, Dense, Dropout, TimeDistributed\n",
    "from tensorflow.keras.callbacks import TensorBoard, EarlyStopping, ModelCheckpoint\n",
    "from tensorflow.keras.utils import plot_model"
   ]
  },
  {
   "cell_type": "code",
   "execution_count": 46,
   "metadata": {},
   "outputs": [],
   "source": [
    "checkpoint = ModelCheckpoint('test.h5', monitor='categorical_accuracy', verbose=1, mode = 'max', save_best_only=True, save_weights_only=False,save_freq='epoch')"
   ]
  },
  {
   "cell_type": "code",
   "execution_count": 58,
   "metadata": {},
   "outputs": [
    {
     "name": "stdout",
     "output_type": "stream",
     "text": [
      "Model: \"sequential_6\"\n",
      "_________________________________________________________________\n",
      " Layer (type)                Output Shape              Param #   \n",
      "=================================================================\n",
      " time_distributed_6 (TimeDi  (None, 30, 128)           13952     \n",
      " stributed)                                                      \n",
      "                                                                 \n",
      " lstm_12 (LSTM)              (None, 30, 128)           131584    \n",
      "                                                                 \n",
      " dropout_18 (Dropout)        (None, 30, 128)           0         \n",
      "                                                                 \n",
      " lstm_13 (LSTM)              (None, 64)                49408     \n",
      "                                                                 \n",
      " dropout_19 (Dropout)        (None, 64)                0         \n",
      "                                                                 \n",
      " dense_19 (Dense)            (None, 32)                2080      \n",
      "                                                                 \n",
      " dropout_20 (Dropout)        (None, 32)                0         \n",
      "                                                                 \n",
      " dense_20 (Dense)            (None, 10)                330       \n",
      "                                                                 \n",
      "=================================================================\n",
      "Total params: 197354 (770.91 KB)\n",
      "Trainable params: 197354 (770.91 KB)\n",
      "Non-trainable params: 0 (0.00 Byte)\n",
      "_________________________________________________________________\n"
     ]
    }
   ],
   "source": [
    "# model = Sequential()\n",
    "\n",
    "# model.add(TimeDistributed(Dense(units=64, activation='tanh'), input_shape=(30, 108)))\n",
    "# model.add(LSTM(64, return_sequences=True, activation='tanh'))\n",
    "# model.add(Dropout(0.5))\n",
    "# model.add(LSTM(32, return_sequences=False, activation='tanh'))\n",
    "# model.add(Dropout(0.5))\n",
    "# model.add(Dense(16, activation='relu'))\n",
    "# model.add(Dropout(0.2))\n",
    "# model.add(Dense(actions.shape[0], activation='softmax'))\n",
    "\n",
    "# model.summary()\n",
    "\n",
    "model = Sequential()\n",
    "\n",
    "model.add(TimeDistributed(Dense(units=128, activation='tanh'), input_shape=(30, 108)))\n",
    "model.add(LSTM(128, return_sequences=True, activation='tanh'))\n",
    "model.add(Dropout(0.5))\n",
    "model.add(LSTM(64, return_sequences=False, activation='tanh'))\n",
    "model.add(Dropout(0.5))\n",
    "model.add(Dense(32, activation='relu'))\n",
    "model.add(Dropout(0.2))\n",
    "model.add(Dense(actions.shape[0], activation='softmax'))\n",
    "\n",
    "model.summary()"
   ]
  },
  {
   "cell_type": "code",
   "execution_count": 212,
   "metadata": {},
   "outputs": [],
   "source": [
    "# model = Sequential()\n",
    "\n",
    "# model.add(TimeDistributed(Dense(units=256, activation='tanh'), input_shape=(30, 108)))\n",
    "# model.add(LSTM(128, return_sequences=False, activation='tanh', input_shape=(30,108)))\n",
    "# model.add(Dropout(0.5))\n",
    "# model.add(Dense(128, activation='relu'))\n",
    "# model.add(Dropout(0.5))\n",
    "# model.add(Dense(actions.shape[0], activation='softmax'))"
   ]
  },
  {
   "cell_type": "code",
   "execution_count": 213,
   "metadata": {},
   "outputs": [],
   "source": [
    "# COMPLEX MODEL -> EXPERIMENTAL\n",
    "# model = Sequential()\n",
    "\n",
    "# model.add(LSTM(128, return_sequences=True, activation='tanh', input_shape=(30,108)))\n",
    "# model.add(LSTM(64, return_sequences=True, activation='tanh'))\n",
    "# model.add(LSTM(32, return_sequences=False, activation='tanh'))\n",
    "# model.add(Dropout(0.4))\n",
    "# model.add(Dense(32, activation='relu'))\n",
    "# model.add(Dense(32, activation='relu'))\n",
    "# model.add(Dense(actions.shape[0], activation='softmax'))"
   ]
  },
  {
   "cell_type": "code",
   "execution_count": 214,
   "metadata": {},
   "outputs": [],
   "source": [
    "# COMPLEX MODEL 2\n",
    "\n",
    "# model = Sequential()\n",
    "\n",
    "# model.add(LSTM(128, return_sequences=True, activation='tanh', input_shape=(30,108)))\n",
    "# model.add(LSTM(64, return_sequences=True, activation='tanh'))\n",
    "# model.add(LSTM(32, return_sequences=False, activation='tanh'))\n",
    "# model.add(Dropout(0.5))\n",
    "# model.add(Dense(actions.shape[0], activation='softmax'))"
   ]
  },
  {
   "cell_type": "code",
   "execution_count": 59,
   "metadata": {},
   "outputs": [
    {
     "name": "stdout",
     "output_type": "stream",
     "text": [
      "Epoch 1/20\n",
      "6/7 [========================>.....] - ETA: 0s - loss: 2.1021 - categorical_accuracy: 0.2708\n",
      "Epoch 1: categorical_accuracy did not improve from 0.97143\n",
      "7/7 [==============================] - 4s 194ms/step - loss: 2.0926 - categorical_accuracy: 0.2810 - val_loss: 1.8497 - val_categorical_accuracy: 0.5333\n",
      "Epoch 2/20\n",
      "7/7 [==============================] - ETA: 0s - loss: 1.6802 - categorical_accuracy: 0.4667\n",
      "Epoch 2: categorical_accuracy did not improve from 0.97143\n",
      "7/7 [==============================] - 0s 37ms/step - loss: 1.6802 - categorical_accuracy: 0.4667 - val_loss: 1.5003 - val_categorical_accuracy: 0.6111\n",
      "Epoch 3/20\n",
      "7/7 [==============================] - ETA: 0s - loss: 1.3460 - categorical_accuracy: 0.6000\n",
      "Epoch 3: categorical_accuracy did not improve from 0.97143\n",
      "7/7 [==============================] - 0s 36ms/step - loss: 1.3460 - categorical_accuracy: 0.6000 - val_loss: 1.2117 - val_categorical_accuracy: 0.7778\n",
      "Epoch 4/20\n",
      "7/7 [==============================] - ETA: 0s - loss: 1.0834 - categorical_accuracy: 0.7524\n",
      "Epoch 4: categorical_accuracy did not improve from 0.97143\n",
      "7/7 [==============================] - 0s 40ms/step - loss: 1.0834 - categorical_accuracy: 0.7524 - val_loss: 0.9538 - val_categorical_accuracy: 0.9444\n",
      "Epoch 5/20\n",
      "7/7 [==============================] - ETA: 0s - loss: 0.8357 - categorical_accuracy: 0.8143\n",
      "Epoch 5: categorical_accuracy did not improve from 0.97143\n",
      "7/7 [==============================] - 0s 36ms/step - loss: 0.8357 - categorical_accuracy: 0.8143 - val_loss: 0.7592 - val_categorical_accuracy: 0.9444\n",
      "Epoch 6/20\n",
      "7/7 [==============================] - ETA: 0s - loss: 0.6841 - categorical_accuracy: 0.8524\n",
      "Epoch 6: categorical_accuracy did not improve from 0.97143\n",
      "7/7 [==============================] - 0s 36ms/step - loss: 0.6841 - categorical_accuracy: 0.8524 - val_loss: 0.6467 - val_categorical_accuracy: 0.9222\n",
      "Epoch 7/20\n",
      "7/7 [==============================] - ETA: 0s - loss: 0.5512 - categorical_accuracy: 0.8905\n",
      "Epoch 7: categorical_accuracy did not improve from 0.97143\n",
      "7/7 [==============================] - 0s 37ms/step - loss: 0.5512 - categorical_accuracy: 0.8905 - val_loss: 0.4878 - val_categorical_accuracy: 0.9444\n",
      "Epoch 8/20\n",
      "7/7 [==============================] - ETA: 0s - loss: 0.4923 - categorical_accuracy: 0.9190\n",
      "Epoch 8: categorical_accuracy did not improve from 0.97143\n",
      "7/7 [==============================] - 0s 37ms/step - loss: 0.4923 - categorical_accuracy: 0.9190 - val_loss: 0.4130 - val_categorical_accuracy: 0.9667\n",
      "Epoch 9/20\n",
      "7/7 [==============================] - ETA: 0s - loss: 0.3854 - categorical_accuracy: 0.9190\n",
      "Epoch 9: categorical_accuracy did not improve from 0.97143\n",
      "7/7 [==============================] - 0s 37ms/step - loss: 0.3854 - categorical_accuracy: 0.9190 - val_loss: 0.3688 - val_categorical_accuracy: 0.9667\n",
      "Epoch 10/20\n",
      "7/7 [==============================] - ETA: 0s - loss: 0.3197 - categorical_accuracy: 0.9333\n",
      "Epoch 10: categorical_accuracy did not improve from 0.97143\n",
      "7/7 [==============================] - 0s 37ms/step - loss: 0.3197 - categorical_accuracy: 0.9333 - val_loss: 0.4122 - val_categorical_accuracy: 0.9333\n",
      "Epoch 11/20\n",
      "7/7 [==============================] - ETA: 0s - loss: 0.3039 - categorical_accuracy: 0.9333\n",
      "Epoch 11: categorical_accuracy did not improve from 0.97143\n",
      "7/7 [==============================] - 0s 36ms/step - loss: 0.3039 - categorical_accuracy: 0.9333 - val_loss: 0.3094 - val_categorical_accuracy: 0.9778\n",
      "Epoch 12/20\n",
      "7/7 [==============================] - ETA: 0s - loss: 0.3365 - categorical_accuracy: 0.9238\n",
      "Epoch 12: categorical_accuracy did not improve from 0.97143\n",
      "7/7 [==============================] - 0s 37ms/step - loss: 0.3365 - categorical_accuracy: 0.9238 - val_loss: 0.2939 - val_categorical_accuracy: 0.9778\n",
      "Epoch 13/20\n",
      "7/7 [==============================] - ETA: 0s - loss: 0.1983 - categorical_accuracy: 0.9714\n",
      "Epoch 13: categorical_accuracy did not improve from 0.97143\n",
      "7/7 [==============================] - 0s 36ms/step - loss: 0.1983 - categorical_accuracy: 0.9714 - val_loss: 0.2811 - val_categorical_accuracy: 0.9778\n",
      "Epoch 14/20\n",
      "7/7 [==============================] - ETA: 0s - loss: 0.1757 - categorical_accuracy: 0.9857\n",
      "Epoch 14: categorical_accuracy improved from 0.97143 to 0.98571, saving model to test.h5\n",
      "7/7 [==============================] - 0s 45ms/step - loss: 0.1757 - categorical_accuracy: 0.9857 - val_loss: 0.2883 - val_categorical_accuracy: 0.9667\n",
      "Epoch 15/20\n",
      "7/7 [==============================] - ETA: 0s - loss: 0.2029 - categorical_accuracy: 0.9571"
     ]
    },
    {
     "name": "stderr",
     "output_type": "stream",
     "text": [
      "c:\\Users\\krisn\\AppData\\Local\\Programs\\Python\\Python310\\lib\\site-packages\\keras\\src\\engine\\training.py:3000: UserWarning: You are saving your model as an HDF5 file via `model.save()`. This file format is considered legacy. We recommend using instead the native Keras format, e.g. `model.save('my_model.keras')`.\n",
      "  saving_api.save_model(\n"
     ]
    },
    {
     "name": "stdout",
     "output_type": "stream",
     "text": [
      "\n",
      "Epoch 15: categorical_accuracy did not improve from 0.98571\n",
      "7/7 [==============================] - 0s 37ms/step - loss: 0.2029 - categorical_accuracy: 0.9571 - val_loss: 0.2926 - val_categorical_accuracy: 0.9667\n",
      "Epoch 16/20\n",
      "7/7 [==============================] - ETA: 0s - loss: 0.1304 - categorical_accuracy: 0.9810\n",
      "Epoch 16: categorical_accuracy did not improve from 0.98571\n",
      "7/7 [==============================] - 0s 37ms/step - loss: 0.1304 - categorical_accuracy: 0.9810 - val_loss: 0.3092 - val_categorical_accuracy: 0.9667\n",
      "Epoch 17/20\n",
      "7/7 [==============================] - ETA: 0s - loss: 0.1362 - categorical_accuracy: 0.9905\n",
      "Epoch 17: categorical_accuracy improved from 0.98571 to 0.99048, saving model to test.h5\n",
      "7/7 [==============================] - 0s 40ms/step - loss: 0.1362 - categorical_accuracy: 0.9905 - val_loss: 0.2942 - val_categorical_accuracy: 0.9556\n",
      "Epoch 18/20\n",
      "7/7 [==============================] - ETA: 0s - loss: 0.0986 - categorical_accuracy: 0.9952\n",
      "Epoch 18: categorical_accuracy improved from 0.99048 to 0.99524, saving model to test.h5\n",
      "7/7 [==============================] - 0s 40ms/step - loss: 0.0986 - categorical_accuracy: 0.9952 - val_loss: 0.2686 - val_categorical_accuracy: 0.9778\n",
      "Epoch 19/20\n",
      "7/7 [==============================] - ETA: 0s - loss: 0.1108 - categorical_accuracy: 0.9857\n",
      "Epoch 19: categorical_accuracy did not improve from 0.99524\n",
      "7/7 [==============================] - 0s 36ms/step - loss: 0.1108 - categorical_accuracy: 0.9857 - val_loss: 0.2586 - val_categorical_accuracy: 0.9778\n",
      "Epoch 20/20\n",
      "7/7 [==============================] - ETA: 0s - loss: 0.1416 - categorical_accuracy: 0.9714\n",
      "Epoch 20: categorical_accuracy did not improve from 0.99524\n",
      "7/7 [==============================] - 0s 37ms/step - loss: 0.1416 - categorical_accuracy: 0.9714 - val_loss: 0.2622 - val_categorical_accuracy: 0.9778\n"
     ]
    },
    {
     "data": {
      "image/png": "[encoded data removed]",
      "text/plain": [
       "<Figure size 432x288 with 1 Axes>"
      ]
     },
     "metadata": {
      "needs_background": "light"
     },
     "output_type": "display_data"
    },
    {
     "data": {
      "image/png": "[encoded data removed]",
      "text/plain": [
       "<Figure size 432x288 with 1 Axes>"
      ]
     },
     "metadata": {
      "needs_background": "light"
     },
     "output_type": "display_data"
    },
    {
     "name": "stdout",
     "output_type": "stream",
     "text": [
      "Model: \"sequential_6\"\n",
      "_________________________________________________________________\n",
      " Layer (type)                Output Shape              Param #   \n",
      "=================================================================\n",
      " time_distributed_6 (TimeDi  (None, 30, 128)           13952     \n",
      " stributed)                                                      \n",
      "                                                                 \n",
      " lstm_12 (LSTM)              (None, 30, 128)           131584    \n",
      "                                                                 \n",
      " dropout_18 (Dropout)        (None, 30, 128)           0         \n",
      "                                                                 \n",
      " lstm_13 (LSTM)              (None, 64)                49408     \n",
      "                                                                 \n",
      " dropout_19 (Dropout)        (None, 64)                0         \n",
      "                                                                 \n",
      " dense_19 (Dense)            (None, 32)                2080      \n",
      "                                                                 \n",
      " dropout_20 (Dropout)        (None, 32)                0         \n",
      "                                                                 \n",
      " dense_20 (Dense)            (None, 10)                330       \n",
      "                                                                 \n",
      "=================================================================\n",
      "Total params: 197354 (770.91 KB)\n",
      "Trainable params: 197354 (770.91 KB)\n",
      "Non-trainable params: 0 (0.00 Byte)\n",
      "_________________________________________________________________\n"
     ]
    }
   ],
   "source": [
    "model.compile(optimizer='Adam', loss='categorical_crossentropy', metrics=['categorical_accuracy'])\n",
    "train_model = model.fit(X_train, y_train, epochs=20, callbacks=[checkpoint], validation_data=(X_test, y_test))\n",
    "\n",
    "plt.plot(train_model.history['categorical_accuracy'])\n",
    "plt.plot(train_model.history['val_categorical_accuracy'])\n",
    "plt.title('model accuracy')\n",
    "plt.ylabel('accuracy')\n",
    "plt.xlabel('epoch')\n",
    "plt.legend(['train', 'validation'], loc='lower right')\n",
    "plt.show()\n",
    "\n",
    "plt.plot(train_model.history['loss'])\n",
    "plt.plot(train_model.history['val_loss'])\n",
    "plt.title('model loss')\n",
    "plt.ylabel('loss')\n",
    "plt.xlabel('epoch')\n",
    "plt.legend(['train', 'validation'], loc='upper right')\n",
    "plt.show()\n",
    "    \n",
    "model.summary()"
   ]
  },
  {
   "cell_type": "code",
   "execution_count": 49,
   "metadata": {},
   "outputs": [
    {
     "data": {
      "image/png": "[encoded data removed]",
      "text/plain": [
       "<IPython.core.display.Image object>"
      ]
     },
     "execution_count": 49,
     "metadata": {},
     "output_type": "execute_result"
    }
   ],
   "source": [
    "plot_model(model, to_file=\"model1.png\", show_shapes=True)"
   ]
  },
  {
   "cell_type": "markdown",
   "metadata": {},
   "source": [
    "# **Save Weights**"
   ]
  },
  {
   "cell_type": "code",
   "execution_count": 50,
   "metadata": {},
   "outputs": [],
   "source": [
    "model_path = 'model-bimbingan7v4_2.h5'\n",
    "\n",
    "model.save(model_path)\n",
    "model.load_weights(model_path)"
   ]
  },
  {
   "cell_type": "markdown",
   "metadata": {},
   "source": [
    "# **Evaluation using Confusion Matrix and Accuracy**"
   ]
  },
  {
   "cell_type": "code",
   "execution_count": 51,
   "metadata": {},
   "outputs": [],
   "source": [
    "from sklearn.metrics import multilabel_confusion_matrix, accuracy_score\n",
    "from sklearn.metrics import confusion_matrix\n",
    "import matplotlib.pyplot as plt\n",
    "from sklearn.model_selection import train_test_split\n",
    "from sklearn.datasets import make_multilabel_classification\n",
    "from sklearn.tree import DecisionTreeClassifier\n",
    "import seaborn as sns"
   ]
  },
  {
   "cell_type": "code",
   "execution_count": 52,
   "metadata": {},
   "outputs": [
    {
     "name": "stdout",
     "output_type": "stream",
     "text": [
      "3/3 [==============================] - 1s 11ms/step\n"
     ]
    }
   ],
   "source": [
    "yhat = model.predict(X_test)"
   ]
  },
  {
   "cell_type": "code",
   "execution_count": 53,
   "metadata": {},
   "outputs": [
    {
     "name": "stdout",
     "output_type": "stream",
     "text": [
      "start\n",
      "start\n"
     ]
    }
   ],
   "source": [
    "print(actions[np.argmax(yhat[2])])\n",
    "print(actions[np.argmax(y_test[2])])"
   ]
  },
  {
   "cell_type": "code",
   "execution_count": 54,
   "metadata": {},
   "outputs": [],
   "source": [
    "ytrue = np.argmax(y_test, axis=1).tolist()\n",
    "yhat = np.argmax(yhat, axis=1).tolist()"
   ]
  },
  {
   "cell_type": "code",
   "execution_count": 55,
   "metadata": {},
   "outputs": [
    {
     "name": "stdout",
     "output_type": "stream",
     "text": [
      "[[[79  0]\n",
      "  [ 0 11]]\n",
      "\n",
      " [[82  0]\n",
      "  [ 0  8]]\n",
      "\n",
      " [[78  0]\n",
      "  [ 0 12]]\n",
      "\n",
      " [[78  0]\n",
      "  [ 0 12]]\n",
      "\n",
      " [[85  0]\n",
      "  [ 0  5]]\n",
      "\n",
      " [[80  2]\n",
      "  [ 0  8]]\n",
      "\n",
      " [[82  0]\n",
      "  [ 2  6]]\n",
      "\n",
      " [[76  0]\n",
      "  [ 0 14]]\n",
      "\n",
      " [[86  0]\n",
      "  [ 0  4]]\n",
      "\n",
      " [[82  0]\n",
      "  [ 0  8]]]\n"
     ]
    }
   ],
   "source": [
    "mcm = multilabel_confusion_matrix(ytrue, yhat)\n",
    "print(mcm)"
   ]
  },
  {
   "cell_type": "code",
   "execution_count": 56,
   "metadata": {},
   "outputs": [
    {
     "data": {
      "image/png": "[encoded data removed]",
      "text/plain": [
       "<Figure size 720x576 with 2 Axes>"
      ]
     },
     "metadata": {
      "needs_background": "light"
     },
     "output_type": "display_data"
    }
   ],
   "source": [
    "ytrue = np.argmax(y_test, axis=1)\n",
    "conf_matrix = confusion_matrix(ytrue, yhat)\n",
    "\n",
    "plt.figure(figsize=(10, 8))\n",
    "heatMap = sns.heatmap(conf_matrix, annot=True, fmt='d', cmap='Blues', xticklabels=actions, yticklabels=actions)\n",
    "\n",
    "heatMap.set_xlabel('Predicted Label', labelpad=30, weight='bold')\n",
    "heatMap.set_ylabel('True Label', labelpad=30, weight='bold')\n",
    "\n",
    "heatMap.set_title('Confusion Matrix', pad=20, weight='bold', fontsize=20)\n",
    "plt.show()"
   ]
  },
  {
   "cell_type": "code",
   "execution_count": 31,
   "metadata": {},
   "outputs": [
    {
     "name": "stdout",
     "output_type": "stream",
     "text": [
      "              precision    recall  f1-score   support\n",
      "\n",
      "        maaf       1.00      1.00      1.00        11\n",
      "      tolong       1.00      1.00      1.00         8\n",
      "        nama       1.00      1.00      1.00        12\n",
      "        saya       1.00      1.00      1.00        12\n",
      "       rumah       1.00      1.00      1.00         5\n",
      "       start       1.00      1.00      1.00         8\n",
      "     standby       1.00      0.75      0.86         8\n",
      "      delete       1.00      1.00      1.00        14\n",
      "      dimana       0.67      1.00      0.80         4\n",
      "   translate       1.00      1.00      1.00         8\n",
      "\n",
      "    accuracy                           0.98        90\n",
      "   macro avg       0.97      0.97      0.97        90\n",
      "weighted avg       0.99      0.98      0.98        90\n",
      "\n"
     ]
    }
   ],
   "source": [
    "from sklearn.metrics import classification_report\n",
    "\n",
    "# Assuming ytrue and yhat are the true and predicted labels, respectively\n",
    "report = classification_report(ytrue, yhat, target_names=actions)\n",
    "print(report)"
   ]
  },
  {
   "cell_type": "code",
   "execution_count": 32,
   "metadata": {},
   "outputs": [
    {
     "name": "stdout",
     "output_type": "stream",
     "text": [
      "Class: maaf\n",
      "Precision: 1.0\n",
      "Recall: 1.0\n",
      "F1 Score: 1.0\n",
      "\n",
      "Class: tolong\n",
      "Precision: 1.0\n",
      "Recall: 1.0\n",
      "F1 Score: 1.0\n",
      "\n",
      "Class: nama\n",
      "Precision: 1.0\n",
      "Recall: 1.0\n",
      "F1 Score: 1.0\n",
      "\n",
      "Class: saya\n",
      "Precision: 1.0\n",
      "Recall: 1.0\n",
      "F1 Score: 1.0\n",
      "\n",
      "Class: rumah\n",
      "Precision: 1.0\n",
      "Recall: 1.0\n",
      "F1 Score: 1.0\n",
      "\n",
      "Class: start\n",
      "Precision: 1.0\n",
      "Recall: 1.0\n",
      "F1 Score: 1.0\n",
      "\n",
      "Class: standby\n",
      "Precision: 1.0\n",
      "Recall: 0.75\n",
      "F1 Score: 0.8571428571428571\n",
      "\n",
      "Class: delete\n",
      "Precision: 1.0\n",
      "Recall: 1.0\n",
      "F1 Score: 1.0\n",
      "\n",
      "Class: dimana\n",
      "Precision: 0.6666666666666666\n",
      "Recall: 1.0\n",
      "F1 Score: 0.8\n",
      "\n",
      "Class: translate\n",
      "Precision: 1.0\n",
      "Recall: 1.0\n",
      "F1 Score: 1.0\n",
      "\n",
      "Class: maaf\n",
      "Accuracy: 1.0\n",
      "\n",
      "Class: tolong\n",
      "Accuracy: 1.0\n",
      "\n",
      "Class: nama\n",
      "Accuracy: 1.0\n",
      "\n",
      "Class: saya\n",
      "Accuracy: 1.0\n",
      "\n",
      "Class: rumah\n",
      "Accuracy: 1.0\n",
      "\n",
      "Class: start\n",
      "Accuracy: 1.0\n",
      "\n",
      "Class: standby\n",
      "Accuracy: 1.0\n",
      "\n",
      "Class: delete\n",
      "Accuracy: 1.0\n",
      "\n",
      "Class: dimana\n",
      "Accuracy: 0.6666666666666666\n",
      "\n",
      "Class: translate\n",
      "Accuracy: 1.0\n",
      "\n"
     ]
    }
   ],
   "source": [
    "from sklearn.metrics import precision_recall_fscore_support\n",
    "\n",
    "# Assuming ytrue and yhat are the true and predicted labels, respectively\n",
    "metrics = precision_recall_fscore_support(ytrue, yhat)\n",
    "\n",
    "precision_per_class = metrics[0]\n",
    "recall_per_class = metrics[1]\n",
    "f1_score_per_class = metrics[2]\n",
    "\n",
    "# Print metrics for each class\n",
    "for i, class_name in enumerate(actions):\n",
    "    print(f\"Class: {class_name}\")\n",
    "    print(f\"Precision: {precision_per_class[i]}\")\n",
    "    print(f\"Recall: {recall_per_class[i]}\")\n",
    "    print(f\"F1 Score: {f1_score_per_class[i]}\\n\")\n",
    "\n",
    "# For accuracy per class, you would need to calculate it manually:\n",
    "accuracy_per_class = [(conf_matrix[i, i] / np.sum(conf_matrix[:, i])) for i in range(len(actions))]\n",
    "\n",
    "for i, class_name in enumerate(actions):\n",
    "    print(f\"Class: {class_name}\")\n",
    "    print(f\"Accuracy: {accuracy_per_class[i]}\\n\")"
   ]
  }
 ],
 "metadata": {
  "kernelspec": {
   "display_name": "Python 3",
   "language": "python",
   "name": "python3"
  },
  "language_info": {
   "codemirror_mode": {
    "name": "ipython",
    "version": 3
   },
   "file_extension": ".py",
   "mimetype": "text/x-python",
   "name": "python",
   "nbconvert_exporter": "python",
   "pygments_lexer": "ipython3",
   "version": "3.10.4"
  }
 },
 "nbformat": 4,
 "nbformat_minor": 2
}
