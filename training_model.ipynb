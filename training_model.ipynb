{
 "cells": [
  {
   "cell_type": "markdown",
   "metadata": {},
   "source": [
    "# **Preprocess Data and Create Labels and Features**"
   ]
  },
  {
   "cell_type": "code",
   "execution_count": 2,
   "metadata": {},
   "outputs": [],
   "source": [
    "from sklearn.model_selection import train_test_split\n",
    "from sklearn.metrics import confusion_matrix\n",
    "from keras.utils import to_categorical\n",
    "import tensorflow as tf\n",
    "import numpy as np\n",
    "import os\n",
    "import cv2 as cv\n",
    "import mediapipe as mp\n",
    "from matplotlib import pyplot as plt\n",
    "from mediapipe.python.solutions.pose import PoseLandmark"
   ]
  },
  {
   "cell_type": "code",
   "execution_count": 3,
   "metadata": {},
   "outputs": [],
   "source": [
    "#FOR UPGRADED SEQUENCE\n",
    "# DATA_PATH = os.path.join('Sign_Data_Upgrade')\n",
    "DATA_PATH = os.path.join('My_Datasets')\n",
    "\n",
    "actions = np.array(['terimakasih', 'tolong'])\n",
    "\n",
    "# actions = np.array(['terimakasih'])\n",
    "\n",
    "# actions = np.array(['maaf', 'tolong', \"terimakasih\", \"nama\", \"saya\", \"kamu\", \"siapa\"])\n",
    "\n",
    "# menggunakan xx video\n",
    "no_sequences = 30\n",
    "\n",
    "# setiap video berisi 30 frame\n",
    "sequence_length = 30"
   ]
  },
  {
   "cell_type": "code",
   "execution_count": 4,
   "metadata": {},
   "outputs": [],
   "source": [
    "label_map = {label:num for num, label in enumerate(actions)}"
   ]
  },
  {
   "cell_type": "code",
   "execution_count": 5,
   "metadata": {},
   "outputs": [
    {
     "data": {
      "text/plain": [
       "{'terimakasih': 0, 'tolong': 1}"
      ]
     },
     "execution_count": 5,
     "metadata": {},
     "output_type": "execute_result"
    }
   ],
   "source": [
    "label_map"
   ]
  },
  {
   "cell_type": "code",
   "execution_count": 6,
   "metadata": {},
   "outputs": [],
   "source": [
    "sequences, labels = [], []\n",
    "for action in actions:\n",
    "    for sequence in np.array(os.listdir(os.path.join(DATA_PATH, action))).astype(int):\n",
    "        window = []\n",
    "        for frame_num in range(sequence_length):\n",
    "            # res = np.load(os.path.join(DATA_PATH, action, str(sequence), \"{}.npy\".format(frame_num + 1)))\n",
    "            res = np.load(os.path.join(DATA_PATH, action, str(sequence), \"{}-norm.npy\".format(frame_num + 1)))\n",
    "            \n",
    "            window.append(res)\n",
    "        sequences.append(window)\n",
    "        labels.append(label_map[action])"
   ]
  },
  {
   "cell_type": "code",
   "execution_count": 7,
   "metadata": {},
   "outputs": [
    {
     "data": {
      "text/plain": [
       "(60, 30, 108)"
      ]
     },
     "execution_count": 7,
     "metadata": {},
     "output_type": "execute_result"
    }
   ],
   "source": [
    "np.array(sequences).shape"
   ]
  },
  {
   "cell_type": "code",
   "execution_count": 8,
   "metadata": {},
   "outputs": [],
   "source": [
    "X = np.array(sequences)\n",
    "y = to_categorical(labels).astype(int)"
   ]
  },
  {
   "cell_type": "code",
   "execution_count": 9,
   "metadata": {},
   "outputs": [],
   "source": [
    "X_train, X_test, y_train, y_test = train_test_split(X, y, test_size=0.2, random_state=42)"
   ]
  },
  {
   "cell_type": "code",
   "execution_count": 11,
   "metadata": {},
   "outputs": [
    {
     "name": "stdout",
     "output_type": "stream",
     "text": [
      "(48, 30, 108)\n",
      "(12, 30, 108)\n",
      "(48, 2)\n",
      "(12, 2)\n"
     ]
    }
   ],
   "source": [
    "print(X_train.shape)\n",
    "print(X_test.shape)\n",
    "print(y_train.shape)\n",
    "print(y_test.shape)"
   ]
  },
  {
   "cell_type": "markdown",
   "metadata": {},
   "source": [
    "# **Build and Train LSTM Neural Network**"
   ]
  },
  {
   "cell_type": "code",
   "execution_count": 19,
   "metadata": {},
   "outputs": [],
   "source": [
    "from tensorflow.keras.models import Sequential\n",
    "from tensorflow.keras.layers import LSTM, Dense, Dropout\n",
    "from tensorflow.keras.callbacks import TensorBoard, EarlyStopping, ModelCheckpoint"
   ]
  },
  {
   "cell_type": "code",
   "execution_count": 20,
   "metadata": {},
   "outputs": [],
   "source": [
    "checkpoint = ModelCheckpoint('model.h5', monitor='categorical_accuracy', verbose=1, mode = 'max', save_best_only=True, save_weights_only=False,save_freq='epoch')"
   ]
  },
  {
   "cell_type": "code",
   "execution_count": 21,
   "metadata": {},
   "outputs": [],
   "source": [
    "# SIMPLE MODEL -> MAIN MODEL\n",
    "model = Sequential()\n",
    "\n",
    "model.add(LSTM(128, return_sequences=True, activation='tanh', input_shape=(30,108)))\n",
    "model.add(LSTM(64, return_sequences=False, activation='tanh'))\n",
    "model.add(Dropout(0.5))\n",
    "model.add(Dense(64, activation='linear'))\n",
    "# model.add(Dropout(0.5))\n",
    "model.add(Dense(actions.shape[0], activation='softmax'))"
   ]
  },
  {
   "cell_type": "code",
   "execution_count": 90,
   "metadata": {},
   "outputs": [],
   "source": [
    "# COMPLEX MODEL -> EXPERIMENTAL\n",
    "# model = Sequential()\n",
    "\n",
    "# model.add(LSTM(128, return_sequences=True, activation='tanh', input_shape=(30,108)))\n",
    "# model.add(LSTM(64, return_sequences=True, activation='tanh'))\n",
    "# model.add(LSTM(32, return_sequences=False, activation='tanh'))\n",
    "# model.add(Dropout(0.4))\n",
    "# model.add(Dense(32, activation='relu'))\n",
    "# model.add(Dense(32, activation='relu'))\n",
    "# model.add(Dense(actions.shape[0], activation='softmax'))"
   ]
  },
  {
   "cell_type": "code",
   "execution_count": 35,
   "metadata": {},
   "outputs": [],
   "source": [
    "# COMPLEX MODEL 2\n",
    "\n",
    "# model = Sequential()\n",
    "\n",
    "# model.add(LSTM(128, return_sequences=True, activation='tanh', input_shape=(30,108)))\n",
    "# model.add(LSTM(64, return_sequences=True, activation='tanh'))\n",
    "# model.add(LSTM(32, return_sequences=False, activation='tanh'))\n",
    "# model.add(Dropout(0.5))\n",
    "# model.add(Dense(actions.shape[0], activation='softmax'))"
   ]
  },
  {
   "cell_type": "code",
   "execution_count": 22,
   "metadata": {},
   "outputs": [
    {
     "name": "stdout",
     "output_type": "stream",
     "text": [
      "Model: \"sequential_1\"\n",
      "_________________________________________________________________\n",
      " Layer (type)                Output Shape              Param #   \n",
      "=================================================================\n",
      " lstm_2 (LSTM)               (None, 30, 128)           121344    \n",
      "                                                                 \n",
      " lstm_3 (LSTM)               (None, 64)                49408     \n",
      "                                                                 \n",
      " dense_2 (Dense)             (None, 64)                4160      \n",
      "                                                                 \n",
      " dropout_2 (Dropout)         (None, 64)                0         \n",
      "                                                                 \n",
      " dense_3 (Dense)             (None, 2)                 130       \n",
      "                                                                 \n",
      "=================================================================\n",
      "Total params: 175042 (683.76 KB)\n",
      "Trainable params: 175042 (683.76 KB)\n",
      "Non-trainable params: 0 (0.00 Byte)\n",
      "_________________________________________________________________\n"
     ]
    }
   ],
   "source": [
    "model.summary()"
   ]
  },
  {
   "cell_type": "code",
   "execution_count": 23,
   "metadata": {},
   "outputs": [],
   "source": [
    "model.compile(optimizer='Adam', loss='categorical_crossentropy', metrics=['categorical_accuracy'])"
   ]
  },
  {
   "cell_type": "code",
   "execution_count": 24,
   "metadata": {},
   "outputs": [
    {
     "name": "stdout",
     "output_type": "stream",
     "text": [
      "Epoch 1/10\n"
     ]
    },
    {
     "name": "stdout",
     "output_type": "stream",
     "text": [
      "1/2 [==============>...............] - ETA: 3s - loss: 0.7628 - categorical_accuracy: 0.4688\n",
      "Epoch 1: categorical_accuracy improved from -inf to 0.56250, saving model to model.h5\n",
      "2/2 [==============================] - 4s 730ms/step - loss: 0.7119 - categorical_accuracy: 0.5625 - val_loss: 0.5729 - val_categorical_accuracy: 0.7500\n",
      "Epoch 2/10\n",
      "1/2 [==============>...............] - ETA: 0s - loss: 0.4865 - categorical_accuracy: 0.8125\n",
      "Epoch 2: categorical_accuracy improved from 0.56250 to 0.81250, saving model to model.h5\n",
      "2/2 [==============================] - 0s 80ms/step - loss: 0.4886 - categorical_accuracy: 0.8125 - val_loss: 0.4652 - val_categorical_accuracy: 0.8333\n",
      "Epoch 3/10\n",
      "1/2 [==============>...............] - ETA: 0s - loss: 0.3017 - categorical_accuracy: 0.9688\n",
      "Epoch 3: categorical_accuracy improved from 0.81250 to 0.97917, saving model to model.h5\n",
      "2/2 [==============================] - 0s 78ms/step - loss: 0.2901 - categorical_accuracy: 0.9792 - val_loss: 0.3383 - val_categorical_accuracy: 0.9167\n",
      "Epoch 4/10\n",
      "1/2 [==============>...............] - ETA: 0s - loss: 0.2414 - categorical_accuracy: 1.0000\n",
      "Epoch 4: categorical_accuracy did not improve from 0.97917\n",
      "2/2 [==============================] - 0s 60ms/step - loss: 0.2183 - categorical_accuracy: 0.9792 - val_loss: 0.2375 - val_categorical_accuracy: 0.9167\n",
      "Epoch 5/10\n",
      "1/2 [==============>...............] - ETA: 0s - loss: 0.1066 - categorical_accuracy: 1.0000\n",
      "Epoch 5: categorical_accuracy improved from 0.97917 to 1.00000, saving model to model.h5\n",
      "2/2 [==============================] - 0s 76ms/step - loss: 0.0981 - categorical_accuracy: 1.0000 - val_loss: 0.1702 - val_categorical_accuracy: 0.9167\n",
      "Epoch 6/10\n",
      "1/2 [==============>...............] - ETA: 0s - loss: 0.0801 - categorical_accuracy: 0.9688\n",
      "Epoch 6: categorical_accuracy did not improve from 1.00000\n",
      "2/2 [==============================] - 0s 77ms/step - loss: 0.0673 - categorical_accuracy: 0.9792 - val_loss: 0.1296 - val_categorical_accuracy: 0.9167\n",
      "Epoch 7/10\n",
      "1/2 [==============>...............] - ETA: 0s - loss: 0.0512 - categorical_accuracy: 1.0000\n",
      "Epoch 7: categorical_accuracy did not improve from 1.00000\n",
      "2/2 [==============================] - 0s 56ms/step - loss: 0.0450 - categorical_accuracy: 1.0000 - val_loss: 0.0988 - val_categorical_accuracy: 0.9167\n",
      "Epoch 8/10\n",
      "1/2 [==============>...............] - ETA: 0s - loss: 0.0241 - categorical_accuracy: 1.0000\n",
      "Epoch 8: categorical_accuracy did not improve from 1.00000\n",
      "2/2 [==============================] - 0s 59ms/step - loss: 0.0204 - categorical_accuracy: 1.0000 - val_loss: 0.0791 - val_categorical_accuracy: 0.9167\n",
      "Epoch 9/10\n",
      "1/2 [==============>...............] - ETA: 0s - loss: 0.0073 - categorical_accuracy: 1.0000\n",
      "Epoch 9: categorical_accuracy did not improve from 1.00000\n",
      "2/2 [==============================] - 0s 61ms/step - loss: 0.0064 - categorical_accuracy: 1.0000 - val_loss: 0.0661 - val_categorical_accuracy: 1.0000\n",
      "Epoch 10/10\n",
      "1/2 [==============>...............] - ETA: 0s - loss: 0.0079 - categorical_accuracy: 1.0000\n",
      "Epoch 10: categorical_accuracy did not improve from 1.00000\n",
      "2/2 [==============================] - 0s 63ms/step - loss: 0.0075 - categorical_accuracy: 1.0000 - val_loss: 0.0565 - val_categorical_accuracy: 1.0000\n"
     ]
    }
   ],
   "source": [
    "train_model = model.fit(X_train, y_train, epochs=10, callbacks=[checkpoint], validation_data=(X_test, y_test))"
   ]
  },
  {
   "cell_type": "code",
   "execution_count": 25,
   "metadata": {},
   "outputs": [
    {
     "data": {
      "image/png": "[encoded data removed]",
      "text/plain": [
       "<Figure size 432x288 with 1 Axes>"
      ]
     },
     "metadata": {
      "needs_background": "light"
     },
     "output_type": "display_data"
    },
    {
     "data": {
      "image/png": "[encoded data removed]",
      "text/plain": [
       "<Figure size 432x288 with 1 Axes>"
      ]
     },
     "metadata": {
      "needs_background": "light"
     },
     "output_type": "display_data"
    },
    {
     "name": "stdout",
     "output_type": "stream",
     "text": [
      "Model: \"sequential_1\"\n",
      "_________________________________________________________________\n",
      " Layer (type)                Output Shape              Param #   \n",
      "=================================================================\n",
      " lstm_2 (LSTM)               (None, 30, 128)           121344    \n",
      "                                                                 \n",
      " lstm_3 (LSTM)               (None, 64)                49408     \n",
      "                                                                 \n",
      " dense_2 (Dense)             (None, 64)                4160      \n",
      "                                                                 \n",
      " dropout_2 (Dropout)         (None, 64)                0         \n",
      "                                                                 \n",
      " dense_3 (Dense)             (None, 2)                 130       \n",
      "                                                                 \n",
      "=================================================================\n",
      "Total params: 175042 (683.76 KB)\n",
      "Trainable params: 175042 (683.76 KB)\n",
      "Non-trainable params: 0 (0.00 Byte)\n",
      "_________________________________________________________________\n"
     ]
    }
   ],
   "source": [
    "# print(train_model.history.keys())\n",
    "\n",
    "plt.plot(train_model.history['categorical_accuracy'])\n",
    "plt.plot(train_model.history['val_categorical_accuracy'])\n",
    "plt.title('model accuracy')\n",
    "plt.ylabel('accuracy')\n",
    "plt.xlabel('epoch')\n",
    "plt.legend(['train', 'validation'], loc='upper right')\n",
    "plt.show()\n",
    "\n",
    "plt.plot(train_model.history['loss'])\n",
    "plt.plot(train_model.history['val_loss'])\n",
    "plt.title('model loss')\n",
    "plt.ylabel('loss')\n",
    "plt.xlabel('epoch')\n",
    "plt.legend(['train', 'validation'], loc='upper right')\n",
    "plt.show()\n",
    "\n",
    "# score, acc = model.evaluate(X_test,y_test,batch_size=32,verbose=0)\n",
    "# print('Test performance: accuracy={0}, loss={1}'.format(acc, score)) \n",
    "# print(X_train.shape, X_test.shape)\n",
    "# print(y_train.shape, y_test.shape)\n",
    "\n",
    "model.save('model.h5')\n",
    "    \n",
    "model.summary()"
   ]
  },
  {
   "cell_type": "markdown",
   "metadata": {},
   "source": [
    "# **Make Predictions**"
   ]
  },
  {
   "cell_type": "code",
   "execution_count": 24,
   "metadata": {},
   "outputs": [
    {
     "name": "stdout",
     "output_type": "stream",
     "text": [
      "1/1 [==============================] - 1s 600ms/step\n"
     ]
    }
   ],
   "source": [
    "res = model.predict(X_test)"
   ]
  },
  {
   "cell_type": "code",
   "execution_count": 25,
   "metadata": {},
   "outputs": [
    {
     "data": {
      "text/plain": [
       "'tolong'"
      ]
     },
     "execution_count": 25,
     "metadata": {},
     "output_type": "execute_result"
    }
   ],
   "source": [
    "actions[np.argmax(res[10])]"
   ]
  },
  {
   "cell_type": "code",
   "execution_count": 26,
   "metadata": {},
   "outputs": [
    {
     "data": {
      "text/plain": [
       "'tolong'"
      ]
     },
     "execution_count": 26,
     "metadata": {},
     "output_type": "execute_result"
    }
   ],
   "source": [
    "actions[np.argmax(y_test[10])]"
   ]
  },
  {
   "cell_type": "markdown",
   "metadata": {},
   "source": [
    "# **Save Weights**"
   ]
  },
  {
   "cell_type": "code",
   "execution_count": 27,
   "metadata": {},
   "outputs": [],
   "source": [
    "model.save('model.h5')"
   ]
  },
  {
   "cell_type": "code",
   "execution_count": 96,
   "metadata": {},
   "outputs": [],
   "source": [
    "del model"
   ]
  },
  {
   "cell_type": "code",
   "execution_count": 170,
   "metadata": {},
   "outputs": [],
   "source": [
    "model.load_weights('model.h5')"
   ]
  },
  {
   "cell_type": "markdown",
   "metadata": {},
   "source": [
    "# **Evaluation using Confusion Matrix and Accuracy**"
   ]
  },
  {
   "cell_type": "code",
   "execution_count": 171,
   "metadata": {},
   "outputs": [],
   "source": [
    "from sklearn.metrics import multilabel_confusion_matrix, accuracy_score\n",
    "from sklearn.metrics import confusion_matrix, ConfusionMatrixDisplay\n",
    "import matplotlib.pyplot as plt\n",
    "from sklearn.model_selection import train_test_split\n",
    "from sklearn.datasets import make_multilabel_classification\n",
    "from sklearn.tree import DecisionTreeClassifier\n",
    "import seaborn as sn"
   ]
  },
  {
   "cell_type": "code",
   "execution_count": 172,
   "metadata": {},
   "outputs": [
    {
     "name": "stdout",
     "output_type": "stream",
     "text": [
      "1/1 [==============================] - 0s 31ms/step\n"
     ]
    }
   ],
   "source": [
    "yhat = model.predict(X_test)"
   ]
  },
  {
   "cell_type": "code",
   "execution_count": 173,
   "metadata": {},
   "outputs": [],
   "source": [
    "ytrue = np.argmax(y_test, axis=1).tolist()\n",
    "yhat = np.argmax(yhat, axis=1).tolist()"
   ]
  },
  {
   "cell_type": "code",
   "execution_count": 174,
   "metadata": {},
   "outputs": [
    {
     "name": "stdout",
     "output_type": "stream",
     "text": [
      "[[[10  0]\n",
      "  [ 0  8]]\n",
      "\n",
      " [[ 8  0]\n",
      "  [ 0 10]]]\n"
     ]
    }
   ],
   "source": [
    "confusion_matrix = multilabel_confusion_matrix(ytrue, yhat)\n",
    "print(confusion_matrix)"
   ]
  },
  {
   "cell_type": "code",
   "execution_count": 175,
   "metadata": {},
   "outputs": [
    {
     "ename": "ValueError",
     "evalue": "Must pass 2-d input. shape=(2, 2, 2)",
     "output_type": "error",
     "traceback": [
      "\u001b[1;31m---------------------------------------------------------------------------\u001b[0m",
      "\u001b[1;31mValueError\u001b[0m                                Traceback (most recent call last)",
      "\u001b[1;32mc:\\Users\\krisn\\OneDrive\\Desktop\\Learning\\machine-learning-study\\testing-space\\training_model.ipynb Cell 34\u001b[0m line \u001b[0;36m<cell line: 1>\u001b[1;34m()\u001b[0m\n\u001b[1;32m----> <a href='vscode-notebook-cell:/c%3A/Users/krisn/OneDrive/Desktop/Learning/machine-learning-study/testing-space/training_model.ipynb#X45sZmlsZQ%3D%3D?line=0'>1</a>\u001b[0m sn\u001b[39m.\u001b[39;49mheatmap(confusion_matrix, annot\u001b[39m=\u001b[39;49m\u001b[39mTrue\u001b[39;49;00m, fmt\u001b[39m=\u001b[39;49m\u001b[39m'\u001b[39;49m\u001b[39mg\u001b[39;49m\u001b[39m'\u001b[39;49m)\n\u001b[0;32m      <a href='vscode-notebook-cell:/c%3A/Users/krisn/OneDrive/Desktop/Learning/machine-learning-study/testing-space/training_model.ipynb#X45sZmlsZQ%3D%3D?line=1'>2</a>\u001b[0m plt\u001b[39m.\u001b[39mshow()\n",
      "File \u001b[1;32mc:\\Users\\krisn\\AppData\\Local\\Programs\\Python\\Python310\\lib\\site-packages\\seaborn\\_decorators.py:46\u001b[0m, in \u001b[0;36m_deprecate_positional_args.<locals>.inner_f\u001b[1;34m(*args, **kwargs)\u001b[0m\n\u001b[0;32m     36\u001b[0m     warnings\u001b[39m.\u001b[39mwarn(\n\u001b[0;32m     37\u001b[0m         \u001b[39m\"\u001b[39m\u001b[39mPass the following variable\u001b[39m\u001b[39m{}\u001b[39;00m\u001b[39m as \u001b[39m\u001b[39m{}\u001b[39;00m\u001b[39mkeyword arg\u001b[39m\u001b[39m{}\u001b[39;00m\u001b[39m: \u001b[39m\u001b[39m{}\u001b[39;00m\u001b[39m. \u001b[39m\u001b[39m\"\u001b[39m\n\u001b[0;32m     38\u001b[0m         \u001b[39m\"\u001b[39m\u001b[39mFrom version 0.12, the only valid positional argument \u001b[39m\u001b[39m\"\u001b[39m\n\u001b[1;32m   (...)\u001b[0m\n\u001b[0;32m     43\u001b[0m         \u001b[39mFutureWarning\u001b[39;00m\n\u001b[0;32m     44\u001b[0m     )\n\u001b[0;32m     45\u001b[0m kwargs\u001b[39m.\u001b[39mupdate({k: arg \u001b[39mfor\u001b[39;00m k, arg \u001b[39min\u001b[39;00m \u001b[39mzip\u001b[39m(sig\u001b[39m.\u001b[39mparameters, args)})\n\u001b[1;32m---> 46\u001b[0m \u001b[39mreturn\u001b[39;00m f(\u001b[39m*\u001b[39m\u001b[39m*\u001b[39mkwargs)\n",
      "File \u001b[1;32mc:\\Users\\krisn\\AppData\\Local\\Programs\\Python\\Python310\\lib\\site-packages\\seaborn\\matrix.py:540\u001b[0m, in \u001b[0;36mheatmap\u001b[1;34m(data, vmin, vmax, cmap, center, robust, annot, fmt, annot_kws, linewidths, linecolor, cbar, cbar_kws, cbar_ax, square, xticklabels, yticklabels, mask, ax, **kwargs)\u001b[0m\n\u001b[0;32m    362\u001b[0m \u001b[39m\"\"\"Plot rectangular data as a color-encoded matrix.\u001b[39;00m\n\u001b[0;32m    363\u001b[0m \n\u001b[0;32m    364\u001b[0m \u001b[39mThis is an Axes-level function and will draw the heatmap into the\u001b[39;00m\n\u001b[1;32m   (...)\u001b[0m\n\u001b[0;32m    537\u001b[0m \u001b[39m    ...     ax = sns.heatmap(corr, mask=mask, vmax=.3, square=True)\u001b[39;00m\n\u001b[0;32m    538\u001b[0m \u001b[39m\"\"\"\u001b[39;00m\n\u001b[0;32m    539\u001b[0m \u001b[39m# Initialize the plotter object\u001b[39;00m\n\u001b[1;32m--> 540\u001b[0m plotter \u001b[39m=\u001b[39m _HeatMapper(data, vmin, vmax, cmap, center, robust, annot, fmt,\n\u001b[0;32m    541\u001b[0m                       annot_kws, cbar, cbar_kws, xticklabels,\n\u001b[0;32m    542\u001b[0m                       yticklabels, mask)\n\u001b[0;32m    544\u001b[0m \u001b[39m# Add the pcolormesh kwargs here\u001b[39;00m\n\u001b[0;32m    545\u001b[0m kwargs[\u001b[39m\"\u001b[39m\u001b[39mlinewidths\u001b[39m\u001b[39m\"\u001b[39m] \u001b[39m=\u001b[39m linewidths\n",
      "File \u001b[1;32mc:\\Users\\krisn\\AppData\\Local\\Programs\\Python\\Python310\\lib\\site-packages\\seaborn\\matrix.py:106\u001b[0m, in \u001b[0;36m_HeatMapper.__init__\u001b[1;34m(self, data, vmin, vmax, cmap, center, robust, annot, fmt, annot_kws, cbar, cbar_kws, xticklabels, yticklabels, mask)\u001b[0m\n\u001b[0;32m    104\u001b[0m \u001b[39melse\u001b[39;00m:\n\u001b[0;32m    105\u001b[0m     plot_data \u001b[39m=\u001b[39m np\u001b[39m.\u001b[39masarray(data)\n\u001b[1;32m--> 106\u001b[0m     data \u001b[39m=\u001b[39m pd\u001b[39m.\u001b[39;49mDataFrame(plot_data)\n\u001b[0;32m    108\u001b[0m \u001b[39m# Validate the mask and convet to DataFrame\u001b[39;00m\n\u001b[0;32m    109\u001b[0m mask \u001b[39m=\u001b[39m _matrix_mask(data, mask)\n",
      "File \u001b[1;32mc:\\Users\\krisn\\AppData\\Local\\Programs\\Python\\Python310\\lib\\site-packages\\pandas\\core\\frame.py:694\u001b[0m, in \u001b[0;36mDataFrame.__init__\u001b[1;34m(self, data, index, columns, dtype, copy)\u001b[0m\n\u001b[0;32m    684\u001b[0m         mgr \u001b[39m=\u001b[39m dict_to_mgr(\n\u001b[0;32m    685\u001b[0m             \u001b[39m# error: Item \"ndarray\" of \"Union[ndarray, Series, Index]\" has no\u001b[39;00m\n\u001b[0;32m    686\u001b[0m             \u001b[39m# attribute \"name\"\u001b[39;00m\n\u001b[1;32m   (...)\u001b[0m\n\u001b[0;32m    691\u001b[0m             typ\u001b[39m=\u001b[39mmanager,\n\u001b[0;32m    692\u001b[0m         )\n\u001b[0;32m    693\u001b[0m     \u001b[39melse\u001b[39;00m:\n\u001b[1;32m--> 694\u001b[0m         mgr \u001b[39m=\u001b[39m ndarray_to_mgr(\n\u001b[0;32m    695\u001b[0m             data,\n\u001b[0;32m    696\u001b[0m             index,\n\u001b[0;32m    697\u001b[0m             columns,\n\u001b[0;32m    698\u001b[0m             dtype\u001b[39m=\u001b[39;49mdtype,\n\u001b[0;32m    699\u001b[0m             copy\u001b[39m=\u001b[39;49mcopy,\n\u001b[0;32m    700\u001b[0m             typ\u001b[39m=\u001b[39;49mmanager,\n\u001b[0;32m    701\u001b[0m         )\n\u001b[0;32m    703\u001b[0m \u001b[39m# For data is list-like, or Iterable (will consume into list)\u001b[39;00m\n\u001b[0;32m    704\u001b[0m \u001b[39melif\u001b[39;00m is_list_like(data):\n",
      "File \u001b[1;32mc:\\Users\\krisn\\AppData\\Local\\Programs\\Python\\Python310\\lib\\site-packages\\pandas\\core\\internals\\construction.py:331\u001b[0m, in \u001b[0;36mndarray_to_mgr\u001b[1;34m(values, index, columns, dtype, copy, typ)\u001b[0m\n\u001b[0;32m    326\u001b[0m         values \u001b[39m=\u001b[39m values\u001b[39m.\u001b[39mreshape(\u001b[39m-\u001b[39m\u001b[39m1\u001b[39m, \u001b[39m1\u001b[39m)\n\u001b[0;32m    328\u001b[0m \u001b[39melse\u001b[39;00m:\n\u001b[0;32m    329\u001b[0m     \u001b[39m# by definition an array here\u001b[39;00m\n\u001b[0;32m    330\u001b[0m     \u001b[39m# the dtypes will be coerced to a single dtype\u001b[39;00m\n\u001b[1;32m--> 331\u001b[0m     values \u001b[39m=\u001b[39m _prep_ndarray(values, copy\u001b[39m=\u001b[39;49mcopy_on_sanitize)\n\u001b[0;32m    333\u001b[0m \u001b[39mif\u001b[39;00m dtype \u001b[39mis\u001b[39;00m \u001b[39mnot\u001b[39;00m \u001b[39mNone\u001b[39;00m \u001b[39mand\u001b[39;00m \u001b[39mnot\u001b[39;00m is_dtype_equal(values\u001b[39m.\u001b[39mdtype, dtype):\n\u001b[0;32m    334\u001b[0m     shape \u001b[39m=\u001b[39m values\u001b[39m.\u001b[39mshape\n",
      "File \u001b[1;32mc:\\Users\\krisn\\AppData\\Local\\Programs\\Python\\Python310\\lib\\site-packages\\pandas\\core\\internals\\construction.py:591\u001b[0m, in \u001b[0;36m_prep_ndarray\u001b[1;34m(values, copy)\u001b[0m\n\u001b[0;32m    589\u001b[0m     values \u001b[39m=\u001b[39m values\u001b[39m.\u001b[39mreshape((values\u001b[39m.\u001b[39mshape[\u001b[39m0\u001b[39m], \u001b[39m1\u001b[39m))\n\u001b[0;32m    590\u001b[0m \u001b[39melif\u001b[39;00m values\u001b[39m.\u001b[39mndim \u001b[39m!=\u001b[39m \u001b[39m2\u001b[39m:\n\u001b[1;32m--> 591\u001b[0m     \u001b[39mraise\u001b[39;00m \u001b[39mValueError\u001b[39;00m(\u001b[39mf\u001b[39m\u001b[39m\"\u001b[39m\u001b[39mMust pass 2-d input. shape=\u001b[39m\u001b[39m{\u001b[39;00mvalues\u001b[39m.\u001b[39mshape\u001b[39m}\u001b[39;00m\u001b[39m\"\u001b[39m)\n\u001b[0;32m    593\u001b[0m \u001b[39mreturn\u001b[39;00m values\n",
      "\u001b[1;31mValueError\u001b[0m: Must pass 2-d input. shape=(2, 2, 2)"
     ]
    }
   ],
   "source": [
    "# sn.heatmap(confusion_matrix, annot=True, fmt='g')\n",
    "# plt.show()"
   ]
  },
  {
   "cell_type": "code",
   "execution_count": 55,
   "metadata": {},
   "outputs": [
    {
     "data": {
      "text/plain": [
       "1.0"
      ]
     },
     "execution_count": 55,
     "metadata": {},
     "output_type": "execute_result"
    }
   ],
   "source": [
    "accuracy_score(ytrue, yhat)"
   ]
  }
 ],
 "metadata": {
  "kernelspec": {
   "display_name": "Python 3",
   "language": "python",
   "name": "python3"
  },
  "language_info": {
   "codemirror_mode": {
    "name": "ipython",
    "version": 3
   },
   "file_extension": ".py",
   "mimetype": "text/x-python",
   "name": "python",
   "nbconvert_exporter": "python",
   "pygments_lexer": "ipython3",
   "version": "3.10.4"
  }
 },
 "nbformat": 4,
 "nbformat_minor": 2
}
