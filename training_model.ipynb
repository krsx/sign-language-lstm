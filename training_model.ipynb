{
 "cells": [
  {
   "cell_type": "markdown",
   "metadata": {},
   "source": [
    "# **Preprocess Data and Create Labels and Features**"
   ]
  },
  {
   "cell_type": "code",
   "execution_count": 1,
   "metadata": {},
   "outputs": [],
   "source": [
    "from sklearn.model_selection import train_test_split\n",
    "from sklearn.metrics import confusion_matrix\n",
    "import tensorflow as tf\n",
    "from keras.utils import to_categorical\n",
    "import numpy as np\n",
    "import os\n",
    "import cv2 as cv\n",
    "import mediapipe as mp\n",
    "from matplotlib import pyplot as plt\n",
    "from mediapipe.python.solutions.pose import PoseLandmark"
   ]
  },
  {
   "cell_type": "code",
   "execution_count": 2,
   "metadata": {},
   "outputs": [],
   "source": [
    "DATA_PATH = os.path.join('My_Datasets')\n",
    "\n",
    "#sementara class dimana dan berapa tidak digunakan\n",
    "#sementara class terimakasih ditiadakan (testing)\n",
    "actions = np.array(['maaf', 'tolong', \"nama\", \"saya\", \"kamu\", \"siapa\", \"rumah\", \"start\", \"standby\", \"delete\", \"translate\"])\n",
    "\n",
    "actions = np.array(['maaf', 'tolong', \"terimakasih\", \"nama\", \"saya\", \"kamu\"])\n",
    "\n",
    "no_sequences = 30\n",
    "\n",
    "sequence_length = 30"
   ]
  },
  {
   "cell_type": "code",
   "execution_count": 3,
   "metadata": {},
   "outputs": [],
   "source": [
    "label_map = {label:num for num, label in enumerate(actions)}"
   ]
  },
  {
   "cell_type": "code",
   "execution_count": 4,
   "metadata": {},
   "outputs": [
    {
     "data": {
      "text/plain": [
       "{'maaf': 0, 'tolong': 1, 'terimakasih': 2, 'nama': 3, 'saya': 4, 'kamu': 5}"
      ]
     },
     "execution_count": 4,
     "metadata": {},
     "output_type": "execute_result"
    }
   ],
   "source": [
    "label_map"
   ]
  },
  {
   "cell_type": "code",
   "execution_count": 6,
   "metadata": {},
   "outputs": [],
   "source": [
    "sequences, labels = [], []\n",
    "for action in actions:\n",
    "    for sequence in np.array(os.listdir(os.path.join(DATA_PATH, action))).astype(int):\n",
    "        window = []\n",
    "        for frame_num in range(sequence_length):\n",
    "            res = np.load(os.path.join(DATA_PATH, action, str(sequence), \"{}-norm.npy\".format(frame_num)))\n",
    "            \n",
    "            window.append(res)\n",
    "        sequences.append(window)\n",
    "        labels.append(label_map[action])"
   ]
  },
  {
   "cell_type": "code",
   "execution_count": 7,
   "metadata": {},
   "outputs": [
    {
     "data": {
      "text/plain": [
       "(330, 30, 108)"
      ]
     },
     "execution_count": 7,
     "metadata": {},
     "output_type": "execute_result"
    }
   ],
   "source": [
    "np.array(sequences).shape"
   ]
  },
  {
   "cell_type": "code",
   "execution_count": 8,
   "metadata": {},
   "outputs": [],
   "source": [
    "X = np.array(sequences)\n",
    "y = to_categorical(labels).astype(int)"
   ]
  },
  {
   "cell_type": "code",
   "execution_count": 18,
   "metadata": {},
   "outputs": [],
   "source": [
    "X_train, X_test, y_train, y_test = train_test_split(X, y, test_size=0.3, random_state=42)"
   ]
  },
  {
   "cell_type": "code",
   "execution_count": 19,
   "metadata": {},
   "outputs": [
    {
     "name": "stdout",
     "output_type": "stream",
     "text": [
      "(231, 30, 108)\n",
      "(99, 30, 108)\n",
      "(231, 11)\n",
      "(99, 11)\n"
     ]
    }
   ],
   "source": [
    "print(X_train.shape)\n",
    "print(X_test.shape)\n",
    "print(y_train.shape)\n",
    "print(y_test.shape)"
   ]
  },
  {
   "cell_type": "markdown",
   "metadata": {},
   "source": [
    "# **Build and Train LSTM Neural Network**"
   ]
  },
  {
   "cell_type": "code",
   "execution_count": 27,
   "metadata": {},
   "outputs": [],
   "source": [
    "from tensorflow.keras.models import Sequential\n",
    "from tensorflow.keras.layers import LSTM, Dense, Dropout, TimeDistributed\n",
    "from tensorflow.keras.callbacks import TensorBoard, EarlyStopping, ModelCheckpoint\n",
    "from tensorflow.keras.regularizers import l2"
   ]
  },
  {
   "cell_type": "code",
   "execution_count": 28,
   "metadata": {},
   "outputs": [],
   "source": [
    "checkpoint = ModelCheckpoint('test.h5', monitor='categorical_accuracy', verbose=1, mode = 'max', save_best_only=True, save_weights_only=False,save_freq='epoch')"
   ]
  },
  {
   "cell_type": "code",
   "execution_count": 29,
   "metadata": {},
   "outputs": [],
   "source": [
    "# model = Sequential()\n",
    "\n",
    "# model.add(TimeDistributed(Dense(units=256, activation='tanh'), input_shape=(30, 108)))\n",
    "# model.add(LSTM(128, return_sequences=True, activation='tanh'))\n",
    "# model.add(Dropout(0.5))\n",
    "# model.add(LSTM(64, return_sequences=False, activation='tanh'))\n",
    "# model.add(Dropout(0.5))\n",
    "# model.add(Dense(64, activation='relu'))\n",
    "# model.add(Dropout(0.2))\n",
    "# model.add(Dense(actions.shape[0], activation='softmax'))"
   ]
  },
  {
   "cell_type": "code",
   "execution_count": 110,
   "metadata": {},
   "outputs": [],
   "source": [
    "model = Sequential()\n",
    "\n",
    "model.add(TimeDistributed(Dense(units=256, activation='tanh'), input_shape=(30, 108)))\n",
    "model.add(LSTM(128, return_sequences=False, activation='tanh', input_shape=(30,108)))\n",
    "model.add(Dropout(0.5))\n",
    "model.add(Dense(128, activation='relu'))\n",
    "model.add(Dropout(0.5))\n",
    "model.add(Dense(actions.shape[0], activation='softmax'))"
   ]
  },
  {
   "cell_type": "code",
   "execution_count": 408,
   "metadata": {},
   "outputs": [],
   "source": [
    "# COMPLEX MODEL -> EXPERIMENTAL\n",
    "# model = Sequential()\n",
    "\n",
    "# model.add(LSTM(128, return_sequences=True, activation='tanh', input_shape=(30,108)))\n",
    "# model.add(LSTM(64, return_sequences=True, activation='tanh'))\n",
    "# model.add(LSTM(32, return_sequences=False, activation='tanh'))\n",
    "# model.add(Dropout(0.4))\n",
    "# model.add(Dense(32, activation='relu'))\n",
    "# model.add(Dense(32, activation='relu'))\n",
    "# model.add(Dense(actions.shape[0], activation='softmax'))"
   ]
  },
  {
   "cell_type": "code",
   "execution_count": 409,
   "metadata": {},
   "outputs": [],
   "source": [
    "# COMPLEX MODEL 2\n",
    "\n",
    "# model = Sequential()\n",
    "\n",
    "# model.add(LSTM(128, return_sequences=True, activation='tanh', input_shape=(30,108)))\n",
    "# model.add(LSTM(64, return_sequences=True, activation='tanh'))\n",
    "# model.add(LSTM(32, return_sequences=False, activation='tanh'))\n",
    "# model.add(Dropout(0.5))\n",
    "# model.add(Dense(actions.shape[0], activation='softmax'))"
   ]
  },
  {
   "cell_type": "code",
   "execution_count": 30,
   "metadata": {},
   "outputs": [
    {
     "name": "stdout",
     "output_type": "stream",
     "text": [
      "Model: \"sequential_2\"\n",
      "_________________________________________________________________\n",
      " Layer (type)                Output Shape              Param #   \n",
      "=================================================================\n",
      " time_distributed_2 (TimeDi  (None, 30, 256)           27904     \n",
      " stributed)                                                      \n",
      "                                                                 \n",
      " lstm_4 (LSTM)               (None, 30, 128)           197120    \n",
      "                                                                 \n",
      " dropout_6 (Dropout)         (None, 30, 128)           0         \n",
      "                                                                 \n",
      " lstm_5 (LSTM)               (None, 64)                49408     \n",
      "                                                                 \n",
      " dropout_7 (Dropout)         (None, 64)                0         \n",
      "                                                                 \n",
      " dense_7 (Dense)             (None, 64)                4160      \n",
      "                                                                 \n",
      " dropout_8 (Dropout)         (None, 64)                0         \n",
      "                                                                 \n",
      " dense_8 (Dense)             (None, 11)                715       \n",
      "                                                                 \n",
      "=================================================================\n",
      "Total params: 279307 (1.07 MB)\n",
      "Trainable params: 279307 (1.07 MB)\n",
      "Non-trainable params: 0 (0.00 Byte)\n",
      "_________________________________________________________________\n"
     ]
    }
   ],
   "source": [
    "model.summary()"
   ]
  },
  {
   "cell_type": "code",
   "execution_count": 31,
   "metadata": {},
   "outputs": [],
   "source": [
    "model.compile(optimizer='Adam', loss='categorical_crossentropy', metrics=['categorical_accuracy'])"
   ]
  },
  {
   "cell_type": "code",
   "execution_count": 32,
   "metadata": {},
   "outputs": [
    {
     "name": "stdout",
     "output_type": "stream",
     "text": [
      "Epoch 1/40\n",
      "7/8 [=========================>....] - ETA: 0s - loss: 2.1619 - categorical_accuracy: 0.2500 \n",
      "Epoch 1: categorical_accuracy improved from -inf to 0.24675, saving model to test.h5\n",
      "8/8 [==============================] - 3s 116ms/step - loss: 2.1553 - categorical_accuracy: 0.2468 - val_loss: 1.7617 - val_categorical_accuracy: 0.6970\n",
      "Epoch 2/40\n",
      "7/8 [=========================>....] - ETA: 0s - loss: 1.7239 - categorical_accuracy: 0.5446\n",
      "Epoch 2: categorical_accuracy improved from 0.24675 to 0.54978, saving model to test.h5\n",
      "8/8 [==============================] - 0s 38ms/step - loss: 1.7137 - categorical_accuracy: 0.5498 - val_loss: 1.3850 - val_categorical_accuracy: 0.7475\n",
      "Epoch 3/40\n",
      "7/8 [=========================>....] - ETA: 0s - loss: 1.3723 - categorical_accuracy: 0.6920\n",
      "Epoch 3: categorical_accuracy improved from 0.54978 to 0.68398, saving model to test.h5\n",
      "8/8 [==============================] - 1s 75ms/step - loss: 1.3808 - categorical_accuracy: 0.6840 - val_loss: 1.0706 - val_categorical_accuracy: 0.8384\n",
      "Epoch 4/40\n",
      "7/8 [=========================>....] - ETA: 0s - loss: 1.0854 - categorical_accuracy: 0.7545\n",
      "Epoch 4: categorical_accuracy improved from 0.68398 to 0.75758, saving model to test.h5\n",
      "8/8 [==============================] - 0s 42ms/step - loss: 1.0831 - categorical_accuracy: 0.7576 - val_loss: 0.8335 - val_categorical_accuracy: 0.8485\n",
      "Epoch 5/40\n",
      "7/8 [=========================>....] - ETA: 0s - loss: 0.8346 - categorical_accuracy: 0.8348\n",
      "Epoch 5: categorical_accuracy improved from 0.75758 to 0.83550, saving model to test.h5\n",
      "8/8 [==============================] - 0s 42ms/step - loss: 0.8290 - categorical_accuracy: 0.8355 - val_loss: 0.6457 - val_categorical_accuracy: 0.8384\n",
      "Epoch 6/40\n",
      "7/8 [=========================>....] - ETA: 0s - loss: 0.7166 - categorical_accuracy: 0.8527\n",
      "Epoch 6: categorical_accuracy improved from 0.83550 to 0.85281, saving model to test.h5\n",
      "8/8 [==============================] - 0s 42ms/step - loss: 0.7125 - categorical_accuracy: 0.8528 - val_loss: 0.5070 - val_categorical_accuracy: 0.8384\n",
      "Epoch 7/40\n",
      "7/8 [=========================>....] - ETA: 0s - loss: 0.5559 - categorical_accuracy: 0.8705\n",
      "Epoch 7: categorical_accuracy improved from 0.85281 to 0.86580, saving model to test.h5\n",
      "8/8 [==============================] - 0s 44ms/step - loss: 0.5662 - categorical_accuracy: 0.8658 - val_loss: 0.4197 - val_categorical_accuracy: 0.9394\n",
      "Epoch 8/40\n",
      "7/8 [=========================>....] - ETA: 0s - loss: 0.4657 - categorical_accuracy: 0.8839\n",
      "Epoch 8: categorical_accuracy improved from 0.86580 to 0.87446, saving model to test.h5\n",
      "8/8 [==============================] - 0s 45ms/step - loss: 0.4806 - categorical_accuracy: 0.8745 - val_loss: 0.3595 - val_categorical_accuracy: 0.8889\n",
      "Epoch 9/40\n",
      "7/8 [=========================>....] - ETA: 0s - loss: 0.4823 - categorical_accuracy: 0.8750\n",
      "Epoch 9: categorical_accuracy improved from 0.87446 to 0.87879, saving model to test.h5\n",
      "8/8 [==============================] - 0s 44ms/step - loss: 0.4747 - categorical_accuracy: 0.8788 - val_loss: 0.3182 - val_categorical_accuracy: 0.9192\n",
      "Epoch 10/40\n",
      "7/8 [=========================>....] - ETA: 0s - loss: 0.3687 - categorical_accuracy: 0.8750\n",
      "Epoch 10: categorical_accuracy did not improve from 0.87879\n",
      "8/8 [==============================] - 0s 41ms/step - loss: 0.3631 - categorical_accuracy: 0.8788 - val_loss: 0.3023 - val_categorical_accuracy: 0.8485\n",
      "Epoch 11/40\n",
      "7/8 [=========================>....] - ETA: 0s - loss: 0.3546 - categorical_accuracy: 0.8750\n",
      "Epoch 11: categorical_accuracy did not improve from 0.87879\n",
      "8/8 [==============================] - 0s 39ms/step - loss: 0.3474 - categorical_accuracy: 0.8788 - val_loss: 0.2710 - val_categorical_accuracy: 0.9596\n",
      "Epoch 12/40\n",
      "7/8 [=========================>....] - ETA: 0s - loss: 0.2904 - categorical_accuracy: 0.9152\n",
      "Epoch 12: categorical_accuracy improved from 0.87879 to 0.91775, saving model to test.h5\n",
      "8/8 [==============================] - 0s 41ms/step - loss: 0.2876 - categorical_accuracy: 0.9177 - val_loss: 0.2296 - val_categorical_accuracy: 0.9697\n",
      "Epoch 13/40\n",
      "7/8 [=========================>....] - ETA: 0s - loss: 0.3028 - categorical_accuracy: 0.8929\n",
      "Epoch 13: categorical_accuracy did not improve from 0.91775\n",
      "8/8 [==============================] - 0s 39ms/step - loss: 0.3060 - categorical_accuracy: 0.8961 - val_loss: 0.3923 - val_categorical_accuracy: 0.8990\n",
      "Epoch 14/40\n",
      "7/8 [=========================>....] - ETA: 0s - loss: 0.3061 - categorical_accuracy: 0.9196\n",
      "Epoch 14: categorical_accuracy did not improve from 0.91775\n",
      "8/8 [==============================] - 0s 38ms/step - loss: 0.3095 - categorical_accuracy: 0.9177 - val_loss: 0.2290 - val_categorical_accuracy: 0.9495\n",
      "Epoch 15/40\n",
      "7/8 [=========================>....] - ETA: 0s - loss: 0.2537 - categorical_accuracy: 0.9420\n",
      "Epoch 15: categorical_accuracy improved from 0.91775 to 0.94372, saving model to test.h5\n",
      "8/8 [==============================] - 0s 41ms/step - loss: 0.2517 - categorical_accuracy: 0.9437 - val_loss: 0.1574 - val_categorical_accuracy: 0.9697\n",
      "Epoch 16/40\n",
      "7/8 [=========================>....] - ETA: 0s - loss: 0.2615 - categorical_accuracy: 0.9152\n",
      "Epoch 16: categorical_accuracy did not improve from 0.94372\n",
      "8/8 [==============================] - 0s 39ms/step - loss: 0.2599 - categorical_accuracy: 0.9134 - val_loss: 0.1835 - val_categorical_accuracy: 0.9394\n",
      "Epoch 17/40\n",
      "7/8 [=========================>....] - ETA: 0s - loss: 0.2360 - categorical_accuracy: 0.9196\n",
      "Epoch 17: categorical_accuracy did not improve from 0.94372\n",
      "8/8 [==============================] - 0s 38ms/step - loss: 0.2310 - categorical_accuracy: 0.9221 - val_loss: 0.1590 - val_categorical_accuracy: 0.9495\n",
      "Epoch 18/40\n",
      "7/8 [=========================>....] - ETA: 0s - loss: 0.2134 - categorical_accuracy: 0.9420\n",
      "Epoch 18: categorical_accuracy did not improve from 0.94372\n",
      "8/8 [==============================] - 0s 38ms/step - loss: 0.2156 - categorical_accuracy: 0.9394 - val_loss: 0.1497 - val_categorical_accuracy: 0.9293\n",
      "Epoch 19/40\n",
      "7/8 [=========================>....] - ETA: 0s - loss: 0.2573 - categorical_accuracy: 0.9152\n",
      "Epoch 19: categorical_accuracy did not improve from 0.94372\n",
      "8/8 [==============================] - 0s 40ms/step - loss: 0.2634 - categorical_accuracy: 0.9134 - val_loss: 0.1564 - val_categorical_accuracy: 0.9697\n",
      "Epoch 20/40\n",
      "7/8 [=========================>....] - ETA: 0s - loss: 0.2171 - categorical_accuracy: 0.9286\n",
      "Epoch 20: categorical_accuracy did not improve from 0.94372\n",
      "8/8 [==============================] - 0s 39ms/step - loss: 0.2145 - categorical_accuracy: 0.9307 - val_loss: 0.2281 - val_categorical_accuracy: 0.9293\n",
      "Epoch 21/40\n",
      "7/8 [=========================>....] - ETA: 0s - loss: 0.1982 - categorical_accuracy: 0.9509\n",
      "Epoch 21: categorical_accuracy improved from 0.94372 to 0.94805, saving model to test.h5\n",
      "8/8 [==============================] - 0s 42ms/step - loss: 0.1973 - categorical_accuracy: 0.9481 - val_loss: 0.1122 - val_categorical_accuracy: 0.9697\n",
      "Epoch 22/40\n",
      "7/8 [=========================>....] - ETA: 0s - loss: 0.1713 - categorical_accuracy: 0.9688\n",
      "Epoch 22: categorical_accuracy improved from 0.94805 to 0.96970, saving model to test.h5\n",
      "8/8 [==============================] - 0s 42ms/step - loss: 0.1668 - categorical_accuracy: 0.9697 - val_loss: 0.1679 - val_categorical_accuracy: 0.9293\n",
      "Epoch 23/40\n",
      "7/8 [=========================>....] - ETA: 0s - loss: 0.2144 - categorical_accuracy: 0.9464\n",
      "Epoch 23: categorical_accuracy did not improve from 0.96970\n",
      "8/8 [==============================] - 0s 39ms/step - loss: 0.2144 - categorical_accuracy: 0.9481 - val_loss: 0.1995 - val_categorical_accuracy: 0.8788\n",
      "Epoch 24/40\n",
      "7/8 [=========================>....] - ETA: 0s - loss: 0.1844 - categorical_accuracy: 0.9464\n",
      "Epoch 24: categorical_accuracy did not improve from 0.96970\n",
      "8/8 [==============================] - 0s 38ms/step - loss: 0.1865 - categorical_accuracy: 0.9437 - val_loss: 0.1121 - val_categorical_accuracy: 0.9596\n",
      "Epoch 25/40\n",
      "7/8 [=========================>....] - ETA: 0s - loss: 0.1729 - categorical_accuracy: 0.9464\n",
      "Epoch 25: categorical_accuracy did not improve from 0.96970\n",
      "8/8 [==============================] - 0s 38ms/step - loss: 0.1715 - categorical_accuracy: 0.9481 - val_loss: 0.0673 - val_categorical_accuracy: 0.9697\n",
      "Epoch 26/40\n",
      "7/8 [=========================>....] - ETA: 0s - loss: 0.1205 - categorical_accuracy: 0.9777\n",
      "Epoch 26: categorical_accuracy improved from 0.96970 to 0.97835, saving model to test.h5\n",
      "8/8 [==============================] - 0s 41ms/step - loss: 0.1204 - categorical_accuracy: 0.9784 - val_loss: 0.0654 - val_categorical_accuracy: 0.9697\n",
      "Epoch 27/40\n",
      "7/8 [=========================>....] - ETA: 0s - loss: 0.1125 - categorical_accuracy: 0.9688\n",
      "Epoch 27: categorical_accuracy did not improve from 0.97835\n",
      "8/8 [==============================] - 0s 38ms/step - loss: 0.1102 - categorical_accuracy: 0.9697 - val_loss: 0.0840 - val_categorical_accuracy: 0.9697\n",
      "Epoch 28/40\n",
      "7/8 [=========================>....] - ETA: 0s - loss: 0.0983 - categorical_accuracy: 0.9732\n",
      "Epoch 28: categorical_accuracy did not improve from 0.97835\n",
      "8/8 [==============================] - 0s 39ms/step - loss: 0.1000 - categorical_accuracy: 0.9697 - val_loss: 0.0635 - val_categorical_accuracy: 0.9697\n",
      "Epoch 29/40\n",
      "7/8 [=========================>....] - ETA: 0s - loss: 0.0917 - categorical_accuracy: 0.9777\n",
      "Epoch 29: categorical_accuracy did not improve from 0.97835\n",
      "8/8 [==============================] - 0s 38ms/step - loss: 0.0959 - categorical_accuracy: 0.9740 - val_loss: 0.0749 - val_categorical_accuracy: 0.9697\n",
      "Epoch 30/40\n",
      "7/8 [=========================>....] - ETA: 0s - loss: 0.1118 - categorical_accuracy: 0.9777\n",
      "Epoch 30: categorical_accuracy did not improve from 0.97835\n",
      "8/8 [==============================] - 0s 38ms/step - loss: 0.1100 - categorical_accuracy: 0.9784 - val_loss: 0.1044 - val_categorical_accuracy: 0.9697\n",
      "Epoch 31/40\n",
      "7/8 [=========================>....] - ETA: 0s - loss: 0.0985 - categorical_accuracy: 0.9821\n",
      "Epoch 31: categorical_accuracy improved from 0.97835 to 0.98268, saving model to test.h5\n",
      "8/8 [==============================] - 0s 41ms/step - loss: 0.0958 - categorical_accuracy: 0.9827 - val_loss: 0.1278 - val_categorical_accuracy: 0.9596\n",
      "Epoch 32/40\n",
      "7/8 [=========================>....] - ETA: 0s - loss: 0.0978 - categorical_accuracy: 0.9821\n",
      "Epoch 32: categorical_accuracy did not improve from 0.98268\n",
      "8/8 [==============================] - 0s 39ms/step - loss: 0.0953 - categorical_accuracy: 0.9827 - val_loss: 0.0698 - val_categorical_accuracy: 0.9697\n",
      "Epoch 33/40\n",
      "7/8 [=========================>....] - ETA: 0s - loss: 0.0837 - categorical_accuracy: 0.9821\n",
      "Epoch 33: categorical_accuracy did not improve from 0.98268\n",
      "8/8 [==============================] - 0s 39ms/step - loss: 0.0816 - categorical_accuracy: 0.9827 - val_loss: 0.0683 - val_categorical_accuracy: 0.9697\n",
      "Epoch 34/40\n",
      "7/8 [=========================>....] - ETA: 0s - loss: 0.0783 - categorical_accuracy: 0.9821\n",
      "Epoch 34: categorical_accuracy did not improve from 0.98268\n",
      "8/8 [==============================] - 0s 39ms/step - loss: 0.0769 - categorical_accuracy: 0.9827 - val_loss: 0.0638 - val_categorical_accuracy: 0.9697\n",
      "Epoch 35/40\n",
      "7/8 [=========================>....] - ETA: 0s - loss: 0.0950 - categorical_accuracy: 0.9777\n",
      "Epoch 35: categorical_accuracy did not improve from 0.98268\n",
      "8/8 [==============================] - 0s 38ms/step - loss: 0.0948 - categorical_accuracy: 0.9784 - val_loss: 0.0668 - val_categorical_accuracy: 0.9697\n",
      "Epoch 36/40\n",
      "7/8 [=========================>....] - ETA: 0s - loss: 0.0566 - categorical_accuracy: 0.9821\n",
      "Epoch 36: categorical_accuracy did not improve from 0.98268\n",
      "8/8 [==============================] - 0s 38ms/step - loss: 0.0560 - categorical_accuracy: 0.9827 - val_loss: 0.0560 - val_categorical_accuracy: 0.9697\n",
      "Epoch 37/40\n",
      "7/8 [=========================>....] - ETA: 0s - loss: 0.0546 - categorical_accuracy: 0.9911\n",
      "Epoch 37: categorical_accuracy improved from 0.98268 to 0.99134, saving model to test.h5\n",
      "8/8 [==============================] - 0s 43ms/step - loss: 0.0561 - categorical_accuracy: 0.9913 - val_loss: 0.0632 - val_categorical_accuracy: 0.9697\n",
      "Epoch 38/40\n",
      "7/8 [=========================>....] - ETA: 0s - loss: 0.0875 - categorical_accuracy: 0.9821\n",
      "Epoch 38: categorical_accuracy did not improve from 0.99134\n",
      "8/8 [==============================] - 0s 39ms/step - loss: 0.0860 - categorical_accuracy: 0.9827 - val_loss: 0.0831 - val_categorical_accuracy: 0.9697\n",
      "Epoch 39/40\n",
      "7/8 [=========================>....] - ETA: 0s - loss: 0.0625 - categorical_accuracy: 0.9821\n",
      "Epoch 39: categorical_accuracy did not improve from 0.99134\n",
      "8/8 [==============================] - 0s 39ms/step - loss: 0.0615 - categorical_accuracy: 0.9827 - val_loss: 0.0735 - val_categorical_accuracy: 0.9697\n",
      "Epoch 40/40\n",
      "7/8 [=========================>....] - ETA: 0s - loss: 0.0656 - categorical_accuracy: 0.9866\n",
      "Epoch 40: categorical_accuracy did not improve from 0.99134\n",
      "8/8 [==============================] - 0s 38ms/step - loss: 0.0639 - categorical_accuracy: 0.9870 - val_loss: 0.0849 - val_categorical_accuracy: 0.9697\n"
     ]
    }
   ],
   "source": [
    "train_model = model.fit(X_train, y_train, epochs=40, callbacks=[checkpoint], validation_data=(X_test, y_test))"
   ]
  },
  {
   "cell_type": "code",
   "execution_count": 33,
   "metadata": {},
   "outputs": [
    {
     "data": {
      "image/png": "[encoded data removed]",
      "text/plain": [
       "<Figure size 432x288 with 1 Axes>"
      ]
     },
     "metadata": {
      "needs_background": "light"
     },
     "output_type": "display_data"
    },
    {
     "data": {
      "image/png": "[encoded data removed]",
      "text/plain": [
       "<Figure size 432x288 with 1 Axes>"
      ]
     },
     "metadata": {
      "needs_background": "light"
     },
     "output_type": "display_data"
    },
    {
     "name": "stdout",
     "output_type": "stream",
     "text": [
      "Model: \"sequential_2\"\n",
      "_________________________________________________________________\n",
      " Layer (type)                Output Shape              Param #   \n",
      "=================================================================\n",
      " time_distributed_2 (TimeDi  (None, 30, 256)           27904     \n",
      " stributed)                                                      \n",
      "                                                                 \n",
      " lstm_4 (LSTM)               (None, 30, 128)           197120    \n",
      "                                                                 \n",
      " dropout_6 (Dropout)         (None, 30, 128)           0         \n",
      "                                                                 \n",
      " lstm_5 (LSTM)               (None, 64)                49408     \n",
      "                                                                 \n",
      " dropout_7 (Dropout)         (None, 64)                0         \n",
      "                                                                 \n",
      " dense_7 (Dense)             (None, 64)                4160      \n",
      "                                                                 \n",
      " dropout_8 (Dropout)         (None, 64)                0         \n",
      "                                                                 \n",
      " dense_8 (Dense)             (None, 11)                715       \n",
      "                                                                 \n",
      "=================================================================\n",
      "Total params: 279307 (1.07 MB)\n",
      "Trainable params: 279307 (1.07 MB)\n",
      "Non-trainable params: 0 (0.00 Byte)\n",
      "_________________________________________________________________\n"
     ]
    }
   ],
   "source": [
    "# print(train_model.history.keys())\n",
    "\n",
    "plt.plot(train_model.history['categorical_accuracy'])\n",
    "plt.plot(train_model.history['val_categorical_accuracy'])\n",
    "plt.title('model accuracy')\n",
    "plt.ylabel('accuracy')\n",
    "plt.xlabel('epoch')\n",
    "plt.legend(['train', 'validation'], loc='lower right')\n",
    "plt.show()\n",
    "\n",
    "plt.plot(train_model.history['loss'])\n",
    "plt.plot(train_model.history['val_loss'])\n",
    "plt.title('model loss')\n",
    "plt.ylabel('loss')\n",
    "plt.xlabel('epoch')\n",
    "plt.legend(['train', 'validation'], loc='upper right')\n",
    "plt.show()\n",
    "\n",
    "# score, acc = model.evaluate(X_test,y_test,batch_size=32,verbose=0)\n",
    "# print('Test performance: accuracy={0}, loss={1}'.format(acc, score)) \n",
    "# print(X_train.shape, X_test.shape)\n",
    "# print(y_train.shape, y_test.shape)\n",
    "    \n",
    "model.summary()"
   ]
  },
  {
   "cell_type": "code",
   "execution_count": 34,
   "metadata": {},
   "outputs": [],
   "source": [
    "model.save('model-bimbingan.h5')"
   ]
  },
  {
   "cell_type": "markdown",
   "metadata": {},
   "source": [
    "# **Make Predictions**"
   ]
  },
  {
   "cell_type": "code",
   "execution_count": 35,
   "metadata": {},
   "outputs": [
    {
     "name": "stdout",
     "output_type": "stream",
     "text": [
      "4/4 [==============================] - 1s 9ms/step\n"
     ]
    }
   ],
   "source": [
    "res = model.predict(X_test)"
   ]
  },
  {
   "cell_type": "code",
   "execution_count": 36,
   "metadata": {},
   "outputs": [
    {
     "data": {
      "text/plain": [
       "'translate'"
      ]
     },
     "execution_count": 36,
     "metadata": {},
     "output_type": "execute_result"
    }
   ],
   "source": [
    "actions[np.argmax(res[11])]"
   ]
  },
  {
   "cell_type": "code",
   "execution_count": 37,
   "metadata": {},
   "outputs": [
    {
     "data": {
      "text/plain": [
       "'translate'"
      ]
     },
     "execution_count": 37,
     "metadata": {},
     "output_type": "execute_result"
    }
   ],
   "source": [
    "actions[np.argmax(y_test[11])]"
   ]
  },
  {
   "cell_type": "markdown",
   "metadata": {},
   "source": [
    "# **Save Weights**"
   ]
  },
  {
   "cell_type": "code",
   "execution_count": 418,
   "metadata": {},
   "outputs": [],
   "source": [
    "model.save('model.h5')"
   ]
  },
  {
   "cell_type": "code",
   "execution_count": 419,
   "metadata": {},
   "outputs": [],
   "source": [
    "del model"
   ]
  },
  {
   "cell_type": "code",
   "execution_count": 38,
   "metadata": {},
   "outputs": [],
   "source": [
    "# model.load_weights('model.h5')\n",
    "\n",
    "model.load_weights('model-bimbingan.h5')"
   ]
  },
  {
   "cell_type": "markdown",
   "metadata": {},
   "source": [
    "# **Evaluation using Confusion Matrix and Accuracy**"
   ]
  },
  {
   "cell_type": "code",
   "execution_count": 39,
   "metadata": {},
   "outputs": [],
   "source": [
    "from sklearn.metrics import multilabel_confusion_matrix, accuracy_score\n",
    "from sklearn.metrics import confusion_matrix\n",
    "import matplotlib.pyplot as plt\n",
    "from sklearn.model_selection import train_test_split\n",
    "from sklearn.datasets import make_multilabel_classification\n",
    "from sklearn.tree import DecisionTreeClassifier\n",
    "import seaborn as sns"
   ]
  },
  {
   "cell_type": "code",
   "execution_count": 40,
   "metadata": {},
   "outputs": [
    {
     "name": "stdout",
     "output_type": "stream",
     "text": [
      "4/4 [==============================] - 0s 10ms/step\n"
     ]
    }
   ],
   "source": [
    "yhat = model.predict(X_test)"
   ]
  },
  {
   "cell_type": "code",
   "execution_count": 41,
   "metadata": {},
   "outputs": [],
   "source": [
    "ytrue = np.argmax(y_test, axis=1).tolist()\n",
    "yhat = np.argmax(yhat, axis=1).tolist()"
   ]
  },
  {
   "cell_type": "code",
   "execution_count": 42,
   "metadata": {},
   "outputs": [
    {
     "name": "stdout",
     "output_type": "stream",
     "text": [
      "[[[88  0]\n",
      "  [ 0 11]]\n",
      "\n",
      " [[90  0]\n",
      "  [ 0  9]]\n",
      "\n",
      " [[90  0]\n",
      "  [ 0  9]]\n",
      "\n",
      " [[86  0]\n",
      "  [ 0 13]]\n",
      "\n",
      " [[86  3]\n",
      "  [ 0 10]]\n",
      "\n",
      " [[90  0]\n",
      "  [ 3  6]]\n",
      "\n",
      " [[93  0]\n",
      "  [ 0  6]]\n",
      "\n",
      " [[91  0]\n",
      "  [ 0  8]]\n",
      "\n",
      " [[94  0]\n",
      "  [ 0  5]]\n",
      "\n",
      " [[89  0]\n",
      "  [ 0 10]]\n",
      "\n",
      " [[90  0]\n",
      "  [ 0  9]]]\n"
     ]
    }
   ],
   "source": [
    "mcm = multilabel_confusion_matrix(ytrue, yhat)\n",
    "print(mcm)"
   ]
  },
  {
   "cell_type": "code",
   "execution_count": 43,
   "metadata": {},
   "outputs": [
    {
     "data": {
      "image/png": "[encoded data removed]",
      "text/plain": [
       "<Figure size 720x576 with 2 Axes>"
      ]
     },
     "metadata": {
      "needs_background": "light"
     },
     "output_type": "display_data"
    }
   ],
   "source": [
    "ytrue = np.argmax(y_test, axis=1)\n",
    "conf_matrix = confusion_matrix(ytrue, yhat)\n",
    "\n",
    "plt.figure(figsize=(10, 8))\n",
    "heatMap = sns.heatmap(conf_matrix, annot=True, fmt='d', cmap='Blues', xticklabels=actions, yticklabels=actions)\n",
    "\n",
    "heatMap.set_xlabel('Predicted Label', labelpad=30, weight='bold')\n",
    "heatMap.set_ylabel('True Label', labelpad=30, weight='bold')\n",
    "\n",
    "heatMap.set_title('Confusion Matrix', pad=20, weight='bold', fontsize=20)\n",
    "plt.show()"
   ]
  },
  {
   "cell_type": "code",
   "execution_count": 44,
   "metadata": {},
   "outputs": [
    {
     "name": "stdout",
     "output_type": "stream",
     "text": [
      "              precision    recall  f1-score   support\n",
      "\n",
      "        maaf       1.00      1.00      1.00        11\n",
      "      tolong       1.00      1.00      1.00         9\n",
      "        nama       1.00      1.00      1.00         9\n",
      "        saya       1.00      1.00      1.00        13\n",
      "        kamu       0.77      1.00      0.87        10\n",
      "       siapa       1.00      0.67      0.80         9\n",
      "       rumah       1.00      1.00      1.00         6\n",
      "       start       1.00      1.00      1.00         8\n",
      "     standby       1.00      1.00      1.00         5\n",
      "      delete       1.00      1.00      1.00        10\n",
      "   translate       1.00      1.00      1.00         9\n",
      "\n",
      "    accuracy                           0.97        99\n",
      "   macro avg       0.98      0.97      0.97        99\n",
      "weighted avg       0.98      0.97      0.97        99\n",
      "\n"
     ]
    }
   ],
   "source": [
    "from sklearn.metrics import classification_report\n",
    "\n",
    "# Assuming ytrue and yhat are the true and predicted labels, respectively\n",
    "report = classification_report(ytrue, yhat, target_names=actions)\n",
    "print(report)"
   ]
  },
  {
   "cell_type": "code",
   "execution_count": 45,
   "metadata": {},
   "outputs": [
    {
     "name": "stdout",
     "output_type": "stream",
     "text": [
      "Class: maaf\n",
      "Precision: 1.0\n",
      "Recall: 1.0\n",
      "F1 Score: 1.0\n",
      "\n",
      "Class: tolong\n",
      "Precision: 1.0\n",
      "Recall: 1.0\n",
      "F1 Score: 1.0\n",
      "\n",
      "Class: nama\n",
      "Precision: 1.0\n",
      "Recall: 1.0\n",
      "F1 Score: 1.0\n",
      "\n",
      "Class: saya\n",
      "Precision: 1.0\n",
      "Recall: 1.0\n",
      "F1 Score: 1.0\n",
      "\n",
      "Class: kamu\n",
      "Precision: 0.7692307692307693\n",
      "Recall: 1.0\n",
      "F1 Score: 0.8695652173913044\n",
      "\n",
      "Class: siapa\n",
      "Precision: 1.0\n",
      "Recall: 0.6666666666666666\n",
      "F1 Score: 0.8\n",
      "\n",
      "Class: rumah\n",
      "Precision: 1.0\n",
      "Recall: 1.0\n",
      "F1 Score: 1.0\n",
      "\n",
      "Class: start\n",
      "Precision: 1.0\n",
      "Recall: 1.0\n",
      "F1 Score: 1.0\n",
      "\n",
      "Class: standby\n",
      "Precision: 1.0\n",
      "Recall: 1.0\n",
      "F1 Score: 1.0\n",
      "\n",
      "Class: delete\n",
      "Precision: 1.0\n",
      "Recall: 1.0\n",
      "F1 Score: 1.0\n",
      "\n",
      "Class: translate\n",
      "Precision: 1.0\n",
      "Recall: 1.0\n",
      "F1 Score: 1.0\n",
      "\n",
      "Class: maaf\n",
      "Accuracy: 1.0\n",
      "\n",
      "Class: tolong\n",
      "Accuracy: 1.0\n",
      "\n",
      "Class: nama\n",
      "Accuracy: 1.0\n",
      "\n",
      "Class: saya\n",
      "Accuracy: 1.0\n",
      "\n",
      "Class: kamu\n",
      "Accuracy: 0.7692307692307693\n",
      "\n",
      "Class: siapa\n",
      "Accuracy: 1.0\n",
      "\n",
      "Class: rumah\n",
      "Accuracy: 1.0\n",
      "\n",
      "Class: start\n",
      "Accuracy: 1.0\n",
      "\n",
      "Class: standby\n",
      "Accuracy: 1.0\n",
      "\n",
      "Class: delete\n",
      "Accuracy: 1.0\n",
      "\n",
      "Class: translate\n",
      "Accuracy: 1.0\n",
      "\n"
     ]
    }
   ],
   "source": [
    "from sklearn.metrics import precision_recall_fscore_support\n",
    "\n",
    "# Assuming ytrue and yhat are the true and predicted labels, respectively\n",
    "metrics = precision_recall_fscore_support(ytrue, yhat)\n",
    "\n",
    "precision_per_class = metrics[0]\n",
    "recall_per_class = metrics[1]\n",
    "f1_score_per_class = metrics[2]\n",
    "\n",
    "# Print metrics for each class\n",
    "for i, class_name in enumerate(actions):\n",
    "    print(f\"Class: {class_name}\")\n",
    "    print(f\"Precision: {precision_per_class[i]}\")\n",
    "    print(f\"Recall: {recall_per_class[i]}\")\n",
    "    print(f\"F1 Score: {f1_score_per_class[i]}\\n\")\n",
    "\n",
    "# For accuracy per class, you would need to calculate it manually:\n",
    "accuracy_per_class = [(conf_matrix[i, i] / np.sum(conf_matrix[:, i])) for i in range(len(actions))]\n",
    "\n",
    "for i, class_name in enumerate(actions):\n",
    "    print(f\"Class: {class_name}\")\n",
    "    print(f\"Accuracy: {accuracy_per_class[i]}\\n\")"
   ]
  }
 ],
 "metadata": {
  "kernelspec": {
   "display_name": "Python 3",
   "language": "python",
   "name": "python3"
  },
  "language_info": {
   "codemirror_mode": {
    "name": "ipython",
    "version": 3
   },
   "file_extension": ".py",
   "mimetype": "text/x-python",
   "name": "python",
   "nbconvert_exporter": "python",
   "pygments_lexer": "ipython3",
   "version": "3.10.4"
  }
 },
 "nbformat": 4,
 "nbformat_minor": 2
}
