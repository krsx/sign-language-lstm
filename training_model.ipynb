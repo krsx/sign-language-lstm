{
 "cells": [
  {
   "cell_type": "markdown",
   "metadata": {},
   "source": [
    "# **Preprocess Data and Create Labels and Features**"
   ]
  },
  {
   "cell_type": "code",
   "execution_count": 87,
   "metadata": {},
   "outputs": [],
   "source": [
    "from sklearn.model_selection import train_test_split\n",
    "from sklearn.metrics import confusion_matrix\n",
    "import tensorflow as tf\n",
    "from keras.utils import to_categorical\n",
    "import numpy as np\n",
    "import os\n",
    "import cv2 as cv\n",
    "import mediapipe as mp\n",
    "from matplotlib import pyplot as plt\n",
    "from mediapipe.python.solutions.pose import PoseLandmark\n",
    "\n",
    "from tensorflow.keras.models import Sequential\n",
    "from tensorflow.keras.layers import LSTM, Dense, Dropout, TimeDistributed\n",
    "from tensorflow.keras.callbacks import TensorBoard, EarlyStopping, ModelCheckpoint\n",
    "from tensorflow.keras.utils import plot_model\n",
    "\n",
    "from sklearn.metrics import multilabel_confusion_matrix, accuracy_score\n",
    "from sklearn.metrics import confusion_matrix\n",
    "import matplotlib.pyplot as plt\n",
    "from sklearn.model_selection import train_test_split\n",
    "from sklearn.datasets import make_multilabel_classification\n",
    "from sklearn.tree import DecisionTreeClassifier\n",
    "import seaborn as sns"
   ]
  },
  {
   "cell_type": "code",
   "execution_count": 88,
   "metadata": {},
   "outputs": [],
   "source": [
    "DATA_PATH = os.path.join('My_Datasets')\n",
    "\n",
    "actions = np.array([\"maaf\", \"tolong\", \"nama\", \"saya\", \"siapa\", \"rumah\", \"start\", \"standby\", \"delete\", \"translate\", \"dimana\"])\n",
    "\n",
    "no_sequences = 30\n",
    "\n",
    "sequence_length = 30"
   ]
  },
  {
   "cell_type": "code",
   "execution_count": 89,
   "metadata": {},
   "outputs": [
    {
     "data": {
      "text/plain": [
       "(330, 30, 108)"
      ]
     },
     "execution_count": 89,
     "metadata": {},
     "output_type": "execute_result"
    }
   ],
   "source": [
    "\n",
    "label_map = {label:num for num, label in enumerate(actions)}\n",
    "label_map\n",
    "\n",
    "sequences, labels = [], []\n",
    "for action in actions:\n",
    "    for sequence in np.array(os.listdir(os.path.join(DATA_PATH, action))).astype(int):\n",
    "        window = []\n",
    "        for frame_num in range(sequence_length):\n",
    "            res = np.load(os.path.join(DATA_PATH, action, str(sequence), \"{}-norm.npy\".format(frame_num)))\n",
    "            \n",
    "            window.append(res)\n",
    "        sequences.append(window)\n",
    "        labels.append(label_map[action])\n",
    "\n",
    "np.array(sequences).shape"
   ]
  },
  {
   "cell_type": "code",
   "execution_count": 90,
   "metadata": {},
   "outputs": [
    {
     "name": "stdout",
     "output_type": "stream",
     "text": [
      "(231, 30, 108)\n",
      "(99, 30, 108)\n",
      "(231, 11)\n",
      "(99, 11)\n"
     ]
    }
   ],
   "source": [
    "X = np.array(sequences)\n",
    "y = to_categorical(labels).astype(int)\n",
    "\n",
    "X_train, X_test, y_train, y_test = train_test_split(X, y, test_size=0.3, random_state=42)\n",
    "\n",
    "print(X_train.shape)\n",
    "print(X_test.shape)\n",
    "print(y_train.shape)\n",
    "print(y_test.shape)"
   ]
  },
  {
   "cell_type": "markdown",
   "metadata": {},
   "source": [
    "# **Build and Train LSTM Neural Network**"
   ]
  },
  {
   "cell_type": "code",
   "execution_count": 91,
   "metadata": {},
   "outputs": [],
   "source": [
    "checkpoint = ModelCheckpoint('test.h5', monitor='categorical_accuracy', verbose=1, mode = 'max', save_best_only=True, save_weights_only=False,save_freq='epoch')"
   ]
  },
  {
   "cell_type": "code",
   "execution_count": 92,
   "metadata": {},
   "outputs": [
    {
     "name": "stdout",
     "output_type": "stream",
     "text": [
      "Model: \"sequential_5\"\n",
      "_________________________________________________________________\n",
      " Layer (type)                Output Shape              Param #   \n",
      "=================================================================\n",
      " time_distributed_5 (TimeDi  (None, 30, 128)           13952     \n",
      " stributed)                                                      \n",
      "                                                                 \n",
      " lstm_10 (LSTM)              (None, 30, 128)           131584    \n",
      "                                                                 \n",
      " dropout_15 (Dropout)        (None, 30, 128)           0         \n",
      "                                                                 \n",
      " lstm_11 (LSTM)              (None, 64)                49408     \n",
      "                                                                 \n",
      " dropout_16 (Dropout)        (None, 64)                0         \n",
      "                                                                 \n",
      " dense_16 (Dense)            (None, 32)                2080      \n",
      "                                                                 \n",
      " dropout_17 (Dropout)        (None, 32)                0         \n",
      "                                                                 \n",
      " dense_17 (Dense)            (None, 11)                363       \n",
      "                                                                 \n",
      "=================================================================\n",
      "Total params: 197387 (771.04 KB)\n",
      "Trainable params: 197387 (771.04 KB)\n",
      "Non-trainable params: 0 (0.00 Byte)\n",
      "_________________________________________________________________\n"
     ]
    }
   ],
   "source": [
    "# model = Sequential()\n",
    "\n",
    "# model.add(TimeDistributed(Dense(units=64, activation='tanh'), input_shape=(30, 108)))\n",
    "# model.add(LSTM(64, return_sequences=True, activation='tanh'))\n",
    "# model.add(Dropout(0.5))\n",
    "# model.add(LSTM(32, return_sequences=False, activation='tanh'))\n",
    "# model.add(Dropout(0.5))\n",
    "# model.add(Dense(16, activation='relu'))\n",
    "# model.add(Dropout(0.2))\n",
    "# model.add(Dense(actions.shape[0], activation='softmax'))\n",
    "\n",
    "# model.summary()\n",
    "\n",
    "model = Sequential()\n",
    "\n",
    "model.add(TimeDistributed(Dense(units=128, activation='tanh'), input_shape=(30, 108)))\n",
    "model.add(LSTM(128, return_sequences=True, activation='tanh'))\n",
    "model.add(Dropout(0.5))\n",
    "model.add(LSTM(64, return_sequences=False, activation='tanh'))\n",
    "model.add(Dropout(0.5))\n",
    "model.add(Dense(32, activation='relu'))\n",
    "model.add(Dropout(0.2))\n",
    "model.add(Dense(actions.shape[0], activation='softmax'))\n",
    "\n",
    "model.summary()"
   ]
  },
  {
   "cell_type": "code",
   "execution_count": 93,
   "metadata": {},
   "outputs": [],
   "source": [
    "# model = Sequential()\n",
    "\n",
    "# model.add(TimeDistributed(Dense(units=256, activation='tanh'), input_shape=(30, 108)))\n",
    "# model.add(LSTM(128, return_sequences=False, activation='tanh', input_shape=(30,108)))\n",
    "# model.add(Dropout(0.5))\n",
    "# model.add(Dense(128, activation='relu'))\n",
    "# model.add(Dropout(0.5))\n",
    "# model.add(Dense(actions.shape[0], activation='softmax'))"
   ]
  },
  {
   "cell_type": "code",
   "execution_count": 94,
   "metadata": {},
   "outputs": [],
   "source": [
    "# COMPLEX MODEL -> EXPERIMENTAL\n",
    "# model = Sequential()\n",
    "\n",
    "# model.add(LSTM(128, return_sequences=True, activation='tanh', input_shape=(30,108)))\n",
    "# model.add(LSTM(64, return_sequences=True, activation='tanh'))\n",
    "# model.add(LSTM(32, return_sequences=False, activation='tanh'))\n",
    "# model.add(Dropout(0.4))\n",
    "# model.add(Dense(32, activation='relu'))\n",
    "# model.add(Dense(32, activation='relu'))\n",
    "# model.add(Dense(actions.shape[0], activation='softmax'))"
   ]
  },
  {
   "cell_type": "code",
   "execution_count": 95,
   "metadata": {},
   "outputs": [],
   "source": [
    "# COMPLEX MODEL 2\n",
    "\n",
    "# model = Sequential()\n",
    "\n",
    "# model.add(LSTM(128, return_sequences=True, activation='tanh', input_shape=(30,108)))\n",
    "# model.add(LSTM(64, return_sequences=True, activation='tanh'))\n",
    "# model.add(LSTM(32, return_sequences=False, activation='tanh'))\n",
    "# model.add(Dropout(0.5))\n",
    "# model.add(Dense(actions.shape[0], activation='softmax'))"
   ]
  },
  {
   "cell_type": "code",
   "execution_count": 96,
   "metadata": {},
   "outputs": [
    {
     "name": "stdout",
     "output_type": "stream",
     "text": [
      "Epoch 1/25\n"
     ]
    },
    {
     "name": "stdout",
     "output_type": "stream",
     "text": [
      "7/8 [=========================>....] - ETA: 0s - loss: 2.2818 - categorical_accuracy: 0.1741\n",
      "Epoch 1: categorical_accuracy improved from -inf to 0.18182, saving model to test.h5\n",
      "8/8 [==============================] - 4s 125ms/step - loss: 2.2750 - categorical_accuracy: 0.1818 - val_loss: 1.9019 - val_categorical_accuracy: 0.5051\n",
      "Epoch 2/25\n",
      "5/8 [=================>............] - ETA: 0s - loss: 1.8912 - categorical_accuracy: 0.4437"
     ]
    },
    {
     "name": "stderr",
     "output_type": "stream",
     "text": [
      "c:\\Users\\krisn\\AppData\\Local\\Programs\\Python\\Python310\\lib\\site-packages\\keras\\src\\engine\\training.py:3000: UserWarning: You are saving your model as an HDF5 file via `model.save()`. This file format is considered legacy. We recommend using instead the native Keras format, e.g. `model.save('my_model.keras')`.\n",
      "  saving_api.save_model(\n"
     ]
    },
    {
     "name": "stdout",
     "output_type": "stream",
     "text": [
      "8/8 [==============================] - ETA: 0s - loss: 1.8840 - categorical_accuracy: 0.4545\n",
      "Epoch 2: categorical_accuracy improved from 0.18182 to 0.45455, saving model to test.h5\n",
      "8/8 [==============================] - 0s 41ms/step - loss: 1.8840 - categorical_accuracy: 0.4545 - val_loss: 1.5907 - val_categorical_accuracy: 0.5455\n",
      "Epoch 3/25\n",
      "7/8 [=========================>....] - ETA: 0s - loss: 1.6296 - categorical_accuracy: 0.5089\n",
      "Epoch 3: categorical_accuracy improved from 0.45455 to 0.51515, saving model to test.h5\n",
      "8/8 [==============================] - 0s 37ms/step - loss: 1.6210 - categorical_accuracy: 0.5152 - val_loss: 1.3488 - val_categorical_accuracy: 0.5556\n",
      "Epoch 4/25\n",
      "6/8 [=====================>........] - ETA: 0s - loss: 1.4455 - categorical_accuracy: 0.5573\n",
      "Epoch 4: categorical_accuracy improved from 0.51515 to 0.58442, saving model to test.h5\n",
      "8/8 [==============================] - 0s 37ms/step - loss: 1.4168 - categorical_accuracy: 0.5844 - val_loss: 1.1307 - val_categorical_accuracy: 0.6263\n",
      "Epoch 5/25\n",
      "7/8 [=========================>....] - ETA: 0s - loss: 1.2397 - categorical_accuracy: 0.6384\n",
      "Epoch 5: categorical_accuracy improved from 0.58442 to 0.64069, saving model to test.h5\n",
      "8/8 [==============================] - 0s 36ms/step - loss: 1.2384 - categorical_accuracy: 0.6407 - val_loss: 0.9481 - val_categorical_accuracy: 0.7475\n",
      "Epoch 6/25\n",
      "6/8 [=====================>........] - ETA: 0s - loss: 1.0340 - categorical_accuracy: 0.7292\n",
      "Epoch 6: categorical_accuracy improved from 0.64069 to 0.70996, saving model to test.h5\n",
      "8/8 [==============================] - 0s 36ms/step - loss: 1.0353 - categorical_accuracy: 0.7100 - val_loss: 0.7844 - val_categorical_accuracy: 0.7980\n",
      "Epoch 7/25\n",
      "6/8 [=====================>........] - ETA: 0s - loss: 0.8862 - categorical_accuracy: 0.7917\n",
      "Epoch 7: categorical_accuracy improved from 0.70996 to 0.77922, saving model to test.h5\n",
      "8/8 [==============================] - 0s 36ms/step - loss: 0.8910 - categorical_accuracy: 0.7792 - val_loss: 0.6736 - val_categorical_accuracy: 0.8182\n",
      "Epoch 8/25\n",
      "7/8 [=========================>....] - ETA: 0s - loss: 0.7943 - categorical_accuracy: 0.7723\n",
      "Epoch 8: categorical_accuracy did not improve from 0.77922\n",
      "8/8 [==============================] - 0s 33ms/step - loss: 0.7976 - categorical_accuracy: 0.7749 - val_loss: 0.5967 - val_categorical_accuracy: 0.8283\n",
      "Epoch 9/25\n",
      "8/8 [==============================] - ETA: 0s - loss: 0.6826 - categorical_accuracy: 0.8528\n",
      "Epoch 9: categorical_accuracy improved from 0.77922 to 0.85281, saving model to test.h5\n",
      "8/8 [==============================] - 0s 37ms/step - loss: 0.6826 - categorical_accuracy: 0.8528 - val_loss: 0.5535 - val_categorical_accuracy: 0.8182\n",
      "Epoch 10/25\n",
      "8/8 [==============================] - ETA: 0s - loss: 0.5862 - categorical_accuracy: 0.8355\n",
      "Epoch 10: categorical_accuracy did not improve from 0.85281\n",
      "8/8 [==============================] - 0s 33ms/step - loss: 0.5862 - categorical_accuracy: 0.8355 - val_loss: 0.4550 - val_categorical_accuracy: 0.8485\n",
      "Epoch 11/25\n",
      "7/8 [=========================>....] - ETA: 0s - loss: 0.5207 - categorical_accuracy: 0.8571\n",
      "Epoch 11: categorical_accuracy improved from 0.85281 to 0.85714, saving model to test.h5\n",
      "8/8 [==============================] - 0s 37ms/step - loss: 0.5137 - categorical_accuracy: 0.8571 - val_loss: 0.3558 - val_categorical_accuracy: 0.8788\n",
      "Epoch 12/25\n",
      "7/8 [=========================>....] - ETA: 0s - loss: 0.4324 - categorical_accuracy: 0.8839\n",
      "Epoch 12: categorical_accuracy improved from 0.85714 to 0.88745, saving model to test.h5\n",
      "8/8 [==============================] - 0s 37ms/step - loss: 0.4287 - categorical_accuracy: 0.8874 - val_loss: 0.2695 - val_categorical_accuracy: 0.9091\n",
      "Epoch 13/25\n",
      "7/8 [=========================>....] - ETA: 0s - loss: 0.3926 - categorical_accuracy: 0.8795\n",
      "Epoch 13: categorical_accuracy did not improve from 0.88745\n",
      "8/8 [==============================] - 0s 35ms/step - loss: 0.3932 - categorical_accuracy: 0.8788 - val_loss: 0.2487 - val_categorical_accuracy: 0.8687\n",
      "Epoch 14/25\n",
      "7/8 [=========================>....] - ETA: 0s - loss: 0.3030 - categorical_accuracy: 0.9241\n",
      "Epoch 14: categorical_accuracy improved from 0.88745 to 0.91342, saving model to test.h5\n",
      "8/8 [==============================] - 0s 37ms/step - loss: 0.3178 - categorical_accuracy: 0.9134 - val_loss: 0.2269 - val_categorical_accuracy: 0.9293\n",
      "Epoch 15/25\n",
      "7/8 [=========================>....] - ETA: 0s - loss: 0.3195 - categorical_accuracy: 0.9196\n",
      "Epoch 15: categorical_accuracy improved from 0.91342 to 0.92208, saving model to test.h5\n",
      "8/8 [==============================] - 0s 38ms/step - loss: 0.3160 - categorical_accuracy: 0.9221 - val_loss: 0.2174 - val_categorical_accuracy: 0.9394\n",
      "Epoch 16/25\n",
      "6/8 [=====================>........] - ETA: 0s - loss: 0.3269 - categorical_accuracy: 0.9010\n",
      "Epoch 16: categorical_accuracy did not improve from 0.92208\n",
      "8/8 [==============================] - 0s 33ms/step - loss: 0.3248 - categorical_accuracy: 0.9048 - val_loss: 0.2385 - val_categorical_accuracy: 0.8687\n",
      "Epoch 17/25\n",
      "7/8 [=========================>....] - ETA: 0s - loss: 0.2659 - categorical_accuracy: 0.9152\n",
      "Epoch 17: categorical_accuracy did not improve from 0.92208\n",
      "8/8 [==============================] - 0s 33ms/step - loss: 0.2627 - categorical_accuracy: 0.9177 - val_loss: 0.2060 - val_categorical_accuracy: 0.8889\n",
      "Epoch 18/25\n",
      "6/8 [=====================>........] - ETA: 0s - loss: 0.3873 - categorical_accuracy: 0.8802\n",
      "Epoch 18: categorical_accuracy did not improve from 0.92208\n",
      "8/8 [==============================] - 0s 32ms/step - loss: 0.3655 - categorical_accuracy: 0.8874 - val_loss: 0.2679 - val_categorical_accuracy: 0.8687\n",
      "Epoch 19/25\n",
      "7/8 [=========================>....] - ETA: 0s - loss: 0.3330 - categorical_accuracy: 0.8795\n",
      "Epoch 19: categorical_accuracy did not improve from 0.92208\n",
      "8/8 [==============================] - 0s 34ms/step - loss: 0.3286 - categorical_accuracy: 0.8788 - val_loss: 0.2918 - val_categorical_accuracy: 0.8889\n",
      "Epoch 20/25\n",
      "7/8 [=========================>....] - ETA: 0s - loss: 0.3315 - categorical_accuracy: 0.8973\n",
      "Epoch 20: categorical_accuracy did not improve from 0.92208\n",
      "8/8 [==============================] - 0s 36ms/step - loss: 0.3253 - categorical_accuracy: 0.9004 - val_loss: 0.2319 - val_categorical_accuracy: 0.8687\n",
      "Epoch 21/25\n",
      "7/8 [=========================>....] - ETA: 0s - loss: 0.2724 - categorical_accuracy: 0.9196\n",
      "Epoch 21: categorical_accuracy did not improve from 0.92208\n",
      "8/8 [==============================] - 0s 34ms/step - loss: 0.2773 - categorical_accuracy: 0.9134 - val_loss: 0.2025 - val_categorical_accuracy: 0.8687\n",
      "Epoch 22/25\n",
      "7/8 [=========================>....] - ETA: 0s - loss: 0.2177 - categorical_accuracy: 0.9330\n",
      "Epoch 22: categorical_accuracy improved from 0.92208 to 0.93506, saving model to test.h5\n",
      "8/8 [==============================] - 0s 41ms/step - loss: 0.2138 - categorical_accuracy: 0.9351 - val_loss: 0.1844 - val_categorical_accuracy: 0.8889\n",
      "Epoch 23/25\n",
      "8/8 [==============================] - ETA: 0s - loss: 0.2304 - categorical_accuracy: 0.9048\n",
      "Epoch 23: categorical_accuracy did not improve from 0.93506\n",
      "8/8 [==============================] - 0s 34ms/step - loss: 0.2304 - categorical_accuracy: 0.9048 - val_loss: 0.1644 - val_categorical_accuracy: 0.9394\n",
      "Epoch 24/25\n",
      "8/8 [==============================] - ETA: 0s - loss: 0.2543 - categorical_accuracy: 0.9177\n",
      "Epoch 24: categorical_accuracy did not improve from 0.93506\n",
      "8/8 [==============================] - 0s 33ms/step - loss: 0.2543 - categorical_accuracy: 0.9177 - val_loss: 0.1808 - val_categorical_accuracy: 0.8687\n",
      "Epoch 25/25\n",
      "6/8 [=====================>........] - ETA: 0s - loss: 0.1903 - categorical_accuracy: 0.9375\n",
      "Epoch 25: categorical_accuracy did not improve from 0.93506\n",
      "8/8 [==============================] - 0s 33ms/step - loss: 0.2204 - categorical_accuracy: 0.9221 - val_loss: 0.3508 - val_categorical_accuracy: 0.8687\n"
     ]
    },
    {
     "data": {
      "image/png": "[encoded data removed]",
      "text/plain": [
       "<Figure size 432x288 with 1 Axes>"
      ]
     },
     "metadata": {
      "needs_background": "light"
     },
     "output_type": "display_data"
    },
    {
     "data": {
      "image/png": "[encoded data removed]",
      "text/plain": [
       "<Figure size 432x288 with 1 Axes>"
      ]
     },
     "metadata": {
      "needs_background": "light"
     },
     "output_type": "display_data"
    },
    {
     "name": "stdout",
     "output_type": "stream",
     "text": [
      "Model: \"sequential_5\"\n",
      "_________________________________________________________________\n",
      " Layer (type)                Output Shape              Param #   \n",
      "=================================================================\n",
      " time_distributed_5 (TimeDi  (None, 30, 128)           13952     \n",
      " stributed)                                                      \n",
      "                                                                 \n",
      " lstm_10 (LSTM)              (None, 30, 128)           131584    \n",
      "                                                                 \n",
      " dropout_15 (Dropout)        (None, 30, 128)           0         \n",
      "                                                                 \n",
      " lstm_11 (LSTM)              (None, 64)                49408     \n",
      "                                                                 \n",
      " dropout_16 (Dropout)        (None, 64)                0         \n",
      "                                                                 \n",
      " dense_16 (Dense)            (None, 32)                2080      \n",
      "                                                                 \n",
      " dropout_17 (Dropout)        (None, 32)                0         \n",
      "                                                                 \n",
      " dense_17 (Dense)            (None, 11)                363       \n",
      "                                                                 \n",
      "=================================================================\n",
      "Total params: 197387 (771.04 KB)\n",
      "Trainable params: 197387 (771.04 KB)\n",
      "Non-trainable params: 0 (0.00 Byte)\n",
      "_________________________________________________________________\n"
     ]
    }
   ],
   "source": [
    "model.compile(optimizer='Adam', loss='categorical_crossentropy', metrics=['categorical_accuracy'])\n",
    "train_model = model.fit(X_train, y_train, epochs=25, callbacks=[checkpoint], validation_data=(X_test, y_test))\n",
    "\n",
    "plt.plot(train_model.history['categorical_accuracy'])\n",
    "plt.plot(train_model.history['val_categorical_accuracy'])\n",
    "plt.title('model accuracy')\n",
    "plt.ylabel('accuracy')\n",
    "plt.xlabel('epoch')\n",
    "plt.legend(['train', 'validation'], loc='lower right')\n",
    "plt.show()\n",
    "\n",
    "plt.plot(train_model.history['loss'])\n",
    "plt.plot(train_model.history['val_loss'])\n",
    "plt.title('model loss')\n",
    "plt.ylabel('loss')\n",
    "plt.xlabel('epoch')\n",
    "plt.legend(['train', 'validation'], loc='upper right')\n",
    "plt.show()\n",
    "    \n",
    "model.summary()"
   ]
  },
  {
   "cell_type": "code",
   "execution_count": 97,
   "metadata": {},
   "outputs": [],
   "source": [
    "# plot_model(model, to_file=\"model1.png\", show_shapes=True)"
   ]
  },
  {
   "cell_type": "markdown",
   "metadata": {},
   "source": [
    "# **Save Weights**"
   ]
  },
  {
   "cell_type": "code",
   "execution_count": 98,
   "metadata": {},
   "outputs": [
    {
     "name": "stdout",
     "output_type": "stream",
     "text": [
      "model/model_11_lstm_25032024_2.h5\n"
     ]
    }
   ],
   "source": [
    "number_of_classes = len(actions)\n",
    "current_date = '25032024' # changes manually\n",
    "version = 2\n",
    "\n",
    "model_filename =\"model/model_\" +  str(number_of_classes) + '_' + 'lstm' + '_' + current_date + '_' + str(version) + \".h5\"\n",
    "\n",
    "print(model_filename)\n",
    "\n",
    "model.save(model_filename)\n",
    "model.load_weights(model_filename)"
   ]
  },
  {
   "cell_type": "code",
   "execution_count": 99,
   "metadata": {},
   "outputs": [],
   "source": [
    "model.load_weights(model_filename)"
   ]
  },
  {
   "cell_type": "markdown",
   "metadata": {},
   "source": [
    "# **Evaluation using Confusion Matrix and Accuracy**"
   ]
  },
  {
   "cell_type": "code",
   "execution_count": 100,
   "metadata": {},
   "outputs": [
    {
     "name": "stdout",
     "output_type": "stream",
     "text": [
      "4/4 [==============================] - 1s 8ms/step\n"
     ]
    }
   ],
   "source": [
    "yhat = model.predict(X_test)"
   ]
  },
  {
   "cell_type": "code",
   "execution_count": 101,
   "metadata": {},
   "outputs": [
    {
     "name": "stdout",
     "output_type": "stream",
     "text": [
      "tolong\n",
      "siapa\n"
     ]
    }
   ],
   "source": [
    "print(actions[np.argmax(yhat[2])])\n",
    "print(actions[np.argmax(y_test[2])])"
   ]
  },
  {
   "cell_type": "code",
   "execution_count": 102,
   "metadata": {},
   "outputs": [],
   "source": [
    "ytrue = np.argmax(y_test, axis=1).tolist()\n",
    "yhat = np.argmax(yhat, axis=1).tolist()"
   ]
  },
  {
   "cell_type": "code",
   "execution_count": 103,
   "metadata": {},
   "outputs": [
    {
     "name": "stdout",
     "output_type": "stream",
     "text": [
      "              precision    recall  f1-score   support\n",
      "\n",
      "        maaf       1.00      0.91      0.95        11\n",
      "      tolong       0.60      1.00      0.75         9\n",
      "        nama       1.00      1.00      1.00         9\n",
      "        saya       0.67      0.62      0.64        13\n",
      "       siapa       0.50      0.30      0.37        10\n",
      "       rumah       1.00      1.00      1.00         9\n",
      "       start       1.00      1.00      1.00         6\n",
      "     standby       1.00      1.00      1.00         8\n",
      "      delete       1.00      1.00      1.00         5\n",
      "   translate       1.00      1.00      1.00        10\n",
      "      dimana       1.00      1.00      1.00         9\n",
      "\n",
      "    accuracy                           0.87        99\n",
      "   macro avg       0.89      0.89      0.88        99\n",
      "weighted avg       0.87      0.87      0.86        99\n",
      "\n"
     ]
    }
   ],
   "source": [
    "from sklearn.metrics import classification_report\n",
    "\n",
    "# Assuming ytrue and yhat are the true and predicted labels, respectively\n",
    "report = classification_report(ytrue, yhat, target_names=actions)\n",
    "print(report)"
   ]
  },
  {
   "cell_type": "code",
   "execution_count": 104,
   "metadata": {},
   "outputs": [],
   "source": [
    "# mcm = multilabel_confusion_matrix(ytrue, yhat)\n",
    "# print(mcm)"
   ]
  },
  {
   "cell_type": "code",
   "execution_count": 105,
   "metadata": {},
   "outputs": [
    {
     "data": {
      "image/png": "[encoded data removed]",
      "text/plain": [
       "<Figure size 720x576 with 2 Axes>"
      ]
     },
     "metadata": {
      "needs_background": "light"
     },
     "output_type": "display_data"
    }
   ],
   "source": [
    "ytrue = np.argmax(y_test, axis=1)\n",
    "conf_matrix = confusion_matrix(ytrue, yhat)\n",
    "\n",
    "plt.figure(figsize=(10, 8))\n",
    "heatMap = sns.heatmap(conf_matrix, annot=True, fmt='d', cmap='Blues', xticklabels=actions, yticklabels=actions)\n",
    "\n",
    "heatMap.set_xlabel('Predicted Label', labelpad=30, weight='bold')\n",
    "heatMap.set_ylabel('True Label', labelpad=30, weight='bold')\n",
    "\n",
    "heatMap.set_title('Confusion Matrix', pad=20, weight='bold', fontsize=20)\n",
    "plt.show()"
   ]
  },
  {
   "cell_type": "code",
   "execution_count": 106,
   "metadata": {},
   "outputs": [
    {
     "name": "stdout",
     "output_type": "stream",
     "text": [
      "Class: maaf\n",
      "Precision: 1.0\n",
      "Recall: 0.9090909090909091\n",
      "F1 Score: 0.9523809523809523\n",
      "\n",
      "Class: tolong\n",
      "Precision: 0.6\n",
      "Recall: 1.0\n",
      "F1 Score: 0.7499999999999999\n",
      "\n",
      "Class: nama\n",
      "Precision: 1.0\n",
      "Recall: 1.0\n",
      "F1 Score: 1.0\n",
      "\n",
      "Class: saya\n",
      "Precision: 0.6666666666666666\n",
      "Recall: 0.6153846153846154\n",
      "F1 Score: 0.64\n",
      "\n",
      "Class: siapa\n",
      "Precision: 0.5\n",
      "Recall: 0.3\n",
      "F1 Score: 0.37499999999999994\n",
      "\n",
      "Class: rumah\n",
      "Precision: 1.0\n",
      "Recall: 1.0\n",
      "F1 Score: 1.0\n",
      "\n",
      "Class: start\n",
      "Precision: 1.0\n",
      "Recall: 1.0\n",
      "F1 Score: 1.0\n",
      "\n",
      "Class: standby\n",
      "Precision: 1.0\n",
      "Recall: 1.0\n",
      "F1 Score: 1.0\n",
      "\n",
      "Class: delete\n",
      "Precision: 1.0\n",
      "Recall: 1.0\n",
      "F1 Score: 1.0\n",
      "\n",
      "Class: translate\n",
      "Precision: 1.0\n",
      "Recall: 1.0\n",
      "F1 Score: 1.0\n",
      "\n",
      "Class: dimana\n",
      "Precision: 1.0\n",
      "Recall: 1.0\n",
      "F1 Score: 1.0\n",
      "\n",
      "Class: maaf\n",
      "Accuracy: 1.0\n",
      "\n",
      "Class: tolong\n",
      "Accuracy: 0.6\n",
      "\n",
      "Class: nama\n",
      "Accuracy: 1.0\n",
      "\n",
      "Class: saya\n",
      "Accuracy: 0.6666666666666666\n",
      "\n",
      "Class: siapa\n",
      "Accuracy: 0.5\n",
      "\n",
      "Class: rumah\n",
      "Accuracy: 1.0\n",
      "\n",
      "Class: start\n",
      "Accuracy: 1.0\n",
      "\n",
      "Class: standby\n",
      "Accuracy: 1.0\n",
      "\n",
      "Class: delete\n",
      "Accuracy: 1.0\n",
      "\n",
      "Class: translate\n",
      "Accuracy: 1.0\n",
      "\n",
      "Class: dimana\n",
      "Accuracy: 1.0\n",
      "\n"
     ]
    }
   ],
   "source": [
    "from sklearn.metrics import precision_recall_fscore_support\n",
    "\n",
    "# Assuming ytrue and yhat are the true and predicted labels, respectively\n",
    "metrics = precision_recall_fscore_support(ytrue, yhat)\n",
    "\n",
    "precision_per_class = metrics[0]\n",
    "recall_per_class = metrics[1]\n",
    "f1_score_per_class = metrics[2]\n",
    "\n",
    "# Print metrics for each class\n",
    "for i, class_name in enumerate(actions):\n",
    "    print(f\"Class: {class_name}\")\n",
    "    print(f\"Precision: {precision_per_class[i]}\")\n",
    "    print(f\"Recall: {recall_per_class[i]}\")\n",
    "    print(f\"F1 Score: {f1_score_per_class[i]}\\n\")\n",
    "\n",
    "# For accuracy per class, you would need to calculate it manually:\n",
    "accuracy_per_class = [(conf_matrix[i, i] / np.sum(conf_matrix[:, i])) for i in range(len(actions))]\n",
    "\n",
    "for i, class_name in enumerate(actions):\n",
    "    print(f\"Class: {class_name}\")\n",
    "    print(f\"Accuracy: {accuracy_per_class[i]}\\n\")"
   ]
  }
 ],
 "metadata": {
  "kernelspec": {
   "display_name": "Python 3",
   "language": "python",
   "name": "python3"
  },
  "language_info": {
   "codemirror_mode": {
    "name": "ipython",
    "version": 3
   },
   "file_extension": ".py",
   "mimetype": "text/x-python",
   "name": "python",
   "nbconvert_exporter": "python",
   "pygments_lexer": "ipython3",
   "version": "3.10.4"
  }
 },
 "nbformat": 4,
 "nbformat_minor": 2
}
