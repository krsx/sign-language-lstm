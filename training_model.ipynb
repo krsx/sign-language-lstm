{
 "cells": [
  {
   "cell_type": "markdown",
   "metadata": {},
   "source": [
    "# **Preprocess Data and Create Labels and Features**"
   ]
  },
  {
   "cell_type": "code",
   "execution_count": 2,
   "metadata": {},
   "outputs": [],
   "source": [
    "from sklearn.model_selection import train_test_split\n",
    "from sklearn.metrics import confusion_matrix\n",
    "import tensorflow as tf\n",
    "from keras.utils import to_categorical\n",
    "import numpy as np\n",
    "import os\n",
    "import cv2 as cv\n",
    "import mediapipe as mp\n",
    "from matplotlib import pyplot as plt\n",
    "from mediapipe.python.solutions.pose import PoseLandmark"
   ]
  },
  {
   "cell_type": "code",
   "execution_count": 3,
   "metadata": {},
   "outputs": [],
   "source": [
    "#FOR UPGRADED SEQUENCE\n",
    "# DATA_PATH = os.path.join('Sign_Data_Upgrade')\n",
    "DATA_PATH = os.path.join('My_Datasets')\n",
    "\n",
    "actions = np.array(['terimakasih', 'tolong'])\n",
    "\n",
    "# actions = np.array(['terimakasih'])\n",
    "\n",
    "# actions = np.array(['maaf', 'tolong', \"terimakasih\", \"nama\", \"saya\", \"kamu\", \"siapa\"])\n",
    "\n",
    "# menggunakan xx video\n",
    "no_sequences = 30\n",
    "\n",
    "# setiap video berisi 30 frame\n",
    "sequence_length = 30"
   ]
  },
  {
   "cell_type": "code",
   "execution_count": 4,
   "metadata": {},
   "outputs": [],
   "source": [
    "label_map = {label:num for num, label in enumerate(actions)}"
   ]
  },
  {
   "cell_type": "code",
   "execution_count": 5,
   "metadata": {},
   "outputs": [
    {
     "data": {
      "text/plain": [
       "{'terimakasih': 0, 'tolong': 1}"
      ]
     },
     "execution_count": 5,
     "metadata": {},
     "output_type": "execute_result"
    }
   ],
   "source": [
    "label_map"
   ]
  },
  {
   "cell_type": "code",
   "execution_count": 6,
   "metadata": {},
   "outputs": [],
   "source": [
    "sequences, labels = [], []\n",
    "for action in actions:\n",
    "    for sequence in np.array(os.listdir(os.path.join(DATA_PATH, action))).astype(int):\n",
    "        window = []\n",
    "        for frame_num in range(sequence_length):\n",
    "            # res = np.load(os.path.join(DATA_PATH, action, str(sequence), \"{}.npy\".format(frame_num + 1)))\n",
    "            res = np.load(os.path.join(DATA_PATH, action, str(sequence), \"{}-norm.npy\".format(frame_num + 1)))\n",
    "            \n",
    "            window.append(res)\n",
    "        sequences.append(window)\n",
    "        labels.append(label_map[action])"
   ]
  },
  {
   "cell_type": "code",
   "execution_count": 7,
   "metadata": {},
   "outputs": [
    {
     "data": {
      "text/plain": [
       "(60, 30, 108)"
      ]
     },
     "execution_count": 7,
     "metadata": {},
     "output_type": "execute_result"
    }
   ],
   "source": [
    "np.array(sequences).shape"
   ]
  },
  {
   "cell_type": "code",
   "execution_count": 8,
   "metadata": {},
   "outputs": [],
   "source": [
    "X = np.array(sequences)\n",
    "y = to_categorical(labels).astype(int)"
   ]
  },
  {
   "cell_type": "code",
   "execution_count": 9,
   "metadata": {},
   "outputs": [],
   "source": [
    "X_train, X_test, y_train, y_test = train_test_split(X, y, test_size=0.25, random_state=42)"
   ]
  },
  {
   "cell_type": "code",
   "execution_count": 10,
   "metadata": {},
   "outputs": [
    {
     "name": "stdout",
     "output_type": "stream",
     "text": [
      "(45, 30, 108)\n",
      "(15, 30, 108)\n",
      "(45, 2)\n",
      "(15, 2)\n"
     ]
    }
   ],
   "source": [
    "print(X_train.shape)\n",
    "print(X_test.shape)\n",
    "print(y_train.shape)\n",
    "print(y_test.shape)"
   ]
  },
  {
   "cell_type": "markdown",
   "metadata": {},
   "source": [
    "# **Build and Train LSTM Neural Network**"
   ]
  },
  {
   "cell_type": "code",
   "execution_count": 18,
   "metadata": {},
   "outputs": [],
   "source": [
    "from tensorflow.keras.models import Sequential\n",
    "from tensorflow.keras.layers import LSTM, Dense, Dropout, TimeDistributed\n",
    "from tensorflow.keras.callbacks import TensorBoard, EarlyStopping, ModelCheckpoint"
   ]
  },
  {
   "cell_type": "code",
   "execution_count": 19,
   "metadata": {},
   "outputs": [],
   "source": [
    "checkpoint = ModelCheckpoint('model.h5', monitor='categorical_accuracy', verbose=1, mode = 'max', save_best_only=True, save_weights_only=False,save_freq='epoch')"
   ]
  },
  {
   "cell_type": "code",
   "execution_count": 20,
   "metadata": {},
   "outputs": [],
   "source": [
    "# SIMPLE MODEL -> MAIN MODEL\n",
    "model = Sequential()\n",
    "\n",
    "model.add(TimeDistributed(Dense(units=128, activation='tanh'), input_shape=(30, 108)))\n",
    "model.add(LSTM(64, return_sequences=False, activation='tanh', input_shape=(30,108)))\n",
    "model.add(Dropout(0.5))\n",
    "model.add(Dense(1000, activation='relu'))\n",
    "model.add(Dropout(0.5))\n",
    "model.add(Dense(actions.shape[0], activation='softmax'))"
   ]
  },
  {
   "cell_type": "code",
   "execution_count": 112,
   "metadata": {},
   "outputs": [],
   "source": [
    "# COMPLEX MODEL -> EXPERIMENTAL\n",
    "# model = Sequential()\n",
    "\n",
    "# model.add(LSTM(128, return_sequences=True, activation='tanh', input_shape=(30,108)))\n",
    "# model.add(LSTM(64, return_sequences=True, activation='tanh'))\n",
    "# model.add(LSTM(32, return_sequences=False, activation='tanh'))\n",
    "# model.add(Dropout(0.4))\n",
    "# model.add(Dense(32, activation='relu'))\n",
    "# model.add(Dense(32, activation='relu'))\n",
    "# model.add(Dense(actions.shape[0], activation='softmax'))"
   ]
  },
  {
   "cell_type": "code",
   "execution_count": 140,
   "metadata": {},
   "outputs": [],
   "source": [
    "# COMPLEX MODEL 2\n",
    "\n",
    "# model = Sequential()\n",
    "\n",
    "# model.add(LSTM(128, return_sequences=True, activation='tanh', input_shape=(30,108)))\n",
    "# model.add(LSTM(64, return_sequences=True, activation='tanh'))\n",
    "# model.add(LSTM(32, return_sequences=False, activation='tanh'))\n",
    "# model.add(Dropout(0.5))\n",
    "# model.add(Dense(actions.shape[0], activation='softmax'))"
   ]
  },
  {
   "cell_type": "code",
   "execution_count": 21,
   "metadata": {},
   "outputs": [
    {
     "name": "stdout",
     "output_type": "stream",
     "text": [
      "Model: \"sequential_1\"\n",
      "_________________________________________________________________\n",
      " Layer (type)                Output Shape              Param #   \n",
      "=================================================================\n",
      " time_distributed_1 (TimeDi  (None, 30, 128)           13952     \n",
      " stributed)                                                      \n",
      "                                                                 \n",
      " lstm_1 (LSTM)               (None, 64)                49408     \n",
      "                                                                 \n",
      " dropout_2 (Dropout)         (None, 64)                0         \n",
      "                                                                 \n",
      " dense_4 (Dense)             (None, 1000)              65000     \n",
      "                                                                 \n",
      " dropout_3 (Dropout)         (None, 1000)              0         \n",
      "                                                                 \n",
      " dense_5 (Dense)             (None, 2)                 2002      \n",
      "                                                                 \n",
      "=================================================================\n",
      "Total params: 130362 (509.23 KB)\n",
      "Trainable params: 130362 (509.23 KB)\n",
      "Non-trainable params: 0 (0.00 Byte)\n",
      "_________________________________________________________________\n"
     ]
    }
   ],
   "source": [
    "model.summary()"
   ]
  },
  {
   "cell_type": "code",
   "execution_count": 22,
   "metadata": {},
   "outputs": [],
   "source": [
    "model.compile(optimizer='Adam', loss='categorical_crossentropy', metrics=['categorical_accuracy'])"
   ]
  },
  {
   "cell_type": "code",
   "execution_count": 23,
   "metadata": {},
   "outputs": [
    {
     "name": "stdout",
     "output_type": "stream",
     "text": [
      "Epoch 1/20\n",
      "1/2 [==============>...............] - ETA: 1s - loss: 0.6846 - categorical_accuracy: 0.6250\n",
      "Epoch 1: categorical_accuracy improved from -inf to 0.68889, saving model to model.h5\n",
      "2/2 [==============================] - 2s 405ms/step - loss: 0.6634 - categorical_accuracy: 0.6889 - val_loss: 0.5323 - val_categorical_accuracy: 0.8000\n",
      "Epoch 2/20\n",
      "1/2 [==============>...............] - ETA: 0s - loss: 0.4917 - categorical_accuracy: 0.8750\n",
      "Epoch 2: categorical_accuracy improved from 0.68889 to 0.88889, saving model to model.h5\n",
      "2/2 [==============================] - 0s 57ms/step - loss: 0.4720 - categorical_accuracy: 0.8889 - val_loss: 0.4179 - val_categorical_accuracy: 0.8000\n",
      "Epoch 3/20\n",
      "1/2 [==============>...............] - ETA: 0s - loss: 0.3909 - categorical_accuracy: 0.8125\n",
      "Epoch 3: categorical_accuracy did not improve from 0.88889\n",
      "2/2 [==============================] - 0s 40ms/step - loss: 0.3657 - categorical_accuracy: 0.8222 - val_loss: 0.2643 - val_categorical_accuracy: 1.0000\n",
      "Epoch 4/20\n",
      "1/2 [==============>...............] - ETA: 0s - loss: 0.2429 - categorical_accuracy: 0.9375\n",
      "Epoch 4: categorical_accuracy improved from 0.88889 to 0.95556, saving model to model.h5\n",
      "2/2 [==============================] - 0s 60ms/step - loss: 0.2366 - categorical_accuracy: 0.9556 - val_loss: 0.1458 - val_categorical_accuracy: 1.0000\n",
      "Epoch 5/20\n",
      "1/2 [==============>...............] - ETA: 0s - loss: 0.2389 - categorical_accuracy: 0.9375\n",
      "Epoch 5: categorical_accuracy did not improve from 0.95556\n",
      "2/2 [==============================] - 0s 40ms/step - loss: 0.1917 - categorical_accuracy: 0.9556 - val_loss: 0.0811 - val_categorical_accuracy: 1.0000\n",
      "Epoch 6/20\n",
      "1/2 [==============>...............] - ETA: 0s - loss: 0.0770 - categorical_accuracy: 1.0000\n",
      "Epoch 6: categorical_accuracy improved from 0.95556 to 0.97778, saving model to model.h5\n",
      "2/2 [==============================] - 0s 61ms/step - loss: 0.0930 - categorical_accuracy: 0.9778 - val_loss: 0.0416 - val_categorical_accuracy: 1.0000\n",
      "Epoch 7/20\n",
      "1/2 [==============>...............] - ETA: 0s - loss: 0.0500 - categorical_accuracy: 1.0000\n",
      "Epoch 7: categorical_accuracy did not improve from 0.97778\n",
      "2/2 [==============================] - 0s 41ms/step - loss: 0.0696 - categorical_accuracy: 0.9778 - val_loss: 0.0319 - val_categorical_accuracy: 1.0000\n",
      "Epoch 8/20\n",
      "1/2 [==============>...............] - ETA: 0s - loss: 0.0311 - categorical_accuracy: 1.0000\n",
      "Epoch 8: categorical_accuracy improved from 0.97778 to 1.00000, saving model to model.h5\n",
      "2/2 [==============================] - 0s 61ms/step - loss: 0.0375 - categorical_accuracy: 1.0000 - val_loss: 0.0242 - val_categorical_accuracy: 1.0000\n",
      "Epoch 9/20\n",
      "1/2 [==============>...............] - ETA: 0s - loss: 0.0212 - categorical_accuracy: 1.0000\n",
      "Epoch 9: categorical_accuracy did not improve from 1.00000\n",
      "2/2 [==============================] - 0s 42ms/step - loss: 0.0193 - categorical_accuracy: 1.0000 - val_loss: 0.0059 - val_categorical_accuracy: 1.0000\n",
      "Epoch 10/20\n",
      "1/2 [==============>...............] - ETA: 0s - loss: 0.0267 - categorical_accuracy: 1.0000\n",
      "Epoch 10: categorical_accuracy did not improve from 1.00000\n",
      "2/2 [==============================] - 0s 42ms/step - loss: 0.0205 - categorical_accuracy: 1.0000 - val_loss: 0.0036 - val_categorical_accuracy: 1.0000\n",
      "Epoch 11/20\n",
      "1/2 [==============>...............] - ETA: 0s - loss: 0.0080 - categorical_accuracy: 1.0000\n",
      "Epoch 11: categorical_accuracy did not improve from 1.00000\n",
      "2/2 [==============================] - 0s 42ms/step - loss: 0.0131 - categorical_accuracy: 1.0000 - val_loss: 0.0026 - val_categorical_accuracy: 1.0000\n",
      "Epoch 12/20\n",
      "1/2 [==============>...............] - ETA: 0s - loss: 0.0132 - categorical_accuracy: 1.0000\n",
      "Epoch 12: categorical_accuracy did not improve from 1.00000\n",
      "2/2 [==============================] - 0s 42ms/step - loss: 0.0114 - categorical_accuracy: 1.0000 - val_loss: 0.0019 - val_categorical_accuracy: 1.0000\n",
      "Epoch 13/20\n",
      "1/2 [==============>...............] - ETA: 0s - loss: 0.0050 - categorical_accuracy: 1.0000\n",
      "Epoch 13: categorical_accuracy did not improve from 1.00000\n",
      "2/2 [==============================] - 0s 40ms/step - loss: 0.0073 - categorical_accuracy: 1.0000 - val_loss: 0.0014 - val_categorical_accuracy: 1.0000\n",
      "Epoch 14/20\n",
      "1/2 [==============>...............] - ETA: 0s - loss: 0.0029 - categorical_accuracy: 1.0000\n",
      "Epoch 14: categorical_accuracy did not improve from 1.00000\n",
      "2/2 [==============================] - 0s 41ms/step - loss: 0.0058 - categorical_accuracy: 1.0000 - val_loss: 0.0011 - val_categorical_accuracy: 1.0000\n",
      "Epoch 15/20\n",
      "1/2 [==============>...............] - ETA: 0s - loss: 0.0042 - categorical_accuracy: 1.0000\n",
      "Epoch 15: categorical_accuracy did not improve from 1.00000\n",
      "2/2 [==============================] - 0s 40ms/step - loss: 0.0030 - categorical_accuracy: 1.0000 - val_loss: 9.3469e-04 - val_categorical_accuracy: 1.0000\n",
      "Epoch 16/20\n",
      "1/2 [==============>...............] - ETA: 0s - loss: 0.0030 - categorical_accuracy: 1.0000\n",
      "Epoch 16: categorical_accuracy did not improve from 1.00000\n",
      "2/2 [==============================] - 0s 41ms/step - loss: 0.0030 - categorical_accuracy: 1.0000 - val_loss: 8.2727e-04 - val_categorical_accuracy: 1.0000\n",
      "Epoch 17/20\n",
      "1/2 [==============>...............] - ETA: 0s - loss: 0.0046 - categorical_accuracy: 1.0000\n",
      "Epoch 17: categorical_accuracy did not improve from 1.00000\n",
      "2/2 [==============================] - 0s 41ms/step - loss: 0.0034 - categorical_accuracy: 1.0000 - val_loss: 7.2038e-04 - val_categorical_accuracy: 1.0000\n",
      "Epoch 18/20\n",
      "1/2 [==============>...............] - ETA: 0s - loss: 0.0016 - categorical_accuracy: 1.0000\n",
      "Epoch 18: categorical_accuracy did not improve from 1.00000\n",
      "2/2 [==============================] - 0s 41ms/step - loss: 0.0014 - categorical_accuracy: 1.0000 - val_loss: 6.2555e-04 - val_categorical_accuracy: 1.0000\n",
      "Epoch 19/20\n",
      "1/2 [==============>...............] - ETA: 0s - loss: 4.9742e-04 - categorical_accuracy: 1.0000\n",
      "Epoch 19: categorical_accuracy did not improve from 1.00000\n",
      "2/2 [==============================] - 0s 42ms/step - loss: 5.1954e-04 - categorical_accuracy: 1.0000 - val_loss: 5.5290e-04 - val_categorical_accuracy: 1.0000\n",
      "Epoch 20/20\n",
      "1/2 [==============>...............] - ETA: 0s - loss: 5.7983e-04 - categorical_accuracy: 1.0000\n",
      "Epoch 20: categorical_accuracy did not improve from 1.00000\n",
      "2/2 [==============================] - 0s 41ms/step - loss: 0.0011 - categorical_accuracy: 1.0000 - val_loss: 4.9552e-04 - val_categorical_accuracy: 1.0000\n"
     ]
    }
   ],
   "source": [
    "train_model = model.fit(X_train, y_train, epochs=20, callbacks=[checkpoint], validation_data=(X_test, y_test))"
   ]
  },
  {
   "cell_type": "code",
   "execution_count": 24,
   "metadata": {},
   "outputs": [
    {
     "data": {
      "image/png": "[encoded data removed]",
      "text/plain": [
       "<Figure size 432x288 with 1 Axes>"
      ]
     },
     "metadata": {
      "needs_background": "light"
     },
     "output_type": "display_data"
    },
    {
     "data": {
      "image/png": "[encoded data removed]",
      "text/plain": [
       "<Figure size 432x288 with 1 Axes>"
      ]
     },
     "metadata": {
      "needs_background": "light"
     },
     "output_type": "display_data"
    },
    {
     "name": "stdout",
     "output_type": "stream",
     "text": [
      "Model: \"sequential_1\"\n",
      "_________________________________________________________________\n",
      " Layer (type)                Output Shape              Param #   \n",
      "=================================================================\n",
      " time_distributed_1 (TimeDi  (None, 30, 128)           13952     \n",
      " stributed)                                                      \n",
      "                                                                 \n",
      " lstm_1 (LSTM)               (None, 64)                49408     \n",
      "                                                                 \n",
      " dropout_2 (Dropout)         (None, 64)                0         \n",
      "                                                                 \n",
      " dense_4 (Dense)             (None, 1000)              65000     \n",
      "                                                                 \n",
      " dropout_3 (Dropout)         (None, 1000)              0         \n",
      "                                                                 \n",
      " dense_5 (Dense)             (None, 2)                 2002      \n",
      "                                                                 \n",
      "=================================================================\n",
      "Total params: 130362 (509.23 KB)\n",
      "Trainable params: 130362 (509.23 KB)\n",
      "Non-trainable params: 0 (0.00 Byte)\n",
      "_________________________________________________________________\n"
     ]
    }
   ],
   "source": [
    "# print(train_model.history.keys())\n",
    "\n",
    "plt.plot(train_model.history['categorical_accuracy'])\n",
    "plt.plot(train_model.history['val_categorical_accuracy'])\n",
    "plt.title('model accuracy')\n",
    "plt.ylabel('accuracy')\n",
    "plt.xlabel('epoch')\n",
    "plt.legend(['train', 'validation'], loc='upper right')\n",
    "plt.show()\n",
    "\n",
    "plt.plot(train_model.history['loss'])\n",
    "plt.plot(train_model.history['val_loss'])\n",
    "plt.title('model loss')\n",
    "plt.ylabel('loss')\n",
    "plt.xlabel('epoch')\n",
    "plt.legend(['train', 'validation'], loc='upper right')\n",
    "plt.show()\n",
    "\n",
    "# score, acc = model.evaluate(X_test,y_test,batch_size=32,verbose=0)\n",
    "# print('Test performance: accuracy={0}, loss={1}'.format(acc, score)) \n",
    "# print(X_train.shape, X_test.shape)\n",
    "# print(y_train.shape, y_test.shape)\n",
    "    \n",
    "model.summary()"
   ]
  },
  {
   "cell_type": "code",
   "execution_count": 19,
   "metadata": {},
   "outputs": [],
   "source": [
    "model.save('model-testing-4.h5')"
   ]
  },
  {
   "cell_type": "markdown",
   "metadata": {},
   "source": [
    "# **Make Predictions**"
   ]
  },
  {
   "cell_type": "code",
   "execution_count": 24,
   "metadata": {},
   "outputs": [
    {
     "name": "stdout",
     "output_type": "stream",
     "text": [
      "1/1 [==============================] - 1s 600ms/step\n"
     ]
    }
   ],
   "source": [
    "res = model.predict(X_test)"
   ]
  },
  {
   "cell_type": "code",
   "execution_count": 25,
   "metadata": {},
   "outputs": [
    {
     "data": {
      "text/plain": [
       "'tolong'"
      ]
     },
     "execution_count": 25,
     "metadata": {},
     "output_type": "execute_result"
    }
   ],
   "source": [
    "actions[np.argmax(res[10])]"
   ]
  },
  {
   "cell_type": "code",
   "execution_count": 26,
   "metadata": {},
   "outputs": [
    {
     "data": {
      "text/plain": [
       "'tolong'"
      ]
     },
     "execution_count": 26,
     "metadata": {},
     "output_type": "execute_result"
    }
   ],
   "source": [
    "actions[np.argmax(y_test[10])]"
   ]
  },
  {
   "cell_type": "markdown",
   "metadata": {},
   "source": [
    "# **Save Weights**"
   ]
  },
  {
   "cell_type": "code",
   "execution_count": 27,
   "metadata": {},
   "outputs": [],
   "source": [
    "model.save('model.h5')"
   ]
  },
  {
   "cell_type": "code",
   "execution_count": 96,
   "metadata": {},
   "outputs": [],
   "source": [
    "del model"
   ]
  },
  {
   "cell_type": "code",
   "execution_count": 170,
   "metadata": {},
   "outputs": [],
   "source": [
    "model.load_weights('model.h5')"
   ]
  },
  {
   "cell_type": "markdown",
   "metadata": {},
   "source": [
    "# **Evaluation using Confusion Matrix and Accuracy**"
   ]
  },
  {
   "cell_type": "code",
   "execution_count": 121,
   "metadata": {},
   "outputs": [],
   "source": [
    "from sklearn.metrics import multilabel_confusion_matrix, accuracy_score\n",
    "from sklearn.metrics import confusion_matrix, ConfusionMatrixDisplay\n",
    "import matplotlib.pyplot as plt\n",
    "from sklearn.model_selection import train_test_split\n",
    "from sklearn.datasets import make_multilabel_classification\n",
    "from sklearn.tree import DecisionTreeClassifier\n",
    "import seaborn as sn"
   ]
  },
  {
   "cell_type": "code",
   "execution_count": 122,
   "metadata": {},
   "outputs": [
    {
     "name": "stdout",
     "output_type": "stream",
     "text": [
      "1/1 [==============================] - 0s 23ms/step\n"
     ]
    }
   ],
   "source": [
    "yhat = model.predict(X_test)"
   ]
  },
  {
   "cell_type": "code",
   "execution_count": 123,
   "metadata": {},
   "outputs": [],
   "source": [
    "ytrue = np.argmax(y_test, axis=1).tolist()\n",
    "yhat = np.argmax(yhat, axis=1).tolist()"
   ]
  },
  {
   "cell_type": "code",
   "execution_count": 124,
   "metadata": {},
   "outputs": [
    {
     "name": "stdout",
     "output_type": "stream",
     "text": [
      "[[[8 0]\n",
      "  [0 4]]\n",
      "\n",
      " [[4 0]\n",
      "  [0 8]]]\n"
     ]
    }
   ],
   "source": [
    "confusion_matrix = multilabel_confusion_matrix(ytrue, yhat)\n",
    "print(confusion_matrix)"
   ]
  },
  {
   "cell_type": "code",
   "execution_count": null,
   "metadata": {},
   "outputs": [],
   "source": [
    "# sn.heatmap(confusion_matrix, annot=True, fmt='g')\n",
    "# plt.show()"
   ]
  },
  {
   "cell_type": "code",
   "execution_count": 125,
   "metadata": {},
   "outputs": [
    {
     "data": {
      "text/plain": [
       "1.0"
      ]
     },
     "execution_count": 125,
     "metadata": {},
     "output_type": "execute_result"
    }
   ],
   "source": [
    "accuracy_score(ytrue, yhat)"
   ]
  }
 ],
 "metadata": {
  "kernelspec": {
   "display_name": "Python 3",
   "language": "python",
   "name": "python3"
  },
  "language_info": {
   "codemirror_mode": {
    "name": "ipython",
    "version": 3
   },
   "file_extension": ".py",
   "mimetype": "text/x-python",
   "name": "python",
   "nbconvert_exporter": "python",
   "pygments_lexer": "ipython3",
   "version": "3.10.4"
  }
 },
 "nbformat": 4,
 "nbformat_minor": 2
}
